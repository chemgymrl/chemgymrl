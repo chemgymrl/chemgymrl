{
 "cells": [
  {
   "cell_type": "markdown",
   "metadata": {
    "id": "ktkwlCbpXKp4"
   },
   "source": [
    "## Creating a Custom Reaction\n",
    "\n",
    "In this tutorial, I am going to walk you through how reactions work and how to make your own custom reaction\n"
   ]
  },
  {
   "cell_type": "code",
   "execution_count": null,
   "metadata": {
    "colab": {
     "base_uri": "https://localhost:8080/"
    },
    "id": "fMotknn4IUdr",
    "outputId": "534f5137-4e93-4421-ee6b-c1cb0de44da7"
   },
   "outputs": [],
   "source": [
    "!pip install \"git+https://github.com/chemgymrl/chemgymrl.git@manager\""
   ]
  },
  {
   "cell_type": "code",
   "execution_count": null,
   "metadata": {
    "id": "57gyQIX_3uvA"
   },
   "outputs": [],
   "source": [
    "from chemistrylab.reactions.reaction_info import ReactInfo\n",
    "from chemistrylab.reactions.reaction import Reaction\n",
    "from chemistrylab import material,vessel\n",
    "\n",
    "import numpy as np\n",
    "from IPython.display import display,clear_output,JSON"
   ]
  },
  {
   "cell_type": "markdown",
   "metadata": {
    "id": "PXYmxOOB_pGk"
   },
   "source": [
    "# Adding hydronium and hydroxide materials"
   ]
  },
  {
   "cell_type": "code",
   "execution_count": null,
   "metadata": {
    "id": "dvo-FMOIIg_y"
   },
   "outputs": [],
   "source": [
    "H3O = dict(\n",
    "  smiles = '[OH3+]',\n",
    "  name='hydronium',\n",
    "  molar_mass=19.023,\n",
    "  phase='l',\n",
    "  dissolves_in = {\"O\"},\n",
    "  polarity=abs(2 * 1.24 * np.cos((109.5 / 2) * (np.pi / 180.0))),\n",
    "  dissolved_components = {\"[OH3+]\":1},\n",
    "  boiling_point_K=373.15,\n",
    "  specific_heat_J_gK=4.1813,\n",
    "  enthalpy_vapor_J_mol=40650.0,\n",
    "  density_g_ml={'s': None, 'l': 0.997, 'g': None},\n",
    "  color=0.2,\n",
    ")\n",
    "\n",
    "\n",
    "OH = dict(\n",
    "  smiles = '[OH-]',\n",
    "  name='hydroxide',\n",
    "  molar_mass=17.008,\n",
    "  phase='l',\n",
    "  dissolves_in = {\"O\"},\n",
    "  polarity=abs(2 * 1.24 * np.cos((109.5 / 2) * (np.pi / 180.0))),\n",
    "  dissolved_components = {\"[OH-]\":1},\n",
    "  boiling_point_K=373.15,\n",
    "  specific_heat_J_gK=4.1813,\n",
    "  enthalpy_vapor_J_mol=40650.0,\n",
    "  density_g_ml={'s': None, 'l': 0.997, 'g': None},\n",
    "  color=0.2,\n",
    ")\n",
    "\n",
    "material.register(H3O,OH)"
   ]
  },
  {
   "cell_type": "markdown",
   "metadata": {
    "id": "2FNMmHmD_QJo"
   },
   "source": [
    "# Setting the reactants and products\n",
    "\n",
    "$H_2O$, $H_3O^+$, and  $OH^-$ are all both reactants and products (since we are including both the forward and reverse reaction)"
   ]
  },
  {
   "cell_type": "code",
   "execution_count": null,
   "metadata": {
    "id": "CaOnc1Ev_Nvy"
   },
   "outputs": [],
   "source": [
    "name=\"Autoionization\"\n",
    "REACTANTS = [\"O\",\"[OH3+]\",\"[OH-]\"]\n",
    "PRODUCTS = [\"O\",\"[OH3+]\",\"[OH-]\"]\n",
    "SOLVENTS = [\"O\"]\n",
    "MATERIALS=[\"O\",\"[OH3+]\",\"[OH-]\"]"
   ]
  },
  {
   "cell_type": "markdown",
   "metadata": {
    "id": "J9zcq7p1ATqW"
   },
   "source": [
    "# Setting rates\n",
    "\n",
    "For each reaction we have: $k = Ae^{\\frac{Ea}{RT}}$\n",
    "\n",
    "To set this we know [$OH^-$][$H_3O^+$] = $1\\cdot 10^{-14}$ at equilibrium.\n",
    "\n",
    "Additionally we know [H_2O] is always 55.34\n"
   ]
  },
  {
   "cell_type": "code",
   "execution_count": null,
   "metadata": {
    "id": "c5SD3CYvASw8"
   },
   "outputs": [],
   "source": [
    "# 55.34 is the concentration of water in water and 1e-14 is Keq in the autoionization reaction\n",
    "pre_exp_arr = np.array([55.34,1e-14])*1e7\n",
    "# No idea what the activation energies are\n",
    "activ_energy_arr = np.array([1.0,1.0])"
   ]
  },
  {
   "cell_type": "markdown",
   "metadata": {
    "id": "_dLRCfKVB0oj"
   },
   "source": [
    "# Setting Stoicheometry coefficients\n",
    "\n",
    "This will be a [reactions, reactants] shape array"
   ]
  },
  {
   "cell_type": "code",
   "execution_count": null,
   "metadata": {
    "id": "5YZY4yMmB6jg"
   },
   "outputs": [],
   "source": [
    "stoich_coeff_arr = np.array([\n",
    "    [0, 1, 1], # H3O + OH -> H2O+H2O\n",
    "    [1, 0, 0] # H2O + H2O -> H3O + OH\n",
    "]).astype(np.float32)"
   ]
  },
  {
   "cell_type": "markdown",
   "metadata": {
    "id": "5Ar2tQtnCZsb"
   },
   "source": [
    "# Setting concentration coefficients\n",
    "\n",
    "This will be a [materials, reactions] shape array. It represents the change in concentrations given by each reaction. (Changes in concentration will always be within the column space of this matrix)"
   ]
  },
  {
   "cell_type": "code",
   "execution_count": null,
   "metadata": {
    "id": "MiUH1ilIDdmj"
   },
   "outputs": [],
   "source": [
    "\n",
    "conc_coeff_arr = np.array([\n",
    "    [2, -2],\n",
    "    [-1, 1],\n",
    "    [-1, 1]\n",
    "]).astype(np.float32)\n",
    "\n",
    "info = ReactInfo(name,REACTANTS,PRODUCTS,SOLVENTS,MATERIALS,pre_exp_arr,activ_energy_arr,stoich_coeff_arr,conc_coeff_arr)"
   ]
  },
  {
   "cell_type": "markdown",
   "metadata": {
    "id": "Qu4n6bXdDvbm"
   },
   "source": [
    "# Setting up the reaction"
   ]
  },
  {
   "cell_type": "code",
   "execution_count": null,
   "metadata": {
    "id": "sxTw3Xh-HLVq"
   },
   "outputs": [],
   "source": [
    "reaction = Reaction(info)\n",
    "v = vessel.Vessel(\"Water Vessel\")\n",
    "H2O = material.REGISTRY[\"O\"](mol=1)\n",
    "v.material_dict = {str(H2O):H2O}\n",
    "v.default_dt=0.1"
   ]
  },
  {
   "cell_type": "code",
   "execution_count": null,
   "metadata": {
    "colab": {
     "base_uri": "https://localhost:8080/",
     "height": 80
    },
    "id": "t4hOeDv6J2yo",
    "outputId": "df243596-142b-453c-cb8c-aeb8f17afc5c"
   },
   "outputs": [],
   "source": [
    "v.get_material_dataframe()"
   ]
  },
  {
   "cell_type": "code",
   "execution_count": null,
   "metadata": {
    "colab": {
     "base_uri": "https://localhost:8080/",
     "height": 143
    },
    "id": "IsOiSoiPJy6l",
    "outputId": "052e67e6-ec8f-44e3-d4da-34d766fe505d"
   },
   "outputs": [],
   "source": [
    "reaction.update_concentrations(v)\n",
    "v.get_material_dataframe()"
   ]
  },
  {
   "cell_type": "markdown",
   "metadata": {
    "id": "3Ibq4uZcD1ux"
   },
   "source": [
    "# Looking at the pH"
   ]
  },
  {
   "cell_type": "code",
   "execution_count": null,
   "metadata": {
    "colab": {
     "base_uri": "https://localhost:8080/"
    },
    "id": "pqK67Uq0KMwv",
    "outputId": "2387a0fe-6e5b-4b3b-ca23-2eda0f631f9b"
   },
   "outputs": [],
   "source": [
    "pH = -np.log(v.material_dict[\"[OH-]\"].mol/v.material_dict[\"O\"].volume_L)/np.log(10)\n",
    "\n",
    "print(f\"pH: {pH}\")"
   ]
  },
  {
   "cell_type": "markdown",
   "metadata": {
    "id": "x30EkIBOIUdv"
   },
   "source": [
    "# Saving as a json file"
   ]
  },
  {
   "cell_type": "code",
   "execution_count": null,
   "metadata": {
    "colab": {
     "base_uri": "https://localhost:8080/"
    },
    "id": "Y6Sr88OmFknK",
    "outputId": "28179558-6aaf-41b9-d543-c69f588a23e4"
   },
   "outputs": [],
   "source": [
    "info.dump_to_json(\"autoionization.json\")\n",
    "json_text = \"\".join(line for line in open(\"autoionization.json\",\"r\"))\n",
    "print(json_text)"
   ]
  },
  {
   "cell_type": "markdown",
   "metadata": {
    "id": "SSWLapQLIUdw"
   },
   "source": [
    "# Loading from your json file"
   ]
  },
  {
   "cell_type": "code",
   "execution_count": null,
   "metadata": {
    "colab": {
     "base_uri": "https://localhost:8080/"
    },
    "id": "K5_TqSohIUdw",
    "outputId": "464a1c88-e99f-41ce-ec43-1e404b56d198"
   },
   "outputs": [],
   "source": [
    "info_copy = ReactInfo.from_json(\"autoionization.json\")\n",
    "\n",
    "print(info_copy.name)"
   ]
  },
  {
   "cell_type": "code",
   "execution_count": null,
   "metadata": {
    "id": "UyBsBnKvMPbX"
   },
   "outputs": [],
   "source": []
  }
 ],
 "metadata": {
  "colab": {
   "provenance": []
  },
  "kernelspec": {
   "display_name": "Python 3",
   "language": "python",
   "name": "python3"
  },
  "language_info": {
   "codemirror_mode": {
    "name": "ipython",
    "version": 3
   },
   "file_extension": ".py",
   "mimetype": "text/x-python",
   "name": "python",
   "nbconvert_exporter": "python",
   "pygments_lexer": "ipython3",
   "version": "3.7.10"
  },
  "vscode": {
   "interpreter": {
    "hash": "928df2993789dc54629220469d2aa2c5bde6e75786cdddb015342ca5eb5b2bb1"
   }
  }
 },
 "nbformat": 4,
 "nbformat_minor": 1
}
