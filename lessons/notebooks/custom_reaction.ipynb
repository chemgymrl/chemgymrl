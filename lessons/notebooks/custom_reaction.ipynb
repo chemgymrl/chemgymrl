{
 "cells": [
  {
   "attachments": {},
   "cell_type": "markdown",
   "metadata": {
    "id": "ktkwlCbpXKp4"
   },
   "source": [
    "## Creating a Custom Reaction\n",
    "\n",
    "In this tutorial, I am going to walk you through how reactions work and how to make your own custom reaction\n"
   ]
  },
  {
   "cell_type": "code",
   "execution_count": null,
   "metadata": {},
   "outputs": [],
   "source": [
    "!pip install \"git+https://github.com/chemgymrl/chemgymrl.git@main\""
   ]
  },
  {
   "cell_type": "code",
   "execution_count": null,
   "metadata": {
    "id": "57gyQIX_3uvA"
   },
   "outputs": [],
   "source": [
    "from chemistrylab.reactions.reaction_info import ReactInfo\n",
    "from chemistrylab.reactions.reaction import Reaction\n",
    "from chemistrylab import material,vessel\n",
    "\n",
    "import numpy as np\n",
    "from IPython.display import display,clear_output,JSON\n"
   ]
  },
  {
   "attachments": {},
   "cell_type": "markdown",
   "metadata": {
    "id": "PXYmxOOB_pGk"
   },
   "source": [
    "# Adding hydronium and hydroxide materials"
   ]
  },
  {
   "cell_type": "code",
   "execution_count": null,
   "metadata": {
    "id": "dvo-FMOIIg_y"
   },
   "outputs": [],
   "source": [
    "class H3O(material.Material):\n",
    "    def __init__(self, mol=0):\n",
    "        super().__init__(\n",
    "            mol=mol,\n",
    "            name='H3O',\n",
    "            density={'s': None, 'l': 0.997, 'g': None},\n",
    "            polarity=abs(2 * 1.24 * np.cos((109.5 / 2) * (np.pi / 180.0))),\n",
    "            temperature=298,\n",
    "            pressure=1,\n",
    "            phase='l',\n",
    "            molar_mass=19.0,\n",
    "            color=0.2,\n",
    "            charge=0.0,\n",
    "            boiling_point=373.15,\n",
    "            solute=True,\n",
    "            specific_heat=4.1813,\n",
    "            enthalpy_vapor=40650.0,\n",
    "            index=1\n",
    "        )\n",
    "\n",
    "\n",
    "class OH(material.Material):\n",
    "    def __init__(self, mol=0):\n",
    "        super().__init__(\n",
    "            mol=mol,\n",
    "            name='OH',\n",
    "            density={'s': None, 'l': 0.997, 'g': None},\n",
    "            polarity=abs(2 * 1.24 * np.cos((109.5 / 2) * (np.pi / 180.0))),\n",
    "            temperature=298,\n",
    "            pressure=1,\n",
    "            phase='l',\n",
    "            molar_mass=19.0,\n",
    "            color=0.2,\n",
    "            charge=0.0,\n",
    "            boiling_point=373.15,\n",
    "            solute=True,\n",
    "            specific_heat=4.1813,\n",
    "            enthalpy_vapor=40650.0,\n",
    "            index=3\n",
    "        )\n",
    "        \n",
    "material.register(H3O,OH)"
   ]
  },
  {
   "attachments": {},
   "cell_type": "markdown",
   "metadata": {
    "id": "2FNMmHmD_QJo"
   },
   "source": [
    "# Setting the reactants and products\n",
    "\n",
    "$H_2O$, $H_3O^+$, and  $OH^-$ are all both reactants and products (since we are including both the forward and reverse reaction)"
   ]
  },
  {
   "cell_type": "code",
   "execution_count": null,
   "metadata": {
    "id": "CaOnc1Ev_Nvy"
   },
   "outputs": [],
   "source": [
    "name=\"Autoionization\"\n",
    "REACTANTS = [\"H2O\",\"H3O\",\"OH\"]\n",
    "PRODUCTS = [\"H2O\",\"H3O\",\"OH\"]\n",
    "SOLVENTS = [\"H2O\"]\n",
    "MATERIALS=[\"H2O\",\"H3O\",\"OH\"]"
   ]
  },
  {
   "attachments": {},
   "cell_type": "markdown",
   "metadata": {
    "id": "J9zcq7p1ATqW"
   },
   "source": [
    "# Setting rates\n",
    "\n",
    "For each reaction we have: $k = Ae^{\\frac{Ea}{RT}}$\n",
    "\n",
    "To set this we know [$OH^-$][$H_3O^+$] = $1\\cdot 10^{-14}$ at equilibrium.\n",
    "\n",
    "Additionally we know [H_2O] is always 55.34\n"
   ]
  },
  {
   "cell_type": "code",
   "execution_count": null,
   "metadata": {
    "id": "c5SD3CYvASw8"
   },
   "outputs": [],
   "source": [
    "# 55.34 is the concentration of water in water and 1e-14 is Keq in the autoionization reaction\n",
    "pre_exp_arr = np.array([55.34,1e-14])*1e7 \n",
    "# No idea what the activation energies are\n",
    "activ_energy_arr = np.array([1.0,1.0])"
   ]
  },
  {
   "attachments": {},
   "cell_type": "markdown",
   "metadata": {
    "id": "_dLRCfKVB0oj"
   },
   "source": [
    "# Setting Stoicheometry coefficients\n",
    "\n",
    "This will be a [reactions, reactants] shape array"
   ]
  },
  {
   "cell_type": "code",
   "execution_count": null,
   "metadata": {
    "id": "5YZY4yMmB6jg"
   },
   "outputs": [],
   "source": [
    "stoich_coeff_arr = np.array([\n",
    "    [0, 1, 1], # H3O + OH -> H2O+H2O\n",
    "    [1, 0, 0] # H2O + H2O -> H3O + OH\n",
    "]).astype(np.float32)"
   ]
  },
  {
   "attachments": {},
   "cell_type": "markdown",
   "metadata": {
    "id": "5Ar2tQtnCZsb"
   },
   "source": [
    "# Setting concentration coefficients\n",
    "\n",
    "This will be a [materials, reactions] shape array. It represents the change in concentrations given by each reaction. (Changes in concentration will always be within the column space of this matrix)"
   ]
  },
  {
   "cell_type": "code",
   "execution_count": null,
   "metadata": {
    "id": "MiUH1ilIDdmj"
   },
   "outputs": [],
   "source": [
    "\n",
    "conc_coeff_arr = np.array([\n",
    "    [2, -2],\n",
    "    [-1, 1],\n",
    "    [-1, 1]\n",
    "]).astype(np.float32)\n",
    "\n",
    "info = ReactInfo(name,REACTANTS,PRODUCTS,SOLVENTS,MATERIALS,pre_exp_arr,activ_energy_arr,stoich_coeff_arr,conc_coeff_arr)"
   ]
  },
  {
   "attachments": {},
   "cell_type": "markdown",
   "metadata": {
    "id": "Qu4n6bXdDvbm"
   },
   "source": [
    "# Setting up the reaction"
   ]
  },
  {
   "cell_type": "code",
   "execution_count": null,
   "metadata": {
    "id": "sxTw3Xh-HLVq"
   },
   "outputs": [],
   "source": [
    "reaction = Reaction(info)\n",
    "v = vessel.Vessel(\"Water Vessel\")\n",
    "H2O = material.H2O(mol=1)\n",
    "v.material_dict = {H2O._name:H2O}\n",
    "v.default_dt=0.1"
   ]
  },
  {
   "cell_type": "code",
   "execution_count": null,
   "metadata": {
    "id": "t4hOeDv6J2yo"
   },
   "outputs": [],
   "source": [
    "v.get_material_dataframe()"
   ]
  },
  {
   "cell_type": "code",
   "execution_count": null,
   "metadata": {
    "id": "IsOiSoiPJy6l"
   },
   "outputs": [],
   "source": [
    "reaction.update_concentrations(v)\n",
    "v.get_material_dataframe()"
   ]
  },
  {
   "attachments": {},
   "cell_type": "markdown",
   "metadata": {
    "id": "3Ibq4uZcD1ux"
   },
   "source": [
    "# Looking at the pH"
   ]
  },
  {
   "cell_type": "code",
   "execution_count": null,
   "metadata": {
    "id": "pqK67Uq0KMwv"
   },
   "outputs": [],
   "source": [
    "pH = -np.log(v.material_dict[\"OH\"].mol/v.material_dict[\"H2O\"].litres)/np.log(10)\n",
    "\n",
    "print(f\"pH: {pH}\")"
   ]
  },
  {
   "attachments": {},
   "cell_type": "markdown",
   "metadata": {},
   "source": [
    "# Saving as a json file"
   ]
  },
  {
   "cell_type": "code",
   "execution_count": null,
   "metadata": {
    "id": "Y6Sr88OmFknK"
   },
   "outputs": [],
   "source": [
    "info.dump_to_json(\"autoionization.json\")\n",
    "json_text = \"\".join(line for line in open(\"autoionization.json\",\"r\"))\n",
    "print(json_text)"
   ]
  },
  {
   "attachments": {},
   "cell_type": "markdown",
   "metadata": {},
   "source": [
    "# Loading from your json file"
   ]
  },
  {
   "cell_type": "code",
   "execution_count": null,
   "metadata": {},
   "outputs": [],
   "source": [
    "info_copy = ReactInfo.from_json(\"autoionization.json\")\n",
    "\n",
    "print(info_copy.name)"
   ]
  }
 ],
 "metadata": {
  "colab": {
   "provenance": []
  },
  "kernelspec": {
   "display_name": "Python 3 (ipykernel)",
   "language": "python",
   "name": "python3"
  },
  "language_info": {
   "codemirror_mode": {
    "name": "ipython",
    "version": 3
   },
   "file_extension": ".py",
   "mimetype": "text/x-python",
   "name": "python",
   "nbconvert_exporter": "python",
   "pygments_lexer": "ipython3",
   "version": "3.10.0"
  },
  "vscode": {
   "interpreter": {
    "hash": "928df2993789dc54629220469d2aa2c5bde6e75786cdddb015342ca5eb5b2bb1"
   }
  }
 },
 "nbformat": 4,
 "nbformat_minor": 1
}
