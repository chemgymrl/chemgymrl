{
 "cells": [
  {
   "cell_type": "markdown",
   "metadata": {},
   "source": [
    "# Distillation Bench: Lesson 2\n",
    "\n",
    "This experiment consists of 3 main parts. We will:\n",
    "- Increase to the maximum temperature with a multiplier of 6\n",
    "- Increase to the maximum temperature with a multiplier of 7\n",
    "- Decrease to the minimum temperature with a multiplier of 3\n",
    "    \n",
    "We will see how these actions play out in the distillation bench environment and gain more intuition into how the distillation bench works.\n",
    "\n",
    "First let's start by importing all the required modules."
   ]
  },
  {
   "cell_type": "code",
   "execution_count": 1,
   "metadata": {},
   "outputs": [],
   "source": [
    "# import all the required external modules\n",
    "import gym\n",
    "import numpy as np\n",
    "import os\n",
    "import pickle\n",
    "import sys\n",
    "from time import sleep\n",
    "from gym import envs\n",
    "import matplotlib.pyplot as plt\n",
    "import pandas as pd"
   ]
  },
  {
   "cell_type": "code",
   "execution_count": 2,
   "metadata": {},
   "outputs": [],
   "source": [
    "# ensure all necessary modules can be found\n",
    "sys.path.append(\"../\") # to access chemistrylab\n",
    "sys.path.append(\"../chemistrylab/reactions\") # to access all reactions"
   ]
  },
  {
   "cell_type": "code",
   "execution_count": 3,
   "metadata": {},
   "outputs": [],
   "source": [
    "# import all local modules\n",
    "import chemistrylab"
   ]
  },
  {
   "cell_type": "code",
   "execution_count": 4,
   "metadata": {},
   "outputs": [
    {
     "name": "stdout",
     "output_type": "stream",
     "text": [
      "['Distillation-v0']\n"
     ]
    }
   ],
   "source": [
    "# show all environments for distillation bench\n",
    "all_envs = envs.registry.all()\n",
    "env_ids = [env_spec.id for env_spec in all_envs if 'Distillation' in env_spec.id]\n",
    "print(env_ids)"
   ]
  },
  {
   "cell_type": "markdown",
   "metadata": {},
   "source": [
    "You'll notice that the setup is the same as in lesson 1. Nothing changes for the initialization in this project. The main difference is in the loop later."
   ]
  },
  {
   "cell_type": "code",
   "execution_count": 5,
   "metadata": {},
   "outputs": [
    {
     "name": "stdout",
     "output_type": "stream",
     "text": [
      "Enter a number to choose which environment you want to run (0 - 0): \n",
      "0\n"
     ]
    }
   ],
   "source": [
    "# allows user to pick which environment they want to use\n",
    "# initializes environment\n",
    "select_env = int(input(f\"Enter a number to choose which environment you want to run (0 - {len(env_ids) - 1}): \\n\"))\n",
    "env = gym.make(env_ids[select_env])\n",
    "render_mode = \"human\""
   ]
  },
  {
   "cell_type": "code",
   "execution_count": 6,
   "metadata": {},
   "outputs": [
    {
     "name": "stdout",
     "output_type": "stream",
     "text": [
      "\n",
      "\n"
     ]
    }
   ],
   "source": [
    "done = False\n",
    "__ = env.reset()\n",
    "print('\\n')"
   ]
  },
  {
   "cell_type": "code",
   "execution_count": 8,
   "metadata": {},
   "outputs": [],
   "source": [
    "# shows # of actions available\n",
    "# for distillation bench there are two elements\n",
    "# action[0] is a number indicating the event to take place\n",
    "# action[1] is a number representing a multiplier for the event\n",
    "# Actions and multipliers include:\n",
    "#   0: Add/Remove Heat (Heat Value multiplier, relative of maximal heat change)\n",
    "#   1: Pour BV into B1 (Volume multiplier, relative to max_vessel_volume)\n",
    "#   2: Pour B1 into B2 (Volume multiplier, relative to max_vessel_volume)\n",
    "#   3: Pour B1 into BV (Volume multiplier, relative to max_vessel_volume)\n",
    "#   4: Pour B2 into BV (Volume multiplier, relative to max_vessel_volume)\n",
    "#   5: Done (Value doesn't matter)\n",
    "action_set = ['Add/Remove Heat', 'Pour BV into B1', 'Pour B1 into B2', 'Pour B1 into BV', 'Pour B2 into BV', 'Done']\n",
    "assert env.action_space.shape[0] == 2"
   ]
  },
  {
   "cell_type": "code",
   "execution_count": 9,
   "metadata": {},
   "outputs": [],
   "source": [
    "total_steps=0\n",
    "total_reward=0"
   ]
  },
  {
   "cell_type": "markdown",
   "metadata": {},
   "source": [
    "Here we see that there are 3 main actions, where 2 are commented out. Based on which part of the lesson you're on, please uncomment the needed action."
   ]
  },
  {
   "cell_type": "code",
   "execution_count": null,
   "metadata": {},
   "outputs": [],
   "source": [
    "while not done:\n",
    "\n",
    "    # ACTION 1\n",
    "    # increase temperature all the way up\n",
    "    action = np.array([0,6])\n",
    "\n",
    "    # ACTION 2\n",
    "    # results in temperature being too high and all material is boiled off in the vessel\n",
    "    # action = np.array([0,7])\n",
    "\n",
    "    # ACTION 3\n",
    "    # decrease temperature all the way down\n",
    "    # action = np.array([0,3])\n",
    "\n",
    "\n",
    "\n",
    "    # perform the action and update the reward\n",
    "    state, reward, done, __ = env.step(action)\n",
    "    print('-----------------------------------------')\n",
    "    print('total_steps: ', total_steps)\n",
    "    print('reward: %.2f ' % reward)\n",
    "    total_reward += reward\n",
    "    print('total reward: %.2f' % total_reward)\n",
    "    print(action)\n",
    "    print('Temperature of boiling vessel: %.1f ' % env.boil_vessel.temperature, ' K \\n')\n",
    "    # print(state)\n",
    "\n",
    "    # render the plot\n",
    "    env.render(mode=render_mode)\n",
    "    # sleep(1)\n",
    "\n",
    "    multiplier = 2 * (6 / 10 - 0.5)\n",
    "    print(multiplier * 1)\n",
    "    print(env.boil_vessel.temperature)\n",
    "\n",
    "    print('hello: ', env.distillation.dQ)\n",
    "    print('hi: ', env.distillation.n_increments)\n",
    "\n",
    "\n",
    "    #increment one step\n",
    "    total_steps += 1"
   ]
  },
  {
   "cell_type": "markdown",
   "metadata": {},
   "source": [
    "### Let's try increasing the temperature of the boiling vessel (ACTION 1)\n",
    "\n",
    "When we run this code we should see that for every timestep that there is a heat change of 19999.99 joules and that the \n",
    "temperature eventually reaches 1738.0 Kelvin. We end up with a final graph that looks like this:\n",
    "\n",
    "![graph](../tutorial_figures/lesson_2d_image1.PNG)\n",
    "\n",
    "As you can see all the material is boiled off from the boiling vessel into the condensation vessel.\n",
    "\n",
    "**Again the graphs are showing the wrong values**\n",
    "\n",
    "### Increasing the temperature with a higher multiplier (ACTION 2)\n",
    "\n",
    "For this we will uncomment action 2. Now running this code gives us an interesting result. Run it yourself to see that we will get:\n",
    "\n",
    "![error](../tutorial_figures/lesson_2d_image3.PNG)\n",
    "\n",
    "We get this error as since we increased the temperature by a higher multiplier we were able to boil off all the  materials in the boiling vessel before letting the agent finish after 20 steps. It's important to note that choosing a very large multiplier can result in this error. \n",
    "\n",
    "** Still need to fix this error **\n",
    "\n",
    "### Lower the temperature (ACTION 3)\n",
    "\n",
    "We will now lower the temperature the absolute minimum it can be and see what happens. \n",
    "\n",
    "Running this results in the following graph:\n",
    "\n",
    "![graph](../tutorial_figures/lesson_2d_image5.PNG)\n",
    "\n",
    "As you will notice, nothing really changes. Of course this isn't much of a surprise since by lowering the temperature  none of the materials in the boiling vessel will boil into the condensation vessel (in this case; if you have materials  with lower boiling points this will change). You'll notice that the minimum temperature the boiling vessel will reach is  297 Kelvin.\n",
    "\n",
    "This concludes a fairly simple tutorial, to once again, get an intuition of how the distillation bench works. Hopefully  you can see the functionality of the environment. In the next lessons we will see how to achieve a high reward by  trying to isolate a target material, in this case, dodecane, into the condensation vessel. "
   ]
  }
 ],
 "metadata": {
  "kernelspec": {
   "display_name": "Python 3",
   "language": "python",
   "name": "python3"
  },
  "language_info": {
   "codemirror_mode": {
    "name": "ipython",
    "version": 3
   },
   "file_extension": ".py",
   "mimetype": "text/x-python",
   "name": "python",
   "nbconvert_exporter": "python",
   "pygments_lexer": "ipython3",
   "version": "3.7.3"
  }
 },
 "nbformat": 4,
 "nbformat_minor": 2
}
