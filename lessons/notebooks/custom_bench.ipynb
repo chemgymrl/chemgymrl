{
 "cells": [
  {
   "cell_type": "markdown",
   "metadata": {},
   "source": [
    "## Extraction Bench: Lesson 1\n",
    "### Using a non-polar solute to extract a solute from water\n",
    "\n",
    "In this tutorial, I am going to walk you through how our extraction environment works and hopefully give some insight into how an\n",
    "RL agent might interact with the environment. In this extraction we are going to be using water to extract sodium and\n",
    "chlorine from oil. We are going to be using this jupyter notebook in order to interact\n",
    "with the environment."
   ]
  },
  {
   "cell_type": "code",
   "execution_count": null,
   "metadata": {},
   "outputs": [],
   "source": [
    "!pip install \"git+https://github.com/chemgymrl/chemgymrl.git@manager\""
   ]
  },
  {
   "cell_type": "code",
   "execution_count": null,
   "metadata": {
    "scrolled": true
   },
   "outputs": [],
   "source": [
    "import sys\n",
    "sys.path.append('../../')\n",
    "from chemistrylab import material, vessel\n",
    "from chemistrylab.benches.general_bench import *\n",
    "from chemistrylab.util.reward import RewardGenerator\n",
    "from chemistrylab.lab.shelf import Shelf\n",
    "from chemistrylab.util import Visualization\n",
    "from matplotlib import pyplot as plt\n",
    "Visualization.use_mpl_light(size=2)"
   ]
  },
  {
   "cell_type": "markdown",
   "metadata": {},
   "source": [
    "# Creating a Shelf filled with Vessels\n",
    "\n",
    "Here we create a shelf containing all of the vessels required for this material. The extraction vessel will have NaCl dissolved in oil, two extra vessels will be provided, one to extract the salt and the other to pour out any waste material (oil)."
   ]
  },
  {
   "cell_type": "code",
   "execution_count": null,
   "metadata": {},
   "outputs": [],
   "source": [
    "def make_solvent(mat):\n",
    "    \"Makes a Vessel with 2 Litres of a single material\"\n",
    "\n",
    "    solvent = material.REGISTRY[mat](mol=1.0)\n",
    "\n",
    "    solvent_vessel = vessel.Vessel(\n",
    "        label=f'{solvent._name} Vessel',\n",
    "    )\n",
    "    #Setting the mol st there are 2 litres\n",
    "    solvent.mol=(2/solvent.volume_L)\n",
    "    solvent_vessel.material_dict = {mat:solvent}\n",
    "    # instruct the vessel to update its material dictionary\n",
    "    solvent_vessel.volume = solvent_vessel.filled_volume()\n",
    "    return solvent_vessel\n",
    "\n",
    "\n",
    "extraction_vessel = vessel.Vessel(label='Extract Vessel')\n",
    "# initialize H2O\n",
    "C6H14 = material.REGISTRY[\"CCCCCC\"](mol=1)\n",
    "# Get dissolved NaCl\n",
    "Na = material.REGISTRY[\"[Na+]\"](mol=1)\n",
    "Cl = material.REGISTRY[\"[Cl-]\"](mol=1)\n",
    "\n",
    "mats = [C6H14,Na,Cl]\n",
    "# Set up the vessel\n",
    "extraction_vessel.material_dict={str(mat):mat for mat in mats}\n",
    "extraction_vessel.validate_solvents()\n",
    "extraction_vessel.validate_solutes()\n",
    "\n",
    "shelf = Shelf([  \n",
    "    extraction_vessel,\n",
    "    vessel.Vessel(\"Extract Beaker\"),\n",
    "    vessel.Vessel(\"Waste\"),\n",
    "    make_solvent(\"CCCCCC\"),\n",
    "    make_solvent(\"O\")\n",
    "], n_working = 2)\n",
    "\n",
    "print(shelf)"
   ]
  },
  {
   "attachments": {},
   "cell_type": "markdown",
   "metadata": {},
   "source": [
    "# Creating the Actions\n",
    "\n",
    "Actions are parameterized by a named tuple:\n",
    "```python\n",
    "class Action(NamedTuple):\n",
    "    vessels: Tuple[int]\n",
    "    parameters: Tuple[tuple]\n",
    "    event_name: str\n",
    "    affected_vessels: Optional[Tuple[int]]\n",
    "    dt: float\n",
    "    terminal: bool\n",
    "```\n",
    "\n"
   ]
  },
  {
   "cell_type": "code",
   "execution_count": null,
   "metadata": {},
   "outputs": [],
   "source": [
    "\n",
    "#Recall the shelf:         0                1         2          3           4\n",
    "#           Shelf: (Extract Vessel, Extract Beaker, Waste, C6H14 Vessel, H2O Vessel)\n",
    "\n",
    "#Setting the volumes to pour (in liters)\n",
    "amounts=np.linspace(0.2,1,5).reshape([5,1])\n",
    "#setting the pixels to drain (each pixel represents 10ml of draining in this case)\n",
    "pixels = np.arange(2,12,2).reshape([5,1])\n",
    "        \n",
    "actions = [\n",
    "    # Pouring the extraction vessel into the extraciton beaker\n",
    "    Action([0], pixels,              'drain by pixel',[1],  0.01, False),\n",
    "    # Mixing the extraction vessel\n",
    "    Action([0],-amounts,             'mix',           None, 0.00, False),\n",
    "    # Pouring the extraction beaker into the extraction vessel\n",
    "    Action([1], amounts,             'pour by volume',[0],  0.01, False),\n",
    "    # Pouring the waste vessel into the extraction vessel\n",
    "    Action([2], amounts,             'pour by volume',[0],  0.01, False),\n",
    "    # Pouring the extraction vessel into the waste beaker\n",
    "    Action([0], amounts,             'pour by volume',[2],  0.01, False),\n",
    "    # Pouring C6H14 into the extraction vessel\n",
    "    Action([3], amounts/2,           'pour by volume',[0],  0,    False),\n",
    "    # Pouring Water into the extraction vessel\n",
    "    Action([4], amounts/2,           'pour by volume',[0],  0,    False),\n",
    "    # Waiting for vessels to settle\n",
    "    Action([0,1,2], 32**amounts/200, 'mix',           None, 0,    False),\n",
    "    # Ending the experiment\n",
    "    Action([0], [[0]],               'mix',           None, 0,    True)\n",
    "]\n",
    "\n"
   ]
  },
  {
   "cell_type": "markdown",
   "metadata": {},
   "source": [
    "# Determining the Reward Scheme & observations\n",
    "\n",
    "Since we just want to get the salt out of the oil, we have our reward function discount the reward if C6H14 is present, and set NaCl as our target, making sure to include dissolved components as NaCl. In order to see what we are doing with the extraction, we will set the observation to just return layer information of our vessels."
   ]
  },
  {
   "cell_type": "code",
   "execution_count": null,
   "metadata": {},
   "outputs": [],
   "source": [
    "e_rew= RewardGenerator(use_purity=False, exclude_solvents=True, include_dissolved=True, exclude_mat=\"CCCCCC\")\n",
    "targets = [\"[Na+].[Cl-]\"]\n",
    "\n",
    "#Just show layer info\n",
    "observations = [\"layers\"]\n"
   ]
  },
  {
   "cell_type": "markdown",
   "metadata": {},
   "source": [
    "# Making the Bench"
   ]
  },
  {
   "cell_type": "code",
   "execution_count": null,
   "metadata": {},
   "outputs": [],
   "source": [
    "water_oil_bench = GenBench(\n",
    "    shelf,\n",
    "    actions,\n",
    "    observations,\n",
    "    targets=targets,\n",
    "    reward_function=e_rew,\n",
    ")"
   ]
  },
  {
   "cell_type": "markdown",
   "metadata": {},
   "source": [
    "# Running the Bench"
   ]
  },
  {
   "cell_type": "code",
   "execution_count": null,
   "metadata": {},
   "outputs": [],
   "source": [
    "_ = water_oil_bench.reset()\n",
    "\n",
    "plt.imshow(water_oil_bench.render())\n",
    "plt.axis(\"off\")\n",
    "plt.show()\n"
   ]
  },
  {
   "cell_type": "code",
   "execution_count": null,
   "metadata": {},
   "outputs": [],
   "source": [
    "#Pour in water\n",
    "obs,rew,d,*_ = water_oil_bench.step(33)\n",
    "obs,rew,d,*_ = water_oil_bench.step(39)\n",
    "obs,rew,d,*_ = water_oil_bench.step(39)\n",
    "plt.imshow(water_oil_bench.render())\n",
    "plt.axis(\"off\")\n",
    "plt.show()"
   ]
  },
  {
   "cell_type": "markdown",
   "metadata": {},
   "source": [
    "Now that we've added the water we need to mix the vessel to get the solutes to transfer into the oil, so let's mix the\n",
    "vessel! As seen in the graph below we can see that based on the layer representation that we have mixed the oil and the water.\n"
   ]
  },
  {
   "cell_type": "code",
   "execution_count": null,
   "metadata": {},
   "outputs": [],
   "source": [
    "# Mix\n",
    "obs,rew,d,*_ = water_oil_bench.step(9)\n",
    "\n",
    "plt.imshow(water_oil_bench.render())\n",
    "plt.axis(\"off\")\n",
    "plt.show()"
   ]
  },
  {
   "cell_type": "markdown",
   "metadata": {},
   "source": [
    "Now that we have done some mixing we need to wait for the oil to settle to the top of the water so we can drain the\n",
    "water. Keep repeating the following command until the graph settles.\n"
   ]
  },
  {
   "cell_type": "code",
   "execution_count": null,
   "metadata": {},
   "outputs": [],
   "source": [
    "obs,rew,d,*_ = water_oil_bench.step(39)\n",
    "obs,rew,d,*_ = water_oil_bench.step(39)\n",
    "plt.imshow(water_oil_bench.render())\n",
    "plt.axis(\"off\")\n",
    "plt.show()"
   ]
  },
  {
   "cell_type": "markdown",
   "metadata": {},
   "source": [
    "Now that the water and oil have settled we want to drain out our water into beaker 1 so that we can pour out our oil\n",
    "out as waste.\n",
    "\n"
   ]
  },
  {
   "cell_type": "code",
   "execution_count": null,
   "metadata": {},
   "outputs": [],
   "source": [
    "#Pouring\n",
    "for i in range(4):\n",
    "    obs,rew,d,*_=water_oil_bench.step(4)\n",
    "\n",
    "obs,rew,d,*_=water_oil_bench.step(1)\n",
    "    \n",
    "plt.imshow(water_oil_bench.render())\n",
    "plt.axis(\"off\")\n",
    "plt.show()"
   ]
  },
  {
   "cell_type": "markdown",
   "metadata": {},
   "source": [
    "Now we just have to empty out the extraction vessel into the waste vessel to get rid of the oil and we are done"
   ]
  },
  {
   "cell_type": "code",
   "execution_count": null,
   "metadata": {},
   "outputs": [],
   "source": [
    "obs,rew,d,*_= water_oil_bench.step(24)\n",
    "\n",
    "obs,final_return,d,*_ = water_oil_bench.step(40)\n",
    "\n",
    "print(final_return,d)"
   ]
  },
  {
   "cell_type": "markdown",
   "metadata": {},
   "source": [
    "Now if we want to we can pour back the water from vessel 1 into our extraction vessel and repeat the process to get a\n",
    "more of the sodium out of the oil. However, for an introduction this much should satisfy, now that we have finished,\n",
    "we want to see how well we did so now we enter the done command."
   ]
  },
  {
   "cell_type": "markdown",
   "metadata": {},
   "source": [
    "I hope this tutorial helped with your understanding of how an agent might interact with the extraction environmenment!"
   ]
  }
 ],
 "metadata": {
  "kernelspec": {
   "display_name": "Python 3 (ipykernel)",
   "language": "python",
   "name": "python3"
  },
  "language_info": {
   "codemirror_mode": {
    "name": "ipython",
    "version": 3
   },
   "file_extension": ".py",
   "mimetype": "text/x-python",
   "name": "python",
   "nbconvert_exporter": "python",
   "pygments_lexer": "ipython3",
   "version": "3.10.0"
  },
  "vscode": {
   "interpreter": {
    "hash": "928df2993789dc54629220469d2aa2c5bde6e75786cdddb015342ca5eb5b2bb1"
   }
  }
 },
 "nbformat": 4,
 "nbformat_minor": 4
}
