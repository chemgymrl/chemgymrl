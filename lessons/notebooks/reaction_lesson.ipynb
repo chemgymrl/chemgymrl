{
 "cells": [
  {
   "cell_type": "code",
   "execution_count": null,
   "metadata": {},
   "outputs": [],
   "source": [
    "import sys\n",
    "sys.path.append('../')\n",
    "sys.path.append('../chemistrylab/reactions')\n",
    "import gym\n",
    "import chemistrylab\n",
    "import numpy as np\n",
    "from gym import envs\n",
    "all_envs = envs.registry.all()\n",
    "env_ids = [env_spec.id for env_spec in all_envs if 'React' in env_spec.id]\n",
    "print(env_ids)\n",
    "env = gym.make('WurtzReact-v1')\n",
    "render_mode = \"human\"\n",
    "action_set = ['Temperature', 'Volume', \"1-chlorohexane\", \"2-chlorohexane\", \"3-chlorohexane\", \"Na\"]\n",
    "\n",
    "assert len(action_set) == env.action_space.shape[0]"
   ]
  },
  {
   "cell_type": "code",
   "execution_count": null,
   "metadata": {},
   "outputs": [],
   "source": [
    "env.reset()\n",
    "env.render(mode=render_mode)"
   ]
  },
  {
   "cell_type": "code",
   "execution_count": null,
   "metadata": {},
   "outputs": [],
   "source": [
    "done = False\n",
    "state = env.reset()\n",
    "total_reward = 0\n",
    "while not done:\n",
    "    env.render(mode=render_mode)\n",
    "    action = np.zeros(env.action_space.shape[0])\n",
    "    print('--------------------')\n",
    "    for i, a in enumerate(action_set):\n",
    "        action[i] = float(input(f'{a}: '))\n",
    "    state, reward, done, _ = env.step(action)\n",
    "    total_reward += reward\n",
    "    print(f'reward: {reward}')\n",
    "    print(f'total_reward: {total_reward}')"
   ]
  }
 ],
 "metadata": {
  "kernelspec": {
   "display_name": "ChemGym",
   "language": "python",
   "name": "python3"
  },
  "language_info": {
   "codemirror_mode": {
    "name": "ipython",
    "version": 3
   },
   "file_extension": ".py",
   "mimetype": "text/x-python",
   "name": "python",
   "nbconvert_exporter": "python",
   "pygments_lexer": "ipython3",
   "version": "3.6.13"
  },
  "orig_nbformat": 4,
  "vscode": {
   "interpreter": {
    "hash": "928df2993789dc54629220469d2aa2c5bde6e75786cdddb015342ca5eb5b2bb1"
   }
  }
 },
 "nbformat": 4,
 "nbformat_minor": 2
}
