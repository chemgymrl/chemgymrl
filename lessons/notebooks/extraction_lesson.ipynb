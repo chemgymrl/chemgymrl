{
 "cells": [
  {
   "cell_type": "markdown",
   "metadata": {},
   "source": [
    "## Extraction Bench: Lesson 1\n",
    "### Using a non-polar solute to extract a solute from water\n",
    "\n",
    "In this tutorial, I am going to walk you through how our extraction environment works and hopefully give some insight into how an\n",
    "RL agent might interact with the environment. In this extraction we are going to be using oil to extract sodium and\n",
    "chlorine from water. We are going to be using this jupyter notebook in order to interact\n",
    "with the environment and to try to achieve a high reward!"
   ]
  },
  {
   "cell_type": "code",
   "execution_count": 3,
   "metadata": {
    "scrolled": true
   },
   "outputs": [
    {
     "name": "stdout",
     "output_type": "stream",
     "text": [
      "['WurtzExtract-v1', 'Oil_Water_Extract-v1', 'MethylRed_Extract-v1', 'MethylRed_Extract-v2']\n",
      "{'H2O': 542.0762286860582}\n",
      "542.0762286860582\n",
      "1000.0\n",
      "-------extraction_vessel: update material dict (feedback_event)-------\n",
      "-------extraction_vessel: update solute dict (feedback_event)-------\n",
      "-------extraction_vessel: fully mix (feedback_event)-------\n",
      "-------extraction_vessel: mix (feedback_event)-------\n",
      "{'H2O': 542.0762286860582}\n",
      "542.0762286860582\n",
      "-------extraction_vessel: update_layer (feedback_event)-------\n",
      "{'H2O': 542.0762286860582}\n",
      "542.0762286860582\n"
     ]
    }
   ],
   "source": [
    "import sys\n",
    "sys.path.append('../')\n",
    "sys.path.append('../chemistrylab/reactions')\n",
    "import gym\n",
    "import chemistrylab\n",
    "import numpy as np\n",
    "from gym import envs\n",
    "all_envs = envs.registry.all()\n",
    "env_ids = [env_spec.id for env_spec in all_envs if 'Extract' in env_spec.id]\n",
    "print(env_ids)\n",
    "env = gym.make('Oil_Water_Extract-v1')\n",
    "render_mode = \"human\"\n",
    "action_set = ['Draining from ExV to Beaker1', 'Mix ExV', \"Mix B1\", \"Mix B2\", \"Pour from B1 to ExV\", \"Pour from B1 to B2\",\n",
    "              'Pour from ExV to B2', 'Add oil, pour from Oil Vessel to ExV', 'wait', 'Done']\n"
   ]
  },
  {
   "cell_type": "markdown",
   "metadata": {},
   "source": [
    "So start by running the the code cell below you should see a series of graphs like these appear:\n",
    "\n",
    "![graph](../sample_figures/tutorial/oil_and_water_0.png)"
   ]
  },
  {
   "cell_type": "code",
   "execution_count": 6,
   "metadata": {
    "scrolled": false
   },
   "outputs": [
    {
     "name": "stdout",
     "output_type": "stream",
     "text": [
      "{'C6H14': 131564885496.1832}\n",
      "131564885496.1832\n",
      "1000000000\n",
      "-------oil_vessel: update material dict (feedback_event)-------\n",
      "{'H2O': 542.0762286860582}\n",
      "542.0762286860582\n",
      "{'H2O': 542.0762286860582}\n",
      "542.0762286860582\n",
      "{}\n",
      "0\n",
      "{}\n",
      "0\n"
     ]
    },
    {
     "data": {
      "image/png": "[encoded data removed]",
      "text/plain": [
       "<Figure size 864x432 with 6 Axes>"
      ]
     },
     "metadata": {
      "needs_background": "light"
     },
     "output_type": "display_data"
    }
   ],
   "source": [
    "state = env.reset()\n",
    "env.render(mode=render_mode)"
   ]
  },
  {
   "cell_type": "markdown",
   "metadata": {},
   "source": [
    "These graphs show the contents of each of our containers and the level of separation between the materials. The graphs\n",
    "to the right then show the layers of materials forming in the container.\n",
    "\n",
    "When we start the environment we will see that we have a container filled with water, Na and Cl. The objective of this\n",
    "environment is to get the Na out of the water, but how might we do this? As the chemists among us will say this is a\n",
    "very simple task, and indeed it is. Using a non-polar solvent we can get the sodium and chlorine to diffuse from the\n",
    "water into that solvent, in this case we can use oil as our non-polar solvent! so now that the environemnt is loaded,\n",
    "if you run the code block below you should see a promt similar to this:\n",
    "\n",
    "![command line prompt](../sample_figures/tutorial/oil_water_console_0.png)\n",
    "\n",
    "Before we start playing around with the environment, let's take a look at\n",
    "the action space. For this case our action space is a matrix: {0, 1}<sup>n_action x multiplier</sup> in essence at each\n",
    "time step the RL agent selects from a set of actions and then in turn picks a multiplier for that action. \n",
    "\n",
    "| Action:                | Multiplier 0: | Multiplier 1: | Multiplier 2: | Multiplier 3: |\n",
    "|------------------------|---------------|---------------|---------------|---------------|\n",
    "| Mix beaker 1           | 0             | 1             | 0             | 0             |\n",
    "| Drain beaker 1 into 2  | 0             | 0             | 0             | 0             |\n",
    "| Pour oil into beaker 1 | 0             | 0             | 0             | 0             |\n",
    "\n",
    "As an example the agent might want to pour a certain amount of solution out of our container, so the row controls what action they take,\n",
    "and the column represents an action multiplier. So in the example of pouring out a certain amount of solution, the\n",
    "multiplier might control how much of the solution we pour out of our container. so our action matrix will thus be a\n",
    "matrix of zeroes with a single 1. In the set up of the environment we select a dT, this dT represents the period of time\n",
    "we take in between each action. Now that we have a better idea of our action space we can move onto testing out the\n",
    "environment. As stated earlier we need to use oil to extract the sodium from the water, but if we look at the graph now,\n",
    "we can clearly see that there is no oil in the container, so let's add some!\n",
    "\n",
    "![image of command](https://ak.picdn.net/shutterstock/videos/4620521/thumb/4.jpg)\n",
    "\n",
    "![image of graphs with added oil](../sample_figures/tutorial/oil_and_water_1.png)\n"
   ]
  },
  {
   "cell_type": "code",
   "execution_count": null,
   "metadata": {},
   "outputs": [],
   "source": [
    "done = False\n",
    "state = env.reset()\n",
    "total_reward = 0\n",
    "reward = 0\n",
    "env.render(mode=render_mode)\n",
    "print(f'reward: {reward}')\n",
    "print(f'total_reward: {total_reward}')\n",
    "print('======================================================')\n",
    "action = np.array([7, 3])\n",
    "state, reward, done, _ = env.step(action)\n",
    "total_reward += reward"
   ]
  },
  {
   "cell_type": "markdown",
   "metadata": {},
   "source": [
    "Now that we've added the oil we need to mix the vessel to get the sodium to transfer into the oil, so let's mix the\n",
    "vessel!As seen in the graph below we can see that based on the layer representation that we have mixed the oil and the water.\n",
    "\n",
    "![image of command](https://i.pinimg.com/736x/dc/3f/5f/dc3f5fefb5a0a6e24a0799a87dabba8f.jpg)\n",
    "\n",
    "![image of graphs mixed](../sample_figures/tutorial/oil_and_water_2.png)"
   ]
  },
  {
   "cell_type": "code",
   "execution_count": null,
   "metadata": {},
   "outputs": [],
   "source": [
    "env.render(mode=render_mode)\n",
    "print(f'reward: {reward}')\n",
    "print(f'total_reward: {total_reward}')\n",
    "print('======================================================')\n",
    "action = np.array([1, 5])\n",
    "state, reward, done, _ = env.step(action)\n",
    "total_reward += reward"
   ]
  },
  {
   "cell_type": "markdown",
   "metadata": {},
   "source": [
    "Now that we have done some mixing we need to wait for the oil to settle to the top of the water so we can drain the\n",
    "water. Keep repeating the following command until the graph settles.\n",
    "\n",
    "![image of command](https://media.sciencephoto.com/image/c0119092/800wm)\n",
    "\n",
    "![image of graphs waiting ](../sample_figures/tutorial/oil_and_water_3.png)"
   ]
  },
  {
   "cell_type": "code",
   "execution_count": null,
   "metadata": {},
   "outputs": [],
   "source": [
    "env.render(mode=render_mode)\n",
    "print(f'reward: {reward}')\n",
    "print(f'total_reward: {total_reward}')\n",
    "print('======================================================')\n",
    "action = np.array([8, 5])\n",
    "state, reward, done, _ = env.step(action)\n",
    "total_reward += reward"
   ]
  },
  {
   "cell_type": "markdown",
   "metadata": {},
   "source": [
    "Now that the water and oil have settled we want to drain out our water into beaker 1 so that we can pour out our oil\n",
    "into vessel 2.\n",
    "\n",
    "![image of command](../sample_figures/tutorial/drain_vessel.png)\n",
    "\n",
    "![image of graphs draining](../sample_figures/tutorial/oil_water_4.png)\n",
    "\n",
    "Keep repeating the command the changing the multiplier as needed until the graph looks something like this:\n",
    "\n",
    "![image of graphs draining](../sample_figures/tutorial/oil_water_5.png)\n"
   ]
  },
  {
   "cell_type": "code",
   "execution_count": null,
   "metadata": {},
   "outputs": [],
   "source": [
    "# Change me!\n",
    "action_muiltiplier = 5\n",
    "\n",
    "env.render(mode=render_mode)\n",
    "print(f'reward: {reward}')\n",
    "print(f'total_reward: {total_reward}')\n",
    "print('======================================================')\n",
    "action = np.array([0, action_multiplier])\n",
    "state, reward, done, _ = env.step(action)\n",
    "total_reward += reward"
   ]
  },
  {
   "cell_type": "markdown",
   "metadata": {},
   "source": [
    "\n",
    "Now we pour the oil into vessel 2.\n",
    "\n",
    "![image of command](https://ak.picdn.net/shutterstock/videos/4620521/thumb/4.jpg)\n",
    "\n",
    "![image of graphs pouring](../sample_figures/tutorial/oil_water_6.png)\n"
   ]
  },
  {
   "cell_type": "code",
   "execution_count": null,
   "metadata": {},
   "outputs": [],
   "source": [
    "env.render(mode=render_mode)\n",
    "print(f'reward: {reward}')\n",
    "print(f'total_reward: {total_reward}')\n",
    "print('======================================================')\n",
    "action = np.array([6, 5])\n",
    "state, reward, done, _ = env.step(action)\n",
    "total_reward += reward"
   ]
  },
  {
   "cell_type": "markdown",
   "metadata": {},
   "source": [
    "Now if we want to we can pour back the water from vessel 1 into our extraction vessel and repeat the process to get a\n",
    "more of the sodium out of the oil. However, for an introduction this much should satisfy, now that we have finished,\n",
    "we want to see how well we did so now we enter the done command.\n",
    "\n",
    "![image of command](../sample_figures/tutorial/oil_water_console_7.png)"
   ]
  },
  {
   "cell_type": "code",
   "execution_count": null,
   "metadata": {},
   "outputs": [],
   "source": [
    "env.render(mode=render_mode)\n",
    "print(f'reward: {reward}')\n",
    "print(f'total_reward: {total_reward}')\n",
    "print('======================================================')\n",
    "action = np.array([9, 0])\n",
    "state, reward, done, _ = env.step(action)\n",
    "total_reward += reward"
   ]
  },
  {
   "cell_type": "markdown",
   "metadata": {},
   "source": [
    "I hope this tutorial helped with your understanding of how an agent might interact with the extraction environmenment!"
   ]
  }
 ],
 "metadata": {
  "kernelspec": {
   "display_name": "Python 3",
   "language": "python",
   "name": "python3"
  },
  "language_info": {
   "codemirror_mode": {
    "name": "ipython",
    "version": 3
   },
   "file_extension": ".py",
   "mimetype": "text/x-python",
   "name": "python",
   "nbconvert_exporter": "python",
   "pygments_lexer": "ipython3",
   "version": "3.8.5"
  }
 },
 "nbformat": 4,
 "nbformat_minor": 4
}