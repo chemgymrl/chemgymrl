{
  "cells": [
    {
      "attachments": {},
      "cell_type": "markdown",
      "metadata": {
        "id": "ktkwlCbpXKp4"
      },
      "source": [
        "## Extraction Bench: Lesson 1\n",
        "### Using a non-polar solute to extract a solute from water\n",
        "\n",
        "In this tutorial, I am going to walk you through how our extraction environment works and hopefully give some insight into how an\n",
        "RL agent might interact with the environment. In this extraction we are going to be using water to extract sodium and\n",
        "chlorine from oil. We are going to be using this jupyter notebook in order to interact\n",
        "with the environment."
      ]
    },
    {
      "cell_type": "code",
      "execution_count": null,
      "metadata": {
        "id": "IPiTxWfeXKp6",
        "scrolled": true
      },
      "outputs": [],
      "source": [
        "!pip install \"git+https://github.com/chemgymrl/chemgymrl.git@main\""
      ]
    },
    {
      "cell_type": "code",
      "execution_count": null,
      "metadata": {
        "id": "NbSsT7cI4zhl"
      },
      "outputs": [],
      "source": [
        "import gymnasium as gym\n",
        "import chemistrylab\n",
        "import matplotlib,time\n",
        "import numpy as np\n",
        "from matplotlib import pyplot as plt\n",
        "from chemistrylab.util import Visualization\n",
        "from IPython.display import display,clear_output\n",
        "\n",
        "Visualization.use_mpl_dark(size=2)\n",
        "\n",
        "print(\"\\n\".join([ a for a in gym.registry.keys() if \"React\" in a or \"Extract\" in a or \"Distill\" in a]))"
      ]
    },
    {
      "attachments": {},
      "cell_type": "markdown",
      "metadata": {
        "id": "ZzVqIAqoXKp9"
      },
      "source": [
        "These graphs show the contents of each of our containers and the level of separation between the materials. The graphs\n",
        "to the right then show the layers of materials forming in the container.\n",
        "\n",
        "When we start the environment we will see that we have a container filled with oil, Na and Cl. Using a polar solvent\n",
        "we can get the sodium and chlorine to diffuse from the oil into that solvent, in this case we can use water as our polar\n",
        "solvent!\n",
        "\n",
        "![image of command](https://ak.picdn.net/shutterstock/videos/4620521/thumb/4.jpg)\n",
        "\n"
      ]
    },
    {
      "cell_type": "code",
      "execution_count": null,
      "metadata": {
        "id": "SroCRMH0448f"
      },
      "outputs": [],
      "source": [
        "env = gym.make('WaterOilExtract-v0')\n",
        "env.reset()\n",
        "rgb = env.render()\n",
        "plt.imshow(rgb)\n",
        "plt.axis(\"off\")\n",
        "plt.show()"
      ]
    },
    {
      "cell_type": "code",
      "execution_count": null,
      "metadata": {
        "id": "h-bsW0aM5Xsg"
      },
      "outputs": [],
      "source": [
        "for i, a in enumerate(env.actions):\n",
        "    v,event = env.shelf[a[0][0][0]],a[0][0][1]\n",
        "    if a[1].terminal:\n",
        "      print(f\"Action {i}: End Experiment\")\n",
        "    else:\n",
        "      print(f'Action {i}\\t{v}: {event.name}\\t({event.parameter})\\t -> {event.other_vessel} ')\n",
        "\n",
        "d=False"
      ]
    },
    {
      "attachments": {},
      "cell_type": "markdown",
      "metadata": {
        "id": "tOmaR6Bn4w1S"
      },
      "source": [
        "#### Step 1: Pour Water into the extraction vessel\n",
        "\n",
        "`Action 33\tH2O Vessel: pour by volume\t([0.4])\t -> extraction_vessel `\n",
        "\n",
        "We can then see that storage vessel is now filled with the oil poured from the condensation vessel.\n",
        "\n",
        "\n"
      ]
    },
    {
      "cell_type": "code",
      "execution_count": null,
      "metadata": {
        "id": "ZlyfUZ8EXKp-"
      },
      "outputs": [],
      "source": [
        "env.reset()\n",
        "total_reward = 0\n",
        "#Pour in water\n",
        "obs,rew,d,*_ = env.step(33)\n",
        "total_reward += rew\n",
        "obs,rew,d,*_ = env.step(39)\n",
        "total_reward += rew\n",
        "obs,rew,d,*_ = env.step(39)\n",
        "total_reward += rew\n",
        "rgb = env.render()\n",
        "plt.imshow(rgb)\n",
        "plt.axis(\"off\")\n",
        "plt.show()"
      ]
    },
    {
      "attachments": {},
      "cell_type": "markdown",
      "metadata": {
        "id": "M7NOvZ1JXKp-"
      },
      "source": [
        "#### Step 2: Mix the extraction vessel\n",
        "\n",
        "`Action 9\textraction_vessel: mix\t([-1.])\t -> None`\n",
        "\n",
        "Now that we've added the water we need to mix the vessel to get the solutes to transfer into the oil, so let's mix the\n",
        "vessel! As seen in the graph below we can see that based on the layer representation that we have mixed the oil and the water.\n",
        "\n",
        "![image of command](https://i.pinimg.com/736x/dc/3f/5f/dc3f5fefb5a0a6e24a0799a87dabba8f.jpg)\n"
      ]
    },
    {
      "cell_type": "code",
      "execution_count": null,
      "metadata": {
        "id": "3gfhAummXKp-"
      },
      "outputs": [],
      "source": [
        "# Mix\n",
        "obs,rew,d,*_ = env.step(9)\n",
        "\n",
        "total_reward += rew\n",
        "rgb = env.render()\n",
        "plt.imshow(rgb)\n",
        "plt.axis(\"off\")\n",
        "plt.show()"
      ]
    },
    {
      "attachments": {},
      "cell_type": "markdown",
      "metadata": {
        "id": "kidgyV9VXKp-"
      },
      "source": [
        "#### Step 3: Wait for the layers to separate\n",
        "\n",
        "`Action 39\textraction_vessel: mix\t([0.16])\t -> None`\n",
        "\n",
        "\n",
        "Now that we have done some mixing we need to wait for the oil to settle to the top of the water so we can drain the\n",
        "water. Keep repeating the following command until the graph settles.\n",
        "\n",
        "![image of command](https://media.sciencephoto.com/image/c0119092/800wm)"
      ]
    },
    {
      "cell_type": "code",
      "execution_count": null,
      "metadata": {
        "id": "4KtquM9ZXKp-"
      },
      "outputs": [],
      "source": [
        "obs,rew,d,*_ = env.step(39)\n",
        "total_reward += rew\n",
        "obs,rew,d,*_ = env.step(39)\n",
        "total_reward += rew\n",
        "rgb = env.render()\n",
        "plt.imshow(rgb)\n",
        "plt.axis(\"off\")\n",
        "plt.show()"
      ]
    },
    {
      "attachments": {},
      "cell_type": "markdown",
      "metadata": {
        "id": "HcwG6N4cXKp-"
      },
      "source": [
        "#### Step 4: Pouring out the Saltwater\n",
        "\n",
        "`Action 4\textraction_vessel: drain by pixel\t([10])\t -> Beaker 1`:\n",
        "\n",
        "\n",
        "Now that the water and oil have settled we want to drain out our water into beaker 1 so that we can pour out our oil\n",
        "out as waste.\n",
        "\n",
        "![image of command](https://github.com/chemgymrl/chemgymrl/blob/rewrite/docs/tutorial_figures/vessel/drain_vessel.png?raw=1)\n"
      ]
    },
    {
      "cell_type": "code",
      "execution_count": null,
      "metadata": {
        "id": "0RZWi-nMXKp_"
      },
      "outputs": [],
      "source": [
        "#Pouring\n",
        "for i in range(4):\n",
        "    obs,rew,d,*_=env.step(4)\n",
        "    total_reward += rew\n",
        "\n",
        "rgb = env.render()\n",
        "plt.imshow(rgb)\n",
        "plt.axis(\"off\")\n",
        "plt.show()"
      ]
    },
    {
      "attachments": {},
      "cell_type": "markdown",
      "metadata": {
        "id": "XzhwXmclXKp_"
      },
      "source": [
        "Now if we want to we can pour back the water from vessel 1 into our extraction vessel and repeat the process to get a\n",
        "more of the sodium out of the oil. However, for an introduction this much should satisfy."
      ]
    },
    {
      "attachments": {},
      "cell_type": "markdown",
      "metadata": {
        "id": "sdCK2sgO7ziV"
      },
      "source": [
        "#### Step 5: Pouring the oil into the waste vessel\n",
        "\n",
        "`Action 24\textraction_vessel: pour by volume\t([1.])\t -> Waste Vessel`\n",
        "\n",
        "\n",
        "\n",
        "Now we just have to empty out the extraction vessel into the waste vessel to get rid of the oil and we are done"
      ]
    },
    {
      "cell_type": "code",
      "execution_count": null,
      "metadata": {
        "id": "KE5wFJcAXKp_"
      },
      "outputs": [],
      "source": [
        "obs,rew,d,*_= env.step(24)\n",
        "total_reward += rew\n",
        "rgb = env.render()\n",
        "plt.imshow(rgb)\n",
        "plt.axis(\"off\")\n",
        "plt.show()"
      ]
    },
    {
      "attachments": {},
      "cell_type": "markdown",
      "metadata": {
        "id": "AEJi9vrG9cky"
      },
      "source": [
        "### Ending the Experiment"
      ]
    },
    {
      "cell_type": "code",
      "execution_count": null,
      "metadata": {
        "id": "HNKEk97o8xM1"
      },
      "outputs": [],
      "source": [
        "obs,rew,d,*_ = env.step(40)\n",
        "total_reward += rew\n",
        "print(total_reward,d)"
      ]
    },
    {
      "attachments": {},
      "cell_type": "markdown",
      "metadata": {
        "id": "UE3PHileXKp_"
      },
      "source": [
        "I hope this tutorial helped with your understanding of how an agent might interact with the extraction environmenment!"
      ]
    }
  ],
  "metadata": {
    "colab": {
      "provenance": []
    },
    "kernelspec": {
      "display_name": "Python 3 (ipykernel)",
      "language": "python",
      "name": "python3"
    },
    "language_info": {
      "codemirror_mode": {
        "name": "ipython",
        "version": 3
      },
      "file_extension": ".py",
      "mimetype": "text/x-python",
      "name": "python",
      "nbconvert_exporter": "python",
      "pygments_lexer": "ipython3",
      "version": "3.10.0"
    },
    "vscode": {
      "interpreter": {
        "hash": "928df2993789dc54629220469d2aa2c5bde6e75786cdddb015342ca5eb5b2bb1"
      }
    }
  },
  "nbformat": 4,
  "nbformat_minor": 0
}
