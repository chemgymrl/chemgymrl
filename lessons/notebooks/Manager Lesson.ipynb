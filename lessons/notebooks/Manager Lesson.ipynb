{
 "cells": [
  {
   "cell_type": "markdown",
   "id": "dfb17856",
   "metadata": {},
   "source": [
    "# Managing the Wurtz Benches"
   ]
  },
  {
   "cell_type": "code",
   "execution_count": 1,
   "id": "3cf6e3b7",
   "metadata": {},
   "outputs": [],
   "source": [
    "import gymnasium as gym\n",
    "import chemistrylab\n",
    "import matplotlib,time\n",
    "import numpy as np\n",
    "from matplotlib import pyplot as plt\n",
    "from chemistrylab.util import Visualization\n",
    "from IPython.display import display,clear_output\n",
    "from chemistrylab.util.ActionDoc import generate_manager_table\n",
    "from chemistrylab.lab.manager import CONFIG_PATH\n",
    "Visualization.use_mpl_dark(size=2)"
   ]
  },
  {
   "cell_type": "markdown",
   "id": "9051a4cb",
   "metadata": {},
   "source": [
    "# Manager Actions\n",
    "\n",
    "The table below outline what actions are available to the agent in the Manager-v0 environment.\n",
    "Let's break down the table:\n",
    "\n",
    "- **Action Index**: This is a unique identifier for each action. Here multiple actions may have the same index because actions are context-dependent.\n",
    "\n",
    "- **Required Bench**: This column indicates the bench that is required for each action. The term \"None\" means the action doesn't require a specific bench setup, while terms like \"Reaction,\" \"Distillation,\" and \"Extraction\" indicate actions are only available in these benches.\n",
    "\n",
    "- **Function Call**: This column describes the function call associated with each action. These functions can also be called directly when not using the Manager in a reinforcement learning setup."
   ]
  },
  {
   "cell_type": "code",
   "execution_count": 2,
   "id": "7ff9183b",
   "metadata": {},
   "outputs": [
    {
     "name": "stdout",
     "output_type": "stream",
     "text": [
      "+----------------+------------------+----------------------------------------------+\n",
      "|   Action Index | Required Bench   | Function Call                                |\n",
      "+================+==================+==============================================+\n",
      "|              0 | None             | set_cur_bench(idx = 0)                       |\n",
      "+----------------+------------------+----------------------------------------------+\n",
      "|              1 | None             | set_cur_bench(idx = 1)                       |\n",
      "+----------------+------------------+----------------------------------------------+\n",
      "|              2 | None             | set_cur_bench(idx = 2)                       |\n",
      "+----------------+------------------+----------------------------------------------+\n",
      "|              3 | None             | end_experiment()                             |\n",
      "+----------------+------------------+----------------------------------------------+\n",
      "|              4 | None             | swap_vessels(bench_idx = -1, vessel_idx = 0) |\n",
      "+----------------+------------------+----------------------------------------------+\n",
      "|              5 | None             | swap_vessels(bench_idx = -1, vessel_idx = 1) |\n",
      "+----------------+------------------+----------------------------------------------+\n",
      "|              6 | None             | swap_vessels(bench_idx = -1, vessel_idx = 2) |\n",
      "+----------------+------------------+----------------------------------------------+\n",
      "|              7 | None             | characterize(observation_list = ['PVT'])     |\n",
      "+----------------+------------------+----------------------------------------------+\n",
      "|              8 | Reaction         | run_bench(bench_idx = 0, policy_idx = 0)     |\n",
      "+----------------+------------------+----------------------------------------------+\n",
      "|              9 | Reaction         | swap_vessels(bench_idx = 0, vessel_idx = 0)  |\n",
      "+----------------+------------------+----------------------------------------------+\n",
      "|              8 | Distillation     | run_bench(bench_idx = 1, policy_idx = 0)     |\n",
      "+----------------+------------------+----------------------------------------------+\n",
      "|              9 | Distillation     | swap_vessels(bench_idx = 1, vessel_idx = 0)  |\n",
      "+----------------+------------------+----------------------------------------------+\n",
      "|              8 | Extraction       | run_bench(bench_idx = 2, policy_idx = 0)     |\n",
      "+----------------+------------------+----------------------------------------------+\n",
      "|              9 | Extraction       | swap_vessels(bench_idx = 2, vessel_idx = 0)  |\n",
      "+----------------+------------------+----------------------------------------------+\n"
     ]
    }
   ],
   "source": [
    "print(generate_manager_table(CONFIG_PATH+\"/wurtz.json\"))"
   ]
  },
  {
   "cell_type": "code",
   "execution_count": 3,
   "id": "47842119",
   "metadata": {},
   "outputs": [
    {
     "name": "stderr",
     "output_type": "stream",
     "text": [
      "C:\\Users\\sprag\\anaconda3\\envs\\rllib\\lib\\site-packages\\gymnasium\\utils\\passive_env_checker.py:164: UserWarning: \u001b[33mWARN: The obs returned by the `reset()` method was expecting numpy array dtype to be float32, actual type: float64\u001b[0m\n",
      "  logger.warn(\n",
      "C:\\Users\\sprag\\anaconda3\\envs\\rllib\\lib\\site-packages\\gymnasium\\utils\\passive_env_checker.py:188: UserWarning: \u001b[33mWARN: The obs returned by the `reset()` method is not within the observation space.\u001b[0m\n",
      "  logger.warn(f\"{pre} is not within the observation space.\")\n"
     ]
    }
   ],
   "source": [
    "manager = gym.make('Manager-v0')\n",
    "_ = manager.reset()"
   ]
  },
  {
   "cell_type": "markdown",
   "id": "4b18056c",
   "metadata": {},
   "source": [
    "# Setting the Bench"
   ]
  },
  {
   "cell_type": "code",
   "execution_count": 4,
   "id": "e8bb585d",
   "metadata": {},
   "outputs": [
    {
     "name": "stdout",
     "output_type": "stream",
     "text": [
      "Current Bench: None\n",
      "Setting Bench to 1 (Distillation)\n",
      "Current Bench: 1\n",
      "Setting Bench to 0 (Reaction)\n",
      "Current Bench: 0\n",
      "Setting Bench to 2 (Extraction)\n",
      "Current Bench: 2\n",
      "Setting Bench to 0 (Reaction)\n",
      "Current Bench: 0\n"
     ]
    },
    {
     "name": "stderr",
     "output_type": "stream",
     "text": [
      "C:\\Users\\sprag\\anaconda3\\envs\\rllib\\lib\\site-packages\\gymnasium\\utils\\passive_env_checker.py:164: UserWarning: \u001b[33mWARN: The obs returned by the `step()` method was expecting numpy array dtype to be float32, actual type: float64\u001b[0m\n",
      "  logger.warn(\n",
      "C:\\Users\\sprag\\anaconda3\\envs\\rllib\\lib\\site-packages\\gymnasium\\utils\\passive_env_checker.py:188: UserWarning: \u001b[33mWARN: The obs returned by the `step()` method is not within the observation space.\u001b[0m\n",
      "  logger.warn(f\"{pre} is not within the observation space.\")\n"
     ]
    }
   ],
   "source": [
    "print(\"Current Bench:\",manager.current_bench)\n",
    "\n",
    "print(\"Setting Bench to 1 (Distillation)\")\n",
    "manager.set_cur_bench(1)\n",
    "print(\"Current Bench:\",manager.current_bench)\n",
    "\n",
    "print(\"Setting Bench to 0 (Reaction)\")\n",
    "manager.step(0)\n",
    "print(\"Current Bench:\",manager.current_bench)\n",
    "\n",
    "print(\"Setting Bench to 2 (Extraction)\")\n",
    "manager.step(2)\n",
    "print(\"Current Bench:\",manager.current_bench)\n",
    "\n",
    "print(\"Setting Bench to 0 (Reaction)\")\n",
    "manager.set_cur_bench(0)\n",
    "print(\"Current Bench:\",manager.current_bench)"
   ]
  },
  {
   "cell_type": "markdown",
   "id": "0fa72026",
   "metadata": {},
   "source": [
    "# Moving vessels between benches\n",
    "\n",
    "Moving vessels around involves calling swap_vessel(), insert_vessel(), create_vessel(), and dispose_vessel()"
   ]
  },
  {
   "cell_type": "code",
   "execution_count": 5,
   "id": "3c69ee6b",
   "metadata": {},
   "outputs": [
    {
     "name": "stdout",
     "output_type": "stream",
     "text": [
      "Initial Reaction Shelf: (Reaction Vessel, 1-chlorohexane Vessel, 2-chlorohexane Vessel, 3-chlorohexane Vessel, Na Vessel) \n",
      "\n",
      "Moving the reaction vessel into the manager's hand\n",
      "Reaction Shelf: (1-chlorohexane Vessel, 2-chlorohexane Vessel, 3-chlorohexane Vessel, Na Vessel)\n",
      "Hand: Reaction Vessel \n",
      "\n",
      "Placing the reaction vessel into the manager's shelf\n",
      "Manager Shelf: (Reaction Vessel)\n",
      "Hand: Empty Shelf \n",
      "\n"
     ]
    }
   ],
   "source": [
    "#resetting the manager and setting the current bench to the reaction bench\n",
    "_ = manager.reset()\n",
    "manager.step(0)\n",
    "\n",
    "\n",
    "print(\"Initial Reaction\",manager.benches[0].shelf,\"\\n\")\n",
    "\n",
    "print(\"Moving the reaction vessel into the manager's hand\")\n",
    "#Moving vessels using the swap_vessels function\n",
    "manager.swap_vessels(bench_idx=0, vessel_idx=0)\n",
    "\n",
    "print(\"Reaction\",manager.benches[0].shelf)\n",
    "print(\"Hand:\", manager.hand[0],\"\\n\")\n",
    "\n",
    "print(\"Placing the reaction vessel into the manager's shelf\")\n",
    "#swap_vessels with bench_idx=-1 uses the manager's personal shelf instead of a benches shelf\n",
    "manager.swap_vessels(bench_idx=-1, vessel_idx=0)\n",
    "\n",
    "print(\"Manager\",manager.shelf)\n",
    "print(\"Hand:\", manager.hand,\"\\n\")"
   ]
  },
  {
   "cell_type": "code",
   "execution_count": 6,
   "id": "1d1d1294",
   "metadata": {},
   "outputs": [
    {
     "name": "stdout",
     "output_type": "stream",
     "text": [
      "Moving the 1-chlorohexane vessel into the manager's hand\n",
      "Reaction Shelf: (2-chlorohexane Vessel, 3-chlorohexane Vessel, Na Vessel)\n",
      "Hand: 1-chlorohexane Vessel \n",
      "\n",
      "Placing the 1-chlorohexane vessel into the manager's shelf\n",
      "Manager Shelf: (Reaction Vessel, 1-chlorohexane Vessel)\n",
      "Hand: Empty Shelf \n",
      "\n"
     ]
    }
   ],
   "source": [
    "print(\"Moving the 1-chlorohexane vessel into the manager's hand\")\n",
    "# Action 9 is equivalent to swap_vessels(bench_idx=0, vessel_idx=0)\n",
    "manager.step(9)\n",
    "\n",
    "print(\"Reaction\",manager.benches[0].shelf)\n",
    "print(\"Hand:\", manager.hand[0],\"\\n\")\n",
    "\n",
    "\n",
    "print(\"Placing the 1-chlorohexane vessel into the manager's shelf\")\n",
    "# Action 5 is equivalent to swap_vessels(bench_idx = -1, vessel_idx = 1)\n",
    "manager.step(5)\n",
    "\n",
    "print(\"Manager\",manager.shelf)\n",
    "print(\"Hand:\", manager.hand,\"\\n\")"
   ]
  },
  {
   "cell_type": "markdown",
   "id": "ec825557",
   "metadata": {},
   "source": [
    "# Running a Bench\n",
    "\n",
    "You can run a bench with a predefined policy via the run_bench() function. \n",
    "\n",
    "\n",
    "Note: If the bench doesn't have a valid vessel setup then nothing happens"
   ]
  },
  {
   "cell_type": "code",
   "execution_count": 7,
   "id": "a7e67e08",
   "metadata": {},
   "outputs": [
    {
     "name": "stdout",
     "output_type": "stream",
     "text": [
      "Initial Reaction Vessel:\n"
     ]
    },
    {
     "data": {
      "text/html": [
       "<div>\n",
       "<style scoped>\n",
       "    .dataframe tbody tr th:only-of-type {\n",
       "        vertical-align: middle;\n",
       "    }\n",
       "\n",
       "    .dataframe tbody tr th {\n",
       "        vertical-align: top;\n",
       "    }\n",
       "\n",
       "    .dataframe thead th {\n",
       "        text-align: right;\n",
       "    }\n",
       "</style>\n",
       "<table border=\"1\" class=\"dataframe\">\n",
       "  <thead>\n",
       "    <tr style=\"text-align: right;\">\n",
       "      <th></th>\n",
       "      <th>Smiles</th>\n",
       "      <th>Amount</th>\n",
       "      <th>Phase</th>\n",
       "      <th>Solute</th>\n",
       "      <th>Solvent</th>\n",
       "    </tr>\n",
       "  </thead>\n",
       "  <tbody>\n",
       "    <tr>\n",
       "      <th>diethyl ether</th>\n",
       "      <td>CCOCC</td>\n",
       "      <td>4</td>\n",
       "      <td>l</td>\n",
       "      <td>False</td>\n",
       "      <td>False</td>\n",
       "    </tr>\n",
       "  </tbody>\n",
       "</table>\n",
       "</div>"
      ],
      "text/plain": [
       "              Smiles  Amount Phase  Solute  Solvent\n",
       "diethyl ether  CCOCC       4     l   False    False"
      ]
     },
     "metadata": {},
     "output_type": "display_data"
    },
    {
     "name": "stdout",
     "output_type": "stream",
     "text": [
      "Running the reaction bench. . .\n",
      "Final Reaction Vessel:\n"
     ]
    },
    {
     "data": {
      "text/html": [
       "<div>\n",
       "<style scoped>\n",
       "    .dataframe tbody tr th:only-of-type {\n",
       "        vertical-align: middle;\n",
       "    }\n",
       "\n",
       "    .dataframe tbody tr th {\n",
       "        vertical-align: top;\n",
       "    }\n",
       "\n",
       "    .dataframe thead th {\n",
       "        text-align: right;\n",
       "    }\n",
       "</style>\n",
       "<table border=\"1\" class=\"dataframe\">\n",
       "  <thead>\n",
       "    <tr style=\"text-align: right;\">\n",
       "      <th></th>\n",
       "      <th>Smiles</th>\n",
       "      <th>Amount</th>\n",
       "      <th>Phase</th>\n",
       "      <th>Solute</th>\n",
       "      <th>Solvent</th>\n",
       "    </tr>\n",
       "  </thead>\n",
       "  <tbody>\n",
       "    <tr>\n",
       "      <th>diethyl ether</th>\n",
       "      <td>CCOCC</td>\n",
       "      <td>4.000000</td>\n",
       "      <td>l</td>\n",
       "      <td>False</td>\n",
       "      <td>False</td>\n",
       "    </tr>\n",
       "    <tr>\n",
       "      <th>1-chlorohexane</th>\n",
       "      <td>CCCCCCCl</td>\n",
       "      <td>0.101284</td>\n",
       "      <td>l</td>\n",
       "      <td>False</td>\n",
       "      <td>False</td>\n",
       "    </tr>\n",
       "    <tr>\n",
       "      <th>Na</th>\n",
       "      <td>[Na+]</td>\n",
       "      <td>2.101284</td>\n",
       "      <td>s</td>\n",
       "      <td>False</td>\n",
       "      <td>False</td>\n",
       "    </tr>\n",
       "    <tr>\n",
       "      <th>dodecane</th>\n",
       "      <td>CCCCCCCCCCCC</td>\n",
       "      <td>0.449358</td>\n",
       "      <td>l</td>\n",
       "      <td>False</td>\n",
       "      <td>False</td>\n",
       "    </tr>\n",
       "    <tr>\n",
       "      <th>NaCl</th>\n",
       "      <td>[Na+].[Cl-]</td>\n",
       "      <td>0.898716</td>\n",
       "      <td>s</td>\n",
       "      <td>False</td>\n",
       "      <td>False</td>\n",
       "    </tr>\n",
       "  </tbody>\n",
       "</table>\n",
       "</div>"
      ],
      "text/plain": [
       "                      Smiles    Amount Phase  Solute  Solvent\n",
       "diethyl ether          CCOCC  4.000000     l   False    False\n",
       "1-chlorohexane      CCCCCCCl  0.101284     l   False    False\n",
       "Na                     [Na+]  2.101284     s   False    False\n",
       "dodecane        CCCCCCCCCCCC  0.449358     l   False    False\n",
       "NaCl             [Na+].[Cl-]  0.898716     s   False    False"
      ]
     },
     "metadata": {},
     "output_type": "display_data"
    },
    {
     "name": "stdout",
     "output_type": "stream",
     "text": [
      "Running the distillation bench. . .\n",
      "Distillation Bench output:\n"
     ]
    },
    {
     "data": {
      "text/html": [
       "<div>\n",
       "<style scoped>\n",
       "    .dataframe tbody tr th:only-of-type {\n",
       "        vertical-align: middle;\n",
       "    }\n",
       "\n",
       "    .dataframe tbody tr th {\n",
       "        vertical-align: top;\n",
       "    }\n",
       "\n",
       "    .dataframe thead th {\n",
       "        text-align: right;\n",
       "    }\n",
       "</style>\n",
       "<table border=\"1\" class=\"dataframe\">\n",
       "  <thead>\n",
       "    <tr style=\"text-align: right;\">\n",
       "      <th></th>\n",
       "      <th>Smiles</th>\n",
       "      <th>Amount</th>\n",
       "      <th>Phase</th>\n",
       "      <th>Solute</th>\n",
       "      <th>Solvent</th>\n",
       "    </tr>\n",
       "  </thead>\n",
       "  <tbody>\n",
       "    <tr>\n",
       "      <th>diethyl ether</th>\n",
       "      <td>CCOCC</td>\n",
       "      <td>0.000000</td>\n",
       "      <td>l</td>\n",
       "      <td>False</td>\n",
       "      <td>True</td>\n",
       "    </tr>\n",
       "    <tr>\n",
       "      <th>1-chlorohexane</th>\n",
       "      <td>CCCCCCCl</td>\n",
       "      <td>0.101284</td>\n",
       "      <td>l</td>\n",
       "      <td>False</td>\n",
       "      <td>False</td>\n",
       "    </tr>\n",
       "    <tr>\n",
       "      <th>dodecane</th>\n",
       "      <td>CCCCCCCCCCCC</td>\n",
       "      <td>0.449358</td>\n",
       "      <td>l</td>\n",
       "      <td>True</td>\n",
       "      <td>False</td>\n",
       "    </tr>\n",
       "  </tbody>\n",
       "</table>\n",
       "</div>"
      ],
      "text/plain": [
       "                      Smiles    Amount Phase  Solute  Solvent\n",
       "diethyl ether          CCOCC  0.000000     l   False     True\n",
       "1-chlorohexane      CCCCCCCl  0.101284     l   False    False\n",
       "dodecane        CCCCCCCCCCCC  0.449358     l    True    False"
      ]
     },
     "metadata": {},
     "output_type": "display_data"
    }
   ],
   "source": [
    "#resetting the manager and setting the current bench to the reaction bench\n",
    "_ = manager.reset()\n",
    "manager.set_target(\"CCCCCCCCCCCC\")\n",
    "_ = manager.step(0)\n",
    "\n",
    "print(\"Initial Reaction Vessel:\")\n",
    "display(manager.benches[0].shelf[0].get_material_dataframe())\n",
    "\n",
    "print(\"Running the reaction bench. . .\")\n",
    "manager.run_bench(bench_idx = 0, policy_idx = 0)\n",
    "\n",
    "print(\"Final Reaction Vessel:\")\n",
    "display(manager.benches[0].shelf[0].get_material_dataframe())\n",
    "\n",
    "\n",
    "manager.step(9)\n",
    "# step(1) sets the current bench to distillation\n",
    "manager.step(1)\n",
    "manager.step(9)\n",
    "manager.step(4)\n",
    "\n",
    "\n",
    "print(\"Running the distillation bench. . .\")\n",
    "# This runs the distillation bench (since it's the current bench selected)\n",
    "manager.step(8)\n",
    "\n",
    "print(\"Distillation Bench output:\")\n",
    "\n",
    "manager.step(9)\n",
    "manager.step(9)\n",
    "\n",
    "display(manager.hand[0].get_material_dataframe())"
   ]
  },
  {
   "cell_type": "markdown",
   "id": "cab0f6fc",
   "metadata": {},
   "source": [
    " # Ending the Experiment\n",
    " \n",
    " At the end of the experiment (either due to taking the 'end experiment' action or timing out), a reward is given based off of the amount and purity of the target material contained in the manager's shelf."
   ]
  },
  {
   "cell_type": "code",
   "execution_count": 8,
   "id": "e5b99da4",
   "metadata": {},
   "outputs": [
    {
     "name": "stdout",
     "output_type": "stream",
     "text": [
      "0.366703527308431 True\n"
     ]
    }
   ],
   "source": [
    "# Move our output vessel into the manager's shelf\n",
    "manager.step(4)\n",
    "\n",
    "obs, rew, done, info, _ = manager.step(3)\n",
    "\n",
    "print(rew, done)"
   ]
  },
  {
   "cell_type": "code",
   "execution_count": null,
   "id": "a9eba53e",
   "metadata": {},
   "outputs": [],
   "source": []
  }
 ],
 "metadata": {
  "kernelspec": {
   "display_name": "Python 3 (ipykernel)",
   "language": "python",
   "name": "python3"
  },
  "language_info": {
   "codemirror_mode": {
    "name": "ipython",
    "version": 3
   },
   "file_extension": ".py",
   "mimetype": "text/x-python",
   "name": "python",
   "nbconvert_exporter": "python",
   "pygments_lexer": "ipython3",
   "version": "3.10.0"
  }
 },
 "nbformat": 4,
 "nbformat_minor": 5
}
