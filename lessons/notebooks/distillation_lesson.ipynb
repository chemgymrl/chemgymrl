{
 "cells": [
  {
   "attachments": {},
   "cell_type": "markdown",
   "metadata": {},
   "source": [
    "## Distillation Bench: Lesson 1"
   ]
  },
  {
   "cell_type": "markdown",
   "metadata": {},
   "source": [
    "### Running the environment\n",
    "\n",
    "We will first start by importing the necessary required modules, both external and local. By now this step should seem very familiar as we have done them in both reaction and extraction lessons."
   ]
  },
  {
   "cell_type": "code",
   "execution_count": null,
   "metadata": {},
   "outputs": [],
   "source": [
    "%matplotlib inline"
   ]
  },
  {
   "cell_type": "code",
   "execution_count": null,
   "metadata": {},
   "outputs": [],
   "source": [
    "# import all the required external modules\n",
    "import gym\n",
    "import numpy as np\n",
    "import os\n",
    "import pickle\n",
    "import sys\n",
    "from time import sleep\n",
    "from gym import envs\n",
    "import matplotlib.pyplot as plt\n",
    "import pandas as pd"
   ]
  },
  {
   "cell_type": "code",
   "execution_count": null,
   "metadata": {},
   "outputs": [],
   "source": [
    "# ensure all necessary modules can be found\n",
    "sys.path.append('../../')\n",
    "sys.path.append(\"../chemistrylab/reactions\") # to access all reactions"
   ]
  },
  {
   "cell_type": "code",
   "execution_count": null,
   "metadata": {},
   "outputs": [],
   "source": [
    "# import local modules\n",
    "import chemistrylab "
   ]
  },
  {
   "cell_type": "markdown",
   "metadata": {},
   "source": [
    "We can see all the possible variations of the distillation bench environment which can vary depending on the input vessel, which is loaded into the boil vessel, as well as the target material. In this and following tutorials our target material will be dodecane"
   ]
  },
  {
   "cell_type": "code",
   "execution_count": null,
   "metadata": {},
   "outputs": [],
   "source": [
    "# show all environments for distillation bench\n",
    "all_envs = envs.registry.all()\n",
    "env_ids = [env_spec.id for env_spec in all_envs if 'Distillation' in env_spec.id]\n",
    "print(env_ids)"
   ]
  },
  {
   "cell_type": "markdown",
   "metadata": {},
   "source": [
    "We then get prompted with a message asking us to choose the environment we want to run. This is based off the indexing in the environment array we saw from the last cell."
   ]
  },
  {
   "cell_type": "code",
   "execution_count": null,
   "metadata": {},
   "outputs": [],
   "source": [
    "# allows user to pick which environment they want to use\n",
    "# initializes environment\n",
    "select_env = int(input(f\"Enter a number to choose which environment you want to run (0 - {len(env_ids) - 1}): \\n\"))\n",
    "env = gym.make(env_ids[select_env])\n",
    "render_mode = \"human\" #select how graphs are rendered"
   ]
  },
  {
   "cell_type": "markdown",
   "metadata": {},
   "source": [
    "We initialize done to False so our agent can run the experiment. We run reset() to return an initial observation."
   ]
  },
  {
   "cell_type": "code",
   "execution_count": null,
   "metadata": {},
   "outputs": [],
   "source": [
    "done = False\n",
    "__ = env.reset()\n",
    "print('\\n')"
   ]
  },
  {
   "cell_type": "code",
   "execution_count": null,
   "metadata": {},
   "outputs": [],
   "source": [
    "# shows # of actions available\n",
    "# for distillation bench there are two elements\n",
    "# action[0] is a number indicating the event to take place\n",
    "# action[1] is a number representing a multiplier for the event\n",
    "# Actions and multipliers include:\n",
    "#   0: Add/Remove Heat (Heat Value multiplier, relative of maximal heat change)\n",
    "#   1: Pour BV into B1 (Volume multiplier, relative to max_vessel_volume)\n",
    "#   2: Pour B1 into B2 (Volume multiplier, relative to max_vessel_volume)\n",
    "#   3: Wait for boil vessel temp to decrease towards room temp (if multiplier == 0, wait until room temp == true)\n",
    "#   4: Done (Value doesn't matter)\n",
    "\n",
    "action_set = ['Add/Remove Heat', 'Pour BV into B1', 'Pour B1 into B2', 'Wait','Done']\n",
    "assert env.action_space.shape[0] == 2\n",
    "\n",
    "total_steps=0\n",
    "total_reward=0"
   ]
  },
  {
   "attachments": {},
   "cell_type": "markdown",
   "metadata": {},
   "source": [
    "Note that the multiplier affects each action differently. For examply the way the agents chosen multiplier affects heat change is given by the following code:\n",
    "\n",
    "```python\n",
    "multiplier = 2 * (multiplier/self.n_actions - 0.5)\n",
    "heat_change = multiplier * self.dQ\n",
    "```\n",
    "\n",
    "Also note that when we are performing heat changes, it heavily relies on the given value of dQ. For our lessons we will be using a dQ of 1000.0. Please make sure to change your dQ value to 1000.0 if you are following this lesson to ensure our results stay the same. You can change this value in the `distillation_bench_v1.py` file under the distillation bench folder.\n",
    "\n",
    "```python\n",
    "class Distillation_v1(DistillationBenchEnv):\n",
    "    '''\n",
    "    Class to define an environment to perform a distillation experiment\n",
    "    on an inputted vessel and obtain a pure form of a targetted material.\n",
    "    '''\n",
    "\n",
    "    def __init__(self):\n",
    "        super(Distillation_v1, self).__init__(\n",
    "            boil_vessel=get_vessel(\n",
    "                vessel_path=os.path.join(os.getcwd(), \"test_extract_vessel.pickle\"),\n",
    "                in_vessel=boil_vessel()\n",
    "            ),\n",
    "            reaction=_Reaction,\n",
    "            reaction_file_identifier=\"chloro_wurtz\",\n",
    "            precipitation_file_identifier=\"precipitation\",\n",
    "            target_material=\"dodecane\",\n",
    "            dQ=1000.0, # This value\n",
    "            out_vessel_path=os.getcwd()\n",
    "        )\n",
    "```\n",
    "\n",
    "We will increase this value to speed up the experiement:\n",
    "\n",
    "```python\n",
    "    dQ=100000,\n",
    "```\n",
    "\n",
    "Typically an agent will choose actions based on what will give a higher reward, and higher reward is given by getting a high molar amount and concentration of the desired material (in our case dodecane) in a particular vessel."
   ]
  },
  {
   "cell_type": "code",
   "execution_count": null,
   "metadata": {},
   "outputs": [],
   "source": [
    "while not done:\n",
    "\n",
    "    action = np.zeros(env.action_space.shape[0])\n",
    "\n",
    "    for index, action_desc in enumerate(action_set):\n",
    "        print(f'{index}: {action_desc}')\n",
    "    print('Please enter an action and an action multiplier')\n",
    "    for i in range(2):\n",
    "        message = 'Action'\n",
    "        if i == 1:\n",
    "            message = 'Action Multiplier:'\n",
    "        action[i] = int(input(f'{message}: '))\n",
    "\n",
    "\n",
    "    # perform the action and update the reward\n",
    "    state, reward, done, __ = env.step(action)\n",
    "    print('-----------------------------------------')\n",
    "    print('total_steps: ', total_steps)\n",
    "    print('reward: %.2f ' % reward)\n",
    "    total_reward += reward\n",
    "    print('total reward: %.2f ' % total_reward)\n",
    "    print('Temperature of boiling vessel: %.1f ' % env.boil_vessel.temperature, ' K \\n')\n",
    "    # print(state)\n",
    "    \n",
    "    # render the plot\n",
    "    env.render(mode=render_mode, nb=True)\n",
    "    # sleep(1)\n",
    "    \n",
    "    #increment one step\n",
    "    total_steps += 1"
   ]
  },
  {
   "attachments": {},
   "cell_type": "markdown",
   "metadata": {},
   "source": [
    "#### Step 0: Adding temperature to the vessel\n",
    "\n",
    "- action: 0\n",
    "- multiplier: 10\n",
    "\n",
    "This will result in the temperature of the vessel increasing.\n",
    "\n",
    "![add-temp](../../docs/tutorial_figures/distillation-lesson-1/boil_water.png)\n",
    "\n",
    "Repeating this action will result in the temperature reaching the boiling point of water, which you will notice some of which is now boiled off in beaker_0 (or the condensation vessel).\n",
    "\n",
    "![add-temp](../../docs/tutorial_figures/distillation-lesson-1/boil_water1.png)\n",
    "\n",
    "Once all the water is boiled off the materials dissolved in water will precipitate out.\n",
    "\n",
    "![add-temp](../../docs/tutorial_figures/distillation-lesson-1/boil_water2.png)\n",
    "\n",
    "#### Step 1: Pour from condensation to storage vessel\n",
    "\n",
    "- action: 2\n",
    "- multiplier: 10\n",
    "\n",
    "We can then see that storage vessel is now filled with the H2O poured from the condensation vessel.\n",
    "\n",
    "![pour-to-beaker1](../../docs/tutorial_figures/distillation-lesson-1/pour-to-beaker1.png)\n",
    "\n",
    "#### Step 2: Add some more temperature\n",
    "\n",
    "- action: 0\n",
    "- multiplier: 100\n",
    "\n",
    "We can now add more temperature in order to boil off 1, 2, and 3-chlorohexane into the now empty condensation vessel. The chlorohexanes are boiled off as they have the lowest boiling points in the vessel.\n",
    "\n",
    "![boil 2-chlorohexane](../../docs/tutorial_figures/distillation-lesson-1/boil_2-chl.png)\n",
    "\n",
    "#### Step 3: Pouring again from condensation to storage\n",
    "\n",
    "- action: 2\n",
    "- multiplier: 10\n",
    "\n",
    "We can again pour the contents of the condensation vessel to the storage vessel\n",
    "\n",
    "![pour 2-chlorohexane](../../docs/tutorial_figures/distillation-lesson-1/pour_2-chl.png)\n",
    "\n",
    "#### Step 4: Pour everything from boiling vessel into condensation vessel\n",
    "\n",
    "- action: 1\n",
    "- multiplier: 10\n",
    "\n",
    "Notice now that all the materials are in the condensation vessel.\n",
    "\n",
    "![pour boiling vessel](../../docs/tutorial_figures/distillation-lesson-1/pour-bv.png)\n",
    "\n",
    "#### Step 5: Ending the experiment\n",
    "\n",
    "- action: 4\n",
    "- multiplier: 0\n",
    "\n",
    "### End of the lesson\n",
    "\n",
    "This concludes the end of our tutorial. Hopefully you got a chance to see how the basic actions in the distillation environment works and see how you can use the agent in RL applications to maximize the distillation of a desired material."
   ]
  }
 ],
 "metadata": {
  "kernelspec": {
   "display_name": "ChemGym",
   "language": "python",
   "name": "python3"
  },
  "language_info": {
   "codemirror_mode": {
    "name": "ipython",
    "version": 3
   },
   "file_extension": ".py",
   "mimetype": "text/x-python",
   "name": "python",
   "nbconvert_exporter": "python",
   "pygments_lexer": "ipython3",
   "version": "3.6.13 |Anaconda, Inc.| (default, Feb 23 2021, 21:15:04) \n[GCC 7.3.0]"
  },
  "vscode": {
   "interpreter": {
    "hash": "928df2993789dc54629220469d2aa2c5bde6e75786cdddb015342ca5eb5b2bb1"
   }
  }
 },
 "nbformat": 4,
 "nbformat_minor": 2
}
