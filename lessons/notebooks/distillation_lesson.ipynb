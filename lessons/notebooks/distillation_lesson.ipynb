{
  "cells": [
    {
      "attachments": {},
      "cell_type": "markdown",
      "metadata": {
        "id": "c_vDgGR9XKp9"
      },
      "source": [
        "## Distillation Bench: Lesson 1"
      ]
    },
    {
      "attachments": {},
      "cell_type": "markdown",
      "metadata": {
        "id": "7ap47ILZXKp-"
      },
      "source": [
        "### Running the environment\n",
        "\n",
        "We will first start by importing the necessary required modules, both external and local. By now this step should seem very familiar as we have done them in both reaction and extraction lessons."
      ]
    },
    {
      "cell_type": "code",
      "execution_count": null,
      "metadata": {
        "id": "iXJ0WiLZXKp-"
      },
      "outputs": [],
      "source": [
        "!pip install \"git+https://github.com/chemgymrl/chemgymrl.git@main\""
      ]
    },
    {
      "cell_type": "code",
      "execution_count": null,
      "metadata": {
        "id": "Wma7CZUiXKp_"
      },
      "outputs": [],
      "source": [
        "import gymnasium as gym\n",
        "import chemistrylab\n",
        "import matplotlib,time\n",
        "import numpy as np\n",
        "from matplotlib import pyplot as plt\n",
        "from chemistrylab.util import Visualization\n",
        "from IPython.display import display,clear_output\n",
        "\n",
        "Visualization.use_mpl_dark(size=2)\n",
        "\n",
        "print(\"\\n\".join([ a for a in gym.registry.keys() if \"React\" in a or \"Extract\" in a or \"Distill\" in a]))"
      ]
    },
    {
      "attachments": {},
      "cell_type": "markdown",
      "metadata": {
        "id": "zccDssFzXKp_"
      },
      "source": [
        "Here, we see a list of all chemistrygym benches. In this tutorial we will be looking at distillation and use GenWurtzDistill-v2 environment. The overall goal of this bench is to separate out a solute dissolved in oil by boiling off the oil. (We also want to separate the solute from any salt if present)."
      ]
    },
    {
      "attachments": {},
      "cell_type": "markdown",
      "metadata": {
        "id": "6ruqB49hXKp_"
      },
      "source": [
        "We then get prompted with a message asking us to choose the environment we want to run. This is based off the indexing in the environment array we saw from the last cell."
      ]
    },
    {
      "cell_type": "code",
      "execution_count": null,
      "metadata": {
        "id": "apPdH3JdXKqA"
      },
      "outputs": [],
      "source": [
        "env = gym.make('GenWurtzDistill-v2')\n",
        "env.reset()\n",
        "rgb = env.render()\n",
        "plt.imshow(rgb)\n",
        "plt.axis(\"off\")\n",
        "plt.show()"
      ]
    },
    {
      "attachments": {},
      "cell_type": "markdown",
      "metadata": {
        "id": "2DQitDvaXKqA"
      },
      "source": [
        "We initialize done to False so our agent can run the experiment. We run reset() to return an initial observation."
      ]
    },
    {
      "cell_type": "code",
      "execution_count": null,
      "metadata": {
        "id": "_cNfaB-CXKqB"
      },
      "outputs": [],
      "source": [
        "for i, a in enumerate(env.actions):\n",
        "    v,event = env.shelf[a[0][0][0]],a[0][0][1]\n",
        "    if a[1].terminal:\n",
        "      print(f\"Action {i}: End Experiment\")\n",
        "    else:\n",
        "      print(f'Action {i}\\t{v}: {event.name}\\t({event.parameter})\\t -> {event.other_vessel} ')\n",
        "\n",
        "d=False"
      ]
    },
    {
      "attachments": {},
      "cell_type": "markdown",
      "metadata": {
        "id": "yuvWcPsqXKqB"
      },
      "source": [
        "Here is a breakdown of how one of these actions work:\n",
        "\n",
        "```\n",
        "Action 0\tboil_vessel: heat contact\t([270. 200.])\t -> Beaker 1 \n",
        "```\n",
        "\n",
        "`Action 0` tells us that this is the first action (call `env.step(0)`). `boil_vessel` is the vessel this action is applied to. `heat contact` is the type of action (this one simulates thermal contact with a reservoir). `([270. 200.])` are the parameters of the action. In this case the first number (270) represents the reservoir temperature and the second number (200) is a heat transfer constant (h*t where h is your heat transfer coefficient and t is time). \n",
        "\n",
        "\n",
        "\n",
        "\n",
        "Typically an agent will choose actions based on what will give a higher reward, and higher reward is given by getting a high molar amount and concentration of the desired material (in our case dodecane) in a particular vessel."
      ]
    },
    {
      "attachments": {},
      "cell_type": "markdown",
      "metadata": {
        "id": "uVgQr_I1XKqC"
      },
      "source": [
        "#### Step 1: Adding temperature to the vessel\n",
        "\n",
        "`Action 9\tboil_vessel: heat contact\t([1000.   30.])\t -> Beaker 1`\n",
        "This will result in the temperature of the vessel increasing.\n",
        "\n",
        "Repeating this action will result in the temperature reaching the boiling point of oil, and subsequently boil off this oil.\n",
        "\n",
        "Once all the oil is boiled off the materials dissolved in oil will precipitate out.\n",
        "\n",
        "\n"
      ]
    },
    {
      "cell_type": "code",
      "execution_count": null,
      "metadata": {
        "id": "sjtxd_RpXKqB"
      },
      "outputs": [],
      "source": [
        "_=env.reset()\n",
        "total_steps=0\n",
        "total_reward=0\n",
        "for x in range(4):\n",
        "    o, r, d, *_ = env.step(9)\n",
        "    total_reward += r\n",
        "    time.sleep(0.1)\n",
        "    clear_output(wait=True)\n",
        "    print(f'reward: {r}')\n",
        "    print(f'total_reward: {total_reward}')\n",
        "    rgb = env.render()\n",
        "    plt.imshow(rgb)\n",
        "    plt.axis(\"off\")\n",
        "    plt.show()"
      ]
    },
    {
      "attachments": {},
      "cell_type": "markdown",
      "metadata": {
        "id": "k_Jf96t12bbr"
      },
      "source": [
        "#### Step 1: Pour from condensation to storage vessel\n",
        "\n",
        "`Action 28\tBeaker 1: pour by volume\t([0.88888889])\t -> Beaker 2`\n",
        "\n",
        "We can then see that storage vessel is now filled with the oil poured from the condensation vessel.\n",
        "\n",
        "\n"
      ]
    },
    {
      "cell_type": "code",
      "execution_count": null,
      "metadata": {
        "id": "9GGSw04e2ulz"
      },
      "outputs": [],
      "source": [
        "o, r, d, *_ = env.step(28)\n",
        "total_reward += r\n",
        "\n",
        "print(f'reward: {r}')\n",
        "print(f'total_reward: {total_reward}')\n",
        "rgb = env.render()\n",
        "plt.imshow(rgb)\n",
        "plt.axis(\"off\")\n",
        "plt.show()"
      ]
    },
    {
      "attachments": {},
      "cell_type": "markdown",
      "metadata": {
        "id": "YkqY3-iU3Tfv"
      },
      "source": [
        "#### Step 3: Add some more temperature\n",
        "\n",
        "`Action 9 boil_vessel: heat contact ([1000. 30.]) -> Beaker 1`\n",
        "\n",
        "We can now add more temperature in order to boil off our solvent and separate from any salt (if present)"
      ]
    },
    {
      "cell_type": "code",
      "execution_count": null,
      "metadata": {
        "id": "1lE4esAu3Rxm"
      },
      "outputs": [],
      "source": [
        "for x in range(4):\n",
        "    o, r, d, *_ = env.step(9)\n",
        "    total_reward += r\n",
        "    time.sleep(0.1)\n",
        "    clear_output(wait=True)\n",
        "    print(f'reward: {r}')\n",
        "    print(f'total_reward: {total_reward}')\n",
        "    rgb = env.render()\n",
        "    plt.imshow(rgb)\n",
        "    plt.axis(\"off\")\n",
        "    plt.show()"
      ]
    },
    {
      "attachments": {},
      "cell_type": "markdown",
      "metadata": {
        "id": "Wt1HpD-G3sEv"
      },
      "source": [
        "#### Step 5: Ending the experiment\n",
        "\n",
        "`Action 30: End Experiment`"
      ]
    },
    {
      "cell_type": "code",
      "execution_count": null,
      "metadata": {
        "id": "WiahJ0j81jSu"
      },
      "outputs": [],
      "source": [
        "o, r, d, *_ = env.step(30)\n",
        "total_reward+=r\n",
        "print(total_reward)"
      ]
    },
    {
      "attachments": {},
      "cell_type": "markdown",
      "metadata": {
        "id": "SFBxWrW3zRd7"
      },
      "source": [
        "\n",
        "### End of the lesson\n",
        "\n",
        "This concludes the end of our tutorial. Hopefully you got a chance to see how the basic actions in the distillation environment works and see how you can use the agent in RL applications to maximize the distillation of a desired material."
      ]
    }
  ],
  "metadata": {
    "colab": {
      "provenance": []
    },
    "kernelspec": {
      "display_name": "ChemGym",
      "language": "python",
      "name": "python3"
    },
    "language_info": {
      "codemirror_mode": {
        "name": "ipython",
        "version": 3
      },
      "file_extension": ".py",
      "mimetype": "text/x-python",
      "name": "python",
      "nbconvert_exporter": "python",
      "pygments_lexer": "ipython3",
      "version": "3.6.13 |Anaconda, Inc.| (default, Feb 23 2021, 21:15:04) \n[GCC 7.3.0]"
    },
    "vscode": {
      "interpreter": {
        "hash": "928df2993789dc54629220469d2aa2c5bde6e75786cdddb015342ca5eb5b2bb1"
      }
    }
  },
  "nbformat": 4,
  "nbformat_minor": 0
}
