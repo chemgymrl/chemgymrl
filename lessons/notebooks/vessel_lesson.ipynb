{
  "cells": [
    {
      "cell_type": "markdown",
      "metadata": {
        "id": "hPq4mjqm_jLZ"
      },
      "source": [
        "## Vessel: Lesson\n",
        "\n",
        "Imports and visualization functions"
      ]
    },
    {
      "cell_type": "code",
      "source": [
        "!pip install \"git+https://github.com/chemgymrl/chemgymrl.git@rewrite\""
      ],
      "metadata": {
        "id": "_Ncc8vNi_l79"
      },
      "execution_count": null,
      "outputs": []
    },
    {
      "cell_type": "code",
      "execution_count": null,
      "metadata": {
        "id": "hhGM1mKO_jLa"
      },
      "outputs": [],
      "source": [
        "from IPython.display import display, HTML,clear_output\n",
        "\n",
        "from matplotlib import pyplot as plt\n",
        "import matplotlib.patches as mpatches\n",
        "import numpy as np\n",
        "from copy import deepcopy\n",
        "\n",
        "from chemistrylab.chem_algorithms import vessel,material\n",
        "\n",
        "\n",
        "def display_side_by_side(**tables):\n",
        "    \"\"\"Display tables side by side to save vertical space\n",
        "    Input:\n",
        "        tables: name , pandas.DataFrame pairs\n",
        "    \"\"\"\n",
        "    output = \"\"\n",
        "    for caption, df in tables.items():\n",
        "        caption = \" \".join(caption.split(\"_\"))\n",
        "        output += df.style.set_table_attributes(\"style='display:inline'\").set_caption(caption)._repr_html_()\n",
        "        output += \"\\xa0\\xa0\\xa0\"\n",
        "    display(HTML(output))\n",
        "    \n",
        "    \n",
        "\n",
        "def plot_layers(vessels,cmap='cubehelix'):\n",
        "    \"\"\"Function to display the layer observations\"\"\"\n",
        "    v0 = vessels[0]\n",
        "    fig,axs = plt.subplots(1,len(vessels))\n",
        "    if len(vessels) ==1:axs=[axs]\n",
        "\n",
        "    cvals = (np.array([v0.material_dict[mat]._color for mat in v0.solvents]+[0.65])+0.2)%1\n",
        "    im = axs[-1].imshow([cvals],cmap=cmap,vmin=0,vmax=1)\n",
        "    colors = [ im.cmap(im.norm(value)) for value in cvals]\n",
        "    patches = [ mpatches.Patch(color=colors[i],label= name) for i,name in enumerate(list(v0.solvents)+[\"air\"]) ] \n",
        "    plt.legend(handles=patches, bbox_to_anchor=(1.05, 1), loc=2, borderaxespad=0. )\n",
        "\n",
        "    for i,ax in enumerate(axs):\n",
        "        ax.imshow((np.stack([vessels[i]._layers]*40).T[::-1] +0.2)%1,vmin=0,vmax=1,cmap=cmap)\n",
        "        ax.set_xticks([])\n",
        "        ax.set_yticks([])\n",
        "        #ax.legend()\n",
        "        fig.tight_layout()\n",
        "    plt.show()"
      ]
    },
    {
      "cell_type": "markdown",
      "metadata": {
        "id": "oyddyV_3_jLb"
      },
      "source": [
        "\n",
        "\n",
        "### Overview:\n",
        "\n",
        "In this lesson, we will be going through a class that is vital to the operation of all of our benches, the vessel class.\n",
        "The source code for this can be found here: `chemistrylab/chem_algorithms/vessel.py`. The vessel class as it is named is\n",
        "meant to simulate the use of any given you might find in a chemistry lad, such as a beaker or an extraction vessel.\n",
        "Here we will be going through the important concepts, functions and attributes that make up the vessel class so that you\n",
        "can easily use it when designing your own reactions.\n",
        "\n",
        "If you want a more detailed look into each function of the vessel I suggest you go to our [documentation]() on the data\n",
        "structure. \n",
        "\n",
        "The Vessel class serves as any container you might find in a lab, a beaker, a dripper, etc. The vessel class simulates and allows for any action that you might want to perform within a lab, such as draining contents, storing gasses from a reaction, performing reactions, mix, pour, etc. This is performed using an event queue, which we will look at later in this lesson. First an overview of some of the important variables that make up the vessel class:\n",
        "\n",
        "Important Variables |Structure | Description\n",
        "---|---|---\n",
        "material_dict|{str(material): material, ...}|a dictionary holding all the material inside this vessel\n",
        "solvents| [str(material), ...] | A list of solute names\n",
        "solute_dict|{str(solute): array[len(solvents)] , ...}| dictionary that represents the solution\n",
        "\n",
        "\n",
        "\n",
        "## An example vessel:\n"
      ]
    },
    {
      "cell_type": "code",
      "execution_count": null,
      "metadata": {
        "id": "Cc50gX3C_jLb"
      },
      "outputs": [],
      "source": [
        "v=vessel.Vessel(\"A\")\n",
        "H2O = material.H2O(mol=1)\n",
        "Na,Cl = material.NaCl().dissolve().keys()\n",
        "Na.mol=Cl.mol=1\n",
        "C6H14 = material.C6H14(mol=1.0)\n",
        "ether=material.DiEthylEther(mol=0.5)\n",
        "dodecane = material.Dodecane(mol=2)\n",
        "\n",
        "v.material_dict={str(Na):Na,str(Cl):Cl,str(C6H14):C6H14,str(H2O):H2O,str(dodecane):dodecane}\n",
        "\n",
        "v.validate_solvents()\n",
        "v.validate_solutes()\n",
        "\n",
        "display_side_by_side(Materials = v.get_material_dataframe(), Solutes = v.get_solute_dataframe())"
      ]
    },
    {
      "cell_type": "markdown",
      "metadata": {
        "id": "IjlfIEqs_jLc"
      },
      "source": [
        "To briefly describe above, the material_dict describes the materials contained within a vessel and the quantity of that material. The material dict is a dictionary of (material.name, material instance) pairs. As for the solute dict, it represents how much each solute is dissolved in each solvent. Above we can see that each solute is dissolved in 50% water and 50% oil.\n",
        "\n",
        "\n",
        "Next we will look at some of the important functions that we will need to use with the vessel class:\n",
        "\n",
        "Important functions | Description\n",
        "---|---\n",
        "push_event_to_queue()|used to pass event into the vessel\n",
        "validate_solvents()| Call when manually updating the material dict in order to update the solvent list\n",
        "validate_solutes()| Call when manually updating the material dict in order to update the solute_dict\n",
        "\n",
        "From the list above, the most important function is push_event_to_que(). The rest of the functions are generally handeled in the backend.\n",
        "\n",
        "#### Event Functions\n",
        "Function Name|Description\n",
        "---|---\n",
        "'pour by volume'|Pour from self vessel to target vessel by certain volume\n",
        "'pour by percent'| Pour a fraction of all contents in one vessel into another\n",
        "'drain by pixel|Drain from self vessel to target vessel by certain pixel\n",
        "'mix'| Shake the vessel or let it settle\n",
        "'update_layer'|Update self vessel's layer representation\n",
        "'change heat'| Add or remove heat from the vessel,\n",
        "'heat contact'| Connect the vessel to a reservoir for heat transfer,\n"
      ]
    },
    {
      "cell_type": "code",
      "execution_count": null,
      "metadata": {
        "id": "4JsWa2mU_jLc"
      },
      "outputs": [],
      "source": [
        "v2,v3 = deepcopy(v),deepcopy(v)\n",
        "v.push_event_to_queue([vessel.Event('mix',[-1],None)],0)\n",
        "v2.push_event_to_queue([vessel.Event('mix',[0.02],None)])\n",
        "v3.push_event_to_queue([vessel.Event('mix',[0.5],None)])\n",
        "\n",
        "\n",
        "plot_layers([v,v2,v3])\n",
        "\n",
        "display_side_by_side(\n",
        "    Mixed            = v.get_solute_dataframe(), \n",
        "    Partially_settled= v2.get_solute_dataframe(), \n",
        "    Fully_Settled    = v3.get_solute_dataframe())"
      ]
    },
    {
      "cell_type": "markdown",
      "metadata": {
        "id": "EMRcdGpZ_jLc"
      },
      "source": [
        "To visualize what we are doing above, we have several graphs:\n",
        "\n",
        "Here we have a graph of the seperation between the oil and the water when we initially add them to our vessel\n",
        "\n",
        "![added oil and water](https://github.com/chemgymrl/chemgymrl/blob/rewrite/docs/tutorial_figures/vessel/vessel_1.png?raw=1)\n",
        "\n",
        "Here we have the solution after we drain some of it (notice that the top of the vessel is now air):\n",
        "\n",
        "![drained oil and water](https://github.com/chemgymrl/chemgymrl/blob/rewrite/docs/tutorial_figures/vessel/vessel_2.png?raw=1)\n",
        "#### The Workflow\n",
        "  \n",
        "  1. Agent choose action from the action space of an environment.\n",
        "  2. The environment does the calculation and update and generate events.\n",
        "  3. At the end of each action, if the action affect a vessel, use push_event_to_queue() to push the event into the vessel, if no event generated, call the function with events=None.\n",
        "  4. With push_event_to_queue() called, events are pushed into the vessel.\n",
        "  5. _update_materials is automatically called and perform events in the events_queue.\n",
        "  6. Each event has a corresponding event function, it first update properties of the vessel, then loop over the materials inside the vessel by calling the corresponding event functions of each material.\n",
        "  7. The materials' event function will return feedback by calling the push_event_to_queue(), which contains feedback and unfinished event \n",
        "  8. The returned feedback is added to the _feedback_queue\n",
        "  9. The the _merge_event_queue() is called on _feedback_queue, which merge the events in the feedback_queue to generate a merged_queue and add default event into it, then empty the _feedback_queue\n",
        "  10. Then the merged_queue will be executed and new feedback are collected and added to _feedback_queue, which will be executed with the next action. \n",
        "\n"
      ]
    }
  ],
  "metadata": {
    "kernelspec": {
      "display_name": "Python 3 (ipykernel)",
      "language": "python",
      "name": "python3"
    },
    "language_info": {
      "codemirror_mode": {
        "name": "ipython",
        "version": 3
      },
      "file_extension": ".py",
      "mimetype": "text/x-python",
      "name": "python",
      "nbconvert_exporter": "python",
      "pygments_lexer": "ipython3",
      "version": "3.10.0"
    },
    "vscode": {
      "interpreter": {
        "hash": "928df2993789dc54629220469d2aa2c5bde6e75786cdddb015342ca5eb5b2bb1"
      }
    },
    "colab": {
      "provenance": []
    }
  },
  "nbformat": 4,
  "nbformat_minor": 0
}