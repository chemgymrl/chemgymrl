{
 "cells": [
  {
   "cell_type": "markdown",
   "metadata": {},
   "source": [
    "## Vessel: Lesson\n",
    "\n",
    "### Overview:\n",
    "\n",
    "In this lesson, we will be going through a class that is vital to the operation of all of our benches, the vessel class.\n",
    "The source code for this can be found here: `chemistrylab/chem_algorithms/vessel.py`. The vessel class as it is named is\n",
    "meant to simulate the use of any given you might find in a chemistry lad, such as a beaker or an extraction vessel.\n",
    "Here we will be going through the important concepts, functions and attributes that make up the vessel class so that you\n",
    "can easily use it when designing your own reactions.\n",
    "\n",
    "If you want a more detailed look into each function of the vessel I suggest you go to our [documentation]() on the data\n",
    "structure. \n",
    "\n",
    "The Vessel class serves as any container you might find in a lab, a beaker, a dripper, etc. The vessel class simulates and allows for any action that you might want to perform within a lab, such as draining contents, storing gasses from a reaction, performing reactions, mix, pour, etc. This is performed using an event que, which we will look at later in this lesson. First an overview of some of the important variables that make up the vessel class:\n",
    "\n",
    "Important Variables |Structure | Description\n",
    "---|---|---\n",
    "_material_dict|{'material.name': [material(), amount], ...}|a dictionary holding all the material inside this vessel\n",
    "_solute_dict|{'solute.name': {solvent.name: amount, ...}, ...}|dictionary that represents the solution\n",
    "_event_dict|{'function name': function}|a dictionary holds the event functions of a vessel\n",
    "_event_queue|[['event', parameters], ['event', parameters] ... ]|a queue of events to be performed by vessel\n",
    "_feedback_queue|[['event', parameters], ['event', parameters] ... ]|a queue holding collected feedback from materials and unfinished events\n",
    "\n",
    "\n",
    "#### An example of _material_dict and _solute_dict\n",
    "(vessel with Na and Cl dissolved in H2O and C6H14)"
   ]
  },
  {
   "cell_type": "code",
   "execution_count": 2,
   "metadata": {},
   "outputs": [],
   "source": [
    "import sys\n",
    "sys.path.append('../')\n",
    "sys.path.append('../chemistrylab/reactions')\n",
    "import gym\n",
    "import chemistrylab\n",
    "import numpy as np\n",
    "from gym import envs\n",
    "from chemistrylab.chem_algorithms import material, vessel\n",
    "H2O = material.H2O()\n",
    "C6H14 = material.C6H14()\n",
    "Na = material.Na()\n",
    "Cl = material.Cl()\n",
    "\n",
    "Na.set_charge(1.0)\n",
    "Na.set_solute_flag(True)\n",
    "Cl.set_charge(-1.0)\n",
    "Cl.set_solute_flag(True)\n",
    "\n",
    "material_dict = {'H2O': [H2O, 100, 'mol'], 'C6H14': [C6H14, 100], 'Na': [Na, 1.0], 'Cl': [Cl, 1.0]}\n",
    "solute_dict = {'Na': {'H2O': 0.5, 'C6H14': 0.5}, 'Cl': {'H2O': 0.5, 'C6H14': 0.5}}"
   ]
  },
  {
   "cell_type": "markdown",
   "metadata": {},
   "source": [
    "To briefly describe above, the material_dict describes the materials contained within a vessel and the quantity of that material. The material dict is a dictionary with the key as the name of the material and whose item is a list consisting of the material class, the quantity of the material and optionally a unit, if a unit is not provided we assume the use of moles. As for the solute dict, the solute dict represents how much of the material is dissolved in each material. So the solute dict is first indexed by the solute, which contains another dictionary of its solvents, then when we index the solvent we get what percentage of the solution is dissolved in each material. Above we can see that sodium and chlorine are both dissolved in 50% water and 50% oil.\n",
    "\n",
    "\n",
    "Next we will look at some of the important functions that we will need to use with the vessel class:\n",
    "\n",
    "Important functions | Description\n",
    "---|---\n",
    "push_event_to_queue()|used to pass event into the vessel\n",
    "_update_materials()|automatically called by push_event_to_queue(), execute events in _event_queue and _feedback_queue\n",
    "_merge_event_queue()|merge the feedback_queue passed in, and all the default events (switches) are appended to _feedback_queue by this function\n",
    "\n",
    "\n",
    "From the list above, the most important function is push_event_to_que(). The rest of the functions are handeled in the backend by the events que. As stated before, the vessel class works off of an event que where we push a set of events to the event que and the event que then performs those events to the vessel, along with a specified dt parameter to specify how much time to wait after performing the events. Below we have a list of the current event functions that can be performed by the vessel and below that we have a demonstration of how to push events to the vessel.\n",
    "\n",
    "\n",
    "#### Event Functions\n",
    "Function Name|Description\n",
    "---|---\n",
    "'pour by volume'|Pour from self vessel to target vessel by certain volume\n",
    "'drain by pixel|Drain from self vessel to target vessel by certain pixel\n",
    "'fully mix'|Shake self vessel to fully mix\n",
    "'update material dict'|Use input to update self vessel's material_dict\n",
    "'update solute dict'|Use input to update self vessel's solute_dict\n",
    "'mix'|Shake vessel of let vessel settle\n",
    "'update_layer'|Update self vessel's layer representation\n",
    "\n"
   ]
  },
  {
   "cell_type": "code",
   "execution_count": 4,
   "metadata": {},
   "outputs": [],
   "source": [
    "vessel_1 = vessel.Vessel(label='vessel_1')\n",
    "vessel_2 = vessel.Vessel(label='vessel_2')\n",
    "\n",
    "event_1 = ['update material dict', material_dict]\n",
    "event_2 = ['update solute dict', solute_dict]\n",
    "event_3 = ['drain by pixel', vessel_2, 100]\n",
    "event_4 = ['fully mix']\n",
    "\n",
    "# Here we are adding the materials and solutions specified above into our first vessel, and then we pour 100ml\n",
    "# of this solution from vessel 1 into vessel 2\n",
    "vessel_1.push_event_to_queue(events=None, feedback=[event_1, event_2, event_3], dt=1)"
   ]
  },
  {
   "cell_type": "markdown",
   "metadata": {},
   "source": [
    "To visualize what we are doing above, we have several graphs:\n",
    "\n",
    "Here we have a graph of the seperation between the oil and the water when we initially add them to our vessel\n",
    "\n",
    "![added oil and water](../sample_figures/tutorial/vessel_1.png)\n",
    "\n",
    "Here we have the solution after we drain some of it (notice that the top of the vessel is now air):\n",
    "\n",
    "![drained oil and water](../sample_figures/tutorial/vessel_2.png)\n",
    "#### The Workflow\n",
    "  \n",
    "  1. Agent choose action from the action space of an environment.\n",
    "  2. The environment does the calculation and update and generate events.\n",
    "  3. At the end of each action, if the action affect a vessel, use push_event_to_queue() to push the event into the vessel, if no event generated, call the function with events=None.\n",
    "  4. With push_event_to_queue() called, events are pushed into the vessel.\n",
    "  5. _update_materials is automatically called and perform events in the events_queue.\n",
    "  6. Each event has a corresponding event function, it first update properties of the vessel, then loop over the materials inside the vessel by calling the corresponding event functions of each material.\n",
    "  7. The materials' event function will return feedback by calling the push_event_to_queue(), which contains feedback and unfinished event \n",
    "  8. The returned feedback is added to the _feedback_queue\n",
    "  9. The the _merge_event_queue() is called on _feedback_queue, which merge the events in the feedback_queue to generate a merged_queue and add default event into it, then empty the _feedback_queue\n",
    "  10. Then the merged_queue will be executed and new feedback are collected and added to _feedback_queue, which will be executed with the next action. \n",
    "\n"
   ]
  },
  {
   "cell_type": "code",
   "execution_count": null,
   "metadata": {},
   "outputs": [],
   "source": []
  }
 ],
 "metadata": {
  "kernelspec": {
   "display_name": "Python 3",
   "language": "python",
   "name": "python3"
  },
  "language_info": {
   "codemirror_mode": {
    "name": "ipython",
    "version": 3
   },
   "file_extension": ".py",
   "mimetype": "text/x-python",
   "name": "python",
   "nbconvert_exporter": "python",
   "pygments_lexer": "ipython3",
   "version": "3.8.5"
  }
 },
 "nbformat": 4,
 "nbformat_minor": 4
}