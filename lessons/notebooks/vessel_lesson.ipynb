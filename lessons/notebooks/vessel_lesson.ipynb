{
  "cells": [
    {
      "attachments": {},
      "cell_type": "markdown",
      "metadata": {
        "id": "hPq4mjqm_jLZ"
      },
      "source": [
        "## Vessel: Lesson\n",
        "\n",
        "Imports and visualization functions"
      ]
    },
    {
      "cell_type": "code",
      "execution_count": null,
      "metadata": {
        "id": "_Ncc8vNi_l79"
      },
      "outputs": [],
      "source": [
        "!pip install \"git+https://github.com/chemgymrl/chemgymrl.git@main\""
      ]
    },
    {
      "cell_type": "code",
      "execution_count": null,
      "metadata": {
        "id": "hhGM1mKO_jLa"
      },
      "outputs": [],
      "source": [
        "from chemistrylab import vessel,material\n",
        "from chemistrylab.util import Visualization\n",
        "from IPython.display import display,clear_output,HTML\n",
        "from copy import deepcopy\n",
        "Visualization.use_mpl_dark(size=1)\n",
        "\n",
        "\n",
        "def display_side_by_side(**tables):\n",
        "    \"\"\"Display tables side by side to save vertical space\n",
        "    Input:\n",
        "        tables: name , pandas.DataFrame pairs\n",
        "    \"\"\"\n",
        "    output = \"\"\n",
        "    for caption, df in tables.items():\n",
        "        caption = \" \".join(caption.split(\"_\"))\n",
        "        output += df.style.set_table_attributes(\"style='display:inline'\").set_caption(caption)._repr_html_()\n",
        "        output += \"\\xa0\\xa0\\xa0\"\n",
        "    display(HTML(output))\n",
        "    \n",
        "    "
      ]
    },
    {
      "attachments": {},
      "cell_type": "markdown",
      "metadata": {
        "id": "oyddyV_3_jLb"
      },
      "source": [
        "\n",
        "\n",
        "### Overview:\n",
        "\n",
        "In this lesson, we will be going through a class that is vital to the operation of all of our benches, the vessel class.\n",
        "The source code for this can be found here: `chemistrylab/chem_algorithms/vessel.py`. The vessel class as it is named is\n",
        "meant to simulate the use of any given you might find in a chemistry lad, such as a beaker or an extraction vessel.\n",
        "Here we will be going through the important concepts, functions and attributes that make up the vessel class so that you\n",
        "can easily use it when designing your own reactions.\n",
        "\n",
        "If you want a more detailed look into each function of the vessel I suggest you go to our [documentation]() on the data\n",
        "structure. \n",
        "\n",
        "The Vessel class serves as any container you might find in a lab, a beaker, a dripper, etc. The vessel class simulates and allows for any action that you might want to perform within a lab, such as draining contents, storing gasses from a reaction, performing reactions, mix, pour, etc. This is performed using an event queue, which we will look at later in this lesson. First an overview of some of the important variables that make up the vessel class:\n",
        "\n",
        "Important Variables |Structure | Description\n",
        "---|---|---\n",
        "material_dict|{str(material): material, ...}|a dictionary holding all the material inside this vessel\n",
        "solvents| [str(material), ...] | A list of solute names\n",
        "solute_dict|{str(solute): array[len(solvents)] , ...}| dictionary that represents the solution\n",
        "\n",
        "\n",
        "\n",
        "## An example vessel:\n"
      ]
    },
    {
      "cell_type": "code",
      "execution_count": null,
      "metadata": {
        "id": "Cc50gX3C_jLb"
      },
      "outputs": [],
      "source": [
        "v=vessel.Vessel(\"A\")\n",
        "H2O = material.H2O(mol=1)\n",
        "Na,Cl = material.NaCl().dissolve().keys()\n",
        "Na.mol=Cl.mol=1\n",
        "C6H14 = material.C6H14(mol=1.0)\n",
        "ether=material.DiEthylEther(mol=0.5)\n",
        "dodecane = material.Dodecane(mol=2)\n",
        "\n",
        "v.material_dict={str(Na):Na,str(Cl):Cl,str(C6H14):C6H14,str(H2O):H2O,str(dodecane):dodecane}\n",
        "\n",
        "v.validate_solvents()\n",
        "v.validate_solutes()\n",
        "\n",
        "display_side_by_side(Materials = v.get_material_dataframe(), Solutes = v.get_solute_dataframe())"
      ]
    },
    {
      "attachments": {},
      "cell_type": "markdown",
      "metadata": {
        "id": "IjlfIEqs_jLc"
      },
      "source": [
        "To briefly describe above, the material_dict describes the materials contained within a vessel and the quantity of that material. The material dict is a dictionary of (material.name, material instance) pairs. As for the solute dict, it represents how much each solute is dissolved in each solvent. Above we can see that each solute is dissolved in 50% water and 50% oil.\n",
        "\n",
        "\n",
        "Next we will look at some of the important functions that we will need to use with the vessel class:\n",
        "\n",
        "Important functions | Description\n",
        "---|---\n",
        "push_event_to_queue()|used to pass event into the vessel\n",
        "validate_solvents()| Call when manually updating the material dict in order to update the solvent list\n",
        "validate_solutes()| Call when manually updating the material dict in order to update the solute_dict\n",
        "\n",
        "From the list above, the most important function is push_event_to_queue(). The rest of the functions are generally handeled in the backend.\n",
        "\n",
        "#### Event Functions\n",
        "Function Name|Description\n",
        "---|---\n",
        "'pour by volume'|Pour from self vessel to target vessel by certain volume\n",
        "'pour by percent'| Pour a fraction of all contents in one vessel into another\n",
        "'drain by pixel|Drain from self vessel to target vessel by certain pixel\n",
        "'mix'| Shake the vessel or let it settle\n",
        "'update_layer'|Update self vessel's layer representation\n",
        "'change heat'| Add or remove heat from the vessel,\n",
        "'heat contact'| Connect the vessel to a reservoir for heat transfer,\n"
      ]
    },
    {
      "cell_type": "code",
      "execution_count": null,
      "metadata": {
        "id": "4JsWa2mU_jLc"
      },
      "outputs": [],
      "source": [
        "v2,v3 = deepcopy(v),deepcopy(v)\n",
        "v.label,v2.label,v3.label = \"Fully Mixed\",\"Partially Mixed\", \"Settled\"\n",
        "v.push_event_to_queue([vessel.Event('mix',[-1],None)],0)\n",
        "v2.push_event_to_queue([vessel.Event('mix',[0.02],None)])\n",
        "v3.push_event_to_queue([vessel.Event('mix',[0.5],None)])\n",
        "\n",
        "\n",
        "Visualization.matplotVisualizer.display_vessels([v,v2,v3],[\"layers\"])\n",
        "\n",
        "display_side_by_side(\n",
        "    Mixed            = v.get_solute_dataframe(), \n",
        "    Partially_settled= v2.get_solute_dataframe(), \n",
        "    Fully_Settled    = v3.get_solute_dataframe())"
      ]
    },
    {
      "attachments": {},
      "cell_type": "markdown",
      "metadata": {
        "id": "W0aDONdLBMDG"
      },
      "source": [
        "# Customizing the event queue\n",
        "\n",
        "You can add custom events to the Vessel class by registering them with `Vessel.register(f: Callable, f_id: str)`. Functions must be of the following form:\n",
        "```python\n",
        "f(vessel: Vessel, dt: float, other_vessel: Optional[Vessel], *args)\n",
        "```\n",
        "This will correspond to an Event of the form\n",
        "```python\n",
        "Event(f_id, args, other_vessel)\n",
        "```\n",
        "\n",
        "Below is an example of how to register a custom function:"
      ]
    },
    {
      "cell_type": "code",
      "execution_count": null,
      "metadata": {
        "id": "7RPB7YS8CJS_"
      },
      "outputs": [],
      "source": [
        "from chemistrylab.vessel import Vessel,Event\n",
        "from chemistrylab.material import Material,H2O\n",
        "from typing import NamedTuple, Tuple, Callable, Optional\n",
        "\n",
        "def add_material(vessel: Vessel, dt: float, other_vessel: Optional[Vessel], material: Material):\n",
        "    \"\"\"\n",
        "    Custom method to add a material to the vessel's material dict\n",
        "    \n",
        "    Args:\n",
        "    - vessel (Vessel): The vessel you want to put the material in\n",
        "    - dt (unused): How much time has passed\n",
        "    - other_vessel (unused): A second affected vessel\n",
        "    - material (Material): The material to add\n",
        "    \n",
        "    \"\"\"\n",
        "    assert other_vessel is None\n",
        "    key = str(material)\n",
        "    materials=vessel.material_dict\n",
        "    if key in materials:\n",
        "        materials[key].mol+=material.mol\n",
        "    else:\n",
        "        # Create a new material with the same class and number of mols\n",
        "        materials[key] = material.ration(1)\n",
        "\n",
        "    # Rebuild the vessel's solute dict if new solvents have been added\n",
        "    vessel.validate_solvents()\n",
        "    vessel.validate_solutes()\n",
        "    return vessel.handle_overflow()\n",
        "\n",
        "Vessel.register(add_material,\"add material\")\n",
        "\n",
        "\n",
        "v = Vessel(\"Test Vessel\")\n",
        "event = Event(\"add material\",(H2O(mol=1),),None)\n",
        "v.push_event_to_queue([event])\n",
        "\n",
        "display(v.get_material_dataframe())"
      ]
    },
    {
      "attachments": {},
      "cell_type": "markdown",
      "metadata": {
        "id": "EMRcdGpZ_jLc"
      },
      "source": [
        "Above, we have a graph of the seperation between the oil and the water when we initially add them to our vessel\n",
        "\n",
        "\n",
        "\n",
        "#### The Workflow\n",
        "  \n",
        "  1. Agent choose action from the action space of an environment.\n",
        "  2. The environment does the calculation and update and generate events.\n",
        "  3. At the end of each action, if the action affect a vessel, use push_event_to_queue() to push the event into the vessel, if no event generated, call the function with events=None.\n",
        "  4. With push_event_to_queue() called, events are pushed into the vessel.\n",
        "  5. _update_materials is automatically called and perform events in the events_queue.\n",
        "  6. Each event has a corresponding event function, it first update properties of the vessel, then loop over the materials inside the vessel by calling the corresponding event functions of each material.\n",
        "  7. The materials' event function will return feedback by calling the push_event_to_queue(), which contains feedback and unfinished event \n",
        "  8. The returned feedback is added to the _feedback_queue\n",
        "  9. The the _merge_event_queue() is called on _feedback_queue, which merge the events in the feedback_queue to generate a merged_queue and add default event into it, then empty the _feedback_queue\n",
        "  10. Then the merged_queue will be executed and new feedback are collected and added to _feedback_queue, which will be executed with the next action. \n",
        "\n"
      ]
    },
    {
      "cell_type": "code",
      "execution_count": null,
      "metadata": {
        "id": "Mn6RATC3O6PL"
      },
      "outputs": [],
      "source": []
    }
  ],
  "metadata": {
    "colab": {
      "provenance": []
    },
    "kernelspec": {
      "display_name": "Python 3 (ipykernel)",
      "language": "python",
      "name": "python3"
    },
    "language_info": {
      "codemirror_mode": {
        "name": "ipython",
        "version": 3
      },
      "file_extension": ".py",
      "mimetype": "text/x-python",
      "name": "python",
      "nbconvert_exporter": "python",
      "pygments_lexer": "ipython3",
      "version": "3.10.0"
    },
    "vscode": {
      "interpreter": {
        "hash": "928df2993789dc54629220469d2aa2c5bde6e75786cdddb015342ca5eb5b2bb1"
      }
    }
  },
  "nbformat": 4,
  "nbformat_minor": 0
}
