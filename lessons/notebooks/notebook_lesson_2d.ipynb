{
 "cells": [
  {
   "cell_type": "markdown",
   "metadata": {},
   "source": [
    "# Distillation Bench: Lesson 2\n",
    "\n",
    "### Getting a High Reward in the Distillation Bench\n",
    "\n",
    "In this tutorial we will talk about getting a high reward in the distillation bench. An in depth explanation of the distillation process is explained in [Distillation Bench: Lesson 1](https://chemgymrl.readthedocs.io/en/latest/lesson_1_distillation/).\n",
    "\n",
    "Essentially what we're trying to do is isolate our targeted material into the condensation vessel. We want to get a pure and high molar amount of it in this vessel.\n",
    "\n",
    "In this tutorial we will be trying to get a high reward by targeting our desired material **dodecane**. We will heat up the boiling vessel to a temperature right before dodecane's boiling point (489.5 Kelvin) which will allow us to boil off every other material in the boiling vessel into beaker 1.\n",
    "\n",
    "![boil vessel](tutorial_figures/distillation-lesson-2/boiling_vessel_2.png)\n",
    "\n",
    "<a style=\"font-size: 10px\">(source: http://clipart-library.com/clipart/chemistry-gases-cliparts_12.htm)</a>\n",
    "\n",
    "Then we will dump all the contents currently in beaker 1, which are not dodecane into beaker 2. Finally we will heat up boiling vessel even more to exceed dodecane's boiling temperature thus boiling it into beaker 1. This will allow us to have a beaker that is mostly dodecane thus getting us a high reward.\n",
    "\n",
    "Before we start the tutorial please go into the distillation_bench folder and check the `distillation_bench_v1.py` file. You'll notice that there is the class:\n",
    "\n",
    "![dq value](tutorial_figures/distillation-lesson-1/dQ_value.png)\n",
    "\n",
    "Please make sure that the following dQ is equal to 1000 before following this tutorial, as the actions contained here only works with dQ as 1000. \n",
    "\n",
    "dQ essentially measures how much the multiplier affects the temperatue change. If we make this number too high, we will have a hard time getting the precise temperature changes we want, like getting a temperature below the boiling point of dodecane.\n",
    "\n",
    "We will follow the required set-up with importing modules, loading and initializing environments that we've done in all previous tutorials."
   ]
  },
  {
   "cell_type": "code",
   "execution_count": null,
   "metadata": {},
   "outputs": [],
   "source": [
    "# import all the required external modules\n",
    "import gym\n",
    "import numpy as np\n",
    "import os\n",
    "import pickle\n",
    "import sys\n",
    "from time import sleep\n",
    "from gym import envs\n",
    "import matplotlib.pyplot as plt\n",
    "import pandas as pd\n",
    "%matplotlib inline\n",
    "\n",
    "# ensure all necessary modules can be found\n",
    "sys.path.append(\"../\") # to access chemistrylab\n",
    "sys.path.append(\"../chemistrylab/reactions\") # to access all reactions"
   ]
  },
  {
   "cell_type": "code",
   "execution_count": null,
   "metadata": {},
   "outputs": [],
   "source": [
    "# import all local modules\n",
    "import chemistrylab"
   ]
  },
  {
   "cell_type": "code",
   "execution_count": null,
   "metadata": {},
   "outputs": [],
   "source": [
    "# show all environments for distillation bench\n",
    "all_envs = envs.registry.all()\n",
    "env_ids = [env_spec.id for env_spec in all_envs if 'Distillation' in env_spec.id]\n",
    "print(env_ids)"
   ]
  },
  {
   "cell_type": "code",
   "execution_count": null,
   "metadata": {},
   "outputs": [],
   "source": [
    "# allows user to pick which environment they want to use\n",
    "# initializes environment\n",
    "select_env = int(input(f\"Enter a number to choose which environment you want to run (0 - {len(env_ids) - 1}): \\n\"))\n",
    "env = gym.make(env_ids[select_env])\n",
    "render_mode = \"human\""
   ]
  },
  {
   "cell_type": "code",
   "execution_count": null,
   "metadata": {},
   "outputs": [],
   "source": [
    "done = False\n",
    "__ = env.reset()\n",
    "print('\\n')"
   ]
  },
  {
   "cell_type": "code",
   "execution_count": null,
   "metadata": {},
   "outputs": [],
   "source": [
    "action_set = ['Add/Remove Heat', 'Pour BV into B1', 'Pour B1 into B2', 'Pour B1 into BV', 'Pour B2 into BV', 'Done']\n",
    "assert env.action_space.shape[0] == 2\n",
    "print(env.action_space)\n",
    "\n",
    "total_steps=0\n",
    "total_reward=0"
   ]
  },
  {
   "cell_type": "markdown",
   "metadata": {},
   "source": [
    "### Explained Process\n",
    "\n",
    "Below is the loop of actions we will take in order to get the high reward. \n",
    "\n",
    "- The first 3 actions will simply heat our boiling vessel to 481.1 K, the closest temperature we can get to 489.5 K. \n",
    "- Then we will dump all the boiled off material from beaker 1 into beaker 2\n",
    "- Next we will raise the boiling vessel's temperature to 663.7 K which will allow us to boil off all the dodecane from the boiling vessel into beaker 1.\n",
    "- Next we end the experiment as we have our desired end result: a concentrated amount of our targeted material, dodecane, in one beaker.\n",
    "\n",
    "Thus we end up with a reward of 0.97."
   ]
  },
  {
   "cell_type": "code",
   "execution_count": null,
   "metadata": {},
   "outputs": [],
   "source": [
    "while not done:\n",
    "\n",
    "    action = np.zeros(env.action_space.shape[0])\n",
    "\n",
    "    if total_steps == 0:\n",
    "        action = np.array([0,500])\n",
    "    elif total_steps == 1:\n",
    "        action = np.array([0,450])\n",
    "    elif total_steps == 2:\n",
    "        action = np.array([2,10])\n",
    "    elif total_steps == 3:\n",
    "        action = np.array([0,75])\n",
    "    elif total_steps == 4:\n",
    "        action = np.array([3,0])\n",
    "\n",
    "    # perform the action and update the reward\n",
    "    state, reward, done, __ = env.step(action)\n",
    "    print('-----------------------------------------')\n",
    "    print('total_steps: ', total_steps)\n",
    "    print('reward: %.2f ' % reward)\n",
    "    total_reward += reward\n",
    "    print('total reward: %.2f ' % total_reward)\n",
    "    print('Temperature of boiling vessel: %.1f ' % env.boil_vessel.temperature, ' K \\n')\n",
    "    # print(state)\n",
    "\n",
    "\n",
    "    # render the plot\n",
    "    env.render(mode=render_mode)\n",
    "    # sleep(1)\n",
    "\n",
    "    #increment one step\n",
    "    total_steps += 1"
   ]
  },
  {
   "attachments": {},
   "cell_type": "markdown",
   "metadata": {},
   "source": [
    "\n",
    "This will result in the following graph:\n",
    "\n",
    "![isolated dodecane](tutorial_figures/distillation-lesson-2/isolated_dodecane.png)\n",
    "\n",
    "As you can see the condensation vessel is mostly filled with dodecane which results in a successful distillation process. We are then given the reward of 0.97.\n",
    "\n",
    "![high reward](tutorial_figures/distillation-lesson-2/high_reward.png)\n",
    "\n",
    "We can also see how reward changes over time.\n",
    "\n",
    "![reward over time](tutorial_figures/distillation-lesson-2/reward_over_time.png.png)"
   ]
  }
 ],
 "metadata": {
  "kernelspec": {
   "display_name": "Python 3",
   "language": "python",
   "name": "python3"
  },
  "language_info": {
   "codemirror_mode": {
    "name": "ipython",
    "version": 3
   },
   "file_extension": ".py",
   "mimetype": "text/x-python",
   "name": "python",
   "nbconvert_exporter": "python",
   "pygments_lexer": "ipython3",
   "version": "3.7.3"
  }
 },
 "nbformat": 4,
 "nbformat_minor": 2
}