{
 "cells": [
  {
   "cell_type": "markdown",
   "metadata": {},
   "source": [
    "# Distillation Bench: Lesson 3\n",
    "\n",
    "### Getting a High Reward in the Distillation Bench\n",
    "\n",
    "In this tutorial we will finally talk about getting a high reward in the distillation bench. Now an in depth explanation of the distillation process is explained in [Distillation Bench: Lesson 1](https://chemgymrl.com/ChemGymRL/lesson_1_distillation/).\n",
    "\n",
    "Essentially what we're trying to do is isolate our targeted material into the condensation vessel (beaker 1). We want to get a pure and high molar amount of it in this vessel.\n",
    "\n",
    "In this tutorial we will be trying to get a high reward by targeting our desired material *dodecane*. We will heat up the boiling vessel to a temperature right before dodecane's boiling point (489.5 Kelvin) which will allow us to boil off every other material in the boiling vessel into beaker 1. \n",
    "\n",
    "![boiling](../tutorial_figures/lesson_3d_image0.PNG)\n",
    "\n",
    "Then we will dump all the contents currently in beaker 1, which is not dodecane into beaker 2. Finally we will heat up boiling vessel even more to exceed dodecane's boiling temperature thus boiling it into beaker 1. This will allow us to have a beaker that is mostly dodecane thus getting us a high reward.\n",
    "\n",
    "Before we start the tutorial please go into the distillation_bench folder and check the `distillation_bench_v1.py` file. You'll notice that there is the class:\n",
    "\n",
    "```python\n",
    "class Distillation_v1(DistillationBenchEnv):\n",
    "    '''\n",
    "    Class to define an environment to perform a distillation experiment\n",
    "    on an inputted vessel and obtain a pure form of a targetted material.\n",
    "    '''\n",
    "\n",
    "    def __init__(self):\n",
    "        super(Distillation_v1, self).__init__(\n",
    "            boil_vessel=get_vessel(\n",
    "                vessel_path=os.path.join(os.getcwd(), \"test_extract_vessel.pickle\"),\n",
    "                in_vessel=None\n",
    "            ),\n",
    "            target_material=\"dodecane\",\n",
    "            dQ=5000.0,\n",
    "            out_vessel_path=os.getcwd()\n",
    "        )\n",
    "```\n",
    "\n",
    "Please make sure that the following dQ is equal to 5000 before following this tutorial, as the actions contained here only works with dQ as 5000. \n",
    "\n",
    "dQ essentially measures how much the multiplier affects the temperatue change. If we make this number too high, we will have a hard time getting the precise temperature changes we want, like getting a temperature below the boiling point of dodecane.\n",
    "\n",
    "We will follow the required set-up with importing modules, loading and initializing environments that we've done in all previous tutorials."
   ]
  },
  {
   "cell_type": "code",
   "execution_count": 1,
   "metadata": {},
   "outputs": [],
   "source": [
    "# import all the required external modules\n",
    "import gym\n",
    "import numpy as np\n",
    "import os\n",
    "import pickle\n",
    "import sys\n",
    "from time import sleep\n",
    "from gym import envs\n",
    "import matplotlib.pyplot as plt\n",
    "import pandas as pd\n",
    "%matplotlib inline\n",
    "\n",
    "# ensure all necessary modules can be found\n",
    "sys.path.append(\"../\") # to access chemistrylab\n",
    "sys.path.append(\"../chemistrylab/reactions\") # to access all reactions"
   ]
  },
  {
   "cell_type": "code",
   "execution_count": 2,
   "metadata": {},
   "outputs": [],
   "source": [
    "# import all local modules\n",
    "import chemistrylab"
   ]
  },
  {
   "cell_type": "code",
   "execution_count": 3,
   "metadata": {},
   "outputs": [
    {
     "name": "stdout",
     "output_type": "stream",
     "text": [
      "['Distillation-v0']\n"
     ]
    }
   ],
   "source": [
    "# show all environments for distillation bench\n",
    "all_envs = envs.registry.all()\n",
    "env_ids = [env_spec.id for env_spec in all_envs if 'Distillation' in env_spec.id]\n",
    "print(env_ids)"
   ]
  },
  {
   "cell_type": "code",
   "execution_count": 4,
   "metadata": {},
   "outputs": [
    {
     "name": "stdout",
     "output_type": "stream",
     "text": [
      "Enter a number to choose which environment you want to run (0 - 0): \n",
      "0\n"
     ]
    }
   ],
   "source": [
    "# allows user to pick which environment they want to use\n",
    "# initializes environment\n",
    "select_env = int(input(f\"Enter a number to choose which environment you want to run (0 - {len(env_ids) - 1}): \\n\"))\n",
    "env = gym.make(env_ids[select_env])\n",
    "render_mode = \"human\""
   ]
  },
  {
   "cell_type": "code",
   "execution_count": 5,
   "metadata": {},
   "outputs": [
    {
     "name": "stdout",
     "output_type": "stream",
     "text": [
      "\n",
      "\n"
     ]
    }
   ],
   "source": [
    "done = False\n",
    "__ = env.reset()\n",
    "print('\\n')"
   ]
  },
  {
   "cell_type": "code",
   "execution_count": 6,
   "metadata": {},
   "outputs": [
    {
     "name": "stdout",
     "output_type": "stream",
     "text": [
      "MultiDiscrete([ 6 10])\n"
     ]
    }
   ],
   "source": [
    "action_set = ['Add/Remove Heat', 'Pour BV into B1', 'Pour B1 into B2', 'Pour B1 into BV', 'Pour B2 into BV', 'Done']\n",
    "assert env.action_space.shape[0] == 2\n",
    "print(env.action_space)\n",
    "\n",
    "total_steps=0\n",
    "total_reward=0"
   ]
  },
  {
   "cell_type": "markdown",
   "metadata": {},
   "source": [
    "### Explained Process\n",
    "\n",
    "Below is the loop of actions we will take in order to get the high reward. \n",
    "\n",
    "- The first 3 actions will simply heat our boiling vessel to 481.1 K, the closest temperature we can get to 489.5 K. \n",
    "- Then we will dump all the boiled off material from beaker 1 into beaker 2\n",
    "- Next we will raise the boiling vessel's temperature to 582.5 K which will allow us to boil off all the dodecane from the boiling vessel into beaker 1.\n",
    "- Next we end the experiment as we have our desired end result: a concentrated amount of our targeted material, dodecane, in one beaker.\n",
    "\n",
    "Thus we end up with a reward of 0.77."
   ]
  },
  {
   "cell_type": "code",
   "execution_count": 7,
   "metadata": {},
   "outputs": [
    {
     "name": "stdout",
     "output_type": "stream",
     "text": [
      "-------boil_vessel: change_heat (event)-------\n",
      "-------boil_vessel: mix (feedback_event)-------\n",
      "-------boil_vessel: update_layer (feedback_event)-------\n",
      "-------beaker_1: mix (feedback_event)-------\n",
      "-------beaker_1: update_layer (feedback_event)-------\n",
      "-----------------------------------------\n",
      "total_steps:  0\n",
      "reward: 0.00 \n",
      "total reward: 0.00 \n",
      "Temperature of boiling vessel: 395.2   K \n",
      "\n"
     ]
    },
    {
     "data": {
      "image/png": "[encoded data removed]",
      "text/plain": [
       "<Figure size 1296x648 with 4 Axes>"
      ]
     },
     "metadata": {
      "needs_background": "light"
     },
     "output_type": "display_data"
    },
    {
     "name": "stdout",
     "output_type": "stream",
     "text": [
      "-------boil_vessel: change_heat (event)-------\n",
      "-------boil_vessel: mix (feedback_event)-------\n",
      "-------boil_vessel: update_layer (feedback_event)-------\n",
      "-------beaker_1: mix (feedback_event)-------\n",
      "-------beaker_1: update_layer (feedback_event)-------\n",
      "-----------------------------------------\n",
      "total_steps:  1\n",
      "reward: 0.00 \n",
      "total reward: 0.00 \n",
      "Temperature of boiling vessel: 480.9   K \n",
      "\n",
      "-------boil_vessel: change_heat (event)-------\n",
      "-------boil_vessel: mix (feedback_event)-------\n",
      "-------boil_vessel: update_layer (feedback_event)-------\n",
      "-------beaker_1: mix (feedback_event)-------\n",
      "-------beaker_1: update_layer (feedback_event)-------\n",
      "-----------------------------------------\n",
      "total_steps:  2\n",
      "reward: 0.00 \n",
      "total reward: 0.00 \n",
      "Temperature of boiling vessel: 481.1   K \n",
      "\n",
      "-------beaker_0: pour by volume (event)-------\n",
      "-------beaker_1: update material dict (feedback_event)-------\n",
      "-------beaker_1: update solute dict (feedback_event)-------\n",
      "-------beaker_1: fully mix (feedback_event)-------\n",
      "-------beaker_1: mix (feedback_event)-------\n",
      "-------beaker_1: update_layer (feedback_event)-------\n",
      "-------beaker_0: mix (feedback_event)-------\n",
      "-------beaker_0: update_layer (feedback_event)-------\n",
      "-------boil_vessel: mix (feedback_event)-------\n",
      "-------boil_vessel: update_layer (feedback_event)-------\n",
      "-----------------------------------------\n",
      "total_steps:  3\n",
      "reward: 0.00 \n",
      "total reward: 0.00 \n",
      "Temperature of boiling vessel: 481.1   K \n",
      "\n",
      "-------boil_vessel: change_heat (event)-------\n",
      "-------boil_vessel: mix (feedback_event)-------\n",
      "-------boil_vessel: update_layer (feedback_event)-------\n",
      "-------beaker_1: mix (feedback_event)-------\n",
      "-------beaker_1: update_layer (feedback_event)-------\n",
      "-----------------------------------------\n",
      "total_steps:  4\n",
      "reward: 0.00 \n",
      "total reward: 0.00 \n",
      "Temperature of boiling vessel: 489.5   K \n",
      "\n",
      "-------boil_vessel: change_heat (event)-------\n",
      "-------boil_vessel: mix (feedback_event)-------\n",
      "-------boil_vessel: update_layer (feedback_event)-------\n",
      "-------beaker_1: mix (feedback_event)-------\n",
      "-------beaker_1: update_layer (feedback_event)-------\n",
      "-----------------------------------------\n",
      "total_steps:  5\n",
      "reward: 0.00 \n",
      "total reward: 0.00 \n",
      "Temperature of boiling vessel: 582.5   K \n",
      "\n",
      "Desired material not found in boil_vessel.\n",
      "Desired material not found in beaker_1.\n",
      "Done Reward in beaker_0:\n",
      "----- Target Material Amount = 0.010200459561855321 -----\n",
      "----- Total Material Amount = 0.013295108259229957 -----\n",
      "----- Reward = 0.7672340354787096 -----\n",
      "Done Reward in beaker_0:\n",
      "----- Target Material Amount = 0.010200459561855321 -----\n",
      "----- Total Material Amount = 0.013295108259229957 -----\n",
      "----- Reward = 0.7672340354787096 -----\n",
      "-----------------------------------------\n",
      "total_steps:  6\n",
      "reward: 0.77 \n",
      "total reward: 0.77 \n",
      "Temperature of boiling vessel: 582.5   K \n",
      "\n"
     ]
    }
   ],
   "source": [
    "while not done:\n",
    "\n",
    "    action = np.zeros(env.action_space.shape[0])\n",
    "\n",
    "    if total_steps == 0:\n",
    "        action = np.array([0,100])\n",
    "    elif total_steps == 1:\n",
    "        action = np.array([0,95])\n",
    "    elif total_steps == 2:\n",
    "        action = np.array([0,8])\n",
    "    elif total_steps == 3:\n",
    "        action = np.array([2,10])\n",
    "    elif total_steps == 4:\n",
    "        action = np.array([0,10])\n",
    "    elif total_steps == 5:\n",
    "        action = np.array([0,10])\n",
    "    elif total_steps == 6:\n",
    "        action = np.array([5,0])\n",
    "\n",
    "\n",
    "\n",
    "    # perform the action and update the reward\n",
    "    state, reward, done, __ = env.step(action)\n",
    "    print('-----------------------------------------')\n",
    "    print('total_steps: ', total_steps)\n",
    "    print('reward: %.2f ' % reward)\n",
    "    total_reward += reward\n",
    "    print('total reward: %.2f ' % total_reward)\n",
    "    print('Temperature of boiling vessel: %.1f ' % env.boil_vessel.temperature, ' K \\n')\n",
    "    # print(state)\n",
    "\n",
    "\n",
    "    # render the plot\n",
    "    env.render(mode=render_mode)\n",
    "    # sleep(1)\n",
    "\n",
    "    #increment one step\n",
    "    total_steps += 1"
   ]
  }
 ],
 "metadata": {
  "kernelspec": {
   "display_name": "Python 3",
   "language": "python",
   "name": "python3"
  },
  "language_info": {
   "codemirror_mode": {
    "name": "ipython",
    "version": 3
   },
   "file_extension": ".py",
   "mimetype": "text/x-python",
   "name": "python",
   "nbconvert_exporter": "python",
   "pygments_lexer": "ipython3",
   "version": "3.7.3"
  }
 },
 "nbformat": 4,
 "nbformat_minor": 2
}
