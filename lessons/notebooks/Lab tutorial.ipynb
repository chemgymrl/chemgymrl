{
 "cells": [
  {
   "cell_type": "markdown",
   "id": "hidden-throw",
   "metadata": {},
   "source": [
    "# Lab / Lab Manager Tutorial\n",
    "\n",
    "The lab environment serves as an environment for a user to conduct chemical experiments as they would in a physical lab, further the lab environment provides the opportunity to train a highlevel agent to synthesize materials using the 4 lab benches and tha gents associated with each. The environment allows the user to use a variety of reward functions based on the cost of real world lab equipment, material costs purity and labour costs. In this tutorial we will walk through how a lab manager agent would walk through the process of trying to synthesize dodecane. Further we will walk through the manager wrapper that we have developed which gives a simple api for an agent to run in an environment.\n",
    "\n",
    "## Lab:\n",
    "\n",
    "First off we can go over the 4 lab benches that the agent will have access to when trying to synthesize a material.\n",
    "\n",
    "| Bench Index: | Bench Name:            | Bench Description:                                                                                                                                                                                                                                                                                                                                                            |\n",
    "|--------------|------------------------|-------------------------------------------------------------------------------------------------------------------------------------------------------------------------------------------------------------------------------------------------------------------------------------------------------------------------------------------------------------------------------|\n",
    "| 0            | Reaction Bench         | The reaction bench serves as a tool for an  agent to operate within an environment where  they can learn how to optimize the process by  which they synthesize a material. By using a  predefined reaction, we simulate the reaction  allowing the agent to learn how best to  optimize the reaction.                                                                         |\n",
    "| 1            | Extraction Bench       | The extraction bench serves as a tool for an  agent to learn how to extract materials from  one solution to another.                                                                                                                                                                                                                                                          |\n",
    "| 2            | Distillation Bench     | The distillation bench serves as a tool for  an agent to learn how to distill and purify  solutions down to a single desired material.                                                                                                                                                                                                                                        |\n",
    "| 3            | Characterization Bench | The characterization bench is different from  the rest of the benches as it doesn't have an agent trained to run in it. In this case the  characterization bench takes in a vessel and  a desired analysis technique and returns the  results of that analysis, for instance  performing an absorbtion spectra analysis  and returning the spectral graph back to the  agent. |"
   ]
  },
  {
   "cell_type": "code",
   "execution_count": null,
   "id": "present-billy",
   "metadata": {},
   "outputs": [],
   "source": [
    "import chemistrylab\n",
    "import numpy as np"
   ]
  },
  {
   "cell_type": "code",
   "execution_count": null,
   "id": "applicable-treasurer",
   "metadata": {},
   "outputs": [],
   "source": [
    "from chemistrylab.lab.lab import Lab"
   ]
  },
  {
   "cell_type": "code",
   "execution_count": null,
   "id": "official-acrobat",
   "metadata": {},
   "outputs": [],
   "source": [
    "lab = Lab()\n",
    "# Notice how there are currently no vessels in our shelf\n",
    "lab.shelf.vessels"
   ]
  },
  {
   "cell_type": "markdown",
   "id": "moved-spider",
   "metadata": {},
   "source": [
    "Now that we have initialized the lab environmet we should take a look at the action space for the lab environment.\n",
    "\n",
    "| Bench Index | Bench Env Index | Vessel Index      | Agent Index      |\n",
    "|-------------|-----------------|-------------------|------------------|\n",
    "| 0 - 4         | 0 - Max_Num_Env   | 0 - Max_Num_Vessels | 0 - Max_Num_Agents |\n",
    "\n",
    "So part of the challenge for an agent running in this environment will be that each bench has a different number of bench environments, and available agents. For instance the user could have 10 unique reactions which only require a general extraction and a general distillation, in this case Max_Num_Env will be 10 even if the extraction bench is selected and even though there is only 1 registered environment for the extraction bench. As such if the user selects an agent or bench environment that are not available for a certain bench the agent will recieve a negative reward. Now that we have looked over the action space it will help to look over the lab environment in some examples that will give some more detail.\n",
    "\n",
    "First let's take a look at all the environemnts registered to each bench:"
   ]
  },
  {
   "cell_type": "code",
   "execution_count": null,
   "id": "danish-disney",
   "metadata": {},
   "outputs": [],
   "source": [
    "# All reaction environments that are available to the agent\n",
    "lab.reactions"
   ]
  },
  {
   "cell_type": "code",
   "execution_count": null,
   "id": "parallel-train",
   "metadata": {},
   "outputs": [],
   "source": [
    "# All extraction environments that are available to the agent\n",
    "lab.extractions"
   ]
  },
  {
   "cell_type": "code",
   "execution_count": null,
   "id": "simplified-arena",
   "metadata": {
    "scrolled": true
   },
   "outputs": [],
   "source": [
    "# All distillations environments that are available to the agent\n",
    "lab.distillations"
   ]
  },
  {
   "cell_type": "markdown",
   "id": "integral-diana",
   "metadata": {},
   "source": [
    "Now that we know what environments are registered let's take a look at the available agents:"
   ]
  },
  {
   "cell_type": "code",
   "execution_count": null,
   "id": "clinical-lawrence",
   "metadata": {},
   "outputs": [],
   "source": [
    "# All reaction agents\n",
    "lab.react_agents"
   ]
  },
  {
   "cell_type": "code",
   "execution_count": null,
   "id": "constant-expansion",
   "metadata": {},
   "outputs": [],
   "source": [
    "# All extraction agents\n",
    "lab.extract_agents"
   ]
  },
  {
   "cell_type": "code",
   "execution_count": null,
   "id": "involved-brother",
   "metadata": {},
   "outputs": [],
   "source": [
    "# All distillation agents\n",
    "lab.distill_agents"
   ]
  },
  {
   "cell_type": "markdown",
   "id": "worse-edward",
   "metadata": {},
   "source": [
    "Perfect, now that we can understand our action space, let's perform some actions!"
   ]
  },
  {
   "cell_type": "code",
   "execution_count": null,
   "id": "described-european",
   "metadata": {},
   "outputs": [],
   "source": [
    "react_action = np.array([0, 0, 0, 0])\n",
    "lab.step(react_action)"
   ]
  },
  {
   "cell_type": "markdown",
   "id": "consecutive-commons",
   "metadata": {},
   "source": [
    "From above we see that the react_action is loading the reaction bench with the WurtzReact-v1 environment, the 0th vessel and a random agent. From the output we see the following: ((reward, analysis_array), Done). Now that we have run a step, let's take a look at the vessels available to the lab:"
   ]
  },
  {
   "cell_type": "code",
   "execution_count": null,
   "id": "vocal-scotland",
   "metadata": {},
   "outputs": [],
   "source": [
    "lab.shelf.vessels"
   ]
  },
  {
   "cell_type": "code",
   "execution_count": null,
   "id": "ancient-storage",
   "metadata": {
    "scrolled": true
   },
   "outputs": [],
   "source": [
    "lab.shelf.vessels[0].get_material_dict()"
   ]
  },
  {
   "cell_type": "markdown",
   "id": "compact-price",
   "metadata": {},
   "source": [
    "notice how we now have a vessel in the shelf and when we look at it we can see chemicals from the wurtz reaction. Now that we have these leftover in our vessel, we want to try and extract dodecane out of the vessel."
   ]
  },
  {
   "cell_type": "code",
   "execution_count": null,
   "id": "considered-simulation",
   "metadata": {},
   "outputs": [],
   "source": [
    "extract_action = np.array([1, 0, 0, 0])\n",
    "lab.step(extract_action)"
   ]
  },
  {
   "cell_type": "markdown",
   "id": "grand-bulletin",
   "metadata": {},
   "source": [
    "From above we see that the extract_action is loading the extraction bench with the 'WurtzExtract-v1' environment, the 0th vessel (as seen above) and a random agent"
   ]
  },
  {
   "cell_type": "code",
   "execution_count": null,
   "id": "meaning-beast",
   "metadata": {},
   "outputs": [],
   "source": [
    "lab.shelf.vessels"
   ]
  },
  {
   "cell_type": "code",
   "execution_count": null,
   "id": "cheap-volunteer",
   "metadata": {
    "scrolled": true
   },
   "outputs": [],
   "source": [
    "for vessel in lab.shelf.vessels:\n",
    "    print(vessel.get_material_dict())\n",
    "    print(\"_____________\")"
   ]
  },
  {
   "cell_type": "markdown",
   "id": "armed-forest",
   "metadata": {},
   "source": [
    "From the above we can clearly see that there are 2 new vessels that have been added to our shelf courtesy of the extraction bench."
   ]
  },
  {
   "cell_type": "code",
   "execution_count": null,
   "id": "grand-satisfaction",
   "metadata": {},
   "outputs": [],
   "source": [
    "distill_action = np.array([2, 0, 0, 0])\n",
    "lab.step(distill_action)"
   ]
  },
  {
   "cell_type": "markdown",
   "id": "discrete-flush",
   "metadata": {},
   "source": [
    "From above we see that the distill_action is loading the distillation bench with the 'Distillation-v0' environment, the 0th vessel (as seen above) and a random agent"
   ]
  },
  {
   "cell_type": "code",
   "execution_count": null,
   "id": "failing-aruba",
   "metadata": {},
   "outputs": [],
   "source": [
    "for vessel in lab.shelf.vessels:\n",
    "    print(vessel.get_material_dict())\n",
    "    print(\"_____________\")"
   ]
  },
  {
   "cell_type": "code",
   "execution_count": null,
   "id": "russian-classics",
   "metadata": {},
   "outputs": [],
   "source": [
    "analysis_action = np.array([3, 0, 0, 0])\n",
    "lab.step(analysis_action)"
   ]
  },
  {
   "cell_type": "markdown",
   "id": "smart-miniature",
   "metadata": {},
   "source": [
    "Lastly we use the characterization bench. In this case we are going to perform an absobtion spectra analysis on our vessel that we get back. This is designed so that the agent can identify what is in the vessel without explicitly telling the agent. That's all for this part of the tutorial on the Lab environment, next we will cover the Lab Manager wrapper for the lab environment. \n",
    "\n",
    "## Lab Manager:\n",
    "\n",
    "The Lab Manager at the moment doesn't support training agents, however it does support pre trained or heuristic agents, or even a human agent."
   ]
  },
  {
   "cell_type": "code",
   "execution_count": null,
   "id": "front-yahoo",
   "metadata": {},
   "outputs": [],
   "source": [
    "from chemistrylab.lab.manager import Manager"
   ]
  },
  {
   "cell_type": "code",
   "execution_count": null,
   "id": "binary-queensland",
   "metadata": {},
   "outputs": [],
   "source": [
    "manager = Manager()\n",
    "manager.agents"
   ]
  },
  {
   "cell_type": "markdown",
   "id": "loving-screen",
   "metadata": {},
   "source": [
    "The output above shows us what agents are available to run the Manager environment. You can also make your own custom agents using our agent api."
   ]
  },
  {
   "cell_type": "code",
   "execution_count": null,
   "id": "continent-trinity",
   "metadata": {},
   "outputs": [],
   "source": [
    "from chemistrylab.lab.agent import Agent"
   ]
  },
  {
   "cell_type": "code",
   "execution_count": null,
   "id": "employed-details",
   "metadata": {},
   "outputs": [],
   "source": [
    "class CustomAgent(Agent):\n",
    "    def __init__(self):\n",
    "        self.name = 'custom_agent'\n",
    "        self.prev_actions = []\n",
    "\n",
    "    def run_step(self, env, spectra):\n",
    "        \"\"\"\n",
    "        this is the function where the operation of your model or heuristic agent is defined\n",
    "        \"\"\"\n",
    "        action = np.array([])\n",
    "        if len(self.prev_actions) == 0:\n",
    "            action = np.array([0, 0, 0, 0])\n",
    "        elif self.prev_actions[-1][0] == 0:\n",
    "            action = np.array([1, 0, 0, 0])\n",
    "        elif self.prev_actions[-1][0] == 1:\n",
    "            action = np.array([2, 0, 2, 0])\n",
    "        elif self.prev_actions[-1][0] == 2:\n",
    "            action = np.array([3, 0, 2, 0])\n",
    "        elif self.prev_actions[-1][0] == 3:\n",
    "            action = np.array([4, 0, 0, 0])\n",
    "        else:\n",
    "            assert False\n",
    "        self.prev_actions.append(action)\n",
    "        return action"
   ]
  },
  {
   "cell_type": "code",
   "execution_count": null,
   "id": "annual-avenue",
   "metadata": {},
   "outputs": [],
   "source": [
    "custom_agent = CustomAgent"
   ]
  },
  {
   "cell_type": "code",
   "execution_count": null,
   "id": "senior-latex",
   "metadata": {},
   "outputs": [],
   "source": [
    "# Now that we have created a custom agent to run the whole lab process for us we need to register it\n",
    "# with our environment\n",
    "manager.register_agent('custom_agent', custom_agent)"
   ]
  },
  {
   "cell_type": "code",
   "execution_count": null,
   "id": "burning-filling",
   "metadata": {},
   "outputs": [],
   "source": [
    "# Now that the agent has been registered we change the mode to the name of the new agent so we will run the manager\n",
    "# with the new agent\n",
    "manager.mode = 'custom_agent'"
   ]
  },
  {
   "cell_type": "code",
   "execution_count": null,
   "id": "optical-trash",
   "metadata": {},
   "outputs": [],
   "source": [
    "manager.run()"
   ]
  },
  {
   "cell_type": "markdown",
   "id": "alleged-preview",
   "metadata": {},
   "source": [
    "### Closing Remarks:\n",
    "And the api is just as simple as that! We hope this has been informative and you should now be able to run the Lab and Lab Manager smoothly."
   ]
  }
 ],
 "metadata": {
  "kernelspec": {
   "display_name": "ChemGym",
   "language": "python",
   "name": "python3"
  },
  "language_info": {
   "codemirror_mode": {
    "name": "ipython",
    "version": 3
   },
   "file_extension": ".py",
   "mimetype": "text/x-python",
   "name": "python",
   "nbconvert_exporter": "python",
   "pygments_lexer": "ipython3",
   "version": "3.6.13"
  },
  "vscode": {
   "interpreter": {
    "hash": "928df2993789dc54629220469d2aa2c5bde6e75786cdddb015342ca5eb5b2bb1"
   }
  }
 },
 "nbformat": 4,
 "nbformat_minor": 5
}
