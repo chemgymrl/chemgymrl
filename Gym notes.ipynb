{
 "cells": [
  {
   "cell_type": "markdown",
   "id": "e0513be1",
   "metadata": {},
   "source": [
    "# UNIT TESTING"
   ]
  },
  {
   "cell_type": "code",
   "execution_count": 1,
   "id": "e1c0a833",
   "metadata": {},
   "outputs": [
    {
     "name": "stdout",
     "output_type": "stream",
     "text": [
      "['GenWurtzExtract-v1', 'WurtzExtract-v1', 'WurtzExtractCtd-v1', 'WaterOilExtract-v1', 'WurtzReact-v1', 'GenWurtzReact-v1', 'FictReact-v1', 'FictReact-v2', 'DecompReact-v0', 'WurtzReact-v2', 'ODETestReact-v0', 'WurtzDistill-v1']\n"
     ]
    }
   ],
   "source": [
    "import os\n",
    "import sys\n",
    "\n",
    "sys.path.append('./chemistrylab')\n",
    "import gym\n",
    "import chemistrylab\n",
    "import numpy as np\n",
    "from gym import envs\n",
    "\n",
    "all_envs = envs.registry.all()\n",
    "def ischemgym(x):\n",
    "    if \"Distill\" in x:return True\n",
    "    if \"Extract\" in x: return True\n",
    "    if \"React\" in x: return True\n",
    "    return False\n",
    "\n",
    "env_ids = [env_spec.id for env_spec in all_envs if ischemgym(env_spec.id)]\n",
    "print(env_ids)\n"
   ]
  },
  {
   "cell_type": "code",
   "execution_count": 2,
   "id": "0a1a8c3e",
   "metadata": {},
   "outputs": [
    {
     "name": "stdout",
     "output_type": "stream",
     "text": [
      "------------------------------------------------------------\n",
      "GenWurtzExtract-v1:Failed:\n",
      "cannot import name 'methyl_red' from 'chemistrylab.extract_algorithms.extractions' (C:\\Users\\sprag\\Documents\\Python Scripts\\ResearchF2022\\CHEMGYM\\chemgymrl\\chemistrylab\\extract_algorithms\\extractions\\__init__.py)\n",
      "\n",
      "------------------------------------------------------------\n",
      "WurtzExtract-v1:Failed:\n",
      "cannot import name 'methyl_red' from 'chemistrylab.extract_algorithms.extractions' (C:\\Users\\sprag\\Documents\\Python Scripts\\ResearchF2022\\CHEMGYM\\chemgymrl\\chemistrylab\\extract_algorithms\\extractions\\__init__.py)\n",
      "\n",
      "------------------------------------------------------------\n",
      "WurtzExtractCtd-v1:Failed:\n",
      "cannot import name 'methyl_red' from 'chemistrylab.extract_algorithms.extractions' (C:\\Users\\sprag\\Documents\\Python Scripts\\ResearchF2022\\CHEMGYM\\chemgymrl\\chemistrylab\\extract_algorithms\\extractions\\__init__.py)\n",
      "\n",
      "------------------------------------------------------------\n",
      "WaterOilExtract-v1:Failed:\n",
      "cannot import name 'methyl_red' from 'chemistrylab.extract_algorithms.extractions' (C:\\Users\\sprag\\Documents\\Python Scripts\\ResearchF2022\\CHEMGYM\\chemgymrl\\chemistrylab\\extract_algorithms\\extractions\\__init__.py)\n",
      "\n",
      "------------------------------------------------------------\n",
      "WurtzReact-v1:Passed\n",
      "------------------------------------------------------------\n",
      "GenWurtzReact-v1:Passed\n",
      "------------------------------------------------------------\n",
      "FictReact-v1:Failed:\n",
      "Checking case for did not halt. . .\n",
      "\n",
      "------------------------------------------------------------\n",
      "FictReact-v2:Passed\n",
      "------------------------------------------------------------\n",
      "DecompReact-v0:Passed\n",
      "------------------------------------------------------------\n",
      "WurtzReact-v2:Passed\n",
      "------------------------------------------------------------\n",
      "ODETestReact-v0:Failed:\n",
      "__init__() got an unexpected keyword argument 'solutes'\n",
      "\n",
      "------------------------------------------------------------\n",
      "WurtzDistill-v1:Failed:\n",
      "type object 'Air' has no attribute '_specific_heat'\n",
      "\n"
     ]
    }
   ],
   "source": [
    "import os\n",
    "import shutil\n",
    "\n",
    "#os.remove(\"UnitTest.py\")\n",
    "with open(\".\\\\message.log\",\"w\") as f:\n",
    "    pass\n",
    "\n",
    "for id in env_ids:\n",
    "    print(\"-\"*60+\"\\n\"+id,end=\":\")\n",
    "    x = os.system(\"python UnitTest.py %s 200\"%id)\n",
    "    if x==1:\n",
    "        with open(\"./message.log\",\"r\") as f:\n",
    "            txt=\"\"\n",
    "            for line in f:\n",
    "                txt=line\n",
    "        print(\"Failed:\\n\"+line)\n",
    "    elif x==0:\n",
    "        print(\"Passed\")\n",
    "        "
   ]
  },
  {
   "cell_type": "markdown",
   "id": "e8b10f79",
   "metadata": {},
   "source": [
    "# RL Rollout\n",
    "\n",
    "```python\n",
    "# the first action parameter is the requested change in temperature;\n",
    "# action[0] = 0.0 indicates a temperature change of -dT\n",
    "# action[0] = 1.0 indicates a temperature change of +dT\n",
    "temp_change = 2.0 * (action[0] - 0.5) * self.dT\n",
    "\n",
    "# the second action parameter is the requested change in volume;\n",
    "# action[0] = 0.0 indicates a volume change of -dV\n",
    "# action[0] = 1.0 indicates a volume change of +dV\n",
    "volume_change = 2.0 * (action[1] - 0.5) * self.dV\n",
    "\n",
    "# the remaining action parameters indicate the proportion of\n",
    "# each reactant requested to be added to the reaction vessel;\n",
    "# action[2] = 1.0 indicates that all available amounts of reactant[0] are to be added\n",
    "# action[2] = 0.0 indicates that no amount of reactant[0] is to be added\n",
    "reactant_proportions = action[2:]\n",
    "\n",
    "\n",
    "# add the names of the reactants, products, and solutes available to all reactions\n",
    "REACTANTS = [\n",
    "    \"1-chlorohexane\",\n",
    "    \"2-chlorohexane\",\n",
    "    \"3-chlorohexane\",\n",
    "    \"Na\"\n",
    "]\n",
    "\n",
    "```"
   ]
  },
  {
   "cell_type": "code",
   "execution_count": 30,
   "id": "273a35d7",
   "metadata": {},
   "outputs": [
    {
     "data": {
      "text/plain": [
       "0"
      ]
     },
     "execution_count": 30,
     "metadata": {},
     "output_type": "execute_result"
    }
   ],
   "source": [
    "os.system(\"python RLTrain.py steps=20000\")"
   ]
  },
  {
   "cell_type": "code",
   "execution_count": null,
   "id": "2bd092d5",
   "metadata": {},
   "outputs": [],
   "source": [
    "import os\n",
    "os.system(\"python RLTest.py PPO2_WurtzReact-v1 steps=500\")\n"
   ]
  },
  {
   "cell_type": "code",
   "execution_count": 37,
   "id": "aadbb035",
   "metadata": {},
   "outputs": [
    {
     "data": {
      "text/html": [
       "<div>\n",
       "<style scoped>\n",
       "    .dataframe tbody tr th:only-of-type {\n",
       "        vertical-align: middle;\n",
       "    }\n",
       "\n",
       "    .dataframe tbody tr th {\n",
       "        vertical-align: top;\n",
       "    }\n",
       "\n",
       "    .dataframe thead th {\n",
       "        text-align: right;\n",
       "    }\n",
       "</style>\n",
       "<table border=\"1\" class=\"dataframe\">\n",
       "  <thead>\n",
       "    <tr style=\"text-align: right;\">\n",
       "      <th></th>\n",
       "      <th>InState</th>\n",
       "      <th>Action</th>\n",
       "      <th>Reward</th>\n",
       "      <th>OutState</th>\n",
       "      <th>Done</th>\n",
       "      <th>Info</th>\n",
       "      <th>Step</th>\n",
       "    </tr>\n",
       "  </thead>\n",
       "  <tbody>\n",
       "    <tr>\n",
       "      <th>0</th>\n",
       "      <td>[0.0, 0.188, 0.49974987, 4.752e-05, 0.0, 0.0, ...</td>\n",
       "      <td>[0.0, 0.0, 0.0, 0.8213808, 0.0, 0.33731765]</td>\n",
       "      <td>0.000000</td>\n",
       "      <td>[0.05, 0.0, 0.49724862, 5.179392e-05, 0.0, 0.4...</td>\n",
       "      <td>False</td>\n",
       "      <td>{}</td>\n",
       "      <td>0</td>\n",
       "    </tr>\n",
       "    <tr>\n",
       "      <th>1</th>\n",
       "      <td>[0.05, 0.0, 0.49724862, 5.179392e-05, 0.0, 0.4...</td>\n",
       "      <td>[0.0, 1.0, 0.0, 1.0, 0.0, 0.1016773]</td>\n",
       "      <td>0.000000</td>\n",
       "      <td>[0.099, 0.0, 0.49974987, 5.393319e-05, 0.0, 0....</td>\n",
       "      <td>False</td>\n",
       "      <td>{}</td>\n",
       "      <td>1</td>\n",
       "    </tr>\n",
       "    <tr>\n",
       "      <th>2</th>\n",
       "      <td>[0.099, 0.0, 0.49974987, 5.393319e-05, 0.0, 0....</td>\n",
       "      <td>[0.5381391, 1.0, 0.0, 1.0, 0.0, 0.9947785]</td>\n",
       "      <td>0.000000</td>\n",
       "      <td>[0.147, 0.015255642, 0.50225115, 6.036839e-05,...</td>\n",
       "      <td>False</td>\n",
       "      <td>{}</td>\n",
       "      <td>2</td>\n",
       "    </tr>\n",
       "    <tr>\n",
       "      <th>3</th>\n",
       "      <td>[0.147, 0.015255642, 0.50225115, 6.036839e-05,...</td>\n",
       "      <td>[0.0, 0.10570598, 0.7632059, 1.0, 0.0, 1.0]</td>\n",
       "      <td>0.000000</td>\n",
       "      <td>[0.194, 0.0, 0.50027865, 6.7067405e-05, 0.3695...</td>\n",
       "      <td>False</td>\n",
       "      <td>{}</td>\n",
       "      <td>3</td>\n",
       "    </tr>\n",
       "    <tr>\n",
       "      <th>4</th>\n",
       "      <td>[0.194, 0.0, 0.50027865, 6.7067405e-05, 0.3695...</td>\n",
       "      <td>[0.0, 1.0, 0.0, 1.0, 0.0, 1.0]</td>\n",
       "      <td>0.000000</td>\n",
       "      <td>[0.24, 0.0, 0.5027799, 6.646914e-05, 0.3581912...</td>\n",
       "      <td>False</td>\n",
       "      <td>{}</td>\n",
       "      <td>4</td>\n",
       "    </tr>\n",
       "    <tr>\n",
       "      <th>...</th>\n",
       "      <td>...</td>\n",
       "      <td>...</td>\n",
       "      <td>...</td>\n",
       "      <td>...</td>\n",
       "      <td>...</td>\n",
       "      <td>...</td>\n",
       "      <td>...</td>\n",
       "    </tr>\n",
       "    <tr>\n",
       "      <th>495</th>\n",
       "      <td>[1.26, 0.0, 0.522688, 6.2546715e-05, 0.2803725...</td>\n",
       "      <td>[0.0, 1.0, 0.0, 1.0, 0.0, 1.0]</td>\n",
       "      <td>0.000000</td>\n",
       "      <td>[1.265, 0.0, 0.5251892, 6.222611e-05, 0.279106...</td>\n",
       "      <td>False</td>\n",
       "      <td>{}</td>\n",
       "      <td>45</td>\n",
       "    </tr>\n",
       "    <tr>\n",
       "      <th>496</th>\n",
       "      <td>[1.265, 0.0, 0.5251892, 6.222611e-05, 0.279106...</td>\n",
       "      <td>[0.0, 0.9160838, 0.5192088, 0.0, 0.0, 0.05083543]</td>\n",
       "      <td>0.000000</td>\n",
       "      <td>[1.269, 0.0, 0.5272707, 6.1959116e-05, 0.27791...</td>\n",
       "      <td>False</td>\n",
       "      <td>{}</td>\n",
       "      <td>46</td>\n",
       "    </tr>\n",
       "    <tr>\n",
       "      <th>497</th>\n",
       "      <td>[1.269, 0.0, 0.5272707, 6.1959116e-05, 0.27791...</td>\n",
       "      <td>[0.0, 1.0, 0.52791846, 1.0, 0.0, 1.0]</td>\n",
       "      <td>0.000000</td>\n",
       "      <td>[1.272, 0.0, 0.5297719, 6.164663e-05, 0.276791...</td>\n",
       "      <td>False</td>\n",
       "      <td>{}</td>\n",
       "      <td>47</td>\n",
       "    </tr>\n",
       "    <tr>\n",
       "      <th>498</th>\n",
       "      <td>[1.272, 0.0, 0.5297719, 6.164663e-05, 0.276791...</td>\n",
       "      <td>[0.0, 0.23490316, 0.0, 1.0, 0.0, 1.0]</td>\n",
       "      <td>0.000000</td>\n",
       "      <td>[1.274, 0.0, 0.5284458, 6.178209e-05, 0.275734...</td>\n",
       "      <td>False</td>\n",
       "      <td>{}</td>\n",
       "      <td>48</td>\n",
       "    </tr>\n",
       "    <tr>\n",
       "      <th>499</th>\n",
       "      <td>[1.274, 0.0, 0.5284458, 6.178209e-05, 0.275734...</td>\n",
       "      <td>[0.0, 1.0, 0.0, 1.0, 0.0, 1.0]</td>\n",
       "      <td>0.154074</td>\n",
       "      <td>[1.275, 0.0, 0.530947, 6.1473416e-05, 0.274738...</td>\n",
       "      <td>True</td>\n",
       "      <td>{}</td>\n",
       "      <td>49</td>\n",
       "    </tr>\n",
       "  </tbody>\n",
       "</table>\n",
       "<p>500 rows × 7 columns</p>\n",
       "</div>"
      ],
      "text/plain": [
       "                                               InState  \\\n",
       "0    [0.0, 0.188, 0.49974987, 4.752e-05, 0.0, 0.0, ...   \n",
       "1    [0.05, 0.0, 0.49724862, 5.179392e-05, 0.0, 0.4...   \n",
       "2    [0.099, 0.0, 0.49974987, 5.393319e-05, 0.0, 0....   \n",
       "3    [0.147, 0.015255642, 0.50225115, 6.036839e-05,...   \n",
       "4    [0.194, 0.0, 0.50027865, 6.7067405e-05, 0.3695...   \n",
       "..                                                 ...   \n",
       "495  [1.26, 0.0, 0.522688, 6.2546715e-05, 0.2803725...   \n",
       "496  [1.265, 0.0, 0.5251892, 6.222611e-05, 0.279106...   \n",
       "497  [1.269, 0.0, 0.5272707, 6.1959116e-05, 0.27791...   \n",
       "498  [1.272, 0.0, 0.5297719, 6.164663e-05, 0.276791...   \n",
       "499  [1.274, 0.0, 0.5284458, 6.178209e-05, 0.275734...   \n",
       "\n",
       "                                                Action    Reward  \\\n",
       "0          [0.0, 0.0, 0.0, 0.8213808, 0.0, 0.33731765]  0.000000   \n",
       "1                 [0.0, 1.0, 0.0, 1.0, 0.0, 0.1016773]  0.000000   \n",
       "2           [0.5381391, 1.0, 0.0, 1.0, 0.0, 0.9947785]  0.000000   \n",
       "3          [0.0, 0.10570598, 0.7632059, 1.0, 0.0, 1.0]  0.000000   \n",
       "4                       [0.0, 1.0, 0.0, 1.0, 0.0, 1.0]  0.000000   \n",
       "..                                                 ...       ...   \n",
       "495                     [0.0, 1.0, 0.0, 1.0, 0.0, 1.0]  0.000000   \n",
       "496  [0.0, 0.9160838, 0.5192088, 0.0, 0.0, 0.05083543]  0.000000   \n",
       "497              [0.0, 1.0, 0.52791846, 1.0, 0.0, 1.0]  0.000000   \n",
       "498              [0.0, 0.23490316, 0.0, 1.0, 0.0, 1.0]  0.000000   \n",
       "499                     [0.0, 1.0, 0.0, 1.0, 0.0, 1.0]  0.154074   \n",
       "\n",
       "                                              OutState   Done Info  Step  \n",
       "0    [0.05, 0.0, 0.49724862, 5.179392e-05, 0.0, 0.4...  False   {}     0  \n",
       "1    [0.099, 0.0, 0.49974987, 5.393319e-05, 0.0, 0....  False   {}     1  \n",
       "2    [0.147, 0.015255642, 0.50225115, 6.036839e-05,...  False   {}     2  \n",
       "3    [0.194, 0.0, 0.50027865, 6.7067405e-05, 0.3695...  False   {}     3  \n",
       "4    [0.24, 0.0, 0.5027799, 6.646914e-05, 0.3581912...  False   {}     4  \n",
       "..                                                 ...    ...  ...   ...  \n",
       "495  [1.265, 0.0, 0.5251892, 6.222611e-05, 0.279106...  False   {}    45  \n",
       "496  [1.269, 0.0, 0.5272707, 6.1959116e-05, 0.27791...  False   {}    46  \n",
       "497  [1.272, 0.0, 0.5297719, 6.164663e-05, 0.276791...  False   {}    47  \n",
       "498  [1.274, 0.0, 0.5284458, 6.178209e-05, 0.275734...  False   {}    48  \n",
       "499  [1.275, 0.0, 0.530947, 6.1473416e-05, 0.274738...   True   {}    49  \n",
       "\n",
       "[500 rows x 7 columns]"
      ]
     },
     "execution_count": 37,
     "metadata": {},
     "output_type": "execute_result"
    }
   ],
   "source": [
    "\n",
    "import pandas as pd\n",
    "\n",
    "data = pd.read_pickle(\"PPO2_WurtzReact-v1/rollout\")\n",
    "\n",
    "data"
   ]
  },
  {
   "cell_type": "code",
   "execution_count": 38,
   "id": "6b0fa0d0",
   "metadata": {},
   "outputs": [
    {
     "name": "stdout",
     "output_type": "stream",
     "text": [
      "dT: -0.9906271323561668 \n",
      "dV 0.30001330375671387\n",
      "1-chlorohexane: 0.25023887\n",
      "2-chlorohexane: 0.7546778\n",
      "3-chlorohexane: 0.001495071\n",
      "Na: 0.60111314\n",
      "Avg Reward: 0.14560279304737997\n"
     ]
    }
   ],
   "source": [
    "data.InState[0].shape\n",
    "\n",
    "avgchoices=data.Action.mean()\n",
    "\n",
    "dT = 2.0 * (avgchoices[0] - 0.5)\n",
    "\n",
    "dV = 2.0 * (avgchoices[1] - 0.5)\n",
    "\n",
    "REACTANTS = [\n",
    "    \"1-chlorohexane\",\n",
    "    \"2-chlorohexane\",\n",
    "    \"3-chlorohexane\",\n",
    "    \"Na\"\n",
    "]\n",
    "\n",
    "\n",
    "print(\"dT:\",dT,\"\\ndV\",dV)\n",
    "for i in range(4):\n",
    "    print(REACTANTS[i]+\":\",avgchoices[i+2])\n",
    "    \n",
    "print(\"Avg Reward:\", data[data.Done==True].Reward.mean())"
   ]
  },
  {
   "cell_type": "markdown",
   "id": "29cd97d6",
   "metadata": {},
   "source": [
    "# Example with Heuristic Policy:"
   ]
  },
  {
   "cell_type": "code",
   "execution_count": null,
   "id": "2a9857d1",
   "metadata": {},
   "outputs": [],
   "source": [
    "os.system(\"python RLTest.py WRH algorithm=WRH steps=500\")"
   ]
  },
  {
   "cell_type": "code",
   "execution_count": 39,
   "id": "bd51a8e6",
   "metadata": {},
   "outputs": [
    {
     "name": "stdout",
     "output_type": "stream",
     "text": [
      "Avg Reward: 0.14560279304737997\n"
     ]
    }
   ],
   "source": [
    "\n",
    "dataH = pd.read_pickle(\"WRH/rollout\")\n",
    "print(\"Avg Reward:\", data[data.Done==True].Reward.mean())"
   ]
  },
  {
   "cell_type": "markdown",
   "id": "102e90a9",
   "metadata": {},
   "source": [
    "https://matplotlib.org/stable/gallery/specialty_plots/radar_chart.html"
   ]
  },
  {
   "cell_type": "markdown",
   "id": "7c70f280",
   "metadata": {},
   "source": [
    "# Radar Graph:"
   ]
  },
  {
   "cell_type": "code",
   "execution_count": 48,
   "id": "e3bb5a4d",
   "metadata": {},
   "outputs": [
    {
     "data": {
      "image/png": "[encoded data removed]",
      "text/plain": [
       "<Figure size 648x648 with 2 Axes>"
      ]
     },
     "metadata": {
      "needs_background": "light"
     },
     "output_type": "display_data"
    }
   ],
   "source": [
    "from matplotlib import pyplot as plt\n",
    "from matplotlib.patches import Circle, RegularPolygon\n",
    "from matplotlib.path import Path\n",
    "from matplotlib.projections.polar import PolarAxes\n",
    "from matplotlib.projections import register_projection\n",
    "from matplotlib.spines import Spine\n",
    "from matplotlib.transforms import Affine2D\n",
    "\n",
    "\n",
    "def radar_factory(num_vars, frame='circle'):\n",
    "    \"\"\"\n",
    "    Create a radar chart with `num_vars` axes.\n",
    "\n",
    "    This function creates a RadarAxes projection and registers it.\n",
    "\n",
    "    Parameters\n",
    "    ----------\n",
    "    num_vars : int\n",
    "        Number of variables for radar chart.\n",
    "    frame : {'circle', 'polygon'}\n",
    "        Shape of frame surrounding axes.\n",
    "\n",
    "    \"\"\"\n",
    "    # calculate evenly-spaced axis angles\n",
    "    theta = np.linspace(0, 2*np.pi, num_vars, endpoint=False)\n",
    "\n",
    "    class RadarTransform(PolarAxes.PolarTransform):\n",
    "\n",
    "        def transform_path_non_affine(self, path):\n",
    "            # Paths with non-unit interpolation steps correspond to gridlines,\n",
    "            # in which case we force interpolation (to defeat PolarTransform's\n",
    "            # autoconversion to circular arcs).\n",
    "            if path._interpolation_steps > 1:\n",
    "                path = path.interpolated(num_vars)\n",
    "            return Path(self.transform(path.vertices), path.codes)\n",
    "\n",
    "    class RadarAxes(PolarAxes):\n",
    "\n",
    "        name = 'radar'\n",
    "        PolarTransform = RadarTransform\n",
    "\n",
    "        def __init__(self, *args, **kwargs):\n",
    "            super().__init__(*args, **kwargs)\n",
    "            # rotate plot such that the first axis is at the top\n",
    "            self.set_theta_zero_location('N')\n",
    "\n",
    "        def fill(self, *args, closed=True, **kwargs):\n",
    "            \"\"\"Override fill so that line is closed by default\"\"\"\n",
    "            return super().fill(closed=closed, *args, **kwargs)\n",
    "\n",
    "        def plot(self, *args, **kwargs):\n",
    "            \"\"\"Override plot so that line is closed by default\"\"\"\n",
    "            lines = super().plot(*args, **kwargs)\n",
    "            for line in lines:\n",
    "                self._close_line(line)\n",
    "\n",
    "        def _close_line(self, line):\n",
    "            x, y = line.get_data()\n",
    "            # FIXME: markers at x[0], y[0] get doubled-up\n",
    "            if x[0] != x[-1]:\n",
    "                x = np.append(x, x[0])\n",
    "                y = np.append(y, y[0])\n",
    "                line.set_data(x, y)\n",
    "\n",
    "        def set_varlabels(self, labels):\n",
    "            self.set_thetagrids(np.degrees(theta), labels)\n",
    "\n",
    "        def _gen_axes_patch(self):\n",
    "            # The Axes patch must be centered at (0.5, 0.5) and of radius 0.5\n",
    "            # in axes coordinates.\n",
    "            if frame == 'circle':\n",
    "                return Circle((0.5, 0.5), 0.5)\n",
    "            elif frame == 'polygon':\n",
    "                return RegularPolygon((0.5, 0.5), num_vars,\n",
    "                                      radius=.5, edgecolor=\"k\")\n",
    "            else:\n",
    "                raise ValueError(\"Unknown value for 'frame': %s\" % frame)\n",
    "\n",
    "        def _gen_axes_spines(self):\n",
    "            if frame == 'circle':\n",
    "                return super()._gen_axes_spines()\n",
    "            elif frame == 'polygon':\n",
    "                # spine_type must be 'left'/'right'/'top'/'bottom'/'circle'.\n",
    "                spine = Spine(axes=self,\n",
    "                              spine_type='circle',\n",
    "                              path=Path.unit_regular_polygon(num_vars))\n",
    "                # unit_regular_polygon gives a polygon of radius 1 centered at\n",
    "                # (0, 0) but we want a polygon of radius 0.5 centered at (0.5,\n",
    "                # 0.5) in axes coordinates.\n",
    "                spine.set_transform(Affine2D().scale(.5).translate(.5, .5)\n",
    "                                    + self.transAxes)\n",
    "                return {'polar': spine}\n",
    "            else:\n",
    "                raise ValueError(\"Unknown value for 'frame': %s\" % frame)\n",
    "\n",
    "    register_projection(RadarAxes)\n",
    "    return theta\n",
    "\n",
    "\n",
    "def example_data():\n",
    "  \n",
    "    info = [\n",
    "        ['Avg Reward','dT', 'dV', '1-chlorohexane', '2-chlorohexane', '3-chlorohexane', 'Na' ],\n",
    "        ('PPO', [\n",
    "            [data[data.Done==True].Reward.mean()]+[a for a in data.Action.mean()]]),\n",
    "        ('Heuristic', [\n",
    "            [dataH[dataH.Done==True].Reward.mean()]+[a for a in dataH.Action.mean()]]),\n",
    "        \n",
    "    ]\n",
    "    return info\n",
    "\n",
    "\n",
    "if __name__ == '__main__':\n",
    "    N = 7\n",
    "    theta = radar_factory(N, frame='polygon')\n",
    "\n",
    "    info = example_data()\n",
    "    spoke_labels = info.pop(0)\n",
    "\n",
    "    fig, axs = plt.subplots(figsize=(9, 9), nrows=1, ncols=2,\n",
    "                            subplot_kw=dict(projection='radar'))\n",
    "    fig.subplots_adjust(wspace=0.5, hspace=0.20, top=0.85, bottom=0.05)\n",
    "\n",
    "    colors = ['b', 'r', 'g', 'm', 'y']\n",
    "    # Plot the four cases from the example data on separate axes\n",
    "    for ax, (title, case_data) in zip(axs.flat, info):\n",
    "        ax.set_rgrids([0.2, 0.4, 0.6, 0.8])\n",
    "        ax.set_title(title, weight='bold', size='medium', position=(0.5, 1.1),\n",
    "                     horizontalalignment='center', verticalalignment='center')\n",
    "        for d, color in zip(case_data, colors):\n",
    "            ax.plot(theta, d, color=color)\n",
    "            ax.fill(theta, d, facecolor=color, alpha=0.25, label='_nolegend_')\n",
    "        ax.set_varlabels(spoke_labels)\n",
    "\n",
    "    # add legend relative to top-left plot\n",
    "    labels = ('Factor 1', 'Factor 2', 'Factor 3', 'Factor 4', 'Factor 5')\n",
    "    legend = axs[0].legend(labels, loc=(0.9, .95),\n",
    "                              labelspacing=0.1, fontsize='small')\n",
    "\n",
    "    plt.show()"
   ]
  },
  {
   "cell_type": "markdown",
   "id": "c14730e1",
   "metadata": {},
   "source": [
    "# First look:\n",
    "\n",
    "Task:\n",
    "- We want a vessel containing some material/chemical with high purity/yields?\n",
    "\n",
    "Modules:\n",
    "- Reaction\n",
    "    - Do a chemical reaction to get a material/chemical\n",
    "    * [More Info](#Reaction-bench-deeper-dive)\n",
    "- Extraction\n",
    "    - Use solutes to purify your material/chemical\n",
    "- Distillation\n",
    "    - Use boiling to purify your material/chemical further\n",
    "- Characterization\n",
    "    - Run tests to see what is actually in your output vessel\n",
    "    \n",
    "    \n",
    "    \n",
    "Each module has an agent associated with doing the module task, given instructions\n",
    "\n",
    "There is a Lab manager agent with the task of giving instructions for each module"
   ]
  },
  {
   "cell_type": "markdown",
   "id": "1458d408",
   "metadata": {},
   "source": [
    "# Vessel\n",
    "\n",
    "- Has a dictionary of materials\n",
    "- Has a dictionady of solutes\n",
    "- Has event queue"
   ]
  },
  {
   "cell_type": "code",
   "execution_count": 4,
   "id": "ff5481fd",
   "metadata": {},
   "outputs": [],
   "source": [
    "class dum:\n",
    "    def __init__(self,string):\n",
    "        self.s=string\n",
    "    def __str__(self):return self.s\n",
    "    def __repr__(self):return self.s\n",
    "    \n",
    "material_dict = {'H2O': [dum(\"H2O\"), 100, 'mol'], 'C6H14': [dum(\"C6H14\"), 100], 'Na': [dum(\"Na\"), 1.0], 'Cl': [dum(\"Cl\"), 1.0]}"
   ]
  },
  {
   "cell_type": "markdown",
   "id": "190b39b2",
   "metadata": {},
   "source": [
    "# Easy to read display\n",
    "\n",
    "I think there is some value in making things easy to read instead of having to look at constructors like in the first example\n",
    "I implemented a quick way to show off materials/solutes"
   ]
  },
  {
   "cell_type": "code",
   "execution_count": 5,
   "id": "c67ae5af",
   "metadata": {},
   "outputs": [
    {
     "name": "stdout",
     "output_type": "stream",
     "text": [
      "Material Dict:\n"
     ]
    },
    {
     "data": {
      "text/html": [
       "<div>\n",
       "<style scoped>\n",
       "    .dataframe tbody tr th:only-of-type {\n",
       "        vertical-align: middle;\n",
       "    }\n",
       "\n",
       "    .dataframe tbody tr th {\n",
       "        vertical-align: top;\n",
       "    }\n",
       "\n",
       "    .dataframe thead th {\n",
       "        text-align: right;\n",
       "    }\n",
       "</style>\n",
       "<table border=\"1\" class=\"dataframe\">\n",
       "  <thead>\n",
       "    <tr style=\"text-align: right;\">\n",
       "      <th></th>\n",
       "      <th>Material</th>\n",
       "      <th>Amount</th>\n",
       "      <th>Unit</th>\n",
       "    </tr>\n",
       "  </thead>\n",
       "  <tbody>\n",
       "    <tr>\n",
       "      <th>H2O</th>\n",
       "      <td>H2O</td>\n",
       "      <td>100.0</td>\n",
       "      <td>mol</td>\n",
       "    </tr>\n",
       "    <tr>\n",
       "      <th>C6H14</th>\n",
       "      <td>C6H14</td>\n",
       "      <td>100.0</td>\n",
       "      <td>None</td>\n",
       "    </tr>\n",
       "    <tr>\n",
       "      <th>Na</th>\n",
       "      <td>Na</td>\n",
       "      <td>1.0</td>\n",
       "      <td>None</td>\n",
       "    </tr>\n",
       "    <tr>\n",
       "      <th>Cl</th>\n",
       "      <td>Cl</td>\n",
       "      <td>1.0</td>\n",
       "      <td>None</td>\n",
       "    </tr>\n",
       "  </tbody>\n",
       "</table>\n",
       "</div>"
      ],
      "text/plain": [
       "      Material  Amount  Unit\n",
       "H2O        H2O   100.0   mol\n",
       "C6H14    C6H14   100.0  None\n",
       "Na          Na     1.0  None\n",
       "Cl          Cl     1.0  None"
      ]
     },
     "metadata": {},
     "output_type": "display_data"
    }
   ],
   "source": [
    "import pandas as pd\n",
    "import numpy as np\n",
    "from IPython import display\n",
    "Display = display.display\n",
    "\n",
    "def display_materials(material_dict,include_zeros=False):\n",
    "    table = pd.DataFrame.from_dict(material_dict, orient=\"index\",columns = [\"Material\",\"Amount\",\"Unit\"])\n",
    "    print(\"Material Dict:\")\n",
    "    if include_zeros:\n",
    "        display.display(table)\n",
    "    else:\n",
    "        display.display(table[table.Amount>0])\n",
    "    \n",
    "display_materials(material_dict)"
   ]
  },
  {
   "cell_type": "code",
   "execution_count": 6,
   "id": "f603e633",
   "metadata": {},
   "outputs": [
    {
     "name": "stdout",
     "output_type": "stream",
     "text": [
      "Solute Dict:\n"
     ]
    },
    {
     "data": {
      "text/html": [
       "<div>\n",
       "<style scoped>\n",
       "    .dataframe tbody tr th:only-of-type {\n",
       "        vertical-align: middle;\n",
       "    }\n",
       "\n",
       "    .dataframe tbody tr th {\n",
       "        vertical-align: top;\n",
       "    }\n",
       "\n",
       "    .dataframe thead th {\n",
       "        text-align: right;\n",
       "    }\n",
       "</style>\n",
       "<table border=\"1\" class=\"dataframe\">\n",
       "  <thead>\n",
       "    <tr style=\"text-align: right;\">\n",
       "      <th></th>\n",
       "      <th>Solute</th>\n",
       "      <th>[Solvent # Unit]</th>\n",
       "      <th>[Solvent # Unit]</th>\n",
       "    </tr>\n",
       "  </thead>\n",
       "  <tbody>\n",
       "    <tr>\n",
       "      <th>0</th>\n",
       "      <td>Na</td>\n",
       "      <td>[H2O, 0.5, mol]</td>\n",
       "      <td>[C6H14, 0.5, mol]</td>\n",
       "    </tr>\n",
       "    <tr>\n",
       "      <th>1</th>\n",
       "      <td>Cl</td>\n",
       "      <td>[H2O, 0.5, mol]</td>\n",
       "      <td>[C6H14, 0.5, mol]</td>\n",
       "    </tr>\n",
       "  </tbody>\n",
       "</table>\n",
       "</div>"
      ],
      "text/plain": [
       "  Solute [Solvent # Unit]   [Solvent # Unit]\n",
       "0     Na  [H2O, 0.5, mol]  [C6H14, 0.5, mol]\n",
       "1     Cl  [H2O, 0.5, mol]  [C6H14, 0.5, mol]"
      ]
     },
     "metadata": {},
     "output_type": "display_data"
    }
   ],
   "source": [
    "solute_dict = {'Na': {'H2O': [dum(\"H2O\"), 0.5, 'mol'], 'C6H14': [dum(\"C6H14\"), 0.5, 'mol']},\n",
    "               'Cl': {'H2O': [dum(\"H2O\"), 0.5, 'mol'], 'C6H14': [dum(\"C6H14\"), 0.5, 'mol']}}\n",
    "\n",
    "\n",
    "\n",
    "def display_solutes(solute_dict):\n",
    "\n",
    "    table = pd.DataFrame.from_dict(solute_dict, orient=\"index\")\n",
    "\n",
    "    renamedic = {str(h) : \"[Solvent # Unit]\" for h in table.columns}\n",
    "\n",
    "    table.insert(loc=0, column='Solute', value=table.index)\n",
    "\n",
    "    table.index=np.arange(len(table.index))\n",
    "\n",
    "    table.rename(columns=renamedic, inplace = True)\n",
    "    print(\"Solute Dict:\")\n",
    "    display.display(table)\n",
    "    \n",
    "display_solutes(solute_dict)"
   ]
  },
  {
   "cell_type": "markdown",
   "id": "10506ee3",
   "metadata": {},
   "source": [
    "# Event Queue\n",
    "\n",
    "- Used to modify the contents of a vessel\n",
    "- Modifications are passed in as \"events\"\n",
    "- Why do we have events=None here:\n",
    "\n",
    "```python\n",
    "vessel_1 = vessel.Vessel(label='vessel_1')\n",
    "vessel_2 = vessel.Vessel(label='vessel_2')\n",
    "\n",
    "event_1 = ['update material dict', material_dict]\n",
    "event_2 = ['update solute dict', solute_dict]\n",
    "event_3 = ['drain by pixel', vessel_2, 100]\n",
    "\n",
    "# Here we are adding the materials and solutions specified above into our first vessel, and then we pour 100ml\n",
    "# of this solution from vessel 1 into vessel 2\n",
    "vessel_1.push_event_to_queue(events=None, feedback=[event_1, event_2, event_3], dt=1)\n",
    "```\n",
    "\n",
    "- How do we get layering in the vessel?\n",
    "\n"
   ]
  },
  {
   "cell_type": "markdown",
   "id": "6e5bbce1",
   "metadata": {},
   "source": [
    "# Reaction Bench:\n",
    "\n",
    "- Recieves input vessel\n",
    "- Selects reaction from a list of supported reactions\n",
    "- Controls reaction parameters\n",
    "- Loop previous two steps until agent says to stop\n",
    "- returns an output vessel as a file\n",
    "- How is the desired material/output specified?\n",
    "    - Read from reaction file along with simulation details (why are these grouped together?)\n",
    "    - Is there a way to do this without a bunch of file I/O?"
   ]
  },
  {
   "cell_type": "markdown",
   "id": "ed7e5351",
   "metadata": {},
   "source": [
    "# Extraction Bench\n",
    "\n",
    "- Takes in one input vessel\n",
    "- Returns a set of output vessels\n",
    "- Target is represented by a string?\n",
    "- Need to read the code to see how extraction is actually done\n",
    "- Can transfer contents into other vessels\n",
    "- Learn what this means:\n",
    "    - utilizing specifically selected solutes to demarcate and separate materials\n",
    "- Multiple vessels are saved as output"
   ]
  },
  {
   "cell_type": "markdown",
   "id": "3c77a150",
   "metadata": {},
   "source": [
    "# Distillation Bench\n",
    "- Looks like there is again just one input vessel (verify this)\n",
    "- string target name\n",
    "- dQ for maximum heat added?\n",
    "- Looks like actions are to maintain or add heat, and switch the vessel that contents are boiled into\n",
    "- Multiple vessels are saved as output"
   ]
  },
  {
   "cell_type": "markdown",
   "id": "1d3b85fa",
   "metadata": {},
   "source": [
    "# Characterization Bench\n",
    "\n",
    "- No modifications to input vessel\n",
    "- Observations for the lab manager\n",
    "- Main charactarization technique is spectrometric analysis\n",
    "    - analyze() is called with vessel, analysis (technique) and something called overlap which isn't touched on yet \n",
    "- Outputs are an array which can easily be turned into an observation\n",
    "- Is the vessel frozen in time during this process?\n",
    "- Every bench has access to characterization now?"
   ]
  },
  {
   "cell_type": "markdown",
   "id": "f3d239bc",
   "metadata": {},
   "source": [
    "# Lab manager\n",
    "\n",
    "- Has access to a shelf of vessels not in use\n",
    "- Uses characterization to determine what is in the vessels\n",
    "- Is in charge of allocating vessels to benches\n",
    "- Inputs are the benches (excluding characterization)\n",
    "- Does the lab manager get any say in the rewards of the individual benches?\n",
    "- How are desired outcomes input for the manager?\n"
   ]
  },
  {
   "cell_type": "markdown",
   "id": "6da0da19",
   "metadata": {},
   "source": [
    "# Questions:\n",
    "\n",
    "- What is the point of making subclasses for your benches? -> for gym.make use?\n",
    "- Why isn't reaction benches target also a string (currently looks to be in the input file)"
   ]
  },
  {
   "attachments": {
    "ReactBench-2.png": {
     "image/png": "[encoded data removed]"
    }
   },
   "cell_type": "markdown",
   "id": "d58bcc47",
   "metadata": {},
   "source": [
    "# Reaction bench deeper dive\n",
    "\n",
    "\n",
    "[Class Diagram](https://cruise.umple.org/umpleonline/umple.php?model=221127h5p7jm7vnbgu)\n",
    "\n",
    "![ReactBench-2.png](attachment:ReactBench-2.png)\n",
    "\n",
    "[Next](#Reaction-Bench-Issues)"
   ]
  },
  {
   "cell_type": "markdown",
   "id": "eb6f3ebf",
   "metadata": {},
   "source": [
    "# Reaction Bench Issues\n",
    "\n",
    "- Need to tighten gym requirement\n",
    "    - I had to upgrade my gym install\n",
    "```\n",
    "    Installing collected packages: gym-notices, gym\n",
    "      Attempting uninstall: gym\n",
    "        Found existing installation: gym 0.21.0\n",
    "        Uninstalling gym-0.21.0:\n",
    "          Successfully uninstalled gym-0.21.0\n",
    "    Successfully installed gym-0.26.2 gym-notices-0.0.8\n",
    "```\n",
    "\n",
    "- Check if 0.18,0.15.7 works, once one works I can update requirements -> can create a branch and commit things\n",
    "\n",
    "- reaction_lesson.ipynb is an empty file (link in reaction bench lesson)\n",
    "- ```all_envs = envs.registry.all()``` in tutorial doesn't work\n",
    "\n",
    "```python\n",
    "# Fixed with this\n",
    "reg = envs.registry\n",
    "env_ids = [k for k in reg.keys() if \"React\" in k]\n",
    "```\n",
    "- When using WurtzReact-v1 it asks me to use v2 but trying to open v2 causes a crash\n",
    "\n",
    "- ```env.render(mode=render_mode)``` doesn't work \n",
    "    - looks like mode has changed to model\n",
    "- ```env.render()``` only plots graphs on the first call?\n",
    "    - Fix: ```env._first_render = True```\n",
    "    - Alt fix: ```%matplotlib notebook```\n",
    "    - proposed change: let me pass an argument (called redraw maybe?) which forces the render function to make a new plot\n",
    "    \n",
    "- FictReact-v1 gives different rewards with the same policy\n",
    "- ```env.step(action)``` doesn't work when using a gym.make() constructed environment [code](#Is-env.step()-broken?)\n",
    "\n",
    "[Back](#Reaction-bench-deeper-dive) [Next](#Wurtz-Setup) "
   ]
  },
  {
   "cell_type": "code",
   "execution_count": 7,
   "id": "8a777992",
   "metadata": {},
   "outputs": [
    {
     "name": "stdout",
     "output_type": "stream",
     "text": [
      "['WurtzReact-v1', 'GenWurtzReact-v1', 'FictReact-v1', 'FictReact-v2', 'DecompReact-v0', 'WurtzReact-v2', 'ODETestReact-v0']\n",
      "['chloro_wurtz.py', 'chloro_wurtz_v1.py', 'decomp.py', 'equilibrium.py', 'fict_react.py', 'fict_react2.py', 'methyl_red.py', 'ode_check.py', 'template.py', 'water_oil_v1.py', '__init__.py']\n"
     ]
    }
   ],
   "source": [
    "import chemistrylab,time\n",
    "import sys\n",
    "sys.path.append('../')\n",
    "sys.path.append('../chemistrylab/reactions')\n",
    "import gym\n",
    "import numpy as np\n",
    "from gym import envs\n",
    "\n",
    "# Fixed with this\n",
    "all_envs = envs.registry.all()\n",
    "reg = envs.registry\n",
    "env_ids = [env_spec.id for env_spec in all_envs if 'React' in env_spec.id]\n",
    "\n",
    "\n",
    "print(env_ids)\n",
    "env = gym.make('WurtzReact-v1')\n",
    "render_mode = \"human\"\n",
    "action_set = ['Temperature', 'Volume', \"1-chlorohexane\", \"2-chlorohexane\", \"3-chlorohexane\", \"Na\"]\n",
    "\n",
    "assert len(action_set) == env.action_space.shape[0]"
   ]
  },
  {
   "cell_type": "code",
   "execution_count": 11,
   "id": "cddd3056",
   "metadata": {
    "scrolled": true
   },
   "outputs": [
    {
     "name": "stdout",
     "output_type": "stream",
     "text": [
      "Material Dict:\n"
     ]
    },
    {
     "data": {
      "text/html": [
       "<div>\n",
       "<style scoped>\n",
       "    .dataframe tbody tr th:only-of-type {\n",
       "        vertical-align: middle;\n",
       "    }\n",
       "\n",
       "    .dataframe tbody tr th {\n",
       "        vertical-align: top;\n",
       "    }\n",
       "\n",
       "    .dataframe thead th {\n",
       "        text-align: right;\n",
       "    }\n",
       "</style>\n",
       "<table border=\"1\" class=\"dataframe\">\n",
       "  <thead>\n",
       "    <tr style=\"text-align: right;\">\n",
       "      <th></th>\n",
       "      <th>Material</th>\n",
       "      <th>Amount</th>\n",
       "      <th>Unit</th>\n",
       "    </tr>\n",
       "  </thead>\n",
       "  <tbody>\n",
       "    <tr>\n",
       "      <th>DiEthylEther</th>\n",
       "      <td>diethyl ether</td>\n",
       "      <td>4</td>\n",
       "      <td>mol</td>\n",
       "    </tr>\n",
       "  </tbody>\n",
       "</table>\n",
       "</div>"
      ],
      "text/plain": [
       "                   Material  Amount Unit\n",
       "DiEthylEther  diethyl ether       4  mol"
      ]
     },
     "metadata": {},
     "output_type": "display_data"
    },
    {
     "name": "stdout",
     "output_type": "stream",
     "text": [
      "Solute Dict:\n"
     ]
    },
    {
     "data": {
      "text/html": [
       "<div>\n",
       "<style scoped>\n",
       "    .dataframe tbody tr th:only-of-type {\n",
       "        vertical-align: middle;\n",
       "    }\n",
       "\n",
       "    .dataframe tbody tr th {\n",
       "        vertical-align: top;\n",
       "    }\n",
       "\n",
       "    .dataframe thead th {\n",
       "        text-align: right;\n",
       "    }\n",
       "</style>\n",
       "<table border=\"1\" class=\"dataframe\">\n",
       "  <thead>\n",
       "    <tr style=\"text-align: right;\">\n",
       "      <th></th>\n",
       "      <th>Solute</th>\n",
       "    </tr>\n",
       "  </thead>\n",
       "  <tbody>\n",
       "  </tbody>\n",
       "</table>\n",
       "</div>"
      ],
      "text/plain": [
       "Empty DataFrame\n",
       "Columns: [Solute]\n",
       "Index: []"
      ]
     },
     "metadata": {},
     "output_type": "display_data"
    },
    {
     "data": {
      "image/png": "[encoded data removed]",
      "text/plain": [
       "<Figure size 864x432 with 2 Axes>"
      ]
     },
     "metadata": {
      "needs_background": "light"
     },
     "output_type": "display_data"
    }
   ],
   "source": [
    "env.reset()\n",
    "display_materials(env.vessels._material_dict)\n",
    "display_solutes(env.vessels._solute_dict)\n",
    "env.render()"
   ]
  },
  {
   "cell_type": "markdown",
   "id": "8297c3ff",
   "metadata": {},
   "source": [
    "# Is env.step() broken?"
   ]
  },
  {
   "cell_type": "code",
   "execution_count": 12,
   "id": "b9da6476",
   "metadata": {},
   "outputs": [],
   "source": [
    "try:\n",
    "    env.step([0]*6)\n",
    "except Exception as e:\n",
    "    print(e)"
   ]
  },
  {
   "cell_type": "code",
   "execution_count": 13,
   "id": "b2ad1001",
   "metadata": {},
   "outputs": [
    {
     "name": "stdout",
     "output_type": "stream",
     "text": [
      "chemistrylab.reaction_bench.reaction_bench_v1:WurtzReact_v1\n"
     ]
    }
   ],
   "source": [
    "print(reg.env_specs[\"WurtzReact-v1\"].entry_point)"
   ]
  },
  {
   "cell_type": "markdown",
   "id": "cd0113c7",
   "metadata": {},
   "source": [
    "# Wurtz Setup\n",
    "\n",
    "2 1-chlorohexane + 2 Na -> dodecane + 2 NaCl"
   ]
  },
  {
   "cell_type": "code",
   "execution_count": 14,
   "id": "1e75f470",
   "metadata": {},
   "outputs": [
    {
     "name": "stdout",
     "output_type": "stream",
     "text": [
      "['chloro_wurtz.py', 'chloro_wurtz_v1.py', 'decomp.py', 'equilibrium.py', 'fict_react.py', 'fict_react2.py', 'methyl_red.py', 'ode_check.py', 'template.py', 'water_oil_v1.py', '__init__.py']\n",
      "Box(0.0, 1.0, (6,), float32)\n",
      "Target: dodecane\n",
      "Undesired: \n"
     ]
    },
    {
     "data": {
      "text/html": [
       "<div>\n",
       "<style scoped>\n",
       "    .dataframe tbody tr th:only-of-type {\n",
       "        vertical-align: middle;\n",
       "    }\n",
       "\n",
       "    .dataframe tbody tr th {\n",
       "        vertical-align: top;\n",
       "    }\n",
       "\n",
       "    .dataframe thead th {\n",
       "        text-align: right;\n",
       "    }\n",
       "</style>\n",
       "<table border=\"1\" class=\"dataframe\">\n",
       "  <thead>\n",
       "    <tr style=\"text-align: right;\">\n",
       "      <th></th>\n",
       "      <th>Material</th>\n",
       "      <th>Amount</th>\n",
       "      <th>Unit</th>\n",
       "    </tr>\n",
       "  </thead>\n",
       "  <tbody>\n",
       "    <tr>\n",
       "      <th>DiEthylEther</th>\n",
       "      <td>diethyl ether</td>\n",
       "      <td>4</td>\n",
       "      <td>mol</td>\n",
       "    </tr>\n",
       "  </tbody>\n",
       "</table>\n",
       "</div>"
      ],
      "text/plain": [
       "                   Material  Amount Unit\n",
       "DiEthylEther  diethyl ether       4  mol"
      ]
     },
     "metadata": {},
     "output_type": "display_data"
    }
   ],
   "source": [
    "env2=chemistrylab.reaction_bench.reaction_bench_v1.WurtzReact_v1()\n",
    "obs = env2.reset()\n",
    "from matplotlib import pyplot as plt\n",
    "#plt.plot(obs)\n",
    "#plt.show()\n",
    "print(env2.action_space)\n",
    "obs = env2.reset()\n",
    "\n",
    "print(\"Target:\",env2.reaction.target)\n",
    "print(\"Undesired:\",env2.reaction.undesired)\n",
    "Display(env2.vessels.get_material_table())"
   ]
  },
  {
   "cell_type": "markdown",
   "id": "32e9f299",
   "metadata": {},
   "source": [
    "[Back](#Reaction-Bench-Issues) [Next](#Wurtz-Run)"
   ]
  },
  {
   "cell_type": "code",
   "execution_count": 11,
   "id": "4cda7c39",
   "metadata": {
    "scrolled": false
   },
   "outputs": [],
   "source": [
    "from IPython.display import clear_output\n",
    "def run_wurtz():\n",
    "    rew=0\n",
    "    G=0\n",
    "    #['Temperature', 'Volume', \"1-chlorohexane\", \"2-chlorohexane\", \"3-chlorohexane\", \"Na\"]\n",
    "    obs = env2.reset()\n",
    "    for x in range(100):\n",
    "        clear_output(wait=True)\n",
    "        env2.render()\n",
    "        print(rew,G)\n",
    "        if x<4:\n",
    "            # pour 30% of vial repeatedly\n",
    "            obs,rew,done,_ = env2.step([0.5,0.5,0.3,0.0,0.0,0.3])\n",
    "        elif x==4:\n",
    "            #pour remaining contents\n",
    "            env2.step([0.5,0.5,1.0,0.0,0.0,1.0])\n",
    "        else:\n",
    "            obs,rew,done,_ = env2.step([0.5,0.5,0,0,0,0])\n",
    "        G+=rew\n",
    "        if done:\n",
    "            break\n",
    "\n",
    "    print(done,G)"
   ]
  },
  {
   "cell_type": "markdown",
   "id": "a7353468",
   "metadata": {},
   "source": [
    "# Wurtz Run"
   ]
  },
  {
   "cell_type": "code",
   "execution_count": 12,
   "id": "5a521bbb",
   "metadata": {},
   "outputs": [
    {
     "data": {
      "image/png": "[encoded data removed]",
      "text/plain": [
       "<Figure size 864x432 with 2 Axes>"
      ]
     },
     "metadata": {
      "needs_background": "light"
     },
     "output_type": "display_data"
    },
    {
     "name": "stdout",
     "output_type": "stream",
     "text": [
      "0 0\n",
      "True 0.3092533779990231\n"
     ]
    }
   ],
   "source": [
    "run_wurtz()"
   ]
  },
  {
   "cell_type": "markdown",
   "id": "12724078",
   "metadata": {},
   "source": [
    "[Back](#Wurtz-Setup) [Next](#Wurtz-Output)\n",
    "# Wurtz Output\n",
    "\n",
    "Recall, the target was for Wurtz is to create dodecane"
   ]
  },
  {
   "cell_type": "code",
   "execution_count": 13,
   "id": "841ae17c",
   "metadata": {},
   "outputs": [
    {
     "data": {
      "text/html": [
       "<div>\n",
       "<style scoped>\n",
       "    .dataframe tbody tr th:only-of-type {\n",
       "        vertical-align: middle;\n",
       "    }\n",
       "\n",
       "    .dataframe tbody tr th {\n",
       "        vertical-align: top;\n",
       "    }\n",
       "\n",
       "    .dataframe thead th {\n",
       "        text-align: right;\n",
       "    }\n",
       "</style>\n",
       "<table border=\"1\" class=\"dataframe\">\n",
       "  <thead>\n",
       "    <tr style=\"text-align: right;\">\n",
       "      <th></th>\n",
       "      <th>Material</th>\n",
       "      <th>Amount</th>\n",
       "      <th>Unit</th>\n",
       "    </tr>\n",
       "  </thead>\n",
       "  <tbody>\n",
       "    <tr>\n",
       "      <th>1-chlorohexane</th>\n",
       "      <td>1-chlorohexane</td>\n",
       "      <td>0.381493</td>\n",
       "      <td>mol</td>\n",
       "    </tr>\n",
       "    <tr>\n",
       "      <th>Na</th>\n",
       "      <td>Na</td>\n",
       "      <td>0.381493</td>\n",
       "      <td>mol</td>\n",
       "    </tr>\n",
       "    <tr>\n",
       "      <th>dodecane</th>\n",
       "      <td>dodecane</td>\n",
       "      <td>0.309253</td>\n",
       "      <td>mol</td>\n",
       "    </tr>\n",
       "    <tr>\n",
       "      <th>NaCl</th>\n",
       "      <td>NaCl</td>\n",
       "      <td>0.618507</td>\n",
       "      <td>mol</td>\n",
       "    </tr>\n",
       "    <tr>\n",
       "      <th>DiEthylEther</th>\n",
       "      <td>diethyl ether</td>\n",
       "      <td>4.000000</td>\n",
       "      <td>mol</td>\n",
       "    </tr>\n",
       "  </tbody>\n",
       "</table>\n",
       "</div>"
      ],
      "text/plain": [
       "                      Material    Amount Unit\n",
       "1-chlorohexane  1-chlorohexane  0.381493  mol\n",
       "Na                          Na  0.381493  mol\n",
       "dodecane              dodecane  0.309253  mol\n",
       "NaCl                      NaCl  0.618507  mol\n",
       "DiEthylEther     diethyl ether  4.000000  mol"
      ]
     },
     "metadata": {},
     "output_type": "display_data"
    }
   ],
   "source": [
    "Display(env2.vessels.get_material_table())"
   ]
  },
  {
   "cell_type": "markdown",
   "id": "b5637525",
   "metadata": {},
   "source": [
    "[Back](#Wurtz-Run) [Next](#Ficticious-Reaction-Setup)\n",
    "\n",
    "# Ficticious Reaction Setup"
   ]
  },
  {
   "cell_type": "code",
   "execution_count": 15,
   "id": "1de08c02",
   "metadata": {},
   "outputs": [
    {
     "data": {
      "text/plain": [
       "'chemistrylab.reaction_bench.reaction_bench_v1:FictReact_v1'"
      ]
     },
     "execution_count": 15,
     "metadata": {},
     "output_type": "execute_result"
    }
   ],
   "source": [
    "reg.env_specs[\"FictReact-v1\"].entry_point"
   ]
  },
  {
   "cell_type": "code",
   "execution_count": 16,
   "id": "81c466b7",
   "metadata": {},
   "outputs": [
    {
     "name": "stdout",
     "output_type": "stream",
     "text": [
      "['chloro_wurtz.py', 'chloro_wurtz_v1.py', 'decomp.py', 'equilibrium.py', 'fict_react.py', 'fict_react2.py', 'methyl_red.py', 'ode_check.py', 'template.py', 'water_oil_v1.py', '__init__.py']\n",
      "Target: \n",
      "Undesired: E\n",
      "Material Dict:\n"
     ]
    },
    {
     "data": {
      "text/html": [
       "<div>\n",
       "<style scoped>\n",
       "    .dataframe tbody tr th:only-of-type {\n",
       "        vertical-align: middle;\n",
       "    }\n",
       "\n",
       "    .dataframe tbody tr th {\n",
       "        vertical-align: top;\n",
       "    }\n",
       "\n",
       "    .dataframe thead th {\n",
       "        text-align: right;\n",
       "    }\n",
       "</style>\n",
       "<table border=\"1\" class=\"dataframe\">\n",
       "  <thead>\n",
       "    <tr style=\"text-align: right;\">\n",
       "      <th></th>\n",
       "      <th>Material</th>\n",
       "      <th>Amount</th>\n",
       "      <th>Unit</th>\n",
       "    </tr>\n",
       "  </thead>\n",
       "  <tbody>\n",
       "    <tr>\n",
       "      <th>H2O</th>\n",
       "      <td>H2O</td>\n",
       "      <td>30</td>\n",
       "      <td>mol</td>\n",
       "    </tr>\n",
       "  </tbody>\n",
       "</table>\n",
       "</div>"
      ],
      "text/plain": [
       "    Material  Amount Unit\n",
       "H2O      H2O      30  mol"
      ]
     },
     "metadata": {},
     "output_type": "display_data"
    }
   ],
   "source": [
    "env3 = chemistrylab.reaction_bench.reaction_bench_v1.FictReact_v1()\n",
    "env3.action_space\n",
    "print(\"Target:\",env3.reaction.target)\n",
    "print(\"Undesired:\",env3.reaction.undesired)\n",
    "display_materials(env3.vessels._material_dict)"
   ]
  },
  {
   "cell_type": "markdown",
   "id": "0c1a04e6",
   "metadata": {},
   "source": [
    "[Back](#Wurtz-Output) [Next](#Reward-Weirdness)\n"
   ]
  },
  {
   "cell_type": "code",
   "execution_count": 16,
   "id": "39337b4c",
   "metadata": {},
   "outputs": [],
   "source": [
    "def run_fict(n=3,viz=\"table\"):\n",
    "    G=np.zeros(n)\n",
    "    for y in range(n):\n",
    "        rew=x=done=0\n",
    "        obs = env3.reset()\n",
    "        while not done:\n",
    "            #Policy: At the start, pump in some A,B and mystery substance\n",
    "            time.sleep(0.1)\n",
    "            if viz==\"table\":\n",
    "                clear_output(wait=True)\n",
    "                Display(env3.vessels.get_material_table())\n",
    "            elif viz==\"graph\":\n",
    "                clear_output(wait=True)\n",
    "                env3.render()\n",
    "            \n",
    "            if x==0:obs,rew,done,_ = env3.step([0.5,0.5,0.99,0.99,0.0,0.3]+[0.0]*3)\n",
    "            else:obs,rew,done,_ = env3.step([0.55,0.45]+[0]*7)\n",
    "            print(y,rew)\n",
    "            G[y]+=rew\n",
    "            x+=1\n",
    "        #Print total return\n",
    "        print(G)\n",
    "    return G"
   ]
  },
  {
   "cell_type": "markdown",
   "id": "0276fbad",
   "metadata": {},
   "source": [
    "# Reward Weirdness\n",
    "I can get a reward but inconsistently?\n",
    "- This is because it randomoly decides on a target when none is given"
   ]
  },
  {
   "cell_type": "code",
   "execution_count": 17,
   "id": "5e9fc559",
   "metadata": {},
   "outputs": [
    {
     "data": {
      "text/html": [
       "<div>\n",
       "<style scoped>\n",
       "    .dataframe tbody tr th:only-of-type {\n",
       "        vertical-align: middle;\n",
       "    }\n",
       "\n",
       "    .dataframe tbody tr th {\n",
       "        vertical-align: top;\n",
       "    }\n",
       "\n",
       "    .dataframe thead th {\n",
       "        text-align: right;\n",
       "    }\n",
       "</style>\n",
       "<table border=\"1\" class=\"dataframe\">\n",
       "  <thead>\n",
       "    <tr style=\"text-align: right;\">\n",
       "      <th></th>\n",
       "      <th>Material</th>\n",
       "      <th>Amount</th>\n",
       "      <th>Unit</th>\n",
       "    </tr>\n",
       "  </thead>\n",
       "  <tbody>\n",
       "    <tr>\n",
       "      <th>A</th>\n",
       "      <td>A</td>\n",
       "      <td>0.540016</td>\n",
       "      <td>mol</td>\n",
       "    </tr>\n",
       "    <tr>\n",
       "      <th>B</th>\n",
       "      <td>B</td>\n",
       "      <td>0.540016</td>\n",
       "      <td>mol</td>\n",
       "    </tr>\n",
       "    <tr>\n",
       "      <th>D</th>\n",
       "      <td>D</td>\n",
       "      <td>0.000032</td>\n",
       "      <td>mol</td>\n",
       "    </tr>\n",
       "    <tr>\n",
       "      <th>F</th>\n",
       "      <td>F</td>\n",
       "      <td>0.449984</td>\n",
       "      <td>mol</td>\n",
       "    </tr>\n",
       "    <tr>\n",
       "      <th>G</th>\n",
       "      <td>G</td>\n",
       "      <td>0.449984</td>\n",
       "      <td>mol</td>\n",
       "    </tr>\n",
       "    <tr>\n",
       "      <th>H2O</th>\n",
       "      <td>H2O</td>\n",
       "      <td>30.000000</td>\n",
       "      <td>mol</td>\n",
       "    </tr>\n",
       "  </tbody>\n",
       "</table>\n",
       "</div>"
      ],
      "text/plain": [
       "    Material     Amount Unit\n",
       "A          A   0.540016  mol\n",
       "B          B   0.540016  mol\n",
       "D          D   0.000032  mol\n",
       "F          F   0.449984  mol\n",
       "G          G   0.449984  mol\n",
       "H2O      H2O  30.000000  mol"
      ]
     },
     "metadata": {},
     "output_type": "display_data"
    },
    {
     "name": "stdout",
     "output_type": "stream",
     "text": [
      "2 0.0\n",
      "[0.44999726 0.         0.        ]\n"
     ]
    }
   ],
   "source": [
    "G = run_fict(n=3,viz=\"table\")"
   ]
  },
  {
   "attachments": {
    "Extract-3.png": {
     "image/png": "[encoded data removed]"
    }
   },
   "cell_type": "markdown",
   "id": "550c14d1",
   "metadata": {},
   "source": [
    "[Back](#Ficticious-Reaction-Setup)\n",
    "\n",
    "# Extraction Bench Deeper Dive\n",
    "\n",
    "[uml](https://cruise.umple.org/umpleonline/umple.php?model=22120513bjggtmij6fb)\n",
    "\n",
    "![Extract-3.png](attachment:Extract-3.png)"
   ]
  },
  {
   "cell_type": "markdown",
   "id": "0d59f6be",
   "metadata": {},
   "source": [
    "# Extraction Bench Issues\n",
    "\n",
    "- Oil_Water_Extract-v1 does not work due to file IO issues\n",
    "- Same with WurtzExtract_Ctd-v1\n",
    "\n",
    "```python\n",
    "File ~\\Documents\\Python Scripts\\ResearchF2022\\CHEMGYM\\chemistrylab\\chem_algorithms\\util.py:52, in convert_material_dict_and_solute_dict_to_volume(material_dict, solute_dict, unit)\n",
    "     49 total_volume = 0\n",
    "     50 for M in material_dict:\n",
    "     51     # get the mass (in grams) of the material using its molar mass (in grams/mol)\n",
    "---> 52     mass = material_dict[M][0].get_molar_mass() * material_dict[M][1]\n",
    "     54     if convert_density:\n",
    "     55         # mass/density results in unit m^3, need to multiply by 1000 to convert to litre\n",
    "     56         volume = mass / material_dict[M][0].get_density(convert_density)\n",
    "\n",
    "TypeError: get_molar_mass() missing 1 required positional argument: 'self'\n",
    "\n",
    "```\n",
    "- issue with MethylRed_Extract-v1 and v2\n",
    "\n",
    "- None of my actions did anything in WurtzExtract_v1\n",
    "\n",
    "- Help should probably print what the actions do\n",
    "\n",
    "- Normative and factual UML diagrams\n",
    "    - wait for fixes until the end\n",
    "\n",
    "- changes can happen later\n",
    "\n"
   ]
  },
  {
   "cell_type": "code",
   "execution_count": 18,
   "id": "2c12baf2",
   "metadata": {},
   "outputs": [
    {
     "name": "stdout",
     "output_type": "stream",
     "text": [
      "['WurtzExtract-v1', 'WurtzExtract_Ctd-v1', 'Oil_Water_Extract-v1', 'MethylRed_Extract-v1', 'MethylRed_Extract-v2']\n",
      "chemistrylab.extract_bench.extract_bench_v1:ExtractWorld_Oil_v1\n",
      "chemistrylab.extract_bench.extract_bench_v1:WurtzExtract_v1\n",
      "chemistrylab.extract_bench.methyl_red:ExtractWorld_MethylRed\n"
     ]
    }
   ],
   "source": [
    "import chemistrylab,time\n",
    "import sys\n",
    "sys.path.append('../')\n",
    "sys.path.append('../chemistrylab/reactions')\n",
    "import gym\n",
    "import numpy as np\n",
    "from gym import envs\n",
    "import pandas as pd\n",
    "import numpy as np\n",
    "from IPython import display\n",
    "Display = display.display\n",
    "from IPython.display import clear_output\n",
    "\n",
    "all_envs = envs.registry.all()\n",
    "env_ids = [env_spec.id for env_spec in all_envs if 'Extract' in env_spec.id]\n",
    "\n",
    "print(env_ids)\n",
    "\n",
    "print(reg.env_specs[\"Oil_Water_Extract-v1\"].entry_point)\n",
    "print(reg.env_specs[\"WurtzExtract-v1\"].entry_point)\n",
    "print(reg.env_specs[\"MethylRed_Extract-v1\"].entry_point)"
   ]
  },
  {
   "cell_type": "code",
   "execution_count": 2,
   "id": "8775a90b",
   "metadata": {},
   "outputs": [],
   "source": [
    "action_set = ['Draining from ExV to Beaker1', 'Mix ExV', \"Mix B1\", \"Mix B2\", \"Pour from B1 to ExV\", \"Pour from B1 to B2\",\n",
    "              'Pour from ExV to B2', 'Add oil, pour from Oil Vessel to ExV', 'wait', 'Done']"
   ]
  },
  {
   "cell_type": "code",
   "execution_count": 3,
   "id": "630e9c5a",
   "metadata": {},
   "outputs": [
    {
     "name": "stdout",
     "output_type": "stream",
     "text": [
      "C:\\Users\\sprag\\Documents\\Python Scripts\\ResearchF2022\\CHEMGYM\\chemgymrl PATH\n",
      "HI\n"
     ]
    }
   ],
   "source": [
    "import chemistrylab.extract_bench.extract_bench_v1\n",
    "env = chemistrylab.extract_bench.extract_bench_v1.WurtzExtract_v1()\n",
    "#env = chemistrylab.extract_bench.extract_bench_v1.ExtractWorld_Oil_v1()"
   ]
  },
  {
   "cell_type": "code",
   "execution_count": 4,
   "id": "d7a346c1",
   "metadata": {},
   "outputs": [
    {
     "name": "stdout",
     "output_type": "stream",
     "text": [
      "Box(0.0, 1.0, (3, 107), float32)\n"
     ]
    },
    {
     "data": {
      "image/png": "[encoded data removed]",
      "text/plain": [
       "<Figure size 864x432 with 6 Axes>"
      ]
     },
     "metadata": {
      "needs_background": "light"
     },
     "output_type": "display_data"
    }
   ],
   "source": [
    "print(env.observation_space)\n",
    "env.reset()\n",
    "env.render()"
   ]
  },
  {
   "cell_type": "code",
   "execution_count": 15,
   "id": "5aa9463b",
   "metadata": {},
   "outputs": [
    {
     "name": "stdout",
     "output_type": "stream",
     "text": [
      "<chemistrylab.chem_algorithms.vessel.Vessel object at 0x000002296D726B08>\n"
     ]
    },
    {
     "data": {
      "text/html": [
       "<div>\n",
       "<style scoped>\n",
       "    .dataframe tbody tr th:only-of-type {\n",
       "        vertical-align: middle;\n",
       "    }\n",
       "\n",
       "    .dataframe tbody tr th {\n",
       "        vertical-align: top;\n",
       "    }\n",
       "\n",
       "    .dataframe thead th {\n",
       "        text-align: right;\n",
       "    }\n",
       "</style>\n",
       "<table border=\"1\" class=\"dataframe\">\n",
       "  <thead>\n",
       "    <tr style=\"text-align: right;\">\n",
       "      <th></th>\n",
       "      <th>Material</th>\n",
       "      <th>Amount</th>\n",
       "      <th>Unit</th>\n",
       "    </tr>\n",
       "  </thead>\n",
       "  <tbody>\n",
       "    <tr>\n",
       "      <th>diethyl ether</th>\n",
       "      <td>diethyl ether</td>\n",
       "      <td>4.0</td>\n",
       "      <td>mol</td>\n",
       "    </tr>\n",
       "    <tr>\n",
       "      <th>Na</th>\n",
       "      <td>Na</td>\n",
       "      <td>1.0</td>\n",
       "      <td>mol</td>\n",
       "    </tr>\n",
       "    <tr>\n",
       "      <th>Cl</th>\n",
       "      <td>Cl</td>\n",
       "      <td>1.0</td>\n",
       "      <td>mol</td>\n",
       "    </tr>\n",
       "    <tr>\n",
       "      <th>dodecane</th>\n",
       "      <td>dodecane</td>\n",
       "      <td>1.0</td>\n",
       "      <td>mol</td>\n",
       "    </tr>\n",
       "  </tbody>\n",
       "</table>\n",
       "</div>"
      ],
      "text/plain": [
       "                    Material  Amount Unit\n",
       "diethyl ether  diethyl ether     4.0  mol\n",
       "Na                        Na     1.0  mol\n",
       "Cl                        Cl     1.0  mol\n",
       "dodecane            dodecane     1.0  mol"
      ]
     },
     "metadata": {},
     "output_type": "display_data"
    },
    {
     "name": "stdout",
     "output_type": "stream",
     "text": [
      "<chemistrylab.chem_algorithms.vessel.Vessel object at 0x000002296D726F08>\n"
     ]
    },
    {
     "data": {
      "text/html": [
       "<div>\n",
       "<style scoped>\n",
       "    .dataframe tbody tr th:only-of-type {\n",
       "        vertical-align: middle;\n",
       "    }\n",
       "\n",
       "    .dataframe tbody tr th {\n",
       "        vertical-align: top;\n",
       "    }\n",
       "\n",
       "    .dataframe thead th {\n",
       "        text-align: right;\n",
       "    }\n",
       "</style>\n",
       "<table border=\"1\" class=\"dataframe\">\n",
       "  <thead>\n",
       "    <tr style=\"text-align: right;\">\n",
       "      <th></th>\n",
       "      <th>Material</th>\n",
       "      <th>Amount</th>\n",
       "      <th>Unit</th>\n",
       "    </tr>\n",
       "  </thead>\n",
       "  <tbody>\n",
       "  </tbody>\n",
       "</table>\n",
       "</div>"
      ],
      "text/plain": [
       "Empty DataFrame\n",
       "Columns: [Material, Amount, Unit]\n",
       "Index: []"
      ]
     },
     "metadata": {},
     "output_type": "display_data"
    },
    {
     "name": "stdout",
     "output_type": "stream",
     "text": [
      "<chemistrylab.chem_algorithms.vessel.Vessel object at 0x000002296D6FE188>\n"
     ]
    },
    {
     "data": {
      "text/html": [
       "<div>\n",
       "<style scoped>\n",
       "    .dataframe tbody tr th:only-of-type {\n",
       "        vertical-align: middle;\n",
       "    }\n",
       "\n",
       "    .dataframe tbody tr th {\n",
       "        vertical-align: top;\n",
       "    }\n",
       "\n",
       "    .dataframe thead th {\n",
       "        text-align: right;\n",
       "    }\n",
       "</style>\n",
       "<table border=\"1\" class=\"dataframe\">\n",
       "  <thead>\n",
       "    <tr style=\"text-align: right;\">\n",
       "      <th></th>\n",
       "      <th>Material</th>\n",
       "      <th>Amount</th>\n",
       "      <th>Unit</th>\n",
       "    </tr>\n",
       "  </thead>\n",
       "  <tbody>\n",
       "  </tbody>\n",
       "</table>\n",
       "</div>"
      ],
      "text/plain": [
       "Empty DataFrame\n",
       "Columns: [Material, Amount, Unit]\n",
       "Index: []"
      ]
     },
     "metadata": {},
     "output_type": "display_data"
    }
   ],
   "source": [
    "for v in env.vessels:\n",
    "    print(v)\n",
    "    Display(v.get_material_table())\n",
    "    "
   ]
  },
  {
   "cell_type": "code",
   "execution_count": 18,
   "id": "6c97327b",
   "metadata": {},
   "outputs": [
    {
     "data": {
      "image/png": "[encoded data removed]",
      "text/plain": [
       "<Figure size 864x432 with 6 Axes>"
      ]
     },
     "metadata": {
      "needs_background": "light"
     },
     "output_type": "display_data"
    },
    {
     "name": "stdout",
     "output_type": "stream",
     "text": [
      "5\n",
      "7 0.23236295989797914\n",
      "beaker_1 has no materials.\n",
      "Desired material not found in beaker_1.\n",
      "beaker_2 has no materials.\n",
      "Desired material not found in beaker_2.\n",
      "beaker_1 has no materials.\n",
      "Desired material not found in beaker_1.\n",
      "beaker_2 has no materials.\n",
      "Desired material not found in beaker_2.\n",
      "done_reward (extraction_vessel): 33.33 %, in_vessel: 1.000000e+00, initial: 1.000000e+00\n",
      "6\n"
     ]
    }
   ],
   "source": [
    "done = False\n",
    "env.reset()\n",
    "x = 0\n",
    "\n",
    "while not done:\n",
    "    act = np.random.uniform(0,1,[2])\n",
    "    act[0]*=7.1\n",
    "    if act[0]<7:\n",
    "        act[0]=4\n",
    "    act[1]*=5\n",
    "    obs,_,done,_ = env.step(act)\n",
    "    env.reset()\n",
    "    x+=1\n",
    "    if not done:\n",
    "        clear_output(wait=True)\n",
    "        env.render()\n",
    "    print(x)"
   ]
  },
  {
   "cell_type": "code",
   "execution_count": 10,
   "id": "de201931",
   "metadata": {},
   "outputs": [
    {
     "name": "stdout",
     "output_type": "stream",
     "text": [
      "<chemistrylab.chem_algorithms.vessel.Vessel object at 0x000002296CCB3788>\n"
     ]
    },
    {
     "data": {
      "text/html": [
       "<div>\n",
       "<style scoped>\n",
       "    .dataframe tbody tr th:only-of-type {\n",
       "        vertical-align: middle;\n",
       "    }\n",
       "\n",
       "    .dataframe tbody tr th {\n",
       "        vertical-align: top;\n",
       "    }\n",
       "\n",
       "    .dataframe thead th {\n",
       "        text-align: right;\n",
       "    }\n",
       "</style>\n",
       "<table border=\"1\" class=\"dataframe\">\n",
       "  <thead>\n",
       "    <tr style=\"text-align: right;\">\n",
       "      <th></th>\n",
       "      <th>Material</th>\n",
       "      <th>Amount</th>\n",
       "      <th>Unit</th>\n",
       "    </tr>\n",
       "  </thead>\n",
       "  <tbody>\n",
       "    <tr>\n",
       "      <th>diethyl ether</th>\n",
       "      <td>diethyl ether</td>\n",
       "      <td>4.0</td>\n",
       "      <td>mol</td>\n",
       "    </tr>\n",
       "    <tr>\n",
       "      <th>Na</th>\n",
       "      <td>Na</td>\n",
       "      <td>1.0</td>\n",
       "      <td>mol</td>\n",
       "    </tr>\n",
       "    <tr>\n",
       "      <th>Cl</th>\n",
       "      <td>Cl</td>\n",
       "      <td>1.0</td>\n",
       "      <td>mol</td>\n",
       "    </tr>\n",
       "    <tr>\n",
       "      <th>dodecane</th>\n",
       "      <td>dodecane</td>\n",
       "      <td>1.0</td>\n",
       "      <td>mol</td>\n",
       "    </tr>\n",
       "  </tbody>\n",
       "</table>\n",
       "</div>"
      ],
      "text/plain": [
       "                    Material  Amount Unit\n",
       "diethyl ether  diethyl ether     4.0  mol\n",
       "Na                        Na     1.0  mol\n",
       "Cl                        Cl     1.0  mol\n",
       "dodecane            dodecane     1.0  mol"
      ]
     },
     "metadata": {},
     "output_type": "display_data"
    },
    {
     "name": "stdout",
     "output_type": "stream",
     "text": [
      "<chemistrylab.chem_algorithms.vessel.Vessel object at 0x000002296CA75C08>\n"
     ]
    },
    {
     "data": {
      "text/html": [
       "<div>\n",
       "<style scoped>\n",
       "    .dataframe tbody tr th:only-of-type {\n",
       "        vertical-align: middle;\n",
       "    }\n",
       "\n",
       "    .dataframe tbody tr th {\n",
       "        vertical-align: top;\n",
       "    }\n",
       "\n",
       "    .dataframe thead th {\n",
       "        text-align: right;\n",
       "    }\n",
       "</style>\n",
       "<table border=\"1\" class=\"dataframe\">\n",
       "  <thead>\n",
       "    <tr style=\"text-align: right;\">\n",
       "      <th></th>\n",
       "      <th>Material</th>\n",
       "      <th>Amount</th>\n",
       "      <th>Unit</th>\n",
       "    </tr>\n",
       "  </thead>\n",
       "  <tbody>\n",
       "  </tbody>\n",
       "</table>\n",
       "</div>"
      ],
      "text/plain": [
       "Empty DataFrame\n",
       "Columns: [Material, Amount, Unit]\n",
       "Index: []"
      ]
     },
     "metadata": {},
     "output_type": "display_data"
    },
    {
     "name": "stdout",
     "output_type": "stream",
     "text": [
      "<chemistrylab.chem_algorithms.vessel.Vessel object at 0x000002296CA75CC8>\n"
     ]
    },
    {
     "data": {
      "text/html": [
       "<div>\n",
       "<style scoped>\n",
       "    .dataframe tbody tr th:only-of-type {\n",
       "        vertical-align: middle;\n",
       "    }\n",
       "\n",
       "    .dataframe tbody tr th {\n",
       "        vertical-align: top;\n",
       "    }\n",
       "\n",
       "    .dataframe thead th {\n",
       "        text-align: right;\n",
       "    }\n",
       "</style>\n",
       "<table border=\"1\" class=\"dataframe\">\n",
       "  <thead>\n",
       "    <tr style=\"text-align: right;\">\n",
       "      <th></th>\n",
       "      <th>Material</th>\n",
       "      <th>Amount</th>\n",
       "      <th>Unit</th>\n",
       "    </tr>\n",
       "  </thead>\n",
       "  <tbody>\n",
       "  </tbody>\n",
       "</table>\n",
       "</div>"
      ],
      "text/plain": [
       "Empty DataFrame\n",
       "Columns: [Material, Amount, Unit]\n",
       "Index: []"
      ]
     },
     "metadata": {},
     "output_type": "display_data"
    }
   ],
   "source": [
    "for v in env.vessels:\n",
    "    print(v)\n",
    "    Display(v.get_material_table())"
   ]
  },
  {
   "cell_type": "code",
   "execution_count": 8,
   "id": "6d13a8cc",
   "metadata": {},
   "outputs": [
    {
     "data": {
      "text/plain": [
       "MultiDiscrete([8 5])"
      ]
     },
     "execution_count": 8,
     "metadata": {},
     "output_type": "execute_result"
    }
   ],
   "source": [
    "env.extraction.get_action_space()"
   ]
  },
  {
   "cell_type": "code",
   "execution_count": null,
   "id": "e2d60db7",
   "metadata": {},
   "outputs": [],
   "source": []
  },
  {
   "cell_type": "code",
   "execution_count": null,
   "id": "311abc8b",
   "metadata": {},
   "outputs": [],
   "source": []
  },
  {
   "cell_type": "code",
   "execution_count": null,
   "id": "51347678",
   "metadata": {},
   "outputs": [],
   "source": []
  },
  {
   "cell_type": "markdown",
   "id": "02b4c1f5",
   "metadata": {},
   "source": [
    "# Potentially fixed water_oil_v1"
   ]
  },
  {
   "cell_type": "code",
   "execution_count": 1,
   "id": "8da98f8b",
   "metadata": {},
   "outputs": [
    {
     "name": "stdout",
     "output_type": "stream",
     "text": [
      "<chemistrylab.chem_algorithms.vessel.Vessel object at 0x000002638E1D3348>\n",
      " PATH\n",
      "The provided output vessel path is invalid. The default will be provided. KS\n",
      "Target Material: Na\n",
      "<class 'chemistrylab.reactions.reaction_base._Reaction'>\n",
      "['chloro_wurtz.py', 'chloro_wurtz_v1.py', 'decomp.py', 'equilibrium.py', 'fict_react.py', 'fict_react2.py', 'methyl_red.py', 'ode_check.py', 'template.py', 'water_oil_v1.py', '__init__.py']\n"
     ]
    }
   ],
   "source": [
    "import numpy as np\n",
    "import chemistrylab\n",
    "import sys\n",
    "sys.path.append('../')\n",
    "sys.path.append('../chemistrylab/reactions')\n",
    "\n",
    "from chemistrylab.extract_bench import extract_bench_v1\n",
    "\n",
    "ExtractWorld_Oil_v1 = extract_bench_v1.ExtractWorld_Oil_v1\n",
    "env = ExtractWorld_Oil_v1()"
   ]
  },
  {
   "cell_type": "code",
   "execution_count": 2,
   "id": "57e966b7",
   "metadata": {},
   "outputs": [
    {
     "name": "stdout",
     "output_type": "stream",
     "text": [
      "beaker_1 has no materials.\n",
      "Desired material not found in beaker_1.\n",
      "beaker_1 has no materials.\n",
      "Desired material not found in beaker_1.\n",
      "done_reward (extraction_vessel): 50.0 %, in_vessel: 3.258631e-01, initial: 1.000000e+00\n",
      "done_reward (beaker_2): 50.0 %, in_vessel: 6.741369e-01, initial: 1.000000e+00\n"
     ]
    },
    {
     "data": {
      "text/html": [
       "<div>\n",
       "<style scoped>\n",
       "    .dataframe tbody tr th:only-of-type {\n",
       "        vertical-align: middle;\n",
       "    }\n",
       "\n",
       "    .dataframe tbody tr th {\n",
       "        vertical-align: top;\n",
       "    }\n",
       "\n",
       "    .dataframe thead th {\n",
       "        text-align: right;\n",
       "    }\n",
       "</style>\n",
       "<table border=\"1\" class=\"dataframe\">\n",
       "  <thead>\n",
       "    <tr style=\"text-align: right;\">\n",
       "      <th></th>\n",
       "      <th>Material</th>\n",
       "      <th>Amount</th>\n",
       "      <th>Unit</th>\n",
       "    </tr>\n",
       "  </thead>\n",
       "  <tbody>\n",
       "    <tr>\n",
       "      <th>H2O</th>\n",
       "      <td>H2O</td>\n",
       "      <td>30.0</td>\n",
       "      <td>mol</td>\n",
       "    </tr>\n",
       "    <tr>\n",
       "      <th>Na</th>\n",
       "      <td>Na</td>\n",
       "      <td>1.0</td>\n",
       "      <td>mol</td>\n",
       "    </tr>\n",
       "    <tr>\n",
       "      <th>Cl</th>\n",
       "      <td>Cl</td>\n",
       "      <td>1.0</td>\n",
       "      <td>mol</td>\n",
       "    </tr>\n",
       "  </tbody>\n",
       "</table>\n",
       "</div>"
      ],
      "text/plain": [
       "    Material  Amount Unit\n",
       "H2O      H2O    30.0  mol\n",
       "Na        Na     1.0  mol\n",
       "Cl        Cl     1.0  mol"
      ]
     },
     "execution_count": 2,
     "metadata": {},
     "output_type": "execute_result"
    }
   ],
   "source": [
    "env.reset()\n",
    "env.step([0,0])\n",
    "\n",
    "for x in range(20):\n",
    "    a=[np.random.randint(9),np.random.randint(4)]\n",
    "    _ = env.step(a)\n",
    "\n",
    "\n",
    "obs,rew,done,_ = env.step([9,0])\n",
    "\n",
    "env.extraction_vessel.get_material_table()"
   ]
  },
  {
   "cell_type": "code",
   "execution_count": 3,
   "id": "8b296afe",
   "metadata": {},
   "outputs": [
    {
     "name": "stdout",
     "output_type": "stream",
     "text": [
      "Box(0.0, 1.0, (3, 102), float32)\n",
      "(3, 102)\n",
      "(3, 102)\n"
     ]
    }
   ],
   "source": [
    "print(env.observation_space)\n",
    "print(env.reset().shape)\n",
    "print(env.step([0,0])[0].shape)\n"
   ]
  },
  {
   "cell_type": "code",
   "execution_count": 4,
   "id": "473ee1b7",
   "metadata": {},
   "outputs": [
    {
     "name": "stdout",
     "output_type": "stream",
     "text": [
      "0.25 True\n"
     ]
    }
   ],
   "source": [
    "print(rew,done)"
   ]
  },
  {
   "cell_type": "markdown",
   "id": "551f5217",
   "metadata": {},
   "source": [
    "# Moving on to Methyl red"
   ]
  },
  {
   "cell_type": "code",
   "execution_count": 5,
   "id": "3d231b79",
   "metadata": {},
   "outputs": [],
   "source": [
    "import chemistrylab\n",
    "import numpy as np\n",
    "import sys\n",
    "sys.path.append('../')\n",
    "sys.path.append('../chemistrylab/reactions')\n",
    "from IPython import display\n",
    "Display = display.display\n",
    "\n",
    "\n",
    "from chemistrylab.extract_algorithms import extractions\n",
    "\n",
    "from chemistrylab.extract_bench import methyl_red"
   ]
  },
  {
   "cell_type": "code",
   "execution_count": 6,
   "id": "11a537af",
   "metadata": {
    "scrolled": true
   },
   "outputs": [
    {
     "name": "stdout",
     "output_type": "stream",
     "text": [
      " PATH\n",
      "The provided output vessel path is invalid. The default will be provided. KS\n",
      "Target Material: methyl red\n",
      "<class 'chemistrylab.reactions.reaction_base._Reaction'>\n",
      "['chloro_wurtz.py', 'chloro_wurtz_v1.py', 'decomp.py', 'equilibrium.py', 'fict_react.py', 'fict_react2.py', 'methyl_red.py', 'ode_check.py', 'template.py', 'water_oil_v1.py', '__init__.py']\n"
     ]
    }
   ],
   "source": [
    "env = methyl_red.ExtractWorld_MethylRed()\n"
   ]
  },
  {
   "cell_type": "code",
   "execution_count": 7,
   "id": "e6ca90b6",
   "metadata": {},
   "outputs": [
    {
     "name": "stdout",
     "output_type": "stream",
     "text": [
      "beaker_1 has no materials.\n",
      "Desired material not found in beaker_1.\n",
      "beaker_2 has no materials.\n",
      "Desired material not found in beaker_2.\n",
      "beaker_1 has no materials.\n",
      "Desired material not found in beaker_1.\n",
      "beaker_2 has no materials.\n",
      "Desired material not found in beaker_2.\n",
      "done_reward (extraction_vessel): 64.99 %, in_vessel: 9.280000e-04, initial: 9.280000e-04\n",
      "0.6498599439775911 True\n"
     ]
    },
    {
     "data": {
      "text/html": [
       "<div>\n",
       "<style scoped>\n",
       "    .dataframe tbody tr th:only-of-type {\n",
       "        vertical-align: middle;\n",
       "    }\n",
       "\n",
       "    .dataframe tbody tr th {\n",
       "        vertical-align: top;\n",
       "    }\n",
       "\n",
       "    .dataframe thead th {\n",
       "        text-align: right;\n",
       "    }\n",
       "</style>\n",
       "<table border=\"1\" class=\"dataframe\">\n",
       "  <thead>\n",
       "    <tr style=\"text-align: right;\">\n",
       "      <th></th>\n",
       "      <th>Material</th>\n",
       "      <th>Amount</th>\n",
       "      <th>Unit</th>\n",
       "    </tr>\n",
       "  </thead>\n",
       "  <tbody>\n",
       "    <tr>\n",
       "      <th>H2O</th>\n",
       "      <td>H2O</td>\n",
       "      <td>27.700000</td>\n",
       "      <td>mol</td>\n",
       "    </tr>\n",
       "    <tr>\n",
       "      <th>H</th>\n",
       "      <td>H</td>\n",
       "      <td>0.000250</td>\n",
       "      <td>mol</td>\n",
       "    </tr>\n",
       "    <tr>\n",
       "      <th>Cl</th>\n",
       "      <td>Cl</td>\n",
       "      <td>0.000250</td>\n",
       "      <td>mol</td>\n",
       "    </tr>\n",
       "    <tr>\n",
       "      <th>methyl red</th>\n",
       "      <td>methyl red</td>\n",
       "      <td>0.000928</td>\n",
       "      <td>mol</td>\n",
       "    </tr>\n",
       "  </tbody>\n",
       "</table>\n",
       "</div>"
      ],
      "text/plain": [
       "              Material     Amount Unit\n",
       "H2O                H2O  27.700000  mol\n",
       "H                    H   0.000250  mol\n",
       "Cl                  Cl   0.000250  mol\n",
       "methyl red  methyl red   0.000928  mol"
      ]
     },
     "metadata": {},
     "output_type": "display_data"
    }
   ],
   "source": [
    "env.reset()\n",
    "env.step([0,0])\n",
    "\n",
    "for x in range(20):\n",
    "    a=[np.random.randint(9),np.random.randint(4)]\n",
    "    try:\n",
    "        _ = env.step(a)\n",
    "    except:\n",
    "        print(a)\n",
    "\n",
    "obs,rew,done,_ = env.step([9,0])\n",
    "\n",
    "env.extraction_vessel.get_material_table()\n",
    "print(rew,done)\n",
    "\n",
    "Display(env.extraction_vessel.get_material_table())"
   ]
  },
  {
   "cell_type": "code",
   "execution_count": 8,
   "id": "74b6c7f0",
   "metadata": {},
   "outputs": [
    {
     "name": "stdout",
     "output_type": "stream",
     "text": [
      "Box(0.0, 1.0, (3, 103), float32)\n",
      "(3, 103)\n",
      "(3, 103)\n"
     ]
    }
   ],
   "source": [
    "print(env.observation_space)\n",
    "print(env.reset().shape)\n",
    "print(env.step([0,0])[0].shape)"
   ]
  },
  {
   "cell_type": "markdown",
   "id": "468dde7e",
   "metadata": {},
   "source": [
    "Note: action 0 is busted and lets you get zero or a negative amount of stuff in your vessel"
   ]
  },
  {
   "cell_type": "markdown",
   "id": "e8f6a5f4",
   "metadata": {},
   "source": [
    "# Moving on to Extraction_0"
   ]
  },
  {
   "cell_type": "code",
   "execution_count": 1,
   "id": "bf290ed6",
   "metadata": {},
   "outputs": [],
   "source": [
    "import chemistrylab\n",
    "import numpy as np\n",
    "import sys\n",
    "sys.path.append('../')\n",
    "sys.path.append('../chemistrylab/reactions')\n",
    "from IPython import display\n",
    "Display = display.display\n",
    "\n",
    "\n",
    "from chemistrylab.extract_algorithms import extractions\n",
    "\n",
    "from chemistrylab.extract_bench import extraction_0"
   ]
  },
  {
   "cell_type": "code",
   "execution_count": 2,
   "id": "80b79aa9",
   "metadata": {},
   "outputs": [
    {
     "ename": "TypeError",
     "evalue": "object of type 'NoneType' has no len()",
     "output_type": "error",
     "traceback": [
      "\u001b[1;31m---------------------------------------------------------------------------\u001b[0m",
      "\u001b[1;31mTypeError\u001b[0m                                 Traceback (most recent call last)",
      "\u001b[1;32m<ipython-input-2-b3c569606d63>\u001b[0m in \u001b[0;36m<module>\u001b[1;34m\u001b[0m\n\u001b[0;32m      3\u001b[0m \u001b[0mextract2\u001b[0m \u001b[1;33m=\u001b[0m \u001b[0mextractions\u001b[0m\u001b[1;33m.\u001b[0m\u001b[0mextraction_0\u001b[0m\u001b[1;33m.\u001b[0m\u001b[0mExtraction\u001b[0m\u001b[1;33m(\u001b[0m\u001b[0mextraction_vessel\u001b[0m\u001b[1;33m=\u001b[0m\u001b[0mev0\u001b[0m\u001b[1;33m,\u001b[0m\u001b[0mtarget_material\u001b[0m\u001b[1;33m=\u001b[0m\u001b[1;34m'methyl red'\u001b[0m\u001b[1;33m,\u001b[0m\u001b[0mextractor\u001b[0m\u001b[1;33m=\u001b[0m\u001b[0mextraction_0\u001b[0m\u001b[1;33m.\u001b[0m\u001b[0mEthylAcetate\u001b[0m\u001b[1;33m)\u001b[0m\u001b[1;33m\u001b[0m\u001b[1;33m\u001b[0m\u001b[0m\n\u001b[0;32m      4\u001b[0m \u001b[1;33m\u001b[0m\u001b[0m\n\u001b[1;32m----> 5\u001b[1;33m \u001b[0mv2\u001b[0m\u001b[1;33m,\u001b[0m\u001b[0mev2\u001b[0m\u001b[1;33m,\u001b[0m\u001b[0ms\u001b[0m \u001b[1;33m=\u001b[0m \u001b[0mextract2\u001b[0m\u001b[1;33m.\u001b[0m\u001b[0mreset\u001b[0m\u001b[1;33m(\u001b[0m\u001b[0mev0\u001b[0m\u001b[1;33m,\u001b[0m\u001b[1;32mNone\u001b[0m\u001b[1;33m)\u001b[0m\u001b[1;33m\u001b[0m\u001b[1;33m\u001b[0m\u001b[0m\n\u001b[0m\u001b[0;32m      6\u001b[0m \u001b[1;33m\u001b[0m\u001b[0m\n\u001b[0;32m      7\u001b[0m \u001b[0mv2\u001b[0m\u001b[1;33m,\u001b[0m\u001b[0mev2\u001b[0m\u001b[1;33m,\u001b[0m\u001b[0mr\u001b[0m\u001b[1;33m,\u001b[0m\u001b[0md\u001b[0m \u001b[1;33m=\u001b[0m \u001b[0mextract2\u001b[0m\u001b[1;33m.\u001b[0m\u001b[0mperform_action\u001b[0m\u001b[1;33m(\u001b[0m\u001b[0mv2\u001b[0m\u001b[1;33m,\u001b[0m\u001b[0mev2\u001b[0m\u001b[1;33m,\u001b[0m\u001b[1;33m[\u001b[0m\u001b[1;36m0\u001b[0m\u001b[1;33m,\u001b[0m\u001b[1;36m0\u001b[0m\u001b[1;33m]\u001b[0m\u001b[1;33m)\u001b[0m\u001b[1;33m\u001b[0m\u001b[1;33m\u001b[0m\u001b[0m\n",
      "\u001b[1;32m~\\Documents\\Python Scripts\\ResearchF2022\\CHEMGYM\\chemgymrl\\chemistrylab\\extract_algorithms\\extractions\\extraction_0.py\u001b[0m in \u001b[0;36mreset\u001b[1;34m(self, extraction_vessel, targets)\u001b[0m\n\u001b[0;32m    130\u001b[0m \u001b[1;33m\u001b[0m\u001b[0m\n\u001b[0;32m    131\u001b[0m         \u001b[1;31m#state = util.generate_state(vessels, max_n_vessel=self.n_total_vessels)\u001b[0m\u001b[1;33m\u001b[0m\u001b[1;33m\u001b[0m\u001b[1;33m\u001b[0m\u001b[0m\n\u001b[1;32m--> 132\u001b[1;33m         \u001b[0mstate\u001b[0m \u001b[1;33m=\u001b[0m \u001b[0mnp\u001b[0m\u001b[1;33m.\u001b[0m\u001b[0mzeros\u001b[0m\u001b[1;33m(\u001b[0m\u001b[1;33m(\u001b[0m\u001b[0mself\u001b[0m\u001b[1;33m.\u001b[0m\u001b[0mn_total_vessels\u001b[0m\u001b[1;33m,\u001b[0m \u001b[0mself\u001b[0m\u001b[1;33m.\u001b[0m\u001b[0mn_vessel_pixels\u001b[0m \u001b[1;33m+\u001b[0m \u001b[0mlen\u001b[0m\u001b[1;33m(\u001b[0m\u001b[0mtargets\u001b[0m\u001b[1;33m)\u001b[0m\u001b[1;33m)\u001b[0m\u001b[1;33m,\u001b[0m \u001b[0mdtype\u001b[0m\u001b[1;33m=\u001b[0m\u001b[0mnp\u001b[0m\u001b[1;33m.\u001b[0m\u001b[0mfloat32\u001b[0m\u001b[1;33m)\u001b[0m\u001b[1;33m\u001b[0m\u001b[1;33m\u001b[0m\u001b[0m\n\u001b[0m\u001b[0;32m    133\u001b[0m \u001b[1;33m\u001b[0m\u001b[0m\n\u001b[0;32m    134\u001b[0m         \u001b[1;31m# generate the part of the state indep of your trarget\u001b[0m\u001b[1;33m\u001b[0m\u001b[1;33m\u001b[0m\u001b[1;33m\u001b[0m\u001b[0m\n",
      "\u001b[1;31mTypeError\u001b[0m: object of type 'NoneType' has no len()"
     ]
    }
   ],
   "source": [
    "ev0=extraction_0.extraction_vessel\n",
    "\n",
    "extract2 = extractions.extraction_0.Extraction(extraction_vessel=ev0,target_material='methyl red',extractor=extraction_0.EthylAcetate)\n",
    "\n",
    "v2,ev2,s = extract2.reset(ev0,None)\n",
    "\n",
    "v2,ev2,r,d = extract2.perform_action(v2,ev2,[0,0])\n",
    "\n",
    "G=r\n",
    "\n",
    "for x in range(20):\n",
    "    a=[np.random.randint(9),np.random.randint(4)]\n",
    "    #print(a)\n",
    "    try:\n",
    "        v2,ev2,r,d = extract2.perform_action(v2,ev2,a)\n",
    "    except:\n",
    "        print(a)\n",
    "        1/0\n",
    "    G+=r\n",
    "\n",
    "v2,ev2,r,d = extract2.perform_action(v2,ev2,[9,0])\n",
    "G+=r\n",
    "\n",
    "print(G,d)\n",
    "ev2.get_material_table()"
   ]
  },
  {
   "cell_type": "code",
   "execution_count": null,
   "id": "3d730d1e",
   "metadata": {},
   "outputs": [],
   "source": [
    "for _v in v2:\n",
    "    Display(_v.get_material_table(True))\n",
    "    Display(_v.get_solute_table())\n",
    "    print(\"---------------------------------\")"
   ]
  },
  {
   "cell_type": "code",
   "execution_count": 5,
   "id": "b471d930",
   "metadata": {},
   "outputs": [
    {
     "name": "stdout",
     "output_type": "stream",
     "text": [
      " PATH\n",
      "The provided output vessel path is invalid. The default will be provided. KS\n",
      "Target Material: methyl red\n",
      "<class 'chemistrylab.reactions.reaction_base._Reaction'>\n",
      "['chloro_wurtz.py', 'chloro_wurtz_v1.py', 'decomp.py', 'equilibrium.py', 'fict_react.py', 'fict_react2.py', 'methyl_red.py', 'ode_check.py', 'template.py', 'water_oil_v1.py', '__init__.py']\n",
      "HI\n",
      "[0, 1]\n",
      "done_reward: -7998860.6565964855, in_beaker_2: -74.22942689321539, initial: 0.000928\n",
      "extraction_vessel has no materials.\n",
      "Desired material not found in extraction_vessel.\n",
      "extraction_vessel has no materials.\n",
      "Desired material not found in extraction_vessel.\n",
      "done_reward (beaker_1): 90.03 %, in_vessel: 6.921676e-01, initial: 9.280000e-04\n",
      "done_reward (beaker_2): 94.8 %, in_vessel: -7.422943e+01, initial: 9.280000e-04\n",
      "0.4620566335818437 True\n"
     ]
    },
    {
     "data": {
      "text/html": [
       "<div>\n",
       "<style scoped>\n",
       "    .dataframe tbody tr th:only-of-type {\n",
       "        vertical-align: middle;\n",
       "    }\n",
       "\n",
       "    .dataframe tbody tr th {\n",
       "        vertical-align: top;\n",
       "    }\n",
       "\n",
       "    .dataframe thead th {\n",
       "        text-align: right;\n",
       "    }\n",
       "</style>\n",
       "<table border=\"1\" class=\"dataframe\">\n",
       "  <thead>\n",
       "    <tr style=\"text-align: right;\">\n",
       "      <th></th>\n",
       "      <th>Material</th>\n",
       "      <th>Amount</th>\n",
       "      <th>Unit</th>\n",
       "    </tr>\n",
       "  </thead>\n",
       "  <tbody>\n",
       "    <tr>\n",
       "      <th>H2O</th>\n",
       "      <td>H2O</td>\n",
       "      <td>27.700000</td>\n",
       "      <td>mol</td>\n",
       "    </tr>\n",
       "    <tr>\n",
       "      <th>H</th>\n",
       "      <td>H</td>\n",
       "      <td>0.000250</td>\n",
       "      <td>mol</td>\n",
       "    </tr>\n",
       "    <tr>\n",
       "      <th>Cl</th>\n",
       "      <td>Cl</td>\n",
       "      <td>0.000250</td>\n",
       "      <td>mol</td>\n",
       "    </tr>\n",
       "    <tr>\n",
       "      <th>methyl red</th>\n",
       "      <td>methyl red</td>\n",
       "      <td>0.000928</td>\n",
       "      <td>mol</td>\n",
       "    </tr>\n",
       "  </tbody>\n",
       "</table>\n",
       "</div>"
      ],
      "text/plain": [
       "              Material     Amount Unit\n",
       "H2O                H2O  27.700000  mol\n",
       "H                    H   0.000250  mol\n",
       "Cl                  Cl   0.000250  mol\n",
       "methyl red  methyl red   0.000928  mol"
      ]
     },
     "metadata": {},
     "output_type": "display_data"
    }
   ],
   "source": [
    "env = extraction_0.ExtractWorld_MethylRed()\n",
    "\n",
    "env.reset()\n",
    "env.step([0,0])\n",
    "\n",
    "for x in range(20):\n",
    "    a=[np.random.randint(9),np.random.randint(4)]\n",
    "    try:\n",
    "        _ = env.step(a)\n",
    "    except:\n",
    "        print(a)\n",
    "\n",
    "obs,rew,done,_ = env.step([9,0])\n",
    "\n",
    "env.extraction_vessel.get_material_table()\n",
    "print(rew,done)\n",
    "\n",
    "Display(env.extraction_vessel.get_material_table())"
   ]
  },
  {
   "cell_type": "code",
   "execution_count": 6,
   "id": "00356aa4",
   "metadata": {},
   "outputs": [
    {
     "name": "stdout",
     "output_type": "stream",
     "text": [
      "Box(0.0, 1.0, (3, 103), float32)\n",
      "(3, 103)\n",
      "(3, 103)\n"
     ]
    }
   ],
   "source": [
    "print(env.observation_space)\n",
    "print(env.reset().shape)\n",
    "print(env.step([0,0])[0].shape)"
   ]
  },
  {
   "cell_type": "markdown",
   "id": "8373ba3f",
   "metadata": {},
   "source": [
    "# How to fix in general:\n",
    "\n",
    "\n",
    "1. create instances of your materials (Ex H -> H())\n",
    "    - This needs to happen when preparing the initial vessel and in reset\n",
    "    - Can be done just once in reset\n",
    "2. Add 'targets' input parameter to reset() and get_observation_space()\n",
    "    - This step may be more involved to make the obervation space match the observations\n",
    "    - Requires some modification to observation size and observation array\n",
    "3. Add in reaction file with the prodects and solvents of the reaction"
   ]
  },
  {
   "cell_type": "markdown",
   "id": "5e708f51",
   "metadata": {},
   "source": [
    "# Distillation Bench"
   ]
  },
  {
   "cell_type": "code",
   "execution_count": 1,
   "id": "217f95c4",
   "metadata": {},
   "outputs": [
    {
     "name": "stdout",
     "output_type": "stream",
     "text": [
      "['WurtzDistill-v1']\n",
      "chemistrylab.distillation_bench.distillation_bench_v1:WurtzDistill_v1\n"
     ]
    }
   ],
   "source": [
    "import chemistrylab,time\n",
    "import sys\n",
    "sys.path.append('../')\n",
    "sys.path.append('../chemistrylab/reactions')\n",
    "import gym\n",
    "import numpy as np\n",
    "from gym import envs\n",
    "import pandas as pd\n",
    "import numpy as np\n",
    "from IPython import display\n",
    "Display = display.display\n",
    "from matplotlib import pyplot as plt\n",
    "from IPython.display import clear_output\n",
    "\n",
    "all_envs = envs.registry.all()\n",
    "reg = envs.registry\n",
    "env_ids = [env_spec.id for env_spec in all_envs if 'Distill' in env_spec.id]\n",
    "print(env_ids)\n",
    "\n",
    "print(reg.env_specs[\"WurtzDistill-v1\"].entry_point)\n"
   ]
  },
  {
   "cell_type": "code",
   "execution_count": 2,
   "id": "5b0778ba",
   "metadata": {},
   "outputs": [],
   "source": [
    "from chemistrylab.distillation_bench import distillation_bench_v1\n",
    "\n",
    "distill = distillation_bench_v1.WurtzDistill_v1()"
   ]
  },
  {
   "cell_type": "code",
   "execution_count": 3,
   "id": "68d47c21",
   "metadata": {},
   "outputs": [
    {
     "data": {
      "text/plain": [
       "<matplotlib.image.AxesImage at 0x1a8280ccb88>"
      ]
     },
     "execution_count": 3,
     "metadata": {},
     "output_type": "execute_result"
    },
    {
     "data": {
      "image/png": "[encoded data removed]",
      "text/plain": [
       "<Figure size 1440x600 with 1 Axes>"
      ]
     },
     "metadata": {},
     "output_type": "display_data"
    }
   ],
   "source": [
    "obs0 = distill.reset()\n",
    "fig = plt.figure(1,figsize=(6,2.5), dpi=240, facecolor='w', edgecolor='k')\n",
    "plt.imshow(obs0)"
   ]
  },
  {
   "cell_type": "code",
   "execution_count": 4,
   "id": "82c81ccb",
   "metadata": {},
   "outputs": [
    {
     "name": "stdout",
     "output_type": "stream",
     "text": [
      "(3, 110)\n",
      "(3, 110)\n",
      "Box(0.0, 1.0, (3, 103), float32)\n"
     ]
    }
   ],
   "source": [
    "print(obs0.shape)\n",
    "print(distill.step([0,0])[0].shape)\n",
    "print(distill.observation_space)"
   ]
  },
  {
   "cell_type": "code",
   "execution_count": 10,
   "id": "13503251",
   "metadata": {},
   "outputs": [
    {
     "name": "stdout",
     "output_type": "stream",
     "text": [
      "------------------------------------------------------------\n",
      "WurtzExtract-v1:Passed\n",
      "------------------------------------------------------------\n",
      "WurtzExtract_Ctd-v1:failed\n",
      "ERROR: Requested Reaction File Not Found in Directory!\n",
      "------------------------------------------------------------\n",
      "Oil_Water_Extract-v1:<chemistrylab.chem_algorithms.vessel.Vessel object at 0x000001634A373B08>\n",
      "The provided output vessel path is invalid. The default will be provided. KS\n",
      "Passed\n",
      "------------------------------------------------------------\n",
      "MethylRed_Extract-v1:The provided output vessel path is invalid. The default will be provided. KS\n",
      "Passed\n",
      "------------------------------------------------------------\n",
      "MethylRed_Extract-v2:The provided output vessel path is invalid. The default will be provided. KS\n",
      "Passed\n",
      "------------------------------------------------------------\n",
      "WurtzReact-v1:Passed\n",
      "------------------------------------------------------------\n",
      "GenWurtzReact-v1:Passed\n",
      "------------------------------------------------------------\n",
      "FictReact-v1:Passed\n",
      "------------------------------------------------------------\n",
      "FictReact-v2:Passed\n",
      "------------------------------------------------------------\n",
      "DecompReact-v0:failed\n",
      "__init__() got an unexpected keyword argument 'solutes'\n",
      "------------------------------------------------------------\n",
      "WurtzReact-v2:failed\n",
      "__init__() got an unexpected keyword argument 'solutes'\n",
      "------------------------------------------------------------\n",
      "ODETestReact-v0:failed\n",
      "__init__() got an unexpected keyword argument 'solutes'\n",
      "------------------------------------------------------------\n",
      "WurtzDistill-v1:Passed\n"
     ]
    }
   ],
   "source": [
    "def ischemgym(x):\n",
    "    if \"Distill\" in x:return True\n",
    "    if \"Extract\" in x: return True\n",
    "    if \"React\" in x: return True\n",
    "    return False\n",
    "\n",
    "env_ids = [env_spec.id for env_spec in all_envs if ischemgym(env_spec.id)]\n",
    "\n",
    "\n",
    "for id in env_ids:\n",
    "    \n",
    "    print(\"-\"*60+\"\\n\"+id,end=\":\")\n",
    "    try:\n",
    "        env=gym.make(id)\n",
    "        print(\"Passed\")\n",
    "    except Exception as e:\n",
    "        print(\"failed\")\n",
    "        print(e)"
   ]
  },
  {
   "cell_type": "code",
   "execution_count": 5,
   "id": "59fc4bfd",
   "metadata": {},
   "outputs": [
    {
     "name": "stdout",
     "output_type": "stream",
     "text": [
      "WARNING:tensorflow:\n",
      "The TensorFlow contrib module will not be included in TensorFlow 2.0.\n",
      "For more information, please see:\n",
      "  * https://github.com/tensorflow/community/blob/master/rfcs/20180907-contrib-sunset.md\n",
      "  * https://github.com/tensorflow/addons\n",
      "  * https://github.com/tensorflow/io (for I/O related ops)\n",
      "If you depend on functionality not listed there, please file an issue.\n",
      "\n",
      "['WurtzReact-v1', 'GenWurtzReact-v1', 'FictReact-v1', 'FictReact-v2', 'DecompReact-v0', 'WurtzReact-v2', 'ODETestReact-v0']\n",
      "(3, 110)\n",
      "The action space is MultiDiscrete([ 5 10])\n",
      "The observation space is Box(0.0, 1.0, (3, 103), float32)\n",
      "Wrapping the env in a DummyVecEnv.\n",
      "WARNING:tensorflow:From C:\\Users\\sprag\\anaconda3\\envs\\gymbaselines\\lib\\site-packages\\stable_baselines\\common\\misc_util.py:26: The name tf.set_random_seed is deprecated. Please use tf.compat.v1.set_random_seed instead.\n",
      "\n",
      "WARNING:tensorflow:From C:\\Users\\sprag\\anaconda3\\envs\\gymbaselines\\lib\\site-packages\\stable_baselines\\common\\tf_util.py:191: The name tf.ConfigProto is deprecated. Please use tf.compat.v1.ConfigProto instead.\n",
      "\n",
      "WARNING:tensorflow:From C:\\Users\\sprag\\anaconda3\\envs\\gymbaselines\\lib\\site-packages\\stable_baselines\\common\\tf_util.py:200: The name tf.Session is deprecated. Please use tf.compat.v1.Session instead.\n",
      "\n",
      "WARNING:tensorflow:From C:\\Users\\sprag\\anaconda3\\envs\\gymbaselines\\lib\\site-packages\\stable_baselines\\common\\policies.py:116: The name tf.variable_scope is deprecated. Please use tf.compat.v1.variable_scope instead.\n",
      "\n",
      "WARNING:tensorflow:From C:\\Users\\sprag\\anaconda3\\envs\\gymbaselines\\lib\\site-packages\\stable_baselines\\common\\input.py:25: The name tf.placeholder is deprecated. Please use tf.compat.v1.placeholder instead.\n",
      "\n",
      "WARNING:tensorflow:From C:\\Users\\sprag\\anaconda3\\envs\\gymbaselines\\lib\\site-packages\\stable_baselines\\common\\policies.py:561: flatten (from tensorflow.python.layers.core) is deprecated and will be removed in a future version.\n",
      "Instructions for updating:\n",
      "Use keras.layers.flatten instead.\n",
      "WARNING:tensorflow:From C:\\Users\\sprag\\anaconda3\\envs\\gymbaselines\\lib\\site-packages\\tensorflow_core\\python\\layers\\core.py:332: Layer.apply (from tensorflow.python.keras.engine.base_layer) is deprecated and will be removed in a future version.\n",
      "Instructions for updating:\n",
      "Please use `layer.__call__` method instead.\n",
      "WARNING:tensorflow:From C:\\Users\\sprag\\anaconda3\\envs\\gymbaselines\\lib\\site-packages\\stable_baselines\\common\\tf_layers.py:123: The name tf.get_variable is deprecated. Please use tf.compat.v1.get_variable instead.\n",
      "\n",
      "WARNING:tensorflow:From C:\\Users\\sprag\\anaconda3\\envs\\gymbaselines\\lib\\site-packages\\stable_baselines\\common\\distributions.py:326: The name tf.random_uniform is deprecated. Please use tf.random.uniform instead.\n",
      "\n",
      "WARNING:tensorflow:From C:\\Users\\sprag\\anaconda3\\envs\\gymbaselines\\lib\\site-packages\\stable_baselines\\common\\distributions.py:327: The name tf.log is deprecated. Please use tf.math.log instead.\n",
      "\n"
     ]
    },
    {
     "name": "stderr",
     "output_type": "stream",
     "text": [
      "C:\\Users\\sprag\\anaconda3\\envs\\gymbaselines\\lib\\site-packages\\stable_baselines\\__init__.py:33: UserWarning: stable-baselines is in maintenance mode, please use [Stable-Baselines3 (SB3)](https://github.com/DLR-RM/stable-baselines3) for an up-to-date version. You can find a [migration guide](https://stable-baselines3.readthedocs.io/en/master/guide/migration.html) in SB3 documentation.\n",
      "  \"stable-baselines is in maintenance mode, please use [Stable-Baselines3 (SB3)](https://github.com/DLR-RM/stable-baselines3) for an up-to-date version. You can find a [migration guide](https://stable-baselines3.readthedocs.io/en/master/guide/migration.html) in SB3 documentation.\"\n"
     ]
    },
    {
     "name": "stdout",
     "output_type": "stream",
     "text": [
      "WARNING:tensorflow:From C:\\Users\\sprag\\anaconda3\\envs\\gymbaselines\\lib\\site-packages\\stable_baselines\\ppo2\\ppo2.py:190: The name tf.summary.scalar is deprecated. Please use tf.compat.v1.summary.scalar instead.\n",
      "\n",
      "WARNING:tensorflow:From C:\\Users\\sprag\\anaconda3\\envs\\gymbaselines\\lib\\site-packages\\stable_baselines\\ppo2\\ppo2.py:198: The name tf.trainable_variables is deprecated. Please use tf.compat.v1.trainable_variables instead.\n",
      "\n",
      "WARNING:tensorflow:From C:\\Users\\sprag\\anaconda3\\envs\\gymbaselines\\lib\\site-packages\\tensorflow_core\\python\\ops\\math_grad.py:1424: where (from tensorflow.python.ops.array_ops) is deprecated and will be removed in a future version.\n",
      "Instructions for updating:\n",
      "Use tf.where in 2.0, which has the same broadcast rule as np.where\n",
      "WARNING:tensorflow:From C:\\Users\\sprag\\anaconda3\\envs\\gymbaselines\\lib\\site-packages\\stable_baselines\\ppo2\\ppo2.py:206: The name tf.train.AdamOptimizer is deprecated. Please use tf.compat.v1.train.AdamOptimizer instead.\n",
      "\n",
      "WARNING:tensorflow:From C:\\Users\\sprag\\anaconda3\\envs\\gymbaselines\\lib\\site-packages\\stable_baselines\\ppo2\\ppo2.py:240: The name tf.global_variables_initializer is deprecated. Please use tf.compat.v1.global_variables_initializer instead.\n",
      "\n",
      "WARNING:tensorflow:From C:\\Users\\sprag\\anaconda3\\envs\\gymbaselines\\lib\\site-packages\\stable_baselines\\ppo2\\ppo2.py:242: The name tf.summary.merge_all is deprecated. Please use tf.compat.v1.summary.merge_all instead.\n",
      "\n"
     ]
    },
    {
     "ename": "ValueError",
     "evalue": "could not broadcast input array from shape (3,110) into shape (3,103)",
     "output_type": "error",
     "traceback": [
      "\u001b[1;31m---------------------------------------------------------------------------\u001b[0m",
      "\u001b[1;31mValueError\u001b[0m                                Traceback (most recent call last)",
      "\u001b[1;32m<ipython-input-5-ef2d93eb9231>\u001b[0m in \u001b[0;36m<module>\u001b[1;34m\u001b[0m\n\u001b[0;32m    104\u001b[0m \u001b[0mcallback\u001b[0m \u001b[1;33m=\u001b[0m \u001b[0mSaveOnBestTrainingRewardCallback\u001b[0m\u001b[1;33m(\u001b[0m\u001b[0mcheck_freq\u001b[0m\u001b[1;33m=\u001b[0m\u001b[1;36m100\u001b[0m\u001b[1;33m,\u001b[0m \u001b[0mlog_dir\u001b[0m\u001b[1;33m=\u001b[0m\u001b[0mlog_dir\u001b[0m\u001b[1;33m)\u001b[0m\u001b[1;33m\u001b[0m\u001b[1;33m\u001b[0m\u001b[0m\n\u001b[0;32m    105\u001b[0m \u001b[0mtime_steps\u001b[0m \u001b[1;33m=\u001b[0m \u001b[1;36m25000\u001b[0m\u001b[1;33m\u001b[0m\u001b[1;33m\u001b[0m\u001b[0m\n\u001b[1;32m--> 106\u001b[1;33m \u001b[0mmodel\u001b[0m\u001b[1;33m.\u001b[0m\u001b[0mlearn\u001b[0m\u001b[1;33m(\u001b[0m\u001b[0mtotal_timesteps\u001b[0m\u001b[1;33m=\u001b[0m\u001b[0mtime_steps\u001b[0m\u001b[1;33m,\u001b[0m \u001b[0mcallback\u001b[0m\u001b[1;33m=\u001b[0m\u001b[0mcallback\u001b[0m\u001b[1;33m,\u001b[0m \u001b[0mlog_interval\u001b[0m\u001b[1;33m=\u001b[0m\u001b[1;36m100\u001b[0m\u001b[1;33m)\u001b[0m\u001b[1;33m\u001b[0m\u001b[1;33m\u001b[0m\u001b[0m\n\u001b[0m\u001b[0;32m    107\u001b[0m \u001b[0mx\u001b[0m\u001b[1;33m,\u001b[0m \u001b[0my\u001b[0m \u001b[1;33m=\u001b[0m \u001b[0mts2xy\u001b[0m\u001b[1;33m(\u001b[0m\u001b[0mload_results\u001b[0m\u001b[1;33m(\u001b[0m\u001b[0mlog_dir\u001b[0m\u001b[1;33m)\u001b[0m\u001b[1;33m,\u001b[0m \u001b[1;34m'timesteps'\u001b[0m\u001b[1;33m)\u001b[0m\u001b[1;33m\u001b[0m\u001b[1;33m\u001b[0m\u001b[0m\n\u001b[0;32m    108\u001b[0m \u001b[1;31m#print(\"The value of y are\", y)\u001b[0m\u001b[1;33m\u001b[0m\u001b[1;33m\u001b[0m\u001b[1;33m\u001b[0m\u001b[0m\n",
      "\u001b[1;32m~\\anaconda3\\envs\\gymbaselines\\lib\\site-packages\\stable_baselines\\ppo2\\ppo2.py\u001b[0m in \u001b[0;36mlearn\u001b[1;34m(self, total_timesteps, callback, log_interval, tb_log_name, reset_num_timesteps)\u001b[0m\n\u001b[0;32m    334\u001b[0m                 \u001b[0mcallback\u001b[0m\u001b[1;33m.\u001b[0m\u001b[0mon_rollout_start\u001b[0m\u001b[1;33m(\u001b[0m\u001b[1;33m)\u001b[0m\u001b[1;33m\u001b[0m\u001b[1;33m\u001b[0m\u001b[0m\n\u001b[0;32m    335\u001b[0m                 \u001b[1;31m# true_reward is the reward without discount\u001b[0m\u001b[1;33m\u001b[0m\u001b[1;33m\u001b[0m\u001b[1;33m\u001b[0m\u001b[0m\n\u001b[1;32m--> 336\u001b[1;33m                 \u001b[0mrollout\u001b[0m \u001b[1;33m=\u001b[0m \u001b[0mself\u001b[0m\u001b[1;33m.\u001b[0m\u001b[0mrunner\u001b[0m\u001b[1;33m.\u001b[0m\u001b[0mrun\u001b[0m\u001b[1;33m(\u001b[0m\u001b[0mcallback\u001b[0m\u001b[1;33m)\u001b[0m\u001b[1;33m\u001b[0m\u001b[1;33m\u001b[0m\u001b[0m\n\u001b[0m\u001b[0;32m    337\u001b[0m                 \u001b[1;31m# Unpack\u001b[0m\u001b[1;33m\u001b[0m\u001b[1;33m\u001b[0m\u001b[1;33m\u001b[0m\u001b[0m\n\u001b[0;32m    338\u001b[0m                 \u001b[0mobs\u001b[0m\u001b[1;33m,\u001b[0m \u001b[0mreturns\u001b[0m\u001b[1;33m,\u001b[0m \u001b[0mmasks\u001b[0m\u001b[1;33m,\u001b[0m \u001b[0mactions\u001b[0m\u001b[1;33m,\u001b[0m \u001b[0mvalues\u001b[0m\u001b[1;33m,\u001b[0m \u001b[0mneglogpacs\u001b[0m\u001b[1;33m,\u001b[0m \u001b[0mstates\u001b[0m\u001b[1;33m,\u001b[0m \u001b[0mep_infos\u001b[0m\u001b[1;33m,\u001b[0m \u001b[0mtrue_reward\u001b[0m \u001b[1;33m=\u001b[0m \u001b[0mrollout\u001b[0m\u001b[1;33m\u001b[0m\u001b[1;33m\u001b[0m\u001b[0m\n",
      "\u001b[1;32m~\\anaconda3\\envs\\gymbaselines\\lib\\site-packages\\stable_baselines\\common\\base_class.py\u001b[0m in \u001b[0;36mrunner\u001b[1;34m(self)\u001b[0m\n\u001b[0;32m    792\u001b[0m     \u001b[1;32mdef\u001b[0m \u001b[0mrunner\u001b[0m\u001b[1;33m(\u001b[0m\u001b[0mself\u001b[0m\u001b[1;33m)\u001b[0m \u001b[1;33m->\u001b[0m \u001b[0mAbstractEnvRunner\u001b[0m\u001b[1;33m:\u001b[0m\u001b[1;33m\u001b[0m\u001b[1;33m\u001b[0m\u001b[0m\n\u001b[0;32m    793\u001b[0m         \u001b[1;32mif\u001b[0m \u001b[0mself\u001b[0m\u001b[1;33m.\u001b[0m\u001b[0m_runner\u001b[0m \u001b[1;32mis\u001b[0m \u001b[1;32mNone\u001b[0m\u001b[1;33m:\u001b[0m\u001b[1;33m\u001b[0m\u001b[1;33m\u001b[0m\u001b[0m\n\u001b[1;32m--> 794\u001b[1;33m             \u001b[0mself\u001b[0m\u001b[1;33m.\u001b[0m\u001b[0m_runner\u001b[0m \u001b[1;33m=\u001b[0m \u001b[0mself\u001b[0m\u001b[1;33m.\u001b[0m\u001b[0m_make_runner\u001b[0m\u001b[1;33m(\u001b[0m\u001b[1;33m)\u001b[0m\u001b[1;33m\u001b[0m\u001b[1;33m\u001b[0m\u001b[0m\n\u001b[0m\u001b[0;32m    795\u001b[0m         \u001b[1;32mreturn\u001b[0m \u001b[0mself\u001b[0m\u001b[1;33m.\u001b[0m\u001b[0m_runner\u001b[0m\u001b[1;33m\u001b[0m\u001b[1;33m\u001b[0m\u001b[0m\n\u001b[0;32m    796\u001b[0m \u001b[1;33m\u001b[0m\u001b[0m\n",
      "\u001b[1;32m~\\anaconda3\\envs\\gymbaselines\\lib\\site-packages\\stable_baselines\\ppo2\\ppo2.py\u001b[0m in \u001b[0;36m_make_runner\u001b[1;34m(self)\u001b[0m\n\u001b[0;32m     99\u001b[0m     \u001b[1;32mdef\u001b[0m \u001b[0m_make_runner\u001b[0m\u001b[1;33m(\u001b[0m\u001b[0mself\u001b[0m\u001b[1;33m)\u001b[0m\u001b[1;33m:\u001b[0m\u001b[1;33m\u001b[0m\u001b[1;33m\u001b[0m\u001b[0m\n\u001b[0;32m    100\u001b[0m         return Runner(env=self.env, model=self, n_steps=self.n_steps,\n\u001b[1;32m--> 101\u001b[1;33m                       gamma=self.gamma, lam=self.lam)\n\u001b[0m\u001b[0;32m    102\u001b[0m \u001b[1;33m\u001b[0m\u001b[0m\n\u001b[0;32m    103\u001b[0m     \u001b[1;32mdef\u001b[0m \u001b[0m_get_pretrain_placeholders\u001b[0m\u001b[1;33m(\u001b[0m\u001b[0mself\u001b[0m\u001b[1;33m)\u001b[0m\u001b[1;33m:\u001b[0m\u001b[1;33m\u001b[0m\u001b[1;33m\u001b[0m\u001b[0m\n",
      "\u001b[1;32m~\\anaconda3\\envs\\gymbaselines\\lib\\site-packages\\stable_baselines\\ppo2\\ppo2.py\u001b[0m in \u001b[0;36m__init__\u001b[1;34m(self, env, model, n_steps, gamma, lam)\u001b[0m\n\u001b[0;32m    447\u001b[0m         \u001b[1;33m:\u001b[0m\u001b[0mparam\u001b[0m \u001b[0mlam\u001b[0m\u001b[1;33m:\u001b[0m \u001b[1;33m(\u001b[0m\u001b[0mfloat\u001b[0m\u001b[1;33m)\u001b[0m \u001b[0mFactor\u001b[0m \u001b[1;32mfor\u001b[0m \u001b[0mtrade\u001b[0m\u001b[1;33m-\u001b[0m\u001b[0moff\u001b[0m \u001b[0mof\u001b[0m \u001b[0mbias\u001b[0m \u001b[0mvs\u001b[0m \u001b[0mvariance\u001b[0m \u001b[1;32mfor\u001b[0m \u001b[0mGeneralized\u001b[0m \u001b[0mAdvantage\u001b[0m \u001b[0mEstimator\u001b[0m\u001b[1;33m\u001b[0m\u001b[1;33m\u001b[0m\u001b[0m\n\u001b[0;32m    448\u001b[0m         \"\"\"\n\u001b[1;32m--> 449\u001b[1;33m         \u001b[0msuper\u001b[0m\u001b[1;33m(\u001b[0m\u001b[1;33m)\u001b[0m\u001b[1;33m.\u001b[0m\u001b[0m__init__\u001b[0m\u001b[1;33m(\u001b[0m\u001b[0menv\u001b[0m\u001b[1;33m=\u001b[0m\u001b[0menv\u001b[0m\u001b[1;33m,\u001b[0m \u001b[0mmodel\u001b[0m\u001b[1;33m=\u001b[0m\u001b[0mmodel\u001b[0m\u001b[1;33m,\u001b[0m \u001b[0mn_steps\u001b[0m\u001b[1;33m=\u001b[0m\u001b[0mn_steps\u001b[0m\u001b[1;33m)\u001b[0m\u001b[1;33m\u001b[0m\u001b[1;33m\u001b[0m\u001b[0m\n\u001b[0m\u001b[0;32m    450\u001b[0m         \u001b[0mself\u001b[0m\u001b[1;33m.\u001b[0m\u001b[0mlam\u001b[0m \u001b[1;33m=\u001b[0m \u001b[0mlam\u001b[0m\u001b[1;33m\u001b[0m\u001b[1;33m\u001b[0m\u001b[0m\n\u001b[0;32m    451\u001b[0m         \u001b[0mself\u001b[0m\u001b[1;33m.\u001b[0m\u001b[0mgamma\u001b[0m \u001b[1;33m=\u001b[0m \u001b[0mgamma\u001b[0m\u001b[1;33m\u001b[0m\u001b[1;33m\u001b[0m\u001b[0m\n",
      "\u001b[1;32m~\\anaconda3\\envs\\gymbaselines\\lib\\site-packages\\stable_baselines\\common\\runners.py\u001b[0m in \u001b[0;36m__init__\u001b[1;34m(self, env, model, n_steps)\u001b[0m\n\u001b[0;32m     29\u001b[0m         \u001b[0mself\u001b[0m\u001b[1;33m.\u001b[0m\u001b[0mbatch_ob_shape\u001b[0m \u001b[1;33m=\u001b[0m \u001b[1;33m(\u001b[0m\u001b[0mn_envs\u001b[0m \u001b[1;33m*\u001b[0m \u001b[0mn_steps\u001b[0m\u001b[1;33m,\u001b[0m\u001b[1;33m)\u001b[0m \u001b[1;33m+\u001b[0m \u001b[0menv\u001b[0m\u001b[1;33m.\u001b[0m\u001b[0mobservation_space\u001b[0m\u001b[1;33m.\u001b[0m\u001b[0mshape\u001b[0m\u001b[1;33m\u001b[0m\u001b[1;33m\u001b[0m\u001b[0m\n\u001b[0;32m     30\u001b[0m         \u001b[0mself\u001b[0m\u001b[1;33m.\u001b[0m\u001b[0mobs\u001b[0m \u001b[1;33m=\u001b[0m \u001b[0mnp\u001b[0m\u001b[1;33m.\u001b[0m\u001b[0mzeros\u001b[0m\u001b[1;33m(\u001b[0m\u001b[1;33m(\u001b[0m\u001b[0mn_envs\u001b[0m\u001b[1;33m,\u001b[0m\u001b[1;33m)\u001b[0m \u001b[1;33m+\u001b[0m \u001b[0menv\u001b[0m\u001b[1;33m.\u001b[0m\u001b[0mobservation_space\u001b[0m\u001b[1;33m.\u001b[0m\u001b[0mshape\u001b[0m\u001b[1;33m,\u001b[0m \u001b[0mdtype\u001b[0m\u001b[1;33m=\u001b[0m\u001b[0menv\u001b[0m\u001b[1;33m.\u001b[0m\u001b[0mobservation_space\u001b[0m\u001b[1;33m.\u001b[0m\u001b[0mdtype\u001b[0m\u001b[1;33m.\u001b[0m\u001b[0mname\u001b[0m\u001b[1;33m)\u001b[0m\u001b[1;33m\u001b[0m\u001b[1;33m\u001b[0m\u001b[0m\n\u001b[1;32m---> 31\u001b[1;33m         \u001b[0mself\u001b[0m\u001b[1;33m.\u001b[0m\u001b[0mobs\u001b[0m\u001b[1;33m[\u001b[0m\u001b[1;33m:\u001b[0m\u001b[1;33m]\u001b[0m \u001b[1;33m=\u001b[0m \u001b[0menv\u001b[0m\u001b[1;33m.\u001b[0m\u001b[0mreset\u001b[0m\u001b[1;33m(\u001b[0m\u001b[1;33m)\u001b[0m\u001b[1;33m\u001b[0m\u001b[1;33m\u001b[0m\u001b[0m\n\u001b[0m\u001b[0;32m     32\u001b[0m         \u001b[0mself\u001b[0m\u001b[1;33m.\u001b[0m\u001b[0mn_steps\u001b[0m \u001b[1;33m=\u001b[0m \u001b[0mn_steps\u001b[0m\u001b[1;33m\u001b[0m\u001b[1;33m\u001b[0m\u001b[0m\n\u001b[0;32m     33\u001b[0m         \u001b[0mself\u001b[0m\u001b[1;33m.\u001b[0m\u001b[0mstates\u001b[0m \u001b[1;33m=\u001b[0m \u001b[0mmodel\u001b[0m\u001b[1;33m.\u001b[0m\u001b[0minitial_state\u001b[0m  \u001b[1;31m# pytype: disable=attribute-error\u001b[0m\u001b[1;33m\u001b[0m\u001b[1;33m\u001b[0m\u001b[0m\n",
      "\u001b[1;32m~\\anaconda3\\envs\\gymbaselines\\lib\\site-packages\\stable_baselines\\common\\vec_env\\dummy_vec_env.py\u001b[0m in \u001b[0;36mreset\u001b[1;34m(self)\u001b[0m\n\u001b[0;32m     60\u001b[0m         \u001b[1;32mfor\u001b[0m \u001b[0menv_idx\u001b[0m \u001b[1;32min\u001b[0m \u001b[0mrange\u001b[0m\u001b[1;33m(\u001b[0m\u001b[0mself\u001b[0m\u001b[1;33m.\u001b[0m\u001b[0mnum_envs\u001b[0m\u001b[1;33m)\u001b[0m\u001b[1;33m:\u001b[0m\u001b[1;33m\u001b[0m\u001b[1;33m\u001b[0m\u001b[0m\n\u001b[0;32m     61\u001b[0m             \u001b[0mobs\u001b[0m \u001b[1;33m=\u001b[0m \u001b[0mself\u001b[0m\u001b[1;33m.\u001b[0m\u001b[0menvs\u001b[0m\u001b[1;33m[\u001b[0m\u001b[0menv_idx\u001b[0m\u001b[1;33m]\u001b[0m\u001b[1;33m.\u001b[0m\u001b[0mreset\u001b[0m\u001b[1;33m(\u001b[0m\u001b[1;33m)\u001b[0m\u001b[1;33m\u001b[0m\u001b[1;33m\u001b[0m\u001b[0m\n\u001b[1;32m---> 62\u001b[1;33m             \u001b[0mself\u001b[0m\u001b[1;33m.\u001b[0m\u001b[0m_save_obs\u001b[0m\u001b[1;33m(\u001b[0m\u001b[0menv_idx\u001b[0m\u001b[1;33m,\u001b[0m \u001b[0mobs\u001b[0m\u001b[1;33m)\u001b[0m\u001b[1;33m\u001b[0m\u001b[1;33m\u001b[0m\u001b[0m\n\u001b[0m\u001b[0;32m     63\u001b[0m         \u001b[1;32mreturn\u001b[0m \u001b[0mself\u001b[0m\u001b[1;33m.\u001b[0m\u001b[0m_obs_from_buf\u001b[0m\u001b[1;33m(\u001b[0m\u001b[1;33m)\u001b[0m\u001b[1;33m\u001b[0m\u001b[1;33m\u001b[0m\u001b[0m\n\u001b[0;32m     64\u001b[0m \u001b[1;33m\u001b[0m\u001b[0m\n",
      "\u001b[1;32m~\\anaconda3\\envs\\gymbaselines\\lib\\site-packages\\stable_baselines\\common\\vec_env\\dummy_vec_env.py\u001b[0m in \u001b[0;36m_save_obs\u001b[1;34m(self, env_idx, obs)\u001b[0m\n\u001b[0;32m     90\u001b[0m         \u001b[1;32mfor\u001b[0m \u001b[0mkey\u001b[0m \u001b[1;32min\u001b[0m \u001b[0mself\u001b[0m\u001b[1;33m.\u001b[0m\u001b[0mkeys\u001b[0m\u001b[1;33m:\u001b[0m\u001b[1;33m\u001b[0m\u001b[1;33m\u001b[0m\u001b[0m\n\u001b[0;32m     91\u001b[0m             \u001b[1;32mif\u001b[0m \u001b[0mkey\u001b[0m \u001b[1;32mis\u001b[0m \u001b[1;32mNone\u001b[0m\u001b[1;33m:\u001b[0m\u001b[1;33m\u001b[0m\u001b[1;33m\u001b[0m\u001b[0m\n\u001b[1;32m---> 92\u001b[1;33m                 \u001b[0mself\u001b[0m\u001b[1;33m.\u001b[0m\u001b[0mbuf_obs\u001b[0m\u001b[1;33m[\u001b[0m\u001b[0mkey\u001b[0m\u001b[1;33m]\u001b[0m\u001b[1;33m[\u001b[0m\u001b[0menv_idx\u001b[0m\u001b[1;33m]\u001b[0m \u001b[1;33m=\u001b[0m \u001b[0mobs\u001b[0m\u001b[1;33m\u001b[0m\u001b[1;33m\u001b[0m\u001b[0m\n\u001b[0m\u001b[0;32m     93\u001b[0m             \u001b[1;32melse\u001b[0m\u001b[1;33m:\u001b[0m\u001b[1;33m\u001b[0m\u001b[1;33m\u001b[0m\u001b[0m\n\u001b[0;32m     94\u001b[0m                 \u001b[0mself\u001b[0m\u001b[1;33m.\u001b[0m\u001b[0mbuf_obs\u001b[0m\u001b[1;33m[\u001b[0m\u001b[0mkey\u001b[0m\u001b[1;33m]\u001b[0m\u001b[1;33m[\u001b[0m\u001b[0menv_idx\u001b[0m\u001b[1;33m]\u001b[0m \u001b[1;33m=\u001b[0m \u001b[0mobs\u001b[0m\u001b[1;33m[\u001b[0m\u001b[0mkey\u001b[0m\u001b[1;33m]\u001b[0m\u001b[1;33m\u001b[0m\u001b[1;33m\u001b[0m\u001b[0m\n",
      "\u001b[1;31mValueError\u001b[0m: could not broadcast input array from shape (3,110) into shape (3,103)"
     ]
    }
   ],
   "source": [
    "import sys\n",
    "import os\n",
    "import csv\n",
    "sys.path.append('../')\n",
    "sys.path.append('../chemistrylab/reactions')\n",
    "import gym\n",
    "import numpy as np\n",
    "import os\n",
    "import pickle\n",
    "from time import sleep\n",
    "from gym import envs\n",
    "import matplotlib.pyplot as plt\n",
    "import pandas as pd\n",
    "\n",
    "\n",
    "import chemistrylab\n",
    "\n",
    "from stable_baselines.common.policies import MlpPolicy\n",
    "from stable_baselines.common import make_vec_env\n",
    "from stable_baselines import PPO2\n",
    "\n",
    "from stable_baselines.common.callbacks import BaseCallback\n",
    "from stable_baselines import results_plotter\n",
    "from stable_baselines.bench import Monitor\n",
    "from stable_baselines.results_plotter import load_results, ts2xy\n",
    "\n",
    "\n",
    "all_envs = envs.registry.all()\n",
    "env_ids = [env_spec.id for env_spec in all_envs if 'React' in env_spec.id]\n",
    "print(env_ids)\n",
    "\n",
    "\n",
    "log_dir = \"./tmp_distillationppo/\"\n",
    "try:os.mkdir(log_dir)\n",
    "except:pass\n",
    "\n",
    "\n",
    "\n",
    "env = gym.make('WurtzDistill-v1')\n",
    "print(env.reset().shape)\n",
    "env = Monitor(env, log_dir, allow_early_resets=True)\n",
    "\n",
    "action_set = ['Add/Remove Heat', 'Pour BV into B1', 'Pour B1 into B2', 'Wait','Done']\n",
    "\n",
    "print(\"The action space is\", env.action_space)\n",
    "print(\"The observation space is\", env.observation_space)\n",
    "model = PPO2(MlpPolicy, env, verbose=1, seed = 100)\n",
    "\n",
    "os.makedirs(log_dir, exist_ok=True)\n",
    "total_episodes_list = []\n",
    "average_reward_list = [] \n",
    "\n",
    "\n",
    "\n",
    "class SaveOnBestTrainingRewardCallback(BaseCallback):\n",
    "    \"\"\"\n",
    "    Callback for saving a model (the check is done every ``check_freq`` steps)\n",
    "    based on the training reward (in practice, we recommend using ``EvalCallback``).\n",
    "    :param check_freq: (int)\n",
    "    :param log_dir: (str) Path to the folder where the model will be saved.\n",
    "      It must contains the file created by the ``Monitor`` wrapper.\n",
    "    :param verbose: (int)\n",
    "    \"\"\"\n",
    "    def __init__(self, check_freq: int, log_dir: str, verbose=1):\n",
    "        super(SaveOnBestTrainingRewardCallback, self).__init__(verbose)\n",
    "        self.check_freq = check_freq\n",
    "        self.log_dir = log_dir\n",
    "        self.save_path = os.path.join(log_dir, 'best_model')\n",
    "        self.best_mean_reward = -np.inf\n",
    "\n",
    "    def _init_callback(self) -> None:\n",
    "        # Create folder if needed\n",
    "        if self.save_path is not None:\n",
    "            os.makedirs(self.save_path, exist_ok=True)\n",
    "\n",
    "    def _on_step(self) -> bool:\n",
    "        if self.n_calls % self.check_freq == 0:\n",
    "\n",
    "          # Retrieve training reward\n",
    "          x, y = ts2xy(load_results(self.log_dir), 'timesteps')\n",
    "          if len(x) > 0:\n",
    "              # Mean training reward over the last 100 episodes\n",
    "              mean_reward = np.mean(y[-100:])\n",
    "              if self.verbose > 0:\n",
    "                print(\"Num timesteps: {}\".format(self.num_timesteps))\n",
    "                print(\"Best mean reward: {:.2f} - Last mean reward per episode: {:.2f}\".format(self.best_mean_reward, mean_reward))\n",
    "\n",
    "              # New best model, you could save the agent here\n",
    "              if mean_reward > self.best_mean_reward:\n",
    "                  self.best_mean_reward = mean_reward\n",
    "                  # Example for saving best model\n",
    "                  if self.verbose > 0:\n",
    "                    print(\"Saving new best model to {}\".format(self.save_path))\n",
    "                  self.model.save(self.save_path)\n",
    "\n",
    "        return True\n",
    "\n",
    "\n",
    "\n",
    "\n",
    "\n",
    "\n",
    "\n",
    "callback = SaveOnBestTrainingRewardCallback(check_freq=100, log_dir=log_dir)\n",
    "time_steps = 25000\n",
    "model.learn(total_timesteps=time_steps, callback=callback, log_interval=100)\n",
    "x, y = ts2xy(load_results(log_dir), 'timesteps')\n",
    "#print(\"The value of y are\", y)\n",
    "fig = plt.figure(\"PPO Distillation Bench\")\n",
    "plt.plot(x,y)\n",
    "plt.xlabel('Number of Timesteps')\n",
    "plt.ylabel('Rewards')\n",
    "#print(\"the value of y are\", y)\n",
    "title = \"PPO Distillation Bench\"\n",
    "plt.title(title)\n",
    "\n",
    "plt.savefig('./PPOdistillationbench.png')\n",
    "print(\"Done\")"
   ]
  },
  {
   "cell_type": "code",
   "execution_count": 1,
   "id": "2ecc9364",
   "metadata": {},
   "outputs": [
    {
     "name": "stdout",
     "output_type": "stream",
     "text": [
      "ERROR! Session/line number was not unique in database. History logging moved to new session 1953\n"
     ]
    },
    {
     "data": {
      "text/plain": [
       "1"
      ]
     },
     "execution_count": 1,
     "metadata": {},
     "output_type": "execute_result"
    }
   ],
   "source": [
    "import os\n",
    "os.system(\"python PPO.py\")"
   ]
  },
  {
   "cell_type": "code",
   "execution_count": 2,
   "id": "85f8792f",
   "metadata": {},
   "outputs": [
    {
     "name": "stdout",
     "output_type": "stream",
     "text": [
      "Num GPUs Available:  0\n"
     ]
    }
   ],
   "source": [
    "import tensorflow as tf\n",
    "\n",
    "print(\"Num GPUs Available: \", len(tf.config.experimental.list_physical_devices('GPU')))"
   ]
  },
  {
   "cell_type": "code",
   "execution_count": 3,
   "id": "66afe481",
   "metadata": {},
   "outputs": [
    {
     "name": "stdout",
     "output_type": "stream",
     "text": [
      "TensorFlow version:  1.15.0\n",
      "Is built with CUDA:  True\n"
     ]
    }
   ],
   "source": [
    "print(\"TensorFlow version: \", tf.__version__)\n",
    "print(\"Is built with CUDA: \", tf.test.is_built_with_cuda())\n"
   ]
  },
  {
   "cell_type": "code",
   "execution_count": null,
   "id": "32fbd4a4",
   "metadata": {},
   "outputs": [],
   "source": []
  }
 ],
 "metadata": {
  "kernelspec": {
   "display_name": "Python 3",
   "language": "python",
   "name": "python3"
  },
  "language_info": {
   "codemirror_mode": {
    "name": "ipython",
    "version": 3
   },
   "file_extension": ".py",
   "mimetype": "text/x-python",
   "name": "python",
   "nbconvert_exporter": "python",
   "pygments_lexer": "ipython3",
   "version": "3.7.10"
  }
 },
 "nbformat": 4,
 "nbformat_minor": 5
}
