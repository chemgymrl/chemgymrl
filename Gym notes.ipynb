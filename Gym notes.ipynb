{
 "cells": [
  {
   "cell_type": "markdown",
   "id": "c14730e1",
   "metadata": {},
   "source": [
    "# First look:\n",
    "\n",
    "Task:\n",
    "- We want a vessel containing some material/chemical with high purity/yields?\n",
    "\n",
    "Modules:\n",
    "- Reaction\n",
    "    - Do a chemical reaction to get a material/chemical\n",
    "    * [More Info](#Reaction-bench-deeper-dive)\n",
    "- Extraction\n",
    "    - Use solutes to purify your material/chemical\n",
    "- Distillation\n",
    "    - Use boiling to purify your material/chemical further\n",
    "- Characterization\n",
    "    - Run tests to see what is actually in your output vessel\n",
    "    \n",
    "    \n",
    "    \n",
    "Each module has an agent associated with doing the module task, given instructions\n",
    "\n",
    "There is a Lab manager agent with the task of giving instructions for each module"
   ]
  },
  {
   "cell_type": "markdown",
   "id": "1458d408",
   "metadata": {},
   "source": [
    "# Vessel\n",
    "\n",
    "- Has a dictionary of materials\n",
    "- Has a dictionady of solutes\n",
    "- Has event queue"
   ]
  },
  {
   "cell_type": "code",
   "execution_count": 1,
   "id": "ff5481fd",
   "metadata": {},
   "outputs": [],
   "source": [
    "class dum:\n",
    "    def __init__(self,string):\n",
    "        self.s=string\n",
    "    def __str__(self):return self.s\n",
    "    def __repr__(self):return self.s\n",
    "    \n",
    "material_dict = {'H2O': [dum(\"H2O\"), 100, 'mol'], 'C6H14': [dum(\"C6H14\"), 100], 'Na': [dum(\"Na\"), 1.0], 'Cl': [dum(\"Cl\"), 1.0]}"
   ]
  },
  {
   "cell_type": "markdown",
   "id": "190b39b2",
   "metadata": {},
   "source": [
    "# Easy to read display\n",
    "\n",
    "I think there is some value in making things easy to read instead of having to look at constructors like in the first example\n",
    "I implemented a quick way to show off materials/solutes"
   ]
  },
  {
   "cell_type": "code",
   "execution_count": 2,
   "id": "c67ae5af",
   "metadata": {},
   "outputs": [
    {
     "name": "stdout",
     "output_type": "stream",
     "text": [
      "Material Dict:\n"
     ]
    },
    {
     "data": {
      "text/html": [
       "<div>\n",
       "<style scoped>\n",
       "    .dataframe tbody tr th:only-of-type {\n",
       "        vertical-align: middle;\n",
       "    }\n",
       "\n",
       "    .dataframe tbody tr th {\n",
       "        vertical-align: top;\n",
       "    }\n",
       "\n",
       "    .dataframe thead th {\n",
       "        text-align: right;\n",
       "    }\n",
       "</style>\n",
       "<table border=\"1\" class=\"dataframe\">\n",
       "  <thead>\n",
       "    <tr style=\"text-align: right;\">\n",
       "      <th></th>\n",
       "      <th>Material</th>\n",
       "      <th>Amount</th>\n",
       "      <th>Unit</th>\n",
       "    </tr>\n",
       "  </thead>\n",
       "  <tbody>\n",
       "    <tr>\n",
       "      <th>H2O</th>\n",
       "      <td>H2O</td>\n",
       "      <td>100.0</td>\n",
       "      <td>mol</td>\n",
       "    </tr>\n",
       "    <tr>\n",
       "      <th>C6H14</th>\n",
       "      <td>C6H14</td>\n",
       "      <td>100.0</td>\n",
       "      <td>None</td>\n",
       "    </tr>\n",
       "    <tr>\n",
       "      <th>Na</th>\n",
       "      <td>Na</td>\n",
       "      <td>1.0</td>\n",
       "      <td>None</td>\n",
       "    </tr>\n",
       "    <tr>\n",
       "      <th>Cl</th>\n",
       "      <td>Cl</td>\n",
       "      <td>1.0</td>\n",
       "      <td>None</td>\n",
       "    </tr>\n",
       "  </tbody>\n",
       "</table>\n",
       "</div>"
      ],
      "text/plain": [
       "      Material  Amount  Unit\n",
       "H2O        H2O   100.0   mol\n",
       "C6H14    C6H14   100.0  None\n",
       "Na          Na     1.0  None\n",
       "Cl          Cl     1.0  None"
      ]
     },
     "metadata": {},
     "output_type": "display_data"
    }
   ],
   "source": [
    "import pandas as pd\n",
    "import numpy as np\n",
    "from IPython import display\n",
    "Display = display.display\n",
    "\n",
    "def display_materials(material_dict,include_zeros=False):\n",
    "    table = pd.DataFrame.from_dict(material_dict, orient=\"index\",columns = [\"Material\",\"Amount\",\"Unit\"])\n",
    "    print(\"Material Dict:\")\n",
    "    if include_zeros:\n",
    "        display.display(table)\n",
    "    else:\n",
    "        display.display(table[table.Amount>0])\n",
    "    \n",
    "display_materials(material_dict)"
   ]
  },
  {
   "cell_type": "code",
   "execution_count": 3,
   "id": "f603e633",
   "metadata": {},
   "outputs": [
    {
     "name": "stdout",
     "output_type": "stream",
     "text": [
      "Solute Dict:\n"
     ]
    },
    {
     "data": {
      "text/html": [
       "<div>\n",
       "<style scoped>\n",
       "    .dataframe tbody tr th:only-of-type {\n",
       "        vertical-align: middle;\n",
       "    }\n",
       "\n",
       "    .dataframe tbody tr th {\n",
       "        vertical-align: top;\n",
       "    }\n",
       "\n",
       "    .dataframe thead th {\n",
       "        text-align: right;\n",
       "    }\n",
       "</style>\n",
       "<table border=\"1\" class=\"dataframe\">\n",
       "  <thead>\n",
       "    <tr style=\"text-align: right;\">\n",
       "      <th></th>\n",
       "      <th>Solute</th>\n",
       "      <th>[Solvent # Unit]</th>\n",
       "      <th>[Solvent # Unit]</th>\n",
       "    </tr>\n",
       "  </thead>\n",
       "  <tbody>\n",
       "    <tr>\n",
       "      <th>0</th>\n",
       "      <td>Na</td>\n",
       "      <td>[H2O, 0.5, mol]</td>\n",
       "      <td>[C6H14, 0.5, mol]</td>\n",
       "    </tr>\n",
       "    <tr>\n",
       "      <th>1</th>\n",
       "      <td>Cl</td>\n",
       "      <td>[H2O, 0.5, mol]</td>\n",
       "      <td>[C6H14, 0.5, mol]</td>\n",
       "    </tr>\n",
       "  </tbody>\n",
       "</table>\n",
       "</div>"
      ],
      "text/plain": [
       "  Solute [Solvent # Unit]   [Solvent # Unit]\n",
       "0     Na  [H2O, 0.5, mol]  [C6H14, 0.5, mol]\n",
       "1     Cl  [H2O, 0.5, mol]  [C6H14, 0.5, mol]"
      ]
     },
     "metadata": {},
     "output_type": "display_data"
    }
   ],
   "source": [
    "solute_dict = {'Na': {'H2O': [dum(\"H2O\"), 0.5, 'mol'], 'C6H14': [dum(\"C6H14\"), 0.5, 'mol']},\n",
    "               'Cl': {'H2O': [dum(\"H2O\"), 0.5, 'mol'], 'C6H14': [dum(\"C6H14\"), 0.5, 'mol']}}\n",
    "\n",
    "\n",
    "\n",
    "def display_solutes(solute_dict):\n",
    "\n",
    "    table = pd.DataFrame.from_dict(solute_dict, orient=\"index\")\n",
    "\n",
    "    renamedic = {str(h) : \"[Solvent # Unit]\" for h in table.columns}\n",
    "\n",
    "    table.insert(loc=0, column='Solute', value=table.index)\n",
    "\n",
    "    table.index=np.arange(len(table.index))\n",
    "\n",
    "    table.rename(columns=renamedic, inplace = True)\n",
    "    print(\"Solute Dict:\")\n",
    "    display.display(table)\n",
    "    \n",
    "display_solutes(solute_dict)"
   ]
  },
  {
   "cell_type": "markdown",
   "id": "10506ee3",
   "metadata": {},
   "source": [
    "# Event Queue\n",
    "\n",
    "- Used to modify the contents of a vessel\n",
    "- Modifications are passed in as \"events\"\n",
    "- Why do we have events=None here:\n",
    "\n",
    "```python\n",
    "vessel_1 = vessel.Vessel(label='vessel_1')\n",
    "vessel_2 = vessel.Vessel(label='vessel_2')\n",
    "\n",
    "event_1 = ['update material dict', material_dict]\n",
    "event_2 = ['update solute dict', solute_dict]\n",
    "event_3 = ['drain by pixel', vessel_2, 100]\n",
    "\n",
    "# Here we are adding the materials and solutions specified above into our first vessel, and then we pour 100ml\n",
    "# of this solution from vessel 1 into vessel 2\n",
    "vessel_1.push_event_to_queue(events=None, feedback=[event_1, event_2, event_3], dt=1)\n",
    "```\n",
    "\n",
    "- How do we get layering in the vessel?\n",
    "\n"
   ]
  },
  {
   "cell_type": "markdown",
   "id": "6e5bbce1",
   "metadata": {},
   "source": [
    "# Reaction Bench:\n",
    "\n",
    "- Recieves input vessel\n",
    "- Selects reaction from a list of supported reactions\n",
    "- Controls reaction parameters\n",
    "- Loop previous two steps until agent says to stop\n",
    "- returns an output vessel as a file\n",
    "- How is the desired material/output specified?\n",
    "    - Read from reaction file along with simulation details (why are these grouped together?)\n",
    "    - Is there a way to do this without a bunch of file I/O?"
   ]
  },
  {
   "cell_type": "markdown",
   "id": "ed7e5351",
   "metadata": {},
   "source": [
    "# Extraction Bench\n",
    "\n",
    "- Takes in one input vessel\n",
    "- Returns a set of output vessels\n",
    "- Target is represented by a string?\n",
    "- Need to read the code to see how extraction is actually done\n",
    "- Can transfer contents into other vessels\n",
    "- Learn what this means:\n",
    "    - utilizing specifically selected solutes to demarcate and separate materials\n",
    "- Multiple vessels are saved as output"
   ]
  },
  {
   "cell_type": "markdown",
   "id": "3c77a150",
   "metadata": {},
   "source": [
    "# Distillation Bench\n",
    "- Looks like there is again just one input vessel (verify this)\n",
    "- string target name\n",
    "- dQ for maximum heat added?\n",
    "- Looks like actions are to maintain or add heat, and switch the vessel that contents are boiled into\n",
    "- Multiple vessels are saved as output"
   ]
  },
  {
   "cell_type": "markdown",
   "id": "1d3b85fa",
   "metadata": {},
   "source": [
    "# Characterization Bench\n",
    "\n",
    "- No modifications to input vessel\n",
    "- Observations for the lab manager\n",
    "- Main charactarization technique is spectrometric analysis\n",
    "    - analyze() is called with vessel, analysis (technique) and something called overlap which isn't touched on yet \n",
    "- Outputs are an array which can easily be turned into an observation\n",
    "- Is the vessel frozen in time during this process?\n",
    "- Every bench has access to characterization now?"
   ]
  },
  {
   "cell_type": "markdown",
   "id": "f3d239bc",
   "metadata": {},
   "source": [
    "# Lab manager\n",
    "\n",
    "- Has access to a shelf of vessels not in use\n",
    "- Uses characterization to determine what is in the vessels\n",
    "- Is in charge of allocating vessels to benches\n",
    "- Inputs are the benches (excluding characterization)\n",
    "- Does the lab manager get any say in the rewards of the individual benches?\n",
    "- How are desired outcomes input for the manager?\n"
   ]
  },
  {
   "cell_type": "markdown",
   "id": "6da0da19",
   "metadata": {},
   "source": [
    "# Questions:\n",
    "\n",
    "- What is the point of making subclasses for your benches? -> for gym.make use?\n",
    "- Why isn't reaction benches target also a string (currently looks to be in the input file)"
   ]
  },
  {
   "attachments": {
    "ReactBench-2.png": {
     "image/png": "[encoded data removed]"
    }
   },
   "cell_type": "markdown",
   "id": "d58bcc47",
   "metadata": {},
   "source": [
    "# Reaction bench deeper dive\n",
    "\n",
    "\n",
    "[Class Diagram](https://cruise.umple.org/umpleonline/umple.php?model=221127h5p7jm7vnbgu)\n",
    "\n",
    "![ReactBench-2.png](attachment:ReactBench-2.png)\n",
    "\n",
    "[Next](#Reaction-Bench-Issues)"
   ]
  },
  {
   "cell_type": "markdown",
   "id": "eb6f3ebf",
   "metadata": {},
   "source": [
    "# Reaction Bench Issues\n",
    "\n",
    "- Need to tighten gym requirement\n",
    "    - I had to upgrade my gym install\n",
    "```\n",
    "    Installing collected packages: gym-notices, gym\n",
    "      Attempting uninstall: gym\n",
    "        Found existing installation: gym 0.21.0\n",
    "        Uninstalling gym-0.21.0:\n",
    "          Successfully uninstalled gym-0.21.0\n",
    "    Successfully installed gym-0.26.2 gym-notices-0.0.8\n",
    "```\n",
    "\n",
    "- Check if 0.18,0.15.7 works, once one works I can update requirements -> can create a branch and commit things\n",
    "\n",
    "- reaction_lesson.ipynb is an empty file (link in reaction bench lesson)\n",
    "- ```all_envs = envs.registry.all()``` in tutorial doesn't work\n",
    "\n",
    "```python\n",
    "# Fixed with this\n",
    "reg = envs.registry\n",
    "env_ids = [k for k in reg.keys() if \"React\" in k]\n",
    "```\n",
    "- When using WurtzReact-v1 it asks me to use v2 but trying to open v2 causes a crash\n",
    "\n",
    "- ```env.render(mode=render_mode)``` doesn't work \n",
    "    - looks like mode has changed to model\n",
    "- ```env.render()``` only plots graphs on the first call?\n",
    "    - Fix: ```env._first_render = True```\n",
    "    - Alt fix: ```%matplotlib notebook```\n",
    "    - proposed change: let me pass an argument (called redraw maybe?) which forces the render function to make a new plot\n",
    "    \n",
    "- FictReact-v1 gives different rewards with the same policy\n",
    "- ```env.step(action)``` doesn't work when using a gym.make() constructed environment [code](#Is-env.step()-broken?)\n",
    "\n",
    "[Back](#Reaction-bench-deeper-dive) [Next](#Wurtz-Setup) "
   ]
  },
  {
   "cell_type": "code",
   "execution_count": 3,
   "id": "8a777992",
   "metadata": {},
   "outputs": [
    {
     "name": "stdout",
     "output_type": "stream",
     "text": [
      "['WurtzReact-v1', 'GenWurtzReact-v1', 'FictReact-v1', 'FictReact-v2', 'DecompReact-v0', 'WurtzReact-v2', 'ODETestReact-v0']\n"
     ]
    },
    {
     "name": "stderr",
     "output_type": "stream",
     "text": [
      "C:\\Users\\sprag\\anaconda3\\envs\\pytorch\\lib\\site-packages\\gym\\envs\\registration.py:556: UserWarning: \u001b[33mWARN: The environment WurtzReact-v1 is out of date. You should consider upgrading to version `v2`.\u001b[0m\n",
      "  f\"The environment {id} is out of date. You should consider \"\n"
     ]
    }
   ],
   "source": [
    "import chemistrylab,time\n",
    "import sys\n",
    "sys.path.append('../')\n",
    "sys.path.append('../chemistrylab/reactions')\n",
    "import gym\n",
    "import numpy as np\n",
    "from gym import envs\n",
    "\n",
    "# Fixed with this\n",
    "reg = envs.registry\n",
    "env_ids = [k for k in reg.keys() if \"React\" in k]\n",
    "\n",
    "\n",
    "print(env_ids)\n",
    "env = gym.make('WurtzReact-v1')\n",
    "render_mode = \"human\"\n",
    "action_set = ['Temperature', 'Volume', \"1-chlorohexane\", \"2-chlorohexane\", \"3-chlorohexane\", \"Na\"]\n",
    "\n",
    "assert len(action_set) == env.action_space.shape[0]"
   ]
  },
  {
   "cell_type": "code",
   "execution_count": 6,
   "id": "6bea7714",
   "metadata": {
    "scrolled": true
   },
   "outputs": [
    {
     "data": {
      "text/plain": [
       "['__annotations__',\n",
       " '__class__',\n",
       " '__class_getitem__',\n",
       " '__delattr__',\n",
       " '__dict__',\n",
       " '__dir__',\n",
       " '__doc__',\n",
       " '__enter__',\n",
       " '__eq__',\n",
       " '__exit__',\n",
       " '__format__',\n",
       " '__ge__',\n",
       " '__getattribute__',\n",
       " '__gt__',\n",
       " '__hash__',\n",
       " '__init__',\n",
       " '__init_subclass__',\n",
       " '__le__',\n",
       " '__lt__',\n",
       " '__module__',\n",
       " '__ne__',\n",
       " '__new__',\n",
       " '__orig_bases__',\n",
       " '__parameters__',\n",
       " '__reduce__',\n",
       " '__reduce_ex__',\n",
       " '__repr__',\n",
       " '__setattr__',\n",
       " '__sizeof__',\n",
       " '__slots__',\n",
       " '__str__',\n",
       " '__subclasshook__',\n",
       " '__weakref__',\n",
       " '_first_render',\n",
       " '_np_random',\n",
       " '_prepare_materials',\n",
       " '_prepare_solutes',\n",
       " '_prepare_vessel',\n",
       " '_update_state',\n",
       " '_validate_parameters',\n",
       " 'action_space',\n",
       " 'char_bench',\n",
       " 'close',\n",
       " 'done',\n",
       " 'dt',\n",
       " 'full_render',\n",
       " 'human_render',\n",
       " 'in_vessel_path',\n",
       " 'initial_in_hand',\n",
       " 'initial_materials',\n",
       " 'initial_solvents',\n",
       " 'max_steps',\n",
       " 'metadata',\n",
       " 'n_steps',\n",
       " 'name',\n",
       " 'np_random',\n",
       " 'observation_space',\n",
       " 'out_vessel_path',\n",
       " 'plot_data_concentration',\n",
       " 'plot_data_mol',\n",
       " 'plot_data_state',\n",
       " 'reaction',\n",
       " 'render',\n",
       " 'render_mode',\n",
       " 'reset',\n",
       " 'reward_range',\n",
       " 'spec',\n",
       " 'state',\n",
       " 'step',\n",
       " 'step_num',\n",
       " 't',\n",
       " 'tmax',\n",
       " 'unwrapped',\n",
       " 'update_vessel',\n",
       " 'vessels']"
      ]
     },
     "execution_count": 6,
     "metadata": {},
     "output_type": "execute_result"
    }
   ],
   "source": [
    "dir(env.env.env.env)"
   ]
  },
  {
   "cell_type": "code",
   "execution_count": 7,
   "id": "cddd3056",
   "metadata": {
    "scrolled": true
   },
   "outputs": [
    {
     "name": "stdout",
     "output_type": "stream",
     "text": [
      "Material Dict:\n"
     ]
    },
    {
     "name": "stderr",
     "output_type": "stream",
     "text": [
      "C:\\Users\\sprag\\anaconda3\\envs\\pytorch\\lib\\site-packages\\gym\\utils\\passive_env_checker.py:175: UserWarning: \u001b[33mWARN: Future gym versions will require that `Env.reset` can be passed a `seed` instead of using `Env.seed` for resetting the environment random number generator.\u001b[0m\n",
      "  \"Future gym versions will require that `Env.reset` can be passed a `seed` instead of using `Env.seed` for resetting the environment random number generator.\"\n",
      "C:\\Users\\sprag\\anaconda3\\envs\\pytorch\\lib\\site-packages\\gym\\utils\\passive_env_checker.py:188: UserWarning: \u001b[33mWARN: Future gym versions will require that `Env.reset` can be passed `options` to allow the environment initialisation to be passed additional information.\u001b[0m\n",
      "  \"Future gym versions will require that `Env.reset` can be passed `options` to allow the environment initialisation to be passed additional information.\"\n",
      "C:\\Users\\sprag\\anaconda3\\envs\\pytorch\\lib\\site-packages\\gym\\utils\\passive_env_checker.py:196: UserWarning: \u001b[33mWARN: The result returned by `env.reset()` was not a tuple of the form `(obs, info)`, where `obs` is a observation and `info` is a dictionary containing additional information. Actual type: `<class 'numpy.ndarray'>`\u001b[0m\n",
      "  f\"The result returned by `env.reset()` was not a tuple of the form `(obs, info)`, where `obs` is a observation and `info` is a dictionary containing additional information. Actual type: `{type(result)}`\"\n"
     ]
    },
    {
     "data": {
      "text/html": [
       "<div>\n",
       "<style scoped>\n",
       "    .dataframe tbody tr th:only-of-type {\n",
       "        vertical-align: middle;\n",
       "    }\n",
       "\n",
       "    .dataframe tbody tr th {\n",
       "        vertical-align: top;\n",
       "    }\n",
       "\n",
       "    .dataframe thead th {\n",
       "        text-align: right;\n",
       "    }\n",
       "</style>\n",
       "<table border=\"1\" class=\"dataframe\">\n",
       "  <thead>\n",
       "    <tr style=\"text-align: right;\">\n",
       "      <th></th>\n",
       "      <th>Material</th>\n",
       "      <th>Amount</th>\n",
       "      <th>Unit</th>\n",
       "    </tr>\n",
       "  </thead>\n",
       "  <tbody>\n",
       "    <tr>\n",
       "      <th>DiEthylEther</th>\n",
       "      <td>diethyl ether</td>\n",
       "      <td>4</td>\n",
       "      <td>mol</td>\n",
       "    </tr>\n",
       "  </tbody>\n",
       "</table>\n",
       "</div>"
      ],
      "text/plain": [
       "                   Material  Amount Unit\n",
       "DiEthylEther  diethyl ether       4  mol"
      ]
     },
     "metadata": {},
     "output_type": "display_data"
    },
    {
     "name": "stdout",
     "output_type": "stream",
     "text": [
      "Solute Dict:\n"
     ]
    },
    {
     "data": {
      "text/html": [
       "<div>\n",
       "<style scoped>\n",
       "    .dataframe tbody tr th:only-of-type {\n",
       "        vertical-align: middle;\n",
       "    }\n",
       "\n",
       "    .dataframe tbody tr th {\n",
       "        vertical-align: top;\n",
       "    }\n",
       "\n",
       "    .dataframe thead th {\n",
       "        text-align: right;\n",
       "    }\n",
       "</style>\n",
       "<table border=\"1\" class=\"dataframe\">\n",
       "  <thead>\n",
       "    <tr style=\"text-align: right;\">\n",
       "      <th></th>\n",
       "      <th>Solute</th>\n",
       "    </tr>\n",
       "  </thead>\n",
       "  <tbody>\n",
       "  </tbody>\n",
       "</table>\n",
       "</div>"
      ],
      "text/plain": [
       "Empty DataFrame\n",
       "Columns: [Solute]\n",
       "Index: []"
      ]
     },
     "metadata": {},
     "output_type": "display_data"
    },
    {
     "data": {
      "image/png": "[encoded data removed]",
      "text/plain": [
       "<Figure size 864x432 with 2 Axes>"
      ]
     },
     "metadata": {
      "needs_background": "light"
     },
     "output_type": "display_data"
    }
   ],
   "source": [
    "env.reset()\n",
    "display_materials(env.env.env.env.vessels._material_dict)\n",
    "display_solutes(env.env.env.env.vessels._solute_dict)\n",
    "env.render()"
   ]
  },
  {
   "cell_type": "markdown",
   "id": "8297c3ff",
   "metadata": {},
   "source": [
    "# Is env.step() broken?"
   ]
  },
  {
   "cell_type": "code",
   "execution_count": 8,
   "id": "b9da6476",
   "metadata": {},
   "outputs": [
    {
     "name": "stdout",
     "output_type": "stream",
     "text": [
      "not enough values to unpack (expected 5, got 4)\n"
     ]
    },
    {
     "name": "stderr",
     "output_type": "stream",
     "text": [
      "C:\\Users\\sprag\\anaconda3\\envs\\pytorch\\lib\\site-packages\\gym\\utils\\passive_env_checker.py:220: DeprecationWarning: \u001b[33mWARN: Core environment is written in old step API which returns one bool instead of two. It is recommended to rewrite the environment with new step API. \u001b[0m\n",
      "  \"Core environment is written in old step API which returns one bool instead of two. \"\n"
     ]
    }
   ],
   "source": [
    "try:\n",
    "    env.step([0]*6)\n",
    "except Exception as e:\n",
    "    print(e)"
   ]
  },
  {
   "cell_type": "code",
   "execution_count": 9,
   "id": "b2ad1001",
   "metadata": {},
   "outputs": [
    {
     "data": {
      "text/plain": [
       "'chemistrylab.reaction_bench.reaction_bench_v1:WurtzReact_v1'"
      ]
     },
     "execution_count": 9,
     "metadata": {},
     "output_type": "execute_result"
    }
   ],
   "source": [
    "reg[\"WurtzReact-v1\"].entry_point"
   ]
  },
  {
   "cell_type": "markdown",
   "id": "cd0113c7",
   "metadata": {},
   "source": [
    "# Wurtz Setup\n",
    "\n",
    "2 1-chlorohexane + 2 Na -> dodecane + 2 NaCl"
   ]
  },
  {
   "cell_type": "code",
   "execution_count": 10,
   "id": "1e75f470",
   "metadata": {},
   "outputs": [
    {
     "name": "stdout",
     "output_type": "stream",
     "text": [
      "Box(0.0, 1.0, (6,), float32)\n",
      "Target: dodecane\n",
      "Undesired: \n"
     ]
    },
    {
     "data": {
      "text/html": [
       "<div>\n",
       "<style scoped>\n",
       "    .dataframe tbody tr th:only-of-type {\n",
       "        vertical-align: middle;\n",
       "    }\n",
       "\n",
       "    .dataframe tbody tr th {\n",
       "        vertical-align: top;\n",
       "    }\n",
       "\n",
       "    .dataframe thead th {\n",
       "        text-align: right;\n",
       "    }\n",
       "</style>\n",
       "<table border=\"1\" class=\"dataframe\">\n",
       "  <thead>\n",
       "    <tr style=\"text-align: right;\">\n",
       "      <th></th>\n",
       "      <th>Material</th>\n",
       "      <th>Amount</th>\n",
       "      <th>Unit</th>\n",
       "    </tr>\n",
       "  </thead>\n",
       "  <tbody>\n",
       "    <tr>\n",
       "      <th>DiEthylEther</th>\n",
       "      <td>diethyl ether</td>\n",
       "      <td>4</td>\n",
       "      <td>mol</td>\n",
       "    </tr>\n",
       "  </tbody>\n",
       "</table>\n",
       "</div>"
      ],
      "text/plain": [
       "                   Material  Amount Unit\n",
       "DiEthylEther  diethyl ether       4  mol"
      ]
     },
     "metadata": {},
     "output_type": "display_data"
    }
   ],
   "source": [
    "env2=chemistrylab.reaction_bench.reaction_bench_v1.WurtzReact_v1()\n",
    "obs = env2.reset()\n",
    "from matplotlib import pyplot as plt\n",
    "#plt.plot(obs)\n",
    "#plt.show()\n",
    "print(env2.action_space)\n",
    "obs = env2.reset()\n",
    "\n",
    "print(\"Target:\",env2.reaction.target)\n",
    "print(\"Undesired:\",env2.reaction.undesired)\n",
    "Display(env2.vessels.get_material_table())"
   ]
  },
  {
   "cell_type": "markdown",
   "id": "32e9f299",
   "metadata": {},
   "source": [
    "[Back](#Reaction-Bench-Issues) [Next](#Wurtz-Run)"
   ]
  },
  {
   "cell_type": "code",
   "execution_count": 11,
   "id": "4cda7c39",
   "metadata": {
    "scrolled": false
   },
   "outputs": [],
   "source": [
    "from IPython.display import clear_output\n",
    "def run_wurtz():\n",
    "    rew=0\n",
    "    G=0\n",
    "    #['Temperature', 'Volume', \"1-chlorohexane\", \"2-chlorohexane\", \"3-chlorohexane\", \"Na\"]\n",
    "    obs = env2.reset()\n",
    "    for x in range(100):\n",
    "        clear_output(wait=True)\n",
    "        env2.render()\n",
    "        print(rew,G)\n",
    "        if x<4:\n",
    "            # pour 30% of vial repeatedly\n",
    "            obs,rew,done,_ = env2.step([0.5,0.5,0.3,0.0,0.0,0.3])\n",
    "        elif x==4:\n",
    "            #pour remaining contents\n",
    "            env2.step([0.5,0.5,1.0,0.0,0.0,1.0])\n",
    "        else:\n",
    "            obs,rew,done,_ = env2.step([0.5,0.5,0,0,0,0])\n",
    "        G+=rew\n",
    "        if done:\n",
    "            break\n",
    "\n",
    "    print(done,G)"
   ]
  },
  {
   "cell_type": "markdown",
   "id": "a7353468",
   "metadata": {},
   "source": [
    "# Wurtz Run"
   ]
  },
  {
   "cell_type": "code",
   "execution_count": 12,
   "id": "5a521bbb",
   "metadata": {},
   "outputs": [
    {
     "data": {
      "image/png": "[encoded data removed]",
      "text/plain": [
       "<Figure size 864x432 with 2 Axes>"
      ]
     },
     "metadata": {
      "needs_background": "light"
     },
     "output_type": "display_data"
    },
    {
     "name": "stdout",
     "output_type": "stream",
     "text": [
      "0 0\n",
      "True 0.3092533779990231\n"
     ]
    }
   ],
   "source": [
    "run_wurtz()"
   ]
  },
  {
   "cell_type": "markdown",
   "id": "12724078",
   "metadata": {},
   "source": [
    "[Back](#Wurtz-Setup) [Next](#Wurtz-Output)\n",
    "# Wurtz Output\n",
    "\n",
    "Recall, the target was for Wurtz is to create dodecane"
   ]
  },
  {
   "cell_type": "code",
   "execution_count": 13,
   "id": "841ae17c",
   "metadata": {},
   "outputs": [
    {
     "data": {
      "text/html": [
       "<div>\n",
       "<style scoped>\n",
       "    .dataframe tbody tr th:only-of-type {\n",
       "        vertical-align: middle;\n",
       "    }\n",
       "\n",
       "    .dataframe tbody tr th {\n",
       "        vertical-align: top;\n",
       "    }\n",
       "\n",
       "    .dataframe thead th {\n",
       "        text-align: right;\n",
       "    }\n",
       "</style>\n",
       "<table border=\"1\" class=\"dataframe\">\n",
       "  <thead>\n",
       "    <tr style=\"text-align: right;\">\n",
       "      <th></th>\n",
       "      <th>Material</th>\n",
       "      <th>Amount</th>\n",
       "      <th>Unit</th>\n",
       "    </tr>\n",
       "  </thead>\n",
       "  <tbody>\n",
       "    <tr>\n",
       "      <th>1-chlorohexane</th>\n",
       "      <td>1-chlorohexane</td>\n",
       "      <td>0.381493</td>\n",
       "      <td>mol</td>\n",
       "    </tr>\n",
       "    <tr>\n",
       "      <th>Na</th>\n",
       "      <td>Na</td>\n",
       "      <td>0.381493</td>\n",
       "      <td>mol</td>\n",
       "    </tr>\n",
       "    <tr>\n",
       "      <th>dodecane</th>\n",
       "      <td>dodecane</td>\n",
       "      <td>0.309253</td>\n",
       "      <td>mol</td>\n",
       "    </tr>\n",
       "    <tr>\n",
       "      <th>NaCl</th>\n",
       "      <td>NaCl</td>\n",
       "      <td>0.618507</td>\n",
       "      <td>mol</td>\n",
       "    </tr>\n",
       "    <tr>\n",
       "      <th>DiEthylEther</th>\n",
       "      <td>diethyl ether</td>\n",
       "      <td>4.000000</td>\n",
       "      <td>mol</td>\n",
       "    </tr>\n",
       "  </tbody>\n",
       "</table>\n",
       "</div>"
      ],
      "text/plain": [
       "                      Material    Amount Unit\n",
       "1-chlorohexane  1-chlorohexane  0.381493  mol\n",
       "Na                          Na  0.381493  mol\n",
       "dodecane              dodecane  0.309253  mol\n",
       "NaCl                      NaCl  0.618507  mol\n",
       "DiEthylEther     diethyl ether  4.000000  mol"
      ]
     },
     "metadata": {},
     "output_type": "display_data"
    }
   ],
   "source": [
    "Display(env2.vessels.get_material_table())"
   ]
  },
  {
   "cell_type": "markdown",
   "id": "b5637525",
   "metadata": {},
   "source": [
    "[Back](#Wurtz-Run) [Next](#Ficticious-Reaction-Setup)\n",
    "\n",
    "# Ficticious Reaction Setup"
   ]
  },
  {
   "cell_type": "code",
   "execution_count": 14,
   "id": "1de08c02",
   "metadata": {},
   "outputs": [
    {
     "data": {
      "text/plain": [
       "'chemistrylab.reaction_bench.reaction_bench_v1:FictReact_v1'"
      ]
     },
     "execution_count": 14,
     "metadata": {},
     "output_type": "execute_result"
    }
   ],
   "source": [
    "reg[\"FictReact-v1\"].entry_point"
   ]
  },
  {
   "cell_type": "code",
   "execution_count": 15,
   "id": "81c466b7",
   "metadata": {},
   "outputs": [
    {
     "name": "stdout",
     "output_type": "stream",
     "text": [
      "Target: \n",
      "Undesired: E\n",
      "Material Dict:\n"
     ]
    },
    {
     "data": {
      "text/html": [
       "<div>\n",
       "<style scoped>\n",
       "    .dataframe tbody tr th:only-of-type {\n",
       "        vertical-align: middle;\n",
       "    }\n",
       "\n",
       "    .dataframe tbody tr th {\n",
       "        vertical-align: top;\n",
       "    }\n",
       "\n",
       "    .dataframe thead th {\n",
       "        text-align: right;\n",
       "    }\n",
       "</style>\n",
       "<table border=\"1\" class=\"dataframe\">\n",
       "  <thead>\n",
       "    <tr style=\"text-align: right;\">\n",
       "      <th></th>\n",
       "      <th>Material</th>\n",
       "      <th>Amount</th>\n",
       "      <th>Unit</th>\n",
       "    </tr>\n",
       "  </thead>\n",
       "  <tbody>\n",
       "    <tr>\n",
       "      <th>H2O</th>\n",
       "      <td>H2O</td>\n",
       "      <td>30</td>\n",
       "      <td>mol</td>\n",
       "    </tr>\n",
       "  </tbody>\n",
       "</table>\n",
       "</div>"
      ],
      "text/plain": [
       "    Material  Amount Unit\n",
       "H2O      H2O      30  mol"
      ]
     },
     "metadata": {},
     "output_type": "display_data"
    }
   ],
   "source": [
    "env3 = chemistrylab.reaction_bench.reaction_bench_v1.FictReact_v1()\n",
    "env3.action_space\n",
    "print(\"Target:\",env3.reaction.target)\n",
    "print(\"Undesired:\",env3.reaction.undesired)\n",
    "display_materials(env3.vessels._material_dict)"
   ]
  },
  {
   "cell_type": "markdown",
   "id": "0c1a04e6",
   "metadata": {},
   "source": [
    "[Back](#Wurtz-Output) [Next](#Reward-Weirdness)\n"
   ]
  },
  {
   "cell_type": "code",
   "execution_count": 16,
   "id": "39337b4c",
   "metadata": {},
   "outputs": [],
   "source": [
    "def run_fict(n=3,viz=\"table\"):\n",
    "    G=np.zeros(n)\n",
    "    for y in range(n):\n",
    "        rew=x=done=0\n",
    "        obs = env3.reset()\n",
    "        while not done:\n",
    "            #Policy: At the start, pump in some A,B and mystery substance\n",
    "            time.sleep(0.1)\n",
    "            if viz==\"table\":\n",
    "                clear_output(wait=True)\n",
    "                Display(env3.vessels.get_material_table())\n",
    "            elif viz==\"graph\":\n",
    "                clear_output(wait=True)\n",
    "                env3.render()\n",
    "            \n",
    "            if x==0:obs,rew,done,_ = env3.step([0.5,0.5,0.99,0.99,0.0,0.3]+[0.0]*3)\n",
    "            else:obs,rew,done,_ = env3.step([0.55,0.45]+[0]*7)\n",
    "            print(y,rew)\n",
    "            G[y]+=rew\n",
    "            x+=1\n",
    "        #Print total return\n",
    "        print(G)\n",
    "    return G"
   ]
  },
  {
   "cell_type": "markdown",
   "id": "0276fbad",
   "metadata": {},
   "source": [
    "# Reward Weirdness\n",
    "I can get a reward but inconsistently?\n",
    "- This is because it randomoly decides on a target when none is given"
   ]
  },
  {
   "cell_type": "code",
   "execution_count": 17,
   "id": "5e9fc559",
   "metadata": {},
   "outputs": [
    {
     "data": {
      "text/html": [
       "<div>\n",
       "<style scoped>\n",
       "    .dataframe tbody tr th:only-of-type {\n",
       "        vertical-align: middle;\n",
       "    }\n",
       "\n",
       "    .dataframe tbody tr th {\n",
       "        vertical-align: top;\n",
       "    }\n",
       "\n",
       "    .dataframe thead th {\n",
       "        text-align: right;\n",
       "    }\n",
       "</style>\n",
       "<table border=\"1\" class=\"dataframe\">\n",
       "  <thead>\n",
       "    <tr style=\"text-align: right;\">\n",
       "      <th></th>\n",
       "      <th>Material</th>\n",
       "      <th>Amount</th>\n",
       "      <th>Unit</th>\n",
       "    </tr>\n",
       "  </thead>\n",
       "  <tbody>\n",
       "    <tr>\n",
       "      <th>A</th>\n",
       "      <td>A</td>\n",
       "      <td>0.540016</td>\n",
       "      <td>mol</td>\n",
       "    </tr>\n",
       "    <tr>\n",
       "      <th>B</th>\n",
       "      <td>B</td>\n",
       "      <td>0.540016</td>\n",
       "      <td>mol</td>\n",
       "    </tr>\n",
       "    <tr>\n",
       "      <th>D</th>\n",
       "      <td>D</td>\n",
       "      <td>0.000032</td>\n",
       "      <td>mol</td>\n",
       "    </tr>\n",
       "    <tr>\n",
       "      <th>F</th>\n",
       "      <td>F</td>\n",
       "      <td>0.449984</td>\n",
       "      <td>mol</td>\n",
       "    </tr>\n",
       "    <tr>\n",
       "      <th>G</th>\n",
       "      <td>G</td>\n",
       "      <td>0.449984</td>\n",
       "      <td>mol</td>\n",
       "    </tr>\n",
       "    <tr>\n",
       "      <th>H2O</th>\n",
       "      <td>H2O</td>\n",
       "      <td>30.000000</td>\n",
       "      <td>mol</td>\n",
       "    </tr>\n",
       "  </tbody>\n",
       "</table>\n",
       "</div>"
      ],
      "text/plain": [
       "    Material     Amount Unit\n",
       "A          A   0.540016  mol\n",
       "B          B   0.540016  mol\n",
       "D          D   0.000032  mol\n",
       "F          F   0.449984  mol\n",
       "G          G   0.449984  mol\n",
       "H2O      H2O  30.000000  mol"
      ]
     },
     "metadata": {},
     "output_type": "display_data"
    },
    {
     "name": "stdout",
     "output_type": "stream",
     "text": [
      "2 0.0\n",
      "[0.44999726 0.         0.        ]\n"
     ]
    }
   ],
   "source": [
    "G = run_fict(n=3,viz=\"table\")"
   ]
  },
  {
   "attachments": {
    "Extract-2.png": {
     "image/png": "[encoded data removed]"
    }
   },
   "cell_type": "markdown",
   "id": "550c14d1",
   "metadata": {},
   "source": [
    "[Back](#Ficticious-Reaction-Setup)\n",
    "\n",
    "# Extraction Bench Deeper Dive\n",
    "\n",
    "[uml](https://cruise.umple.org/umpleonline/umple.php?model=22120513bjggtmij6fb)\n",
    "\n",
    "![Extract-2.png](attachment:Extract-2.png)"
   ]
  },
  {
   "cell_type": "markdown",
   "id": "0d59f6be",
   "metadata": {},
   "source": [
    "# Extraction Bench Issues\n",
    "\n",
    "- Oil_Water_Extract-v1 does not work due to file IO issues\n",
    "- Same with WurtzExtract_Ctd-v1\n",
    "\n",
    "```python\n",
    "File ~\\Documents\\Python Scripts\\ResearchF2022\\CHEMGYM\\chemistrylab\\chem_algorithms\\util.py:52, in convert_material_dict_and_solute_dict_to_volume(material_dict, solute_dict, unit)\n",
    "     49 total_volume = 0\n",
    "     50 for M in material_dict:\n",
    "     51     # get the mass (in grams) of the material using its molar mass (in grams/mol)\n",
    "---> 52     mass = material_dict[M][0].get_molar_mass() * material_dict[M][1]\n",
    "     54     if convert_density:\n",
    "     55         # mass/density results in unit m^3, need to multiply by 1000 to convert to litre\n",
    "     56         volume = mass / material_dict[M][0].get_density(convert_density)\n",
    "\n",
    "TypeError: get_molar_mass() missing 1 required positional argument: 'self'\n",
    "\n",
    "```\n",
    "- issue with MethylRed_Extract-v1 and v2\n",
    "\n",
    "- None of my actions did anything in WurtzExtract_v1\n",
    "\n",
    "- Help should probably print what the actions do\n",
    "\n",
    "- Normative and factual UML diagrams\n",
    "    - wait for fixes until the end\n",
    "\n",
    "- changes can happen later\n",
    "\n"
   ]
  },
  {
   "cell_type": "code",
   "execution_count": 1,
   "id": "2c12baf2",
   "metadata": {},
   "outputs": [
    {
     "name": "stdout",
     "output_type": "stream",
     "text": [
      "['WurtzExtract-v1', 'WurtzExtract_Ctd-v1', 'Oil_Water_Extract-v1', 'MethylRed_Extract-v1', 'MethylRed_Extract-v2']\n",
      "chemistrylab.extract_bench.extract_bench_v1:ExtractWorld_Oil_v1\n",
      "chemistrylab.extract_bench.extract_bench_v1:WurtzExtract_v1\n"
     ]
    }
   ],
   "source": [
    "import chemistrylab,time\n",
    "import sys\n",
    "sys.path.append('../')\n",
    "sys.path.append('../chemistrylab/reactions')\n",
    "import gym\n",
    "import numpy as np\n",
    "from gym import envs\n",
    "import pandas as pd\n",
    "import numpy as np\n",
    "from IPython import display\n",
    "Display = display.display\n",
    "from IPython.display import clear_output\n",
    "\n",
    "env_keys = envs.registry.keys()\n",
    "reg = envs.registry\n",
    "env_ids = [k for k in env_keys if \"Extract\" in k]\n",
    "print(env_ids)\n",
    "\n",
    "print(reg[\"Oil_Water_Extract-v1\"].entry_point)\n",
    "print(reg[\"WurtzExtract-v1\"].entry_point)"
   ]
  },
  {
   "cell_type": "code",
   "execution_count": 2,
   "id": "8775a90b",
   "metadata": {},
   "outputs": [],
   "source": [
    "action_set = ['Draining from ExV to Beaker1', 'Mix ExV', \"Mix B1\", \"Mix B2\", \"Pour from B1 to ExV\", \"Pour from B1 to B2\",\n",
    "              'Pour from ExV to B2', 'Add oil, pour from Oil Vessel to ExV', 'wait', 'Done']"
   ]
  },
  {
   "cell_type": "code",
   "execution_count": 3,
   "id": "630e9c5a",
   "metadata": {},
   "outputs": [
    {
     "name": "stdout",
     "output_type": "stream",
     "text": [
      "C:\\Users\\sprag\\Documents\\Python Scripts\\ResearchF2022\\CHEMGYM\\chemgymrl PATH\n",
      "HI\n"
     ]
    }
   ],
   "source": [
    "import chemistrylab.extract_bench.extract_bench_v1\n",
    "env = chemistrylab.extract_bench.extract_bench_v1.WurtzExtract_v1()\n",
    "#env = chemistrylab.extract_bench.extract_bench_v1.ExtractWorld_Oil_v1()"
   ]
  },
  {
   "cell_type": "code",
   "execution_count": 4,
   "id": "d7a346c1",
   "metadata": {},
   "outputs": [
    {
     "name": "stdout",
     "output_type": "stream",
     "text": [
      "Box(0.0, 1.0, (3, 107), float32)\n"
     ]
    },
    {
     "data": {
      "image/png": "[encoded data removed]",
      "text/plain": [
       "<Figure size 864x432 with 6 Axes>"
      ]
     },
     "metadata": {
      "needs_background": "light"
     },
     "output_type": "display_data"
    }
   ],
   "source": [
    "print(env.observation_space)\n",
    "env.reset()\n",
    "env.render()"
   ]
  },
  {
   "cell_type": "code",
   "execution_count": 15,
   "id": "5aa9463b",
   "metadata": {},
   "outputs": [
    {
     "name": "stdout",
     "output_type": "stream",
     "text": [
      "<chemistrylab.chem_algorithms.vessel.Vessel object at 0x000002296D726B08>\n"
     ]
    },
    {
     "data": {
      "text/html": [
       "<div>\n",
       "<style scoped>\n",
       "    .dataframe tbody tr th:only-of-type {\n",
       "        vertical-align: middle;\n",
       "    }\n",
       "\n",
       "    .dataframe tbody tr th {\n",
       "        vertical-align: top;\n",
       "    }\n",
       "\n",
       "    .dataframe thead th {\n",
       "        text-align: right;\n",
       "    }\n",
       "</style>\n",
       "<table border=\"1\" class=\"dataframe\">\n",
       "  <thead>\n",
       "    <tr style=\"text-align: right;\">\n",
       "      <th></th>\n",
       "      <th>Material</th>\n",
       "      <th>Amount</th>\n",
       "      <th>Unit</th>\n",
       "    </tr>\n",
       "  </thead>\n",
       "  <tbody>\n",
       "    <tr>\n",
       "      <th>diethyl ether</th>\n",
       "      <td>diethyl ether</td>\n",
       "      <td>4.0</td>\n",
       "      <td>mol</td>\n",
       "    </tr>\n",
       "    <tr>\n",
       "      <th>Na</th>\n",
       "      <td>Na</td>\n",
       "      <td>1.0</td>\n",
       "      <td>mol</td>\n",
       "    </tr>\n",
       "    <tr>\n",
       "      <th>Cl</th>\n",
       "      <td>Cl</td>\n",
       "      <td>1.0</td>\n",
       "      <td>mol</td>\n",
       "    </tr>\n",
       "    <tr>\n",
       "      <th>dodecane</th>\n",
       "      <td>dodecane</td>\n",
       "      <td>1.0</td>\n",
       "      <td>mol</td>\n",
       "    </tr>\n",
       "  </tbody>\n",
       "</table>\n",
       "</div>"
      ],
      "text/plain": [
       "                    Material  Amount Unit\n",
       "diethyl ether  diethyl ether     4.0  mol\n",
       "Na                        Na     1.0  mol\n",
       "Cl                        Cl     1.0  mol\n",
       "dodecane            dodecane     1.0  mol"
      ]
     },
     "metadata": {},
     "output_type": "display_data"
    },
    {
     "name": "stdout",
     "output_type": "stream",
     "text": [
      "<chemistrylab.chem_algorithms.vessel.Vessel object at 0x000002296D726F08>\n"
     ]
    },
    {
     "data": {
      "text/html": [
       "<div>\n",
       "<style scoped>\n",
       "    .dataframe tbody tr th:only-of-type {\n",
       "        vertical-align: middle;\n",
       "    }\n",
       "\n",
       "    .dataframe tbody tr th {\n",
       "        vertical-align: top;\n",
       "    }\n",
       "\n",
       "    .dataframe thead th {\n",
       "        text-align: right;\n",
       "    }\n",
       "</style>\n",
       "<table border=\"1\" class=\"dataframe\">\n",
       "  <thead>\n",
       "    <tr style=\"text-align: right;\">\n",
       "      <th></th>\n",
       "      <th>Material</th>\n",
       "      <th>Amount</th>\n",
       "      <th>Unit</th>\n",
       "    </tr>\n",
       "  </thead>\n",
       "  <tbody>\n",
       "  </tbody>\n",
       "</table>\n",
       "</div>"
      ],
      "text/plain": [
       "Empty DataFrame\n",
       "Columns: [Material, Amount, Unit]\n",
       "Index: []"
      ]
     },
     "metadata": {},
     "output_type": "display_data"
    },
    {
     "name": "stdout",
     "output_type": "stream",
     "text": [
      "<chemistrylab.chem_algorithms.vessel.Vessel object at 0x000002296D6FE188>\n"
     ]
    },
    {
     "data": {
      "text/html": [
       "<div>\n",
       "<style scoped>\n",
       "    .dataframe tbody tr th:only-of-type {\n",
       "        vertical-align: middle;\n",
       "    }\n",
       "\n",
       "    .dataframe tbody tr th {\n",
       "        vertical-align: top;\n",
       "    }\n",
       "\n",
       "    .dataframe thead th {\n",
       "        text-align: right;\n",
       "    }\n",
       "</style>\n",
       "<table border=\"1\" class=\"dataframe\">\n",
       "  <thead>\n",
       "    <tr style=\"text-align: right;\">\n",
       "      <th></th>\n",
       "      <th>Material</th>\n",
       "      <th>Amount</th>\n",
       "      <th>Unit</th>\n",
       "    </tr>\n",
       "  </thead>\n",
       "  <tbody>\n",
       "  </tbody>\n",
       "</table>\n",
       "</div>"
      ],
      "text/plain": [
       "Empty DataFrame\n",
       "Columns: [Material, Amount, Unit]\n",
       "Index: []"
      ]
     },
     "metadata": {},
     "output_type": "display_data"
    }
   ],
   "source": [
    "for v in env.vessels:\n",
    "    print(v)\n",
    "    Display(v.get_material_table())\n",
    "    "
   ]
  },
  {
   "cell_type": "code",
   "execution_count": 18,
   "id": "6c97327b",
   "metadata": {},
   "outputs": [
    {
     "data": {
      "image/png": "[encoded data removed]",
      "text/plain": [
       "<Figure size 864x432 with 6 Axes>"
      ]
     },
     "metadata": {
      "needs_background": "light"
     },
     "output_type": "display_data"
    },
    {
     "name": "stdout",
     "output_type": "stream",
     "text": [
      "5\n",
      "7 0.23236295989797914\n",
      "beaker_1 has no materials.\n",
      "Desired material not found in beaker_1.\n",
      "beaker_2 has no materials.\n",
      "Desired material not found in beaker_2.\n",
      "beaker_1 has no materials.\n",
      "Desired material not found in beaker_1.\n",
      "beaker_2 has no materials.\n",
      "Desired material not found in beaker_2.\n",
      "done_reward (extraction_vessel): 33.33 %, in_vessel: 1.000000e+00, initial: 1.000000e+00\n",
      "6\n"
     ]
    }
   ],
   "source": [
    "done = False\n",
    "env.reset()\n",
    "x = 0\n",
    "\n",
    "while not done:\n",
    "    act = np.random.uniform(0,1,[2])\n",
    "    act[0]*=7.1\n",
    "    if act[0]<7:\n",
    "        act[0]=4\n",
    "    act[1]*=5\n",
    "    obs,_,done,_ = env.step(act)\n",
    "    env.reset()\n",
    "    x+=1\n",
    "    if not done:\n",
    "        clear_output(wait=True)\n",
    "        env.render()\n",
    "    print(x)"
   ]
  },
  {
   "cell_type": "code",
   "execution_count": 10,
   "id": "de201931",
   "metadata": {},
   "outputs": [
    {
     "name": "stdout",
     "output_type": "stream",
     "text": [
      "<chemistrylab.chem_algorithms.vessel.Vessel object at 0x000002296CCB3788>\n"
     ]
    },
    {
     "data": {
      "text/html": [
       "<div>\n",
       "<style scoped>\n",
       "    .dataframe tbody tr th:only-of-type {\n",
       "        vertical-align: middle;\n",
       "    }\n",
       "\n",
       "    .dataframe tbody tr th {\n",
       "        vertical-align: top;\n",
       "    }\n",
       "\n",
       "    .dataframe thead th {\n",
       "        text-align: right;\n",
       "    }\n",
       "</style>\n",
       "<table border=\"1\" class=\"dataframe\">\n",
       "  <thead>\n",
       "    <tr style=\"text-align: right;\">\n",
       "      <th></th>\n",
       "      <th>Material</th>\n",
       "      <th>Amount</th>\n",
       "      <th>Unit</th>\n",
       "    </tr>\n",
       "  </thead>\n",
       "  <tbody>\n",
       "    <tr>\n",
       "      <th>diethyl ether</th>\n",
       "      <td>diethyl ether</td>\n",
       "      <td>4.0</td>\n",
       "      <td>mol</td>\n",
       "    </tr>\n",
       "    <tr>\n",
       "      <th>Na</th>\n",
       "      <td>Na</td>\n",
       "      <td>1.0</td>\n",
       "      <td>mol</td>\n",
       "    </tr>\n",
       "    <tr>\n",
       "      <th>Cl</th>\n",
       "      <td>Cl</td>\n",
       "      <td>1.0</td>\n",
       "      <td>mol</td>\n",
       "    </tr>\n",
       "    <tr>\n",
       "      <th>dodecane</th>\n",
       "      <td>dodecane</td>\n",
       "      <td>1.0</td>\n",
       "      <td>mol</td>\n",
       "    </tr>\n",
       "  </tbody>\n",
       "</table>\n",
       "</div>"
      ],
      "text/plain": [
       "                    Material  Amount Unit\n",
       "diethyl ether  diethyl ether     4.0  mol\n",
       "Na                        Na     1.0  mol\n",
       "Cl                        Cl     1.0  mol\n",
       "dodecane            dodecane     1.0  mol"
      ]
     },
     "metadata": {},
     "output_type": "display_data"
    },
    {
     "name": "stdout",
     "output_type": "stream",
     "text": [
      "<chemistrylab.chem_algorithms.vessel.Vessel object at 0x000002296CA75C08>\n"
     ]
    },
    {
     "data": {
      "text/html": [
       "<div>\n",
       "<style scoped>\n",
       "    .dataframe tbody tr th:only-of-type {\n",
       "        vertical-align: middle;\n",
       "    }\n",
       "\n",
       "    .dataframe tbody tr th {\n",
       "        vertical-align: top;\n",
       "    }\n",
       "\n",
       "    .dataframe thead th {\n",
       "        text-align: right;\n",
       "    }\n",
       "</style>\n",
       "<table border=\"1\" class=\"dataframe\">\n",
       "  <thead>\n",
       "    <tr style=\"text-align: right;\">\n",
       "      <th></th>\n",
       "      <th>Material</th>\n",
       "      <th>Amount</th>\n",
       "      <th>Unit</th>\n",
       "    </tr>\n",
       "  </thead>\n",
       "  <tbody>\n",
       "  </tbody>\n",
       "</table>\n",
       "</div>"
      ],
      "text/plain": [
       "Empty DataFrame\n",
       "Columns: [Material, Amount, Unit]\n",
       "Index: []"
      ]
     },
     "metadata": {},
     "output_type": "display_data"
    },
    {
     "name": "stdout",
     "output_type": "stream",
     "text": [
      "<chemistrylab.chem_algorithms.vessel.Vessel object at 0x000002296CA75CC8>\n"
     ]
    },
    {
     "data": {
      "text/html": [
       "<div>\n",
       "<style scoped>\n",
       "    .dataframe tbody tr th:only-of-type {\n",
       "        vertical-align: middle;\n",
       "    }\n",
       "\n",
       "    .dataframe tbody tr th {\n",
       "        vertical-align: top;\n",
       "    }\n",
       "\n",
       "    .dataframe thead th {\n",
       "        text-align: right;\n",
       "    }\n",
       "</style>\n",
       "<table border=\"1\" class=\"dataframe\">\n",
       "  <thead>\n",
       "    <tr style=\"text-align: right;\">\n",
       "      <th></th>\n",
       "      <th>Material</th>\n",
       "      <th>Amount</th>\n",
       "      <th>Unit</th>\n",
       "    </tr>\n",
       "  </thead>\n",
       "  <tbody>\n",
       "  </tbody>\n",
       "</table>\n",
       "</div>"
      ],
      "text/plain": [
       "Empty DataFrame\n",
       "Columns: [Material, Amount, Unit]\n",
       "Index: []"
      ]
     },
     "metadata": {},
     "output_type": "display_data"
    }
   ],
   "source": [
    "for v in env.vessels:\n",
    "    print(v)\n",
    "    Display(v.get_material_table())"
   ]
  },
  {
   "cell_type": "code",
   "execution_count": 8,
   "id": "6d13a8cc",
   "metadata": {},
   "outputs": [
    {
     "data": {
      "text/plain": [
       "MultiDiscrete([8 5])"
      ]
     },
     "execution_count": 8,
     "metadata": {},
     "output_type": "execute_result"
    }
   ],
   "source": [
    "env.extraction.get_action_space()"
   ]
  },
  {
   "cell_type": "code",
   "execution_count": null,
   "id": "e2d60db7",
   "metadata": {},
   "outputs": [],
   "source": []
  },
  {
   "cell_type": "code",
   "execution_count": null,
   "id": "311abc8b",
   "metadata": {},
   "outputs": [],
   "source": []
  },
  {
   "cell_type": "code",
   "execution_count": null,
   "id": "51347678",
   "metadata": {},
   "outputs": [],
   "source": []
  },
  {
   "cell_type": "code",
   "execution_count": null,
   "id": "788d7da9",
   "metadata": {},
   "outputs": [],
   "source": []
  },
  {
   "cell_type": "code",
   "execution_count": 42,
   "id": "96a56961",
   "metadata": {},
   "outputs": [
    {
     "data": {
      "text/plain": [
       "array([0.49439069, 0.26615623])"
      ]
     },
     "execution_count": 42,
     "metadata": {},
     "output_type": "execute_result"
    }
   ],
   "source": []
  },
  {
   "cell_type": "code",
   "execution_count": 17,
   "id": "4b4f5979",
   "metadata": {},
   "outputs": [
    {
     "name": "stdout",
     "output_type": "stream",
     "text": [
      "C:\\Users\\sprag\\Documents\\Python Scripts\\ResearchF2022\\CHEMGYM\\chemgymrl PATH\n",
      "HI\n",
      "Help on WurtzExtract_v1 in module chemistrylab.extract_bench.extract_bench_v1 object:\n",
      "\n",
      "class WurtzExtract_v1(chemistrylab.extract_bench.extract_bench_v1_engine.ExtractBenchEnv)\n",
      " |  WurtzExtract_v1(*args, **kwds)\n",
      " |  \n",
      " |  Class to define an environment which performs a Wurtz extraction on materials in a vessel.\n",
      " |  \n",
      " |  Method resolution order:\n",
      " |      WurtzExtract_v1\n",
      " |      chemistrylab.extract_bench.extract_bench_v1_engine.ExtractBenchEnv\n",
      " |      gym.core.Env\n",
      " |      typing.Generic\n",
      " |      builtins.object\n",
      " |  \n",
      " |  Methods defined here:\n",
      " |  \n",
      " |  __init__(self)\n",
      " |      Constructor class method for the Extract Bench Environment\n",
      " |  \n",
      " |  ----------------------------------------------------------------------\n",
      " |  Data and other attributes defined here:\n",
      " |  \n",
      " |  __parameters__ = ()\n",
      " |  \n",
      " |  ----------------------------------------------------------------------\n",
      " |  Methods inherited from chemistrylab.extract_bench.extract_bench_v1_engine.ExtractBenchEnv:\n",
      " |  \n",
      " |  human_render(self, mode='plot', redraw=True)\n",
      " |      Render the pertinent information in a minimal style for the user to visualize and process.\n",
      " |      \n",
      " |      Parameters\n",
      " |      ---------------\n",
      " |      `mode` : `str` (default=`plot`)\n",
      " |          The type of rendering to use.\n",
      " |      \n",
      " |      Returns\n",
      " |      ---------------\n",
      " |      None\n",
      " |      \n",
      " |      Raises\n",
      " |      ---------------\n",
      " |      None\n",
      " |  \n",
      " |  render(self, model='human')\n",
      " |      Select a render mode to display pertinent information.\n",
      " |      \n",
      " |      Parameters\n",
      " |      ---------------\n",
      " |      `model` : `str` (default=`human`)\n",
      " |          The name of the render mode to use.\n",
      " |      \n",
      " |      Returns\n",
      " |      ---------------\n",
      " |      None\n",
      " |      \n",
      " |      Raises\n",
      " |      ---------------\n",
      " |      None\n",
      " |  \n",
      " |  reset(self)\n",
      " |      Initialize the environment\n",
      " |      \n",
      " |      Parameters\n",
      " |      ---------------\n",
      " |      None\n",
      " |      \n",
      " |      Returns\n",
      " |      ---------------\n",
      " |      `state` : `np.array`\n",
      " |          A numpy array containing state variables, material concentrations, and spectral data.\n",
      " |      \n",
      " |      Raises\n",
      " |      ---------------\n",
      " |      None\n",
      " |  \n",
      " |  step(self, action)\n",
      " |      Update the environment by performing an action.\n",
      " |      \n",
      " |      Parameters\n",
      " |      ---------------\n",
      " |      `action` : `list`\n",
      " |          A list of two numbers indicating the index of the action to\n",
      " |          perform and a multiplier to use in completing the action.\n",
      " |      \n",
      " |      Returns\n",
      " |      ---------------\n",
      " |      `state` : `np.array`\n",
      " |          A numpy array containing state variables.\n",
      " |      `reward` : `float`\n",
      " |          The amount of reward generated in perfoming the action.\n",
      " |      `done` : `bool`\n",
      " |          A boolean indicting if all the steps in an episode have been completed.\n",
      " |      `params` : `dict`\n",
      " |          A dictionary containing additional parameters or information that may be useful.\n",
      " |      \n",
      " |      Raises\n",
      " |      ---------------\n",
      " |      None\n",
      " |  \n",
      " |  update_vessel(self, vessel)\n",
      " |  \n",
      " |  ----------------------------------------------------------------------\n",
      " |  Methods inherited from gym.core.Env:\n",
      " |  \n",
      " |  __enter__(self)\n",
      " |      Support with-statement for the environment.\n",
      " |  \n",
      " |  __exit__(self, *args)\n",
      " |      Support with-statement for the environment.\n",
      " |  \n",
      " |  __str__(self)\n",
      " |      Returns a string of the environment with the spec id if specified.\n",
      " |  \n",
      " |  close(self)\n",
      " |      Override close in your subclass to perform any necessary cleanup.\n",
      " |      \n",
      " |      Environments will automatically :meth:`close()` themselves when\n",
      " |      garbage collected or when the program exits.\n",
      " |  \n",
      " |  ----------------------------------------------------------------------\n",
      " |  Data descriptors inherited from gym.core.Env:\n",
      " |  \n",
      " |  __dict__\n",
      " |      dictionary for instance variables (if defined)\n",
      " |  \n",
      " |  __weakref__\n",
      " |      list of weak references to the object (if defined)\n",
      " |  \n",
      " |  np_random\n",
      " |      Returns the environment's internal :attr:`_np_random` that if not set will initialise with a random seed.\n",
      " |  \n",
      " |  unwrapped\n",
      " |      Returns the base non-wrapped environment.\n",
      " |      \n",
      " |      Returns:\n",
      " |          Env: The base non-wrapped gym.Env instance\n",
      " |  \n",
      " |  ----------------------------------------------------------------------\n",
      " |  Data and other attributes inherited from gym.core.Env:\n",
      " |  \n",
      " |  __annotations__ = {'_np_random': typing.Union[numpy.random._generator....\n",
      " |  \n",
      " |  __orig_bases__ = (typing.Generic[~ObsType, ~ActType],)\n",
      " |  \n",
      " |  metadata = {'render_modes': []}\n",
      " |  \n",
      " |  render_mode = None\n",
      " |  \n",
      " |  reward_range = (-inf, inf)\n",
      " |  \n",
      " |  spec = None\n",
      " |  \n",
      " |  ----------------------------------------------------------------------\n",
      " |  Class methods inherited from typing.Generic:\n",
      " |  \n",
      " |  __class_getitem__(params) from builtins.type\n",
      " |  \n",
      " |  __init_subclass__(*args, **kwargs) from builtins.type\n",
      " |      This method is called when a class is subclassed.\n",
      " |      \n",
      " |      The default implementation does nothing. It may be\n",
      " |      overridden to extend subclasses.\n",
      " |  \n",
      " |  ----------------------------------------------------------------------\n",
      " |  Static methods inherited from typing.Generic:\n",
      " |  \n",
      " |  __new__(cls, *args, **kwds)\n",
      " |      Create and return a new object.  See help(type) for accurate signature.\n",
      "\n"
     ]
    }
   ],
   "source": [
    "help(chemistrylab.extract_bench.extract_bench_v1.WurtzExtract_v1())"
   ]
  },
  {
   "cell_type": "code",
   "execution_count": null,
   "id": "8da98f8b",
   "metadata": {},
   "outputs": [],
   "source": []
  }
 ],
 "metadata": {
  "kernelspec": {
   "display_name": "Python 3",
   "language": "python",
   "name": "python3"
  },
  "language_info": {
   "codemirror_mode": {
    "name": "ipython",
    "version": 3
   },
   "file_extension": ".py",
   "mimetype": "text/x-python",
   "name": "python",
   "nbconvert_exporter": "python",
   "pygments_lexer": "ipython3",
   "version": "3.7.10"
  }
 },
 "nbformat": 4,
 "nbformat_minor": 5
}
