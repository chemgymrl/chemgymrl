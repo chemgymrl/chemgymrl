{
 "cells": [
  {
   "cell_type": "markdown",
   "metadata": {},
   "source": [
    "## Reaction Bench Lesson 2\n",
    "\n",
    "### Getting a high reward in a reaction of form: \n",
    "### A-X + A-X --> A-A + X-X and A-X + B-X --> A-B + X-X\n",
    "\n",
    "In this lesson we will try to get a high reward in the reaction of the form above. Rewards will come from producing either A-A or B-B. It's important to note that the reward cannot come from A-B as this doesn't make the desired property. The reaction we will be simulating in this lesson is specifically:\n",
    "- 2 3-chlorohexane + 2 Na --> 4,5-diethyloctane + 2 NaCl\n",
    "\n",
    "In similar fashion to lesson 1, the reactions used in this lesson are found in the reaction file. The reaction above is 1 of the 6 total reactions in the Wurtz reaction.\n",
    "\n",
    "The particular reaction we will be simulating is performed in an aqueous state with ethoxyethane as the solvent.\n",
    "\n",
    "From lesson 1 we know that our action space is a 6 element vector represented by:\n",
    "\n",
    "|              | Temperature | Volume | 1-chlorohexane | 2 chlorohexane | 3-chlorohexane | Na  | \n",
    "|--------------|-------------|--------|----------------|----------------|----------------|-----|\n",
    "| Value range: | 0-1         | 0-1    | 0-1            | 0-1            | 0-1            |0-1|\n",
    "\n",
    "First let's start by importing all the modules we need."
   ]
  },
  {
   "cell_type": "code",
   "execution_count": 1,
   "metadata": {},
   "outputs": [],
   "source": [
    "# import all the required external modules\n",
    "import gym\n",
    "import numpy as np\n",
    "import os\n",
    "import pickle\n",
    "import sys\n",
    "from time import sleep\n",
    "from gym import envs\n",
    "import matplotlib.pyplot as plt\n",
    "import pandas as pd\n",
    "%matplotlib inline\n",
    "\n",
    "# ensure all necessary modules can be found\n",
    "sys.path.append(\"../\") # to access chemistrylab\n",
    "sys.path.append(\"../chemistrylab/reactions\") # to access all reactions\n",
    "\n",
    "# import all local modules\n",
    "import chemistrylab"
   ]
  },
  {
   "cell_type": "markdown",
   "metadata": {},
   "source": [
    "This will show all the environments we can currently run. Eventually you can create your own environments with different reactions and target material using the reaction template."
   ]
  },
  {
   "cell_type": "code",
   "execution_count": 2,
   "metadata": {},
   "outputs": [
    {
     "name": "stdout",
     "output_type": "stream",
     "text": [
      "['WurtzReact-v0', 'WurtzReact_overlap-v0']\n"
     ]
    }
   ],
   "source": [
    "# show all environments for reaction bench\n",
    "all_envs = envs.registry.all()\n",
    "env_ids = [env_spec.id for env_spec in all_envs if 'React' in env_spec.id]\n",
    "print(env_ids)"
   ]
  },
  {
   "cell_type": "markdown",
   "metadata": {},
   "source": [
    "This explains the simulated reaction we are trying to simulate and is initializing the reaction environment."
   ]
  },
  {
   "cell_type": "code",
   "execution_count": 3,
   "metadata": {},
   "outputs": [],
   "source": [
    "# trying to get high reward for wurtz reaction of form:\n",
    "# A-X + A-X --> A-A + X-X and A-X + B-X --> A-B + X-X\n",
    "# Rewards comes from producing A-A or B-B\n",
    "# Cannot come from A-B as this doesn't make the desired property\n",
    "# Desired material in this case is initialized to be 4,5-diethyloctane\n",
    "# initializes environment\n",
    "env = gym.make(\"WurtzReact-v0\")\n",
    "render_mode = \"human\""
   ]
  },
  {
   "cell_type": "code",
   "execution_count": 4,
   "metadata": {},
   "outputs": [
    {
     "name": "stdout",
     "output_type": "stream",
     "text": [
      "# of actions available:  6\n"
     ]
    }
   ],
   "source": [
    "done = False\n",
    "__ = env.reset()\n",
    "\n",
    "# shows # of actions available\n",
    "print('# of actions available: ',env.action_space.shape[0])\n",
    "num_actions_available = env.action_space.shape[0]\n",
    "\n",
    "total_steps=0\n",
    "total_reward=0"
   ]
  },
  {
   "cell_type": "markdown",
   "metadata": {},
   "source": [
    "We will store certain values in these arrays so can plot them later on to visually show how each variable changes over time."
   ]
  },
  {
   "cell_type": "code",
   "execution_count": 5,
   "metadata": {},
   "outputs": [],
   "source": [
    "reward_over_time=[]\n",
    "steps_over_time=[]\n",
    "reactant_1 = []\n",
    "reactant_2 = []\n",
    "total_reward_over_time = []\n",
    "\n",
    "action = np.ones(env.action_space.shape)"
   ]
  },
  {
   "cell_type": "markdown",
   "metadata": {},
   "source": [
    "The key to achieving a high reward in this simulation is to only add the reactants that are needed for the reaction to \n",
    "continue. This means that we will only add 3-chlorohexane and Na with our actions. This will allow us to maximize our \n",
    "reward as a large quantity of these reactants means the reaction with our target material will occur more often. We \n",
    "do this by running the following commands:\n",
    "\n",
    "![code](../sample_figures/lesson_2r_image0.PNG)\n",
    "\n",
    "Notice that we're only adding the reactants we need for the reaction to continue.\n",
    "\n",
    "![reaction](../sample_figures/lesson_2r_image1.PNG)\n",
    "\n",
    "Let's run our program and see what happens!"
   ]
  },
  {
   "cell_type": "code",
   "execution_count": 6,
   "metadata": {},
   "outputs": [
    {
     "name": "stdout",
     "output_type": "stream",
     "text": [
      "-----------------------------------------\n",
      "total_steps:  0\n",
      "reward: 0.28 \n",
      "total reward: 0.28\n"
     ]
    },
    {
     "data": {
      "image/png": "[encoded data removed]",
      "text/plain": [
       "<Figure size 864x432 with 2 Axes>"
      ]
     },
     "metadata": {
      "needs_background": "light"
     },
     "output_type": "display_data"
    },
    {
     "name": "stdout",
     "output_type": "stream",
     "text": [
      "-----------------------------------------\n",
      "total_steps:  1\n",
      "reward: 0.28 \n",
      "total reward: 0.57\n",
      "-----------------------------------------\n",
      "total_steps:  2\n",
      "reward: 0.28 \n",
      "total reward: 0.85\n",
      "-----------------------------------------\n",
      "total_steps:  3\n",
      "reward: 0.28 \n",
      "total reward: 1.13\n",
      "-----------------------------------------\n",
      "total_steps:  4\n",
      "reward: 0.28 \n",
      "total reward: 1.41\n",
      "-----------------------------------------\n",
      "total_steps:  5\n",
      "reward: 0.28 \n",
      "total reward: 1.69\n",
      "-----------------------------------------\n",
      "total_steps:  6\n",
      "reward: 0.28 \n",
      "total reward: 1.97\n",
      "-----------------------------------------\n",
      "total_steps:  7\n",
      "reward: 0.28 \n",
      "total reward: 2.25\n",
      "-----------------------------------------\n",
      "total_steps:  8\n",
      "reward: 0.28 \n",
      "total reward: 2.52\n",
      "-----------------------------------------\n",
      "total_steps:  9\n",
      "reward: 0.28 \n",
      "total reward: 2.80\n",
      "-----------------------------------------\n",
      "total_steps:  10\n",
      "reward: 0.28 \n",
      "total reward: 3.08\n",
      "-----------------------------------------\n",
      "total_steps:  11\n",
      "reward: 0.28 \n",
      "total reward: 3.35\n",
      "-----------------------------------------\n",
      "total_steps:  12\n",
      "reward: 0.27 \n",
      "total reward: 3.63\n",
      "-----------------------------------------\n",
      "total_steps:  13\n",
      "reward: 0.26 \n",
      "total reward: 3.89\n",
      "-----------------------------------------\n",
      "total_steps:  14\n",
      "reward: 0.26 \n",
      "total reward: 4.14\n",
      "-----------------------------------------\n",
      "total_steps:  15\n",
      "reward: 0.25 \n",
      "total reward: 4.39\n",
      "-----------------------------------------\n",
      "total_steps:  16\n",
      "reward: 0.24 \n",
      "total reward: 4.63\n",
      "-----------------------------------------\n",
      "total_steps:  17\n",
      "reward: 0.24 \n",
      "total reward: 4.87\n",
      "-----------------------------------------\n",
      "total_steps:  18\n",
      "reward: 0.23 \n",
      "total reward: 5.10\n",
      "-----------------------------------------\n",
      "total_steps:  19\n",
      "reward: 0.23 \n",
      "total reward: 5.33\n"
     ]
    }
   ],
   "source": [
    "while not done:\n",
    "    # Actions:\n",
    "    #   a[0] changes the temperature between -dT (a[0] = 0.0) and +dT (a[0] = 1.0)\n",
    "    #   a[1] changes the Volume between -dV (a[1] = 0.0) and +dV (a[1] = 1.0)\n",
    "    #   a[2:] adds between none (a[2:] = 0.0) and all (a[2:] = 1.0) of each reactant\n",
    "    if total_steps  < 20:\n",
    "        action[0] = 1\n",
    "        action[1] = 1\n",
    "        action[2] = 0.05 # 1-chlorohexane\n",
    "        action[3] = 0.05 # 2-chlorohexane\n",
    "        action[4] = 1    # 3-chlorohexane\n",
    "        action[5] = 1    # Na\n",
    "\n",
    "        '''\n",
    "        # Adding Reactants not needed:\n",
    "        action[0] = 1\n",
    "        action[1] = 1\n",
    "        action[5] = 1\n",
    "        action[4] = 1\n",
    "        action[2] = 1\n",
    "        action[3] = 1\n",
    "        '''\n",
    "\n",
    "    # perform the action and update the reward\n",
    "    state, reward, done, __ = env.step(action)\n",
    "    print('-----------------------------------------')\n",
    "    print('total_steps: ', total_steps)\n",
    "    print('reward: %.2f ' % reward)\n",
    "    total_reward += reward\n",
    "    print('total reward: %.2f' % total_reward)\n",
    "    # print(state)\n",
    "\n",
    "    # render the plot\n",
    "    env.render(mode=render_mode)\n",
    "    # sleep(2)\n",
    "\n",
    "    # increment one step\n",
    "    total_steps += 1\n",
    "\n",
    "    # append arrays for states over time\n",
    "    reward_over_time.append(reward)\n",
    "    total_reward_over_time.append(total_reward)\n",
    "    steps_over_time.append(total_steps)\n",
    "    reactant_1.append(env.state[6])\n",
    "    reactant_2.append(env.state[7])"
   ]
  },
  {
   "cell_type": "markdown",
   "metadata": {},
   "source": [
    "Notice that we get a total reward of 5.33. A visual representation of the reactants being used and total reward increasing can be seen in the subplot we produce!\n",
    "\n",
    "![subplot](../sample_figures/lesson_2r_image3.PNG)"
   ]
  },
  {
   "cell_type": "markdown",
   "metadata": {},
   "source": [
    "This simply shows us the stats of the reaction vessel. It essentially shows everything from thermodynamic variables, to the amount of material"
   ]
  },
  {
   "cell_type": "code",
   "execution_count": 7,
   "metadata": {},
   "outputs": [
    {
     "name": "stdout",
     "output_type": "stream",
     "text": [
      "Show Reaction Vessel Stats ('Y'/'N') >>> y\n",
      "\n",
      "---------- VESSEL ----------\n",
      "Label: new\n",
      "\n",
      "---------- THERMODYNAMIC VARIABLES ----------\n",
      "Temperature (in K): 1.000000e+00\n",
      "Volume (in L): 1.197500e-06\n",
      "Pressure (in kPa): 8.192200e-07\n",
      "\n",
      "---------- MATERIAL_DICT ----------\n",
      "1-chlorohexane : [<class 'chemistrylab.chem_algorithms.material.OneChlorohexane'>, 0.2768946]\n",
      "2-chlorohexane : [<class 'chemistrylab.chem_algorithms.material.TwoChlorohexane'>, 0.0]\n",
      "3-chlorohexane : [<class 'chemistrylab.chem_algorithms.material.ThreeChlorohexane'>, 0.0]\n",
      "Na : [<class 'chemistrylab.chem_algorithms.material.Na'>, 0.2768946]\n",
      "dodecane : [<class 'chemistrylab.chem_algorithms.material.Dodecane'>, 0.36155286]\n",
      "5-methylundecane : [<class 'chemistrylab.chem_algorithms.material.FiveMethylundecane'>, 0.0]\n",
      "4-ethyldecane : [<class 'chemistrylab.chem_algorithms.material.FourEthyldecane'>, 0.0]\n",
      "5,6-dimethyldecane : [<class 'chemistrylab.chem_algorithms.material.FiveSixDimethyldecane'>, 0.0]\n",
      "4-ethyl-5-methylnonane : [<class 'chemistrylab.chem_algorithms.material.FourEthylFiveMethylnonane'>, 0.0]\n",
      "4,5-diethyloctane : [<class 'chemistrylab.chem_algorithms.material.FourFiveDiethyloctane'>, 0.0]\n",
      "NaCl : [<class 'chemistrylab.chem_algorithms.material.NaCl'>, 0.7231057]\n",
      "\n",
      "---------- SOLUTE_DICT ----------\n",
      "ethoxyethane : [<class 'chemistrylab.chem_algorithms.material.Ethoxyethane'>, 1.0]\n"
     ]
    }
   ],
   "source": [
    "# ask user if they want to see stats of reaction vessel\n",
    "show_stats = input(\"Show Reaction Vessel Stats ('Y'/'N') >>> \")\n",
    "\n",
    "if show_stats.lower() in [\"y\", \"yes\"]:\n",
    "    # open and check the material dict\n",
    "    vessel_path = os.path.join(os.getcwd(), \"vessel_experiment_0.pickle\")\n",
    "    with open(vessel_path, 'rb') as open_file:\n",
    "        v = pickle.load(open_file)\n",
    "\n",
    "    print(\"\")\n",
    "    print(\"---------- VESSEL ----------\")\n",
    "    print(\"Label: {}\".format(v.label))\n",
    "\n",
    "    print(\"\")\n",
    "    print(\"---------- THERMODYNAMIC VARIABLES ----------\")\n",
    "    print(\"Temperature (in K): {:e}\".format(v.temperature))\n",
    "    print(\"Volume (in L): {:e}\".format(v.volume))\n",
    "    print(\"Pressure (in kPa): {:e}\".format(v.pressure))\n",
    "\n",
    "    print(\"\")\n",
    "    print(\"---------- MATERIAL_DICT ----------\")\n",
    "    for material, value_list in v._material_dict.items():\n",
    "        print(\"{} : {}\".format(material, value_list))\n",
    "\n",
    "    print(\"\")\n",
    "    print(\"---------- SOLUTE_DICT ----------\")\n",
    "    for solute, value_list in v._solute_dict.items():\n",
    "        print(\"{} : {}\".format(solute, value_list))"
   ]
  },
  {
   "cell_type": "markdown",
   "metadata": {},
   "source": [
    "**Why 4,5-diethyloctane is not in the vessel stats????**"
   ]
  },
  {
   "cell_type": "code",
   "execution_count": 8,
   "metadata": {},
   "outputs": [
    {
     "data": {
      "image/png": "[encoded data removed]",
      "text/plain": [
       "<Figure size 432x288 with 4 Axes>"
      ]
     },
     "metadata": {
      "needs_background": "light"
     },
     "output_type": "display_data"
    }
   ],
   "source": [
    "\n",
    "# graph states over time\n",
    "fig, (ax1, ax2, ax3, ax4) = plt.subplots(4)\n",
    "ax1.plot(steps_over_time, reactant_1)\n",
    "ax1.set_title('Steps vs. Reactant 1 (3-chlorohexane)')\n",
    "ax1.set_xlabel('Steps')\n",
    "ax1.set_ylabel('3-chlorohexane')\n",
    "\n",
    "ax2.plot(steps_over_time, reactant_2, 'tab:orange')\n",
    "ax2.set_title('Steps vs. Reactant 2 (Na)')\n",
    "ax2.set_xlabel('Steps')\n",
    "ax2.set_ylabel('Na')\n",
    "\n",
    "ax3.plot(steps_over_time, reward_over_time, 'tab:green')\n",
    "ax3.set_title('Steps vs Reward')\n",
    "ax3.set_xlabel('Steps')\n",
    "ax3.set_ylabel('Reward')\n",
    "\n",
    "ax4.plot(steps_over_time, total_reward_over_time, 'tab:red')\n",
    "ax4.set_title('Steps vs Total Reward')\n",
    "ax4.set_xlabel('Steps')\n",
    "ax4.set_ylabel('Total Reward')\n",
    "\n",
    "fig.tight_layout()\n",
    "plt.savefig('Final Subplots Demo Lesson 3.png')\n",
    "plt.show()"
   ]
  },
  {
   "cell_type": "markdown",
   "metadata": {},
   "source": [
    "For the second part of the experiment let's uncomment the code that adds the reactants not needed and run our code again.\n",
    "\n",
    "![code](../sample_figures/lesson_2r_image4.PNG)\n",
    "\n",
    "If we run this code we'll notice that our reward is significantly lower. It is now only 0.63 which is a drop-off from our previous set of actions. Once again, the reason this is happening is that other reactions are taking place instead of the reaction that produces our desired material. \n",
    "\n",
    "The next step for this reaction environment is to write an RL implementation that will allow the agent to solve this problem for you essentially maximizing our output of the desired material! "
   ]
  }
 ],
 "metadata": {
  "kernelspec": {
   "display_name": "Python 3",
   "language": "python",
   "name": "python3"
  },
  "language_info": {
   "codemirror_mode": {
    "name": "ipython",
    "version": 3
   },
   "file_extension": ".py",
   "mimetype": "text/x-python",
   "name": "python",
   "nbconvert_exporter": "python",
   "pygments_lexer": "ipython3",
   "version": "3.7.3"
  }
 },
 "nbformat": 4,
 "nbformat_minor": 2
}
