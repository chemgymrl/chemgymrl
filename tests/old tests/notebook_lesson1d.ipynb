{
 "cells": [
  {
   "cell_type": "markdown",
   "metadata": {},
   "source": [
    "## Distillation Bench: Lesson 1\n",
    "\n",
    "### Familiarizing Actions for the Distillation Bench\n",
    "\n",
    "In this tutorial, we will be going through how the distillation environment works. We will be taking the `tests/test_extract_vessel.pickle` which is a pickle file generated when we ran the extraction bench. \n",
    "\n",
    "It is important to know that before running the distillation bench, you must first complete both reaction and extraction, in order to follow the workflow our environment. To find out more, take a look at the [readme.md](https://github.com/CLEANit/chemistrygym) file on our github.\n",
    "\n",
    "Before we start talking about loading and running the environment, let's first familiarize ourselves with what's actually going on in the experiment."
   ]
  },
  {
   "cell_type": "markdown",
   "metadata": {},
   "source": [
    "### Distillation Process Explained\n",
    "\n",
    "In the distillation environment there are 3 main containers or vessels.\n",
    "\n",
    "- boiling vessel (BV)\n",
    "- beaker 1       (B1)\n",
    "- beaker 2       (B2)\n",
    "\n",
    "The boiling vessel (BV) contains all the materials at the initial state of the experiment. Beaker 1 (B1) can be thought of as a  condensation vessel which is connected to the distillation vessel via a tube and this will contain all the materials  that are being boiled off. Beaker 2 (B2) is then the storage vessel, where the condensation vessel can be emptied, in order to make room for other material.\n",
    "\n",
    "![distillation](../sample_figures/lesson_1d_aestheticimg_2.png)\n",
    "\n",
    "The point of the process is to extract a target material from the boiling vessel, which contains numerous materials, and we do this by utilizing the different material's boiling points. Typically the process begins by raising the temperature of the BV which allows certain materials in that vessel to boil off into the condensation vessel or B1. \n",
    "\n",
    "![distillation](../sample_figures/lesson_1d_aestheticimg_3.png)\n",
    "\n",
    "As a material's boiling point is reached, any more temperature added from this point will act to evaporate it.  The now gaseous material will rise out of the boiling vessel into the tube that feeds into the condensation vessel where it will condense back into its liquid form. In this virtual experiment  it is assumed that this takes place instantaneously. The amount of material evaporated is dependent on the enthalpy of vapour of material being evaporated. \n",
    "\n",
    "Once the entirety of the material has been boiled off, the condensation vessel is drained into the storage vessel. Now \n",
    "the condensation vessel is empty, the boiling vessel's temperature can then be raised more until the next lowest boiling point is reached, thus repeating the process.\n",
    "\n",
    "![evaporation](../sample_figures/lesson_1d_aestheticimg_1)\n",
    "\n",
    "The process is repeated until the desired material has been completely evaporated from the boiling vessel into  condensation vessel. From this point on the desired material is completely isolated and we obtain a hopefully pure sample. We can then choose to end the experiment.\n",
    "\n",
    "In lesson 3 in these sets of tutorial for the distillation bench, we will try to get a high reward by obtaining a high molar amount of pure dodecane in our condensation vessel. \n",
    "\n",
    "For this tutorial, we will just familiarize ourselves with the basic actions, fundamental theory behind distillation, and how you can run the environment on your own!"
   ]
  },
  {
   "cell_type": "markdown",
   "metadata": {},
   "source": [
    "### Running the environment\n",
    "\n",
    "We will first start by importing the necessary required modules, both external and local. By now this step should seem very familiar as we have done them in the reaction and extraction lessons."
   ]
  },
  {
   "cell_type": "code",
   "execution_count": null,
   "metadata": {},
   "outputs": [],
   "source": [
    "%matplotlib inline"
   ]
  },
  {
   "cell_type": "code",
   "execution_count": null,
   "metadata": {},
   "outputs": [],
   "source": [
    "# import all the required external modules\n",
    "import gym\n",
    "import numpy as np\n",
    "import os\n",
    "import pickle\n",
    "import sys\n",
    "from time import sleep\n",
    "from gym import envs\n",
    "import matplotlib.pyplot as plt\n",
    "import pandas as pd"
   ]
  },
  {
   "cell_type": "code",
   "execution_count": null,
   "metadata": {},
   "outputs": [],
   "source": [
    "# ensure all necessary modules can be found\n",
    "sys.path.append('../')\n",
    "sys.path.append(\"../chemistrylab/reactions\") # to access all reactions"
   ]
  },
  {
   "cell_type": "code",
   "execution_count": null,
   "metadata": {},
   "outputs": [],
   "source": [
    "# import local modules\n",
    "import chemistrylab "
   ]
  },
  {
   "cell_type": "markdown",
   "metadata": {},
   "source": [
    "We can see all the possible variations of the distillation bench environment which can vary depending on the input vessel (in this case the `test_extract_vessel.pickle`), which is loaded into the boil vessel, as well as the target material. In this and following tutorials our target material will be dodecane"
   ]
  },
  {
   "cell_type": "code",
   "execution_count": null,
   "metadata": {},
   "outputs": [],
   "source": [
    "# show all environments for distillation bench\n",
    "all_envs = envs.registry.all()\n",
    "env_ids = [env_spec.id for env_spec in all_envs if 'Distillation' in env_spec.id]\n",
    "print(env_ids)"
   ]
  },
  {
   "cell_type": "markdown",
   "metadata": {},
   "source": [
    "We then get prompted with a message asking us to choose the environment we want to run. This is based off the indexing in the environment array we saw from the last cell."
   ]
  },
  {
   "cell_type": "code",
   "execution_count": null,
   "metadata": {},
   "outputs": [],
   "source": [
    "# allows user to pick which environment they want to use\n",
    "# initializes environment\n",
    "select_env = int(input(f\"Enter a number to choose which environment you want to run (0 - {len(env_ids) - 1}): \\n\"))\n",
    "env = gym.make(env_ids[select_env])\n",
    "render_mode = \"human\" #select how graphs are rendered"
   ]
  },
  {
   "cell_type": "markdown",
   "metadata": {},
   "source": [
    "We initialize done to False so our agent can run the experiment. We run reset() to return an initial observation."
   ]
  },
  {
   "cell_type": "code",
   "execution_count": null,
   "metadata": {},
   "outputs": [],
   "source": [
    "done = False\n",
    "__ = env.reset()\n",
    "print('\\n')"
   ]
  },
  {
   "cell_type": "markdown",
   "metadata": {},
   "source": [
    "Here we have the different possible actions that we can take with the environment. The **action_set is an array indexed correspondingly to the action we want to perform.**\n",
    "\n",
    "The action_space is a multidiscrete action space of shape [6 10].\n",
    "\n",
    "**The first index allows us to choose from the action set. The second index allows us to pick a multiplier that will affect the action variably depending on our chosen multiplier.**\n",
    "\n",
    "For example, the following pair of numbers will add a great amount of heat compared to a multiplier of 6. \n",
    "\n",
    "Action: 0\n",
    "\n",
    "Action Multiplier: 10"
   ]
  },
  {
   "cell_type": "code",
   "execution_count": null,
   "metadata": {},
   "outputs": [],
   "source": [
    "# shows # of actions available\n",
    "# for distillation bench there are two elements\n",
    "# action[0] is a number indicating the event to take place\n",
    "# action[1] is a number representing a multiplier for the event\n",
    "# Actions and multipliers include:\n",
    "#   0: Add/Remove Heat (Heat Value multiplier, relative of maximal heat change)\n",
    "#   1: Pour BV into B1 (Volume multiplier, relative to max_vessel_volume)\n",
    "#   2: Pour B1 into B2 (Volume multiplier, relative to max_vessel_volume)\n",
    "#   3: Pour B1 into BV (Volume multiplier, relative to max_vessel_volume)\n",
    "#   4: Pour B2 into BV (Volume multiplier, relative to max_vessel_volume)\n",
    "#   5: Done (Value doesn't matter)\n",
    "\n",
    "action_set = ['Add/Remove Heat', 'Pour BV into B1', 'Pour B1 into B2', 'Pour B1 into BV', 'Pour B2 into BV', 'Done']\n",
    "assert env.action_space.shape[0] == 2\n",
    "\n",
    "total_steps=0\n",
    "total_reward=0"
   ]
  },
  {
   "cell_type": "markdown",
   "metadata": {},
   "source": [
    "Note that the multiplier affects each action differently. For examply the way the agents chosen multiplier affects heat change is given by the following code:\n",
    "\n",
    "![heatchange](../sample_figures/lesson_1d_image2.PNG)\n",
    "\n",
    "Typically an agent will choose actions based on what will give a higher reward, and higher reward is given by getting a high molar amount and concentraion of the desired material (in our case dodecane) in a particular vessel.\n",
    "\n",
    "Please input the following action and multipliers:\n",
    "\n",
    "| Step   | Action   | Multiplier  |\n",
    "| ------ |:--------:| -----:      |\n",
    "| 0      | 0        | 8           |\n",
    "| 1      | 2        | 10          |\n",
    "| 2      | 0        | 6           |\n",
    "| 3      | 3        | 10          |\n",
    "| 4      | 1        | 10          |\n",
    "| 5      | 4        | 10          |\n",
    "| 6      | 5        | 0           |\n"
   ]
  },
  {
   "cell_type": "code",
   "execution_count": null,
   "metadata": {},
   "outputs": [],
   "source": [
    "while not done:\n",
    "\n",
    "    action = np.zeros(env.action_space.shape[0])\n",
    "\n",
    "    for index, action_desc in enumerate(action_set):\n",
    "        print(f'{index}: {action_desc}')\n",
    "    print('Please enter an action and an action multiplier')\n",
    "    for i in range(2):\n",
    "        message = 'Action'\n",
    "        if i == 1:\n",
    "            message = 'Action Multiplier:'\n",
    "        action[i] = int(input(f'{message}: '))\n",
    "\n",
    "\n",
    "    # perform the action and update the reward\n",
    "    state, reward, done, __ = env.step(action)\n",
    "    print('-----------------------------------------')\n",
    "    print('total_steps: ', total_steps)\n",
    "    print('reward: %.2f ' % reward)\n",
    "    total_reward += reward\n",
    "    print('total reward: %.2f ' % total_reward)\n",
    "    print('Temperature of boiling vessel: %.1f ' % env.boil_vessel.temperature, ' K \\n')\n",
    "    # print(state)\n",
    "    \n",
    "    # render the plot\n",
    "    env.render(mode=render_mode)\n",
    "    # sleep(1)\n",
    "    \n",
    "    #increment one step\n",
    "    total_steps += 1"
   ]
  },
  {
   "cell_type": "markdown",
   "metadata": {},
   "source": [
    "#### Step 0: Adding temperature to the vessel\n",
    "\n",
    "- action: 0\n",
    "- multiplier: 8\n",
    "\n",
    "This will result in a temperature reaching the boiling point of water, which you will notice is now boiled off in beaker_0 (or the condensation vessel)\n",
    "\n",
    "![add-temp](../sample_figures/lesson_1d_image5.PNG)\n",
    "\n",
    "#### Step 1: Pour from condensation to storage vessel\n",
    "\n",
    "- action: 2\n",
    "- multiplier: 10\n",
    "\n",
    "We can then see that storage vessel is now filled with the H2O poured from the condensation vessel. \n",
    "\n",
    "****plot not fixed yet****\n",
    "\n",
    "![pour-beaker1](../sample_figures/lesson_1d_image7.PNG)\n",
    "\n",
    "#### Step 2: Add some more temperature\n",
    "\n",
    "- action: 0\n",
    "- multiplier: 6\n",
    "\n",
    "![add-temp](../sample_figures/lesson_1d_image9.PNG)\n",
    "\n",
    "#### Step 3: Pouring back from condensation vessel to boiling vessel\n",
    "\n",
    "- action: 3\n",
    "- multiplier: 10\n",
    "\n",
    "You should see now that everything from the condensation vessel is back in the boiling vessel.\n",
    "\n",
    "**---Should insert graph here but it doesn't show the action correctly---**\n",
    "\n",
    "#### Step 4: Pour everything from boiling vessel into condensation vessel\n",
    "\n",
    "- action: 1\n",
    "- multiplier: 10\n",
    "\n",
    "Notice now that all the materials are in the condensation vessel.\n",
    "\n",
    "![pour-to-b1](../sample_figures/lesson_1d_image12.PNG)\n",
    "\n",
    "#### Step 5: Pour the originally boiled off H2O in the storage vessel into the boiling vessel\n",
    "\n",
    "- action: 4\n",
    "- multiplier: 10\n",
    "\n",
    "Now you can see that the H2O which was previously in the storage vessel, is now in the boiling vessel.\n",
    "\n",
    "![pour-to-bv](../sample_figures/lesson_1d_image14.PNG)\n",
    "\n",
    "#### Step 6: Ending the experiment\n",
    "\n",
    "- action: 5\n",
    "- multiplier: 0\n",
    "\n",
    "### End of the lesson\n",
    "\n",
    "This concludes the end of our tutorial. Hopefully you got a chance to see how the basic actions in the distillation environment works and see how you can use the agent in RL applications to maximize the distillation of a desired material.\n",
    "\n",
    "In the next tutorial we will perform 2 experiments where we heat up the boiling vessel to the maximum temperature it can reach, and vice versa where we cool it to the lowest temperature."
   ]
  }
 ],
 "metadata": {
  "kernelspec": {
   "display_name": "Python 3",
   "language": "python",
   "name": "python3"
  },
  "language_info": {
   "codemirror_mode": {
    "name": "ipython",
    "version": 3
   },
   "file_extension": ".py",
   "mimetype": "text/x-python",
   "name": "python",
   "nbconvert_exporter": "python",
   "pygments_lexer": "ipython3",
   "version": "3.7.3"
  }
 },
 "nbformat": 4,
 "nbformat_minor": 2
}
